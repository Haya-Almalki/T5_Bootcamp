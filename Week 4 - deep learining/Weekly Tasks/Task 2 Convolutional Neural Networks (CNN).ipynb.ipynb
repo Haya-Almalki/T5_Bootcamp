{
 "cells": [
  {
   "cell_type": "markdown",
   "id": "69e7471b",
   "metadata": {},
   "source": [
    "# Exam on Convolutional Neural Networks (CNN)\n",
    "\n",
    "Welcome to the Convolutional Neural Networks (CNN) practical exam. In this exam, you will work on an image classification task to predict the type of traffic sign. You are provided with a dataset of traffic sign images, and your task is to build, train, and evaluate a CNN model.\n",
    "\n",
    "---\n",
    "\n",
    "## Dataset Overview\n",
    "### **Dataset:**\n",
    "* Just run the command under the `Load Data` section to get the data downloaded and unzipped or you can access it [here](https://drive.google.com/file/d/1HwMV-Lt_sWoxc5v6igmTxTwomS3DR6cQ/view?usp=sharing)\n",
    "### **Dataset Name:** Traffic Signs\n",
    "\n",
    "### **Description:**  \n",
    "The dataset contains images of various German traffic signs labeled for classification purposes. Each image belongs to one of the 43 classes, representing different types of traffic signs.\n",
    "\n",
    "### **Labels:**\n",
    "```python\n",
    "classes = {\n",
    "    0:  'Speed limit (20km/h)',\n",
    "    1:  'Speed limit (30km/h)', \n",
    "    2:  'Speed limit (50km/h)', \n",
    "    3:  'Speed limit (60km/h)', \n",
    "    4:  'Speed limit (70km/h)', \n",
    "    5:  'Speed limit (80km/h)', \n",
    "    6:  'End of speed limit (80km/h)', \n",
    "    7:  'Speed limit (100km/h)', \n",
    "    8:  'Speed limit (120km/h)', \n",
    "    9:  'No passing', \n",
    "    10: 'No passing veh over 3.5 tons', \n",
    "    11: 'Right-of-way at intersection', \n",
    "    12: 'Priority road', \n",
    "    13: 'Yield', \n",
    "    14: 'Stop', \n",
    "    15: 'No vehicles', \n",
    "    16: 'Veh > 3.5 tons prohibited', \n",
    "    17: 'No entry', \n",
    "    18: 'General caution', \n",
    "    19: 'Dangerous curve left', \n",
    "    20: 'Dangerous curve right', \n",
    "    21: 'Double curve', \n",
    "    22: 'Bumpy road', \n",
    "    23: 'Slippery road', \n",
    "    24: 'Road narrows on the right', \n",
    "    25: 'Road work', \n",
    "    26: 'Traffic signals', \n",
    "    27: 'Pedestrians', \n",
    "    28: 'Children crossing', \n",
    "    29: 'Bicycles crossing', \n",
    "    30: 'Beware of ice/snow',\n",
    "    31: 'Wild animals crossing', \n",
    "    32: 'End speed + passing limits', \n",
    "    33: 'Turn right ahead', \n",
    "    34: 'Turn left ahead', \n",
    "    35: 'Ahead only', \n",
    "    36: 'Go straight or right', \n",
    "    37: 'Go straight or left', \n",
    "    38: 'Keep right', \n",
    "    39: 'Keep left', \n",
    "    40: 'Roundabout mandatory', \n",
    "    41: 'End of no passing', \n",
    "    42: 'End no passing veh > 3.5 tons'\n",
    "}\n",
    "```\n",
    "\n"
   ]
  },
  {
   "cell_type": "markdown",
   "id": "66c6f645",
   "metadata": {},
   "source": [
    "## Load Data\n",
    "Run the following command to get the data and unzip it, alternatively you can access the data [here](https://drive.google.com/file/d/1HwMV-Lt_sWoxc5v6igmTxTwomS3DR6cQ/view?usp=sharing)."
   ]
  },
  {
   "cell_type": "code",
   "execution_count": 1,
   "id": "ee08de6b",
   "metadata": {},
   "outputs": [
    {
     "name": "stdout",
     "output_type": "stream",
     "text": [
      "Requirement already satisfied: gdown in c:\\users\\hayoo\\anaconda3\\lib\\site-packages (5.2.0)\n",
      "Requirement already satisfied: beautifulsoup4 in c:\\users\\hayoo\\anaconda3\\lib\\site-packages (from gdown) (4.12.2)\n",
      "Requirement already satisfied: filelock in c:\\users\\hayoo\\anaconda3\\lib\\site-packages (from gdown) (3.9.0)\n",
      "Requirement already satisfied: requests[socks] in c:\\users\\hayoo\\anaconda3\\lib\\site-packages (from gdown) (2.31.0)\n",
      "Requirement already satisfied: tqdm in c:\\users\\hayoo\\anaconda3\\lib\\site-packages (from gdown) (4.65.0)\n",
      "Requirement already satisfied: soupsieve>1.2 in c:\\users\\hayoo\\anaconda3\\lib\\site-packages (from beautifulsoup4->gdown) (2.4)\n",
      "Requirement already satisfied: charset-normalizer<4,>=2 in c:\\users\\hayoo\\anaconda3\\lib\\site-packages (from requests[socks]->gdown) (2.0.4)\n",
      "Requirement already satisfied: idna<4,>=2.5 in c:\\users\\hayoo\\anaconda3\\lib\\site-packages (from requests[socks]->gdown) (3.4)\n",
      "Requirement already satisfied: urllib3<3,>=1.21.1 in c:\\users\\hayoo\\anaconda3\\lib\\site-packages (from requests[socks]->gdown) (1.26.16)\n",
      "Requirement already satisfied: certifi>=2017.4.17 in c:\\users\\hayoo\\anaconda3\\lib\\site-packages (from requests[socks]->gdown) (2023.7.22)\n",
      "Requirement already satisfied: PySocks!=1.5.7,>=1.5.6 in c:\\users\\hayoo\\anaconda3\\lib\\site-packages (from requests[socks]->gdown) (1.7.1)\n",
      "Requirement already satisfied: colorama in c:\\users\\hayoo\\anaconda3\\lib\\site-packages (from tqdm->gdown) (0.4.6)\n"
     ]
    },
    {
     "name": "stderr",
     "output_type": "stream",
     "text": [
      "C:\\Users\\hayoo\\anaconda3\\Lib\\site-packages\\gdown\\__main__.py:140: FutureWarning: Option `--id` was deprecated in version 4.3.1 and will be removed in 5.0. You don't need to pass it anymore to use a file ID.\n",
      "  warnings.warn(\n",
      "Downloading...\n",
      "From (original): https://drive.google.com/uc?id=1HwMV-Lt_sWoxc5v6igmTxTwomS3DR6cQ\n",
      "From (redirected): https://drive.google.com/uc?id=1HwMV-Lt_sWoxc5v6igmTxTwomS3DR6cQ&confirm=t&uuid=b8acfdd9-9a08-43bd-b582-81b3717218ce\n",
      "To: C:\\Users\\hayoo\\Traffic_Signs.zip\n",
      "\n",
      "  0%|          | 0.00/244M [00:00<?, ?B/s]\n",
      "  0%|          | 524k/244M [00:00<03:49, 1.06MB/s]\n",
      "  0%|          | 1.05M/244M [00:00<02:05, 1.94MB/s]\n",
      "  1%|          | 2.10M/244M [00:00<01:05, 3.72MB/s]\n",
      "  2%|1         | 4.19M/244M [00:00<00:31, 7.57MB/s]\n",
      "  3%|3         | 7.34M/244M [00:00<00:17, 13.5MB/s]\n",
      "  5%|4         | 11.5M/244M [00:01<00:11, 20.6MB/s]\n",
      "  8%|7         | 18.9M/244M [00:01<00:06, 34.4MB/s]\n",
      " 10%|#         | 25.2M/244M [00:01<00:05, 42.0MB/s]\n",
      " 14%|#3        | 33.0M/244M [00:01<00:04, 52.2MB/s]\n",
      " 16%|#5        | 38.8M/244M [00:01<00:05, 36.7MB/s]\n",
      " 18%|#8        | 44.6M/244M [00:01<00:05, 34.0MB/s]\n",
      " 22%|##1       | 53.0M/244M [00:01<00:04, 43.9MB/s]\n",
      " 25%|##5       | 61.9M/244M [00:02<00:03, 53.8MB/s]\n",
      " 28%|##8       | 69.2M/244M [00:02<00:03, 54.4MB/s]\n",
      " 32%|###1      | 77.6M/244M [00:02<00:02, 60.7MB/s]\n",
      " 35%|###5      | 86.0M/244M [00:02<00:02, 66.1MB/s]\n",
      " 38%|###8      | 93.3M/244M [00:02<00:03, 47.5MB/s]\n",
      " 42%|####2     | 104M/244M [00:02<00:02, 55.4MB/s] \n",
      " 45%|####5     | 111M/244M [00:02<00:02, 54.3MB/s]\n",
      " 48%|####8     | 117M/244M [00:03<00:02, 57.4MB/s]\n",
      " 51%|#####     | 124M/244M [00:03<00:02, 58.2MB/s]\n",
      " 53%|#####3    | 131M/244M [00:03<00:01, 60.1MB/s]\n",
      " 56%|#####6    | 137M/244M [00:03<00:01, 60.4MB/s]\n",
      " 59%|#####9    | 145M/244M [00:03<00:01, 61.8MB/s]\n",
      " 62%|######2   | 152M/244M [00:03<00:01, 63.3MB/s]\n",
      " 65%|######4   | 158M/244M [00:03<00:01, 61.9MB/s]\n",
      " 68%|######7   | 166M/244M [00:03<00:01, 64.4MB/s]\n",
      " 71%|#######   | 172M/244M [00:03<00:01, 64.2MB/s]\n",
      " 73%|#######3  | 179M/244M [00:03<00:01, 63.9MB/s]\n",
      " 76%|#######6  | 186M/244M [00:04<00:00, 63.4MB/s]\n",
      " 79%|#######8  | 193M/244M [00:04<00:00, 63.2MB/s]\n",
      " 82%|########1 | 200M/244M [00:04<00:00, 64.0MB/s]\n",
      " 85%|########4 | 207M/244M [00:04<00:00, 63.1MB/s]\n",
      " 88%|########7 | 214M/244M [00:04<00:00, 64.7MB/s]\n",
      " 90%|######### | 221M/244M [00:04<00:00, 64.5MB/s]\n",
      " 93%|#########3| 228M/244M [00:04<00:00, 62.1MB/s]\n",
      " 97%|#########6| 236M/244M [00:04<00:00, 66.6MB/s]\n",
      "100%|#########9| 244M/244M [00:04<00:00, 69.9MB/s]\n",
      "100%|##########| 244M/244M [00:04<00:00, 49.3MB/s]\n",
      "'unzip' is not recognized as an internal or external command,\n",
      "operable program or batch file.\n"
     ]
    }
   ],
   "source": [
    "#https://drive.google.com/file/d/1HwMV-Lt_sWoxc5v6igmTxTwomS3DR6cQ/view?usp=sharing\n",
    "!pip install gdown\n",
    "!gdown --id 1HwMV-Lt_sWoxc5v6igmTxTwomS3DR6cQ\n",
    "!unzip Traffic_Signs.zip"
   ]
  },
  {
   "cell_type": "markdown",
   "id": "9bb9f30e",
   "metadata": {},
   "source": [
    "## Import Libraries"
   ]
  },
  {
   "cell_type": "code",
   "execution_count": 10,
   "id": "22207f85",
   "metadata": {},
   "outputs": [],
   "source": [
    "import tensorflow as tf\n",
    "import pandas as pd\n",
    "from tensorflow.keras.models import Sequential\n",
    "from tensorflow.keras.layers import Conv2D, MaxPooling2D, Flatten, Dense\n",
    "from tensorflow.keras.preprocessing.image import ImageDataGenerator\n",
    "import matplotlib.pyplot as plt\n",
    "from sklearn.model_selection import train_test_split\n"
   ]
  },
  {
   "cell_type": "markdown",
   "id": "3aa9945d",
   "metadata": {},
   "source": [
    "## Data Preprocessing\n",
    "In this section, preprocess the dataset by:\n",
    "- Loading the images from the file paths.\n",
    "- Resizing the images to a consistent size.\n",
    "- Normalizing pixel values.\n",
    "\n",
    "Add more if needed!"
   ]
  },
  {
   "cell_type": "code",
   "execution_count": 54,
   "id": "68fbf8f4",
   "metadata": {},
   "outputs": [],
   "source": [
    "data_path='Traffic_Signs/Dataset'"
   ]
  },
  {
   "cell_type": "code",
   "execution_count": 55,
   "id": "18ec7f1f",
   "metadata": {},
   "outputs": [],
   "source": [
    "datagen = ImageDataGenerator(rescale=1./255) #Normalizing"
   ]
  },
  {
   "cell_type": "code",
   "execution_count": 56,
   "id": "b002ef68",
   "metadata": {},
   "outputs": [
    {
     "name": "stdout",
     "output_type": "stream",
     "text": [
      "Found 39157 images belonging to 43 classes.\n"
     ]
    }
   ],
   "source": [
    "data = datagen.flow_from_directory(data_path, target_size=(30,30),batch_size=32, class_mode='categorical') # resizing to 30 * 30"
   ]
  },
  {
   "cell_type": "markdown",
   "id": "541f3c2b",
   "metadata": {},
   "source": [
    "## Data Splitting\n",
    "In this section, we will split our dataset into three parts:\n",
    "\n",
    "* Training set (70%).\n",
    "* Validation set (15%).\n",
    "* Test set (15%)."
   ]
  },
  {
   "cell_type": "code",
   "execution_count": 57,
   "id": "0352d23f",
   "metadata": {},
   "outputs": [],
   "source": [
    "images, labels = next(data)"
   ]
  },
  {
   "cell_type": "code",
   "execution_count": 58,
   "id": "cd2cca39",
   "metadata": {},
   "outputs": [],
   "source": [
    "X_train, X_test, y_train, y_test=train_test_split(images, labels,test_size=0.3) # 70% training\n",
    "X_val, X_test, y_val, y_test= train_test_split(images ,labels, test_size=0.5) # 15% for val, 15% for testing"
   ]
  },
  {
   "cell_type": "markdown",
   "id": "83974596",
   "metadata": {},
   "source": [
    "## Building the CNN Model\n",
    "In this section, define the architecture of the CNN model. The architecture may consist of:\n",
    "- Convolutional layers with max-pooling\n",
    "- Dropout layers\n",
    "- Flatten layer\n",
    "- Dense layers\n",
    "- Output layer\n",
    "\n",
    "Add and remove any of these as needed!"
   ]
  },
  {
   "cell_type": "code",
   "execution_count": 59,
   "id": "977da65a",
   "metadata": {},
   "outputs": [
    {
     "name": "stdout",
     "output_type": "stream",
     "text": [
      "Model: \"sequential_6\"\n",
      "_________________________________________________________________\n",
      " Layer (type)                Output Shape              Param #   \n",
      "=================================================================\n",
      " conv2d_14 (Conv2D)          (None, 28, 28, 32)        896       \n",
      "                                                                 \n",
      " max_pooling2d_14 (MaxPooli  (None, 14, 14, 32)        0         \n",
      " ng2D)                                                           \n",
      "                                                                 \n",
      " conv2d_15 (Conv2D)          (None, 12, 12, 64)        18496     \n",
      "                                                                 \n",
      " max_pooling2d_15 (MaxPooli  (None, 6, 6, 64)          0         \n",
      " ng2D)                                                           \n",
      "                                                                 \n",
      " flatten_6 (Flatten)         (None, 2304)              0         \n",
      "                                                                 \n",
      " dense_12 (Dense)            (None, 128)               295040    \n",
      "                                                                 \n",
      " dropout_6 (Dropout)         (None, 128)               0         \n",
      "                                                                 \n",
      " dense_13 (Dense)            (None, 43)                5547      \n",
      "                                                                 \n",
      "=================================================================\n",
      "Total params: 319979 (1.22 MB)\n",
      "Trainable params: 319979 (1.22 MB)\n",
      "Non-trainable params: 0 (0.00 Byte)\n",
      "_________________________________________________________________\n"
     ]
    }
   ],
   "source": [
    "model = Sequential([\n",
    "    Conv2D(32, (3, 3), activation='relu', input_shape=(30, 30, 3)),\n",
    "    MaxPooling2D(2, 2),\n",
    "    Conv2D(64, (3, 3), activation='relu'),\n",
    "    MaxPooling2D(2, 2),\n",
    "    Flatten(),\n",
    "    Dense(128, activation='relu'),\n",
    "    Dropout(0.3),\n",
    "    Dense(43, activation='softmax') # output layer\n",
    "])\n",
    "model.summary()"
   ]
  },
  {
   "cell_type": "code",
   "execution_count": 60,
   "id": "88f57992",
   "metadata": {},
   "outputs": [],
   "source": [
    "# Compile the model\n",
    "model.compile(optimizer='adam',\n",
    "              loss='categorical_crossentropy',\n",
    "              metrics=['accuracy'])"
   ]
  },
  {
   "cell_type": "markdown",
   "id": "fe1c0940",
   "metadata": {},
   "source": [
    "## Training the Model\n",
    "Train the CNN model using the training data and validate it on the validation set."
   ]
  },
  {
   "cell_type": "code",
   "execution_count": 61,
   "id": "ce31faf9",
   "metadata": {},
   "outputs": [
    {
     "name": "stdout",
     "output_type": "stream",
     "text": [
      "Epoch 1/20\n",
      "1/1 [==============================] - 2s 2s/step - loss: 3.7596 - accuracy: 0.0000e+00 - val_loss: 3.7019 - val_accuracy: 0.0625\n",
      "Epoch 2/20\n",
      "1/1 [==============================] - 0s 69ms/step - loss: 3.6499 - accuracy: 0.1364 - val_loss: 3.6582 - val_accuracy: 0.0625\n",
      "Epoch 3/20\n",
      "1/1 [==============================] - 0s 96ms/step - loss: 3.5463 - accuracy: 0.0455 - val_loss: 3.5996 - val_accuracy: 0.0625\n",
      "Epoch 4/20\n",
      "1/1 [==============================] - 0s 59ms/step - loss: 3.5356 - accuracy: 0.0000e+00 - val_loss: 3.5424 - val_accuracy: 0.0625\n",
      "Epoch 5/20\n",
      "1/1 [==============================] - 0s 66ms/step - loss: 3.3102 - accuracy: 0.1364 - val_loss: 3.5051 - val_accuracy: 0.0625\n",
      "Epoch 6/20\n",
      "1/1 [==============================] - 0s 67ms/step - loss: 3.2232 - accuracy: 0.1364 - val_loss: 3.4970 - val_accuracy: 0.0625\n",
      "Epoch 7/20\n",
      "1/1 [==============================] - 0s 84ms/step - loss: 3.1172 - accuracy: 0.1818 - val_loss: 3.4982 - val_accuracy: 0.0625\n",
      "Epoch 8/20\n",
      "1/1 [==============================] - 0s 57ms/step - loss: 3.0306 - accuracy: 0.1818 - val_loss: 3.4925 - val_accuracy: 0.0625\n",
      "Epoch 9/20\n",
      "1/1 [==============================] - 0s 52ms/step - loss: 2.8864 - accuracy: 0.2727 - val_loss: 3.4284 - val_accuracy: 0.0625\n",
      "Epoch 10/20\n",
      "1/1 [==============================] - 0s 76ms/step - loss: 2.9411 - accuracy: 0.1818 - val_loss: 3.3002 - val_accuracy: 0.1875\n",
      "Epoch 11/20\n",
      "1/1 [==============================] - 0s 54ms/step - loss: 2.8251 - accuracy: 0.2273 - val_loss: 3.1822 - val_accuracy: 0.2500\n",
      "Epoch 12/20\n",
      "1/1 [==============================] - 0s 49ms/step - loss: 2.8472 - accuracy: 0.3182 - val_loss: 3.0899 - val_accuracy: 0.2500\n",
      "Epoch 13/20\n",
      "1/1 [==============================] - 0s 57ms/step - loss: 2.6242 - accuracy: 0.2727 - val_loss: 2.9883 - val_accuracy: 0.2500\n",
      "Epoch 14/20\n",
      "1/1 [==============================] - 0s 69ms/step - loss: 2.7816 - accuracy: 0.2727 - val_loss: 2.8987 - val_accuracy: 0.3750\n",
      "Epoch 15/20\n",
      "1/1 [==============================] - 0s 85ms/step - loss: 2.3733 - accuracy: 0.3636 - val_loss: 2.8280 - val_accuracy: 0.3750\n",
      "Epoch 16/20\n",
      "1/1 [==============================] - 0s 90ms/step - loss: 2.6598 - accuracy: 0.2273 - val_loss: 2.7776 - val_accuracy: 0.4375\n",
      "Epoch 17/20\n",
      "1/1 [==============================] - 0s 80ms/step - loss: 2.4803 - accuracy: 0.2727 - val_loss: 2.7398 - val_accuracy: 0.3750\n",
      "Epoch 18/20\n",
      "1/1 [==============================] - 0s 83ms/step - loss: 2.3277 - accuracy: 0.4545 - val_loss: 2.7105 - val_accuracy: 0.3750\n",
      "Epoch 19/20\n",
      "1/1 [==============================] - 0s 79ms/step - loss: 2.2854 - accuracy: 0.3636 - val_loss: 2.6739 - val_accuracy: 0.3750\n",
      "Epoch 20/20\n",
      "1/1 [==============================] - 0s 95ms/step - loss: 2.1209 - accuracy: 0.4091 - val_loss: 2.6430 - val_accuracy: 0.4375\n"
     ]
    }
   ],
   "source": [
    "history = model.fit(X_train, y_train, batch_size=1000, epochs=20, validation_data=(X_val, y_val))"
   ]
  },
  {
   "cell_type": "markdown",
   "id": "25ad1b22",
   "metadata": {},
   "source": [
    "## Evaluate the Model\n",
    "Evaluate the performance of the model on the test set."
   ]
  },
  {
   "cell_type": "code",
   "execution_count": 62,
   "id": "eb9ed70f",
   "metadata": {},
   "outputs": [
    {
     "name": "stdout",
     "output_type": "stream",
     "text": [
      "1/1 [==============================] - 0s 55ms/step - loss: 3.1435 - accuracy: 0.3125\n"
     ]
    },
    {
     "data": {
      "text/plain": [
       "[3.1434967517852783, 0.3125]"
      ]
     },
     "execution_count": 62,
     "metadata": {},
     "output_type": "execute_result"
    }
   ],
   "source": [
    "model.evaluate(X_test, y_test)"
   ]
  },
  {
   "cell_type": "markdown",
   "id": "a37fca33",
   "metadata": {},
   "source": [
    "## Make Predictions\n",
    "Use the trained model to make predictions on new or unseen traffic sign images."
   ]
  },
  {
   "cell_type": "markdown",
   "id": "f1ab3608",
   "metadata": {},
   "source": [
    "if you need new, we prepared some data for you [here](https://drive.google.com/file/d/1S_vpQntND9839x8kJpegaEgtSIA4JxHO/view?usp=sharing), or you can simply run the following command to get the data and unzip it.\n",
    "\n",
    "<small>Note: please note that the file contain MetaData to tell you what each image contains <b>THIS IS JUST FOR YOU TO MAKE SURE</b></smmall>"
   ]
  },
  {
   "cell_type": "code",
   "execution_count": 63,
   "id": "a7a5c981",
   "metadata": {},
   "outputs": [
    {
     "name": "stderr",
     "output_type": "stream",
     "text": [
      "C:\\Users\\hayoo\\anaconda3\\Lib\\site-packages\\gdown\\__main__.py:140: FutureWarning: Option `--id` was deprecated in version 4.3.1 and will be removed in 5.0. You don't need to pass it anymore to use a file ID.\n",
      "  warnings.warn(\n",
      "Failed to retrieve file url:\n",
      "\n",
      "\tToo many users have viewed or downloaded this file recently. Please\n",
      "\ttry accessing the file again later. If the file you are trying to\n",
      "\taccess is particularly large or is shared with many people, it may\n",
      "\ttake up to 24 hours to be able to view or download the file. If you\n",
      "\tstill can't access a file after 24 hours, contact your domain\n",
      "\tadministrator.\n",
      "\n",
      "You may still be able to access the file from the browser:\n",
      "\n",
      "\thttps://drive.google.com/uc?id=1S_vpQntND9839x8kJpegaEgtSIA4JxHO\n",
      "\n",
      "but Gdown can't. Please check connections and permissions.\n",
      "'unzip' is not recognized as an internal or external command,\n",
      "operable program or batch file.\n"
     ]
    }
   ],
   "source": [
    "#https://drive.google.com/file/d/1S_vpQntND9839x8kJpegaEgtSIA4JxHO/view?usp=sharing\n",
    "!gdown --id 1S_vpQntND9839x8kJpegaEgtSIA4JxHO\n",
    "!unzip Test_Dataset.zip"
   ]
  },
  {
   "cell_type": "code",
   "execution_count": 64,
   "id": "be46ba26",
   "metadata": {},
   "outputs": [
    {
     "name": "stdout",
     "output_type": "stream",
     "text": [
      "1/1 [==============================] - 0s 195ms/step\n"
     ]
    }
   ],
   "source": [
    "prediction = model.predict(X_test) # predict "
   ]
  },
  {
   "cell_type": "markdown",
   "id": "8430600d",
   "metadata": {},
   "source": [
    "## Model Performance Visualization\n",
    "Visualize performance metrics such as accuracy and loss over the epochs."
   ]
  },
  {
   "cell_type": "code",
   "execution_count": 65,
   "id": "50624cfe",
   "metadata": {},
   "outputs": [
    {
     "data": {
      "image/png": "[encoded data removed]",
      "text/plain": [
       "<Figure size 600x300 with 1 Axes>"
      ]
     },
     "metadata": {},
     "output_type": "display_data"
    }
   ],
   "source": [
    "plt.figure(figsize=(6, 3))\n",
    "plt.plot(history.history['loss'], label='Training Loss')\n",
    "plt.plot(history.history['val_loss'], label='Validation Loss')\n",
    "plt.xlabel('Epochs')\n",
    "plt.ylabel('Loss')\n",
    "plt.legend()\n",
    "plt.show()"
   ]
  },
  {
   "cell_type": "code",
   "execution_count": 66,
   "id": "1d0e1502",
   "metadata": {},
   "outputs": [
    {
     "data": {
      "image/png": "[encoded data removed]",
      "text/plain": [
       "<Figure size 600x300 with 1 Axes>"
      ]
     },
     "metadata": {},
     "output_type": "display_data"
    }
   ],
   "source": [
    "plt.figure(figsize=(6, 3))\n",
    "plt.plot(history.history['accuracy'], label='Training Acc')\n",
    "plt.plot(history.history['val_accuracy'], label='Validation Acc')\n",
    "plt.xlabel('Epochs')\n",
    "plt.ylabel('Accuracy')\n",
    "plt.legend()\n",
    "plt.show()"
   ]
  },
  {
   "cell_type": "markdown",
   "id": "8d4f3348",
   "metadata": {},
   "source": [
    "## Save the Model\n",
    "Save the trained CNN model for submission."
   ]
  },
  {
   "cell_type": "code",
   "execution_count": 67,
   "id": "fe6b2df0",
   "metadata": {},
   "outputs": [],
   "source": [
    "model.save('my_model.keras')"
   ]
  },
  {
   "cell_type": "markdown",
   "id": "ed90995f",
   "metadata": {},
   "source": [
    "## Project Questions:\n",
    "\n",
    "1. **Data Preprocessing**: Explain why you chose your specific data preprocessing techniques (e.g., resizing images, normalization, data augmentation). How do these preprocessing steps improve the performance of your CNN model?\n",
    "2. **Model Architecture**: Describe the architecture of your CNN model (e.g., number of convolutional layers, kernel sizes, pooling layers). Why did you choose this structure, and how do you expect each layer to contribute to feature extraction?\n",
    "3. **Activation Functions**: Justify your choice of activation functions. How do they influence the training and output of your CNN?\n",
    "4. **Training Process**: Discuss your choice of batch size, number of epochs, and optimizer. How did these decisions impact the training process and the convergence of the model?\n",
    "5. **Loss Function and Metrics**: Explain why you chose the specific loss function and evaluation metrics for this classification task. How do they align with the goal of correctly classifying traffic signs?\n",
    "6. **Regularization Techniques**: If you used regularization methods like dropout or batch normalization, explain why you implemented them and how they helped prevent overfitting in your model.\n",
    "7. **Model Evaluation**: Justify the method you used to evaluate your model's performance on the test set. Why did you select these evaluation techniques, and what insights did they provide about your model's accuracy and generalization ability?\n",
    "8. **Model Visualization**: Explain the significance of the performance visualizations (e.g., accuracy and loss curves). What do they tell you about your model's training process and its ability to generalize?\n",
    "9. **Overfitting and Underfitting**: Analyze whether the model encountered any overfitting or underfitting during training. What strategies could you implement to mitigate these issues?"
   ]
  },
  {
   "cell_type": "markdown",
   "id": "02e7f114",
   "metadata": {},
   "source": [
    "### Answer Here:"
   ]
  }
 ],
 "metadata": {
  "kernelspec": {
   "display_name": "Python 3 (ipykernel)",
   "language": "python",
   "name": "python3"
  },
  "language_info": {
   "codemirror_mode": {
    "name": "ipython",
    "version": 3
   },
   "file_extension": ".py",
   "mimetype": "text/x-python",
   "name": "python",
   "nbconvert_exporter": "python",
   "pygments_lexer": "ipython3",
   "version": "3.11.5"
  }
 },
 "nbformat": 4,
 "nbformat_minor": 5
}
