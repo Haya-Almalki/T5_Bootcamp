{
 "cells": [
  {
   "cell_type": "markdown",
   "id": "cb8aaa37",
   "metadata": {},
   "source": [
    "# Building an ANN with the Iris Dataset\n",
    "    \n",
    "    ## Introduction\n",
    "    Artificial Neural Networks (ANNs) are a cornerstone of modern machine learning. In this lab, you will construct a simple ANN to classify iris plants into one of three species based on the length and width of their sepals and petals. This exercise will help you understand the basics of neural networks, including their architecture, activation functions, and the backpropagation algorithm for training.\n",
    "\n",
    "    ## Dataset Reference\n",
    "    The Iris dataset was introduced by the British statistician and biologist Ronald Fisher in 1936. It is widely used as a beginner's dataset for machine learning classification problems. You can access this dataset via the `sklearn.datasets` module.\n",
    "    "
   ]
  },
  {
   "cell_type": "code",
   "execution_count": 57,
   "id": "2580d34b",
   "metadata": {},
   "outputs": [],
   "source": [
    "import pandas as pd\n",
    "import numpy as np\n",
    "from sklearn.datasets import load_iris\n",
    "from sklearn.model_selection import train_test_split\n",
    "from sklearn.preprocessing import StandardScaler\n",
    "from tensorflow.keras.models import Sequential\n",
    "from tensorflow.keras.layers import Dense, Dropout\n",
    "from tensorflow.keras.optimizers import Adam\n",
    "from sklearn.preprocessing import OneHotEncoder, LabelEncoder\n",
    "import matplotlib.pyplot as plt\n",
    "import seaborn as sns\n",
    "from sklearn.metrics import accuracy_score, precision_score, recall_score, f1_score, confusion_matrix, classification_report"
   ]
  },
  {
   "cell_type": "markdown",
   "id": "9fca486d",
   "metadata": {},
   "source": [
    "## Part 1: Load and Explore the Data\n",
    "    ### Load the Dataset\n",
    "    **Hint**: Use `sklearn.datasets.load_iris()` to load the Iris dataset into your environment.\n",
    "\n",
    "    ### Explore the Data\n",
    "    **Hint**: Use `pandas` to examine the first few rows of the dataset and `matplotlib` or `seaborn` to visualize the feature distributions.\n",
    "    "
   ]
  },
  {
   "cell_type": "code",
   "execution_count": 58,
   "id": "7f8f3413",
   "metadata": {},
   "outputs": [
    {
     "data": {
      "text/html": [
       "<div>\n",
       "<style scoped>\n",
       "    .dataframe tbody tr th:only-of-type {\n",
       "        vertical-align: middle;\n",
       "    }\n",
       "\n",
       "    .dataframe tbody tr th {\n",
       "        vertical-align: top;\n",
       "    }\n",
       "\n",
       "    .dataframe thead th {\n",
       "        text-align: right;\n",
       "    }\n",
       "</style>\n",
       "<table border=\"1\" class=\"dataframe\">\n",
       "  <thead>\n",
       "    <tr style=\"text-align: right;\">\n",
       "      <th></th>\n",
       "      <th>sepal length (cm)</th>\n",
       "      <th>sepal width (cm)</th>\n",
       "      <th>petal length (cm)</th>\n",
       "      <th>petal width (cm)</th>\n",
       "      <th>target</th>\n",
       "    </tr>\n",
       "  </thead>\n",
       "  <tbody>\n",
       "    <tr>\n",
       "      <th>0</th>\n",
       "      <td>5.1</td>\n",
       "      <td>3.5</td>\n",
       "      <td>1.4</td>\n",
       "      <td>0.2</td>\n",
       "      <td>0</td>\n",
       "    </tr>\n",
       "    <tr>\n",
       "      <th>1</th>\n",
       "      <td>4.9</td>\n",
       "      <td>3.0</td>\n",
       "      <td>1.4</td>\n",
       "      <td>0.2</td>\n",
       "      <td>0</td>\n",
       "    </tr>\n",
       "    <tr>\n",
       "      <th>2</th>\n",
       "      <td>4.7</td>\n",
       "      <td>3.2</td>\n",
       "      <td>1.3</td>\n",
       "      <td>0.2</td>\n",
       "      <td>0</td>\n",
       "    </tr>\n",
       "    <tr>\n",
       "      <th>3</th>\n",
       "      <td>4.6</td>\n",
       "      <td>3.1</td>\n",
       "      <td>1.5</td>\n",
       "      <td>0.2</td>\n",
       "      <td>0</td>\n",
       "    </tr>\n",
       "    <tr>\n",
       "      <th>4</th>\n",
       "      <td>5.0</td>\n",
       "      <td>3.6</td>\n",
       "      <td>1.4</td>\n",
       "      <td>0.2</td>\n",
       "      <td>0</td>\n",
       "    </tr>\n",
       "  </tbody>\n",
       "</table>\n",
       "</div>"
      ],
      "text/plain": [
       "   sepal length (cm)  sepal width (cm)  petal length (cm)  petal width (cm)  \\\n",
       "0                5.1               3.5                1.4               0.2   \n",
       "1                4.9               3.0                1.4               0.2   \n",
       "2                4.7               3.2                1.3               0.2   \n",
       "3                4.6               3.1                1.5               0.2   \n",
       "4                5.0               3.6                1.4               0.2   \n",
       "\n",
       "   target  \n",
       "0       0  \n",
       "1       0  \n",
       "2       0  \n",
       "3       0  \n",
       "4       0  "
      ]
     },
     "execution_count": 58,
     "metadata": {},
     "output_type": "execute_result"
    }
   ],
   "source": [
    "iris= load_iris()\n",
    "df = pd.DataFrame(data=iris.data, columns=iris.feature_names) \n",
    "df.head()\n",
    "# Convert the iris dataset to dataframe\n",
    "df = pd.DataFrame(iris.data, columns=iris.feature_names)\n",
    "\n",
    "# adding target variable to the dataframe\n",
    "df['target'] = iris.target\n",
    "\n",
    "#few fist 5 rows\n",
    "df.head()"
   ]
  },
  {
   "cell_type": "code",
   "execution_count": 59,
   "id": "5eb42f28",
   "metadata": {},
   "outputs": [
    {
     "data": {
      "image/png": "[encoded data removed]",
      "text/plain": [
       "<Figure size 1000x600 with 4 Axes>"
      ]
     },
     "metadata": {},
     "output_type": "display_data"
    }
   ],
   "source": [
    "#visualize the feature distributions.\n",
    "feature=df.drop('target', axis=1)\n",
    "feature.hist(bins=30, figsize=(10, 6), layout=(2, 2))\n",
    "plt.subplots_adjust(hspace=0.3, wspace=0.3)\n",
    "plt.show()"
   ]
  },
  {
   "cell_type": "markdown",
   "id": "19dc3fd6",
   "metadata": {},
   "source": [
    "## Part 2: Prepare the Data\n",
    "    ### Split the Data into Training and Test Sets\n",
    "    **Hint**: Use `train_test_split` from `sklearn.model_selection` to divide the data into training and test sets.\n",
    "\n",
    "    ### Scale the Features\n",
    "    **Hint**: Standardize the features using `StandardScaler` from `sklearn.preprocessing`.\n",
    "    "
   ]
  },
  {
   "cell_type": "code",
   "execution_count": 60,
   "id": "cef983c5",
   "metadata": {},
   "outputs": [],
   "source": [
    "X = df.drop('target', axis=1)\n",
    "y = df['target']"
   ]
  },
  {
   "cell_type": "code",
   "execution_count": 61,
   "id": "dca749a8",
   "metadata": {},
   "outputs": [],
   "source": [
    "# Split the Data into Training and Test Sets\n",
    "X_train, X_test, y_train, y_test=train_test_split(X,y, test_size=0.2, random_state=42)"
   ]
  },
  {
   "cell_type": "code",
   "execution_count": 62,
   "id": "f3bfa8cc",
   "metadata": {},
   "outputs": [],
   "source": [
    "# Scale the Features\n",
    "scaler=StandardScaler()\n",
    "X_train= scaler.fit_transform(X_train)\n",
    "X_test= scaler.fit_transform(X_test)"
   ]
  },
  {
   "cell_type": "code",
   "execution_count": 63,
   "id": "54b4f89a",
   "metadata": {},
   "outputs": [
    {
     "data": {
      "text/plain": [
       "(120,)"
      ]
     },
     "execution_count": 63,
     "metadata": {},
     "output_type": "execute_result"
    }
   ],
   "source": [
    "y_train.shape"
   ]
  },
  {
   "cell_type": "markdown",
   "id": "166c4101",
   "metadata": {},
   "source": [
    "## Part 3: Build the ANN Model\n",
    "    ### Define the Model\n",
    "    **Hint**: Use `keras` to define a sequential model. Start with a single hidden layer with a ReLU activation function.\n",
    "\n",
    "    ### Compile the Model\n",
    "    **Hint**: Compile your model specifying an optimizer and loss function appropriate for classification.\n",
    "    "
   ]
  },
  {
   "cell_type": "code",
   "execution_count": 64,
   "id": "ddbede52",
   "metadata": {},
   "outputs": [],
   "source": [
    "# Define the Model\n",
    "model = Sequential()"
   ]
  },
  {
   "cell_type": "code",
   "execution_count": 65,
   "id": "26b4f524",
   "metadata": {},
   "outputs": [],
   "source": [
    "#add hidden layer\n",
    "model.add(Dense(units=6, input_dim=X_train.shape[1], activation='relu'))"
   ]
  },
  {
   "cell_type": "code",
   "execution_count": 66,
   "id": "97925f19",
   "metadata": {},
   "outputs": [],
   "source": [
    "#add output layer\n",
    "model.add(Dense(units=1, activation='sigmoid'))"
   ]
  },
  {
   "cell_type": "code",
   "execution_count": 67,
   "id": "0754d979",
   "metadata": {},
   "outputs": [],
   "source": [
    "# compile the model\n",
    "model.compile(optimizer='adam', loss='binary_crossentropy', metrics=['accuracy'])"
   ]
  },
  {
   "cell_type": "code",
   "execution_count": 68,
   "id": "066898b1",
   "metadata": {},
   "outputs": [
    {
     "name": "stdout",
     "output_type": "stream",
     "text": [
      "Model: \"sequential_7\"\n",
      "_________________________________________________________________\n",
      " Layer (type)                Output Shape              Param #   \n",
      "=================================================================\n",
      " dense_25 (Dense)            (None, 6)                 30        \n",
      "                                                                 \n",
      " dense_26 (Dense)            (None, 1)                 7         \n",
      "                                                                 \n",
      "=================================================================\n",
      "Total params: 37 (148.00 Byte)\n",
      "Trainable params: 37 (148.00 Byte)\n",
      "Non-trainable params: 0 (0.00 Byte)\n",
      "_________________________________________________________________\n"
     ]
    }
   ],
   "source": [
    "model.summary()"
   ]
  },
  {
   "cell_type": "markdown",
   "id": "8dd17d04",
   "metadata": {},
   "source": [
    "## Part 4: Train the Model\n",
    "    ### Train the Model\n",
    "    **Hint**: Fit the model on your training data with a reasonable number of epochs.\n",
    "\n",
    "    ### Evaluate the Model\n",
    "    **Hint**: Use the test data to evaluate your model and report the accuracy.\n",
    "    "
   ]
  },
  {
   "cell_type": "code",
   "execution_count": 69,
   "id": "b7fbd8e1",
   "metadata": {},
   "outputs": [
    {
     "name": "stdout",
     "output_type": "stream",
     "text": [
      "Epoch 1/100\n",
      "10/10 [==============================] - 2s 45ms/step - loss: 1.0620 - accuracy: 0.4062 - val_loss: 1.3917 - val_accuracy: 0.2083\n",
      "Epoch 2/100\n",
      "10/10 [==============================] - 0s 5ms/step - loss: 0.9971 - accuracy: 0.4271 - val_loss: 1.3038 - val_accuracy: 0.2083\n",
      "Epoch 3/100\n",
      "10/10 [==============================] - 0s 6ms/step - loss: 0.9408 - accuracy: 0.4271 - val_loss: 1.2158 - val_accuracy: 0.2083\n",
      "Epoch 4/100\n",
      "10/10 [==============================] - 0s 11ms/step - loss: 0.8880 - accuracy: 0.4375 - val_loss: 1.1266 - val_accuracy: 0.2500\n",
      "Epoch 5/100\n",
      "10/10 [==============================] - 0s 6ms/step - loss: 0.8330 - accuracy: 0.4583 - val_loss: 1.0442 - val_accuracy: 0.2500\n",
      "Epoch 6/100\n",
      "10/10 [==============================] - 0s 7ms/step - loss: 0.7848 - accuracy: 0.4583 - val_loss: 0.9638 - val_accuracy: 0.2500\n",
      "Epoch 7/100\n",
      "10/10 [==============================] - 0s 7ms/step - loss: 0.7334 - accuracy: 0.4792 - val_loss: 0.8898 - val_accuracy: 0.2500\n",
      "Epoch 8/100\n",
      "10/10 [==============================] - 0s 5ms/step - loss: 0.6849 - accuracy: 0.5000 - val_loss: 0.8206 - val_accuracy: 0.3333\n",
      "Epoch 9/100\n",
      "10/10 [==============================] - 0s 8ms/step - loss: 0.6403 - accuracy: 0.5104 - val_loss: 0.7460 - val_accuracy: 0.3333\n",
      "Epoch 10/100\n",
      "10/10 [==============================] - 0s 7ms/step - loss: 0.5944 - accuracy: 0.5208 - val_loss: 0.6705 - val_accuracy: 0.3333\n",
      "Epoch 11/100\n",
      "10/10 [==============================] - 0s 7ms/step - loss: 0.5459 - accuracy: 0.5208 - val_loss: 0.6005 - val_accuracy: 0.3333\n",
      "Epoch 12/100\n",
      "10/10 [==============================] - 0s 8ms/step - loss: 0.4983 - accuracy: 0.5521 - val_loss: 0.5315 - val_accuracy: 0.3750\n",
      "Epoch 13/100\n",
      "10/10 [==============================] - 0s 8ms/step - loss: 0.4533 - accuracy: 0.5625 - val_loss: 0.4585 - val_accuracy: 0.4167\n",
      "Epoch 14/100\n",
      "10/10 [==============================] - 0s 9ms/step - loss: 0.4076 - accuracy: 0.5938 - val_loss: 0.3848 - val_accuracy: 0.4167\n",
      "Epoch 15/100\n",
      "10/10 [==============================] - 0s 6ms/step - loss: 0.3588 - accuracy: 0.6146 - val_loss: 0.3146 - val_accuracy: 0.4167\n",
      "Epoch 16/100\n",
      "10/10 [==============================] - 0s 5ms/step - loss: 0.3147 - accuracy: 0.6250 - val_loss: 0.2417 - val_accuracy: 0.4583\n",
      "Epoch 17/100\n",
      "10/10 [==============================] - 0s 6ms/step - loss: 0.2707 - accuracy: 0.6354 - val_loss: 0.1704 - val_accuracy: 0.4583\n",
      "Epoch 18/100\n",
      "10/10 [==============================] - 0s 6ms/step - loss: 0.2266 - accuracy: 0.6354 - val_loss: 0.0989 - val_accuracy: 0.4583\n",
      "Epoch 19/100\n",
      "10/10 [==============================] - 0s 6ms/step - loss: 0.1838 - accuracy: 0.6458 - val_loss: 0.0284 - val_accuracy: 0.4583\n",
      "Epoch 20/100\n",
      "10/10 [==============================] - 0s 6ms/step - loss: 0.1402 - accuracy: 0.6458 - val_loss: -0.0413 - val_accuracy: 0.4583\n",
      "Epoch 21/100\n",
      "10/10 [==============================] - 0s 8ms/step - loss: 0.0979 - accuracy: 0.6562 - val_loss: -0.1081 - val_accuracy: 0.4583\n",
      "Epoch 22/100\n",
      "10/10 [==============================] - 0s 6ms/step - loss: 0.0551 - accuracy: 0.6562 - val_loss: -0.1711 - val_accuracy: 0.4583\n",
      "Epoch 23/100\n",
      "10/10 [==============================] - 0s 7ms/step - loss: 0.0176 - accuracy: 0.6562 - val_loss: -0.2396 - val_accuracy: 0.4583\n",
      "Epoch 24/100\n",
      "10/10 [==============================] - 0s 8ms/step - loss: -0.0239 - accuracy: 0.6562 - val_loss: -0.3035 - val_accuracy: 0.4583\n",
      "Epoch 25/100\n",
      "10/10 [==============================] - 0s 6ms/step - loss: -0.0632 - accuracy: 0.6562 - val_loss: -0.3673 - val_accuracy: 0.4583\n",
      "Epoch 26/100\n",
      "10/10 [==============================] - 0s 6ms/step - loss: -0.1043 - accuracy: 0.6667 - val_loss: -0.4288 - val_accuracy: 0.4583\n",
      "Epoch 27/100\n",
      "10/10 [==============================] - 0s 5ms/step - loss: -0.1425 - accuracy: 0.6667 - val_loss: -0.4928 - val_accuracy: 0.4583\n",
      "Epoch 28/100\n",
      "10/10 [==============================] - 0s 5ms/step - loss: -0.1829 - accuracy: 0.6667 - val_loss: -0.5564 - val_accuracy: 0.4583\n",
      "Epoch 29/100\n",
      "10/10 [==============================] - 0s 6ms/step - loss: -0.2230 - accuracy: 0.6667 - val_loss: -0.6190 - val_accuracy: 0.4583\n",
      "Epoch 30/100\n",
      "10/10 [==============================] - 0s 6ms/step - loss: -0.2609 - accuracy: 0.6771 - val_loss: -0.6854 - val_accuracy: 0.4583\n",
      "Epoch 31/100\n",
      "10/10 [==============================] - 0s 6ms/step - loss: -0.3037 - accuracy: 0.6875 - val_loss: -0.7497 - val_accuracy: 0.4583\n",
      "Epoch 32/100\n",
      "10/10 [==============================] - 0s 11ms/step - loss: -0.3446 - accuracy: 0.6875 - val_loss: -0.8156 - val_accuracy: 0.4583\n",
      "Epoch 33/100\n",
      "10/10 [==============================] - 0s 7ms/step - loss: -0.3850 - accuracy: 0.6875 - val_loss: -0.8826 - val_accuracy: 0.4583\n",
      "Epoch 34/100\n",
      "10/10 [==============================] - 0s 10ms/step - loss: -0.4245 - accuracy: 0.6875 - val_loss: -0.9493 - val_accuracy: 0.4583\n",
      "Epoch 35/100\n",
      "10/10 [==============================] - 0s 6ms/step - loss: -0.4659 - accuracy: 0.6875 - val_loss: -1.0148 - val_accuracy: 0.4583\n",
      "Epoch 36/100\n",
      "10/10 [==============================] - 0s 12ms/step - loss: -0.5071 - accuracy: 0.6875 - val_loss: -1.0803 - val_accuracy: 0.4583\n",
      "Epoch 37/100\n",
      "10/10 [==============================] - 0s 6ms/step - loss: -0.5493 - accuracy: 0.6875 - val_loss: -1.1459 - val_accuracy: 0.4583\n",
      "Epoch 38/100\n",
      "10/10 [==============================] - 0s 5ms/step - loss: -0.5902 - accuracy: 0.6875 - val_loss: -1.2146 - val_accuracy: 0.4583\n",
      "Epoch 39/100\n",
      "10/10 [==============================] - 0s 10ms/step - loss: -0.6311 - accuracy: 0.6875 - val_loss: -1.2868 - val_accuracy: 0.4583\n",
      "Epoch 40/100\n",
      "10/10 [==============================] - 0s 10ms/step - loss: -0.6746 - accuracy: 0.6875 - val_loss: -1.3570 - val_accuracy: 0.4583\n",
      "Epoch 41/100\n",
      "10/10 [==============================] - 0s 9ms/step - loss: -0.7168 - accuracy: 0.6875 - val_loss: -1.4289 - val_accuracy: 0.4583\n",
      "Epoch 42/100\n",
      "10/10 [==============================] - 0s 5ms/step - loss: -0.7607 - accuracy: 0.6875 - val_loss: -1.4989 - val_accuracy: 0.4583\n",
      "Epoch 43/100\n",
      "10/10 [==============================] - 0s 6ms/step - loss: -0.8054 - accuracy: 0.6979 - val_loss: -1.5687 - val_accuracy: 0.4583\n",
      "Epoch 44/100\n",
      "10/10 [==============================] - 0s 13ms/step - loss: -0.8477 - accuracy: 0.6979 - val_loss: -1.6430 - val_accuracy: 0.4583\n",
      "Epoch 45/100\n",
      "10/10 [==============================] - 0s 6ms/step - loss: -0.8913 - accuracy: 0.6979 - val_loss: -1.7187 - val_accuracy: 0.4583\n",
      "Epoch 46/100\n",
      "10/10 [==============================] - 0s 6ms/step - loss: -0.9352 - accuracy: 0.6979 - val_loss: -1.7940 - val_accuracy: 0.4583\n",
      "Epoch 47/100\n",
      "10/10 [==============================] - 0s 6ms/step - loss: -0.9825 - accuracy: 0.6979 - val_loss: -1.8669 - val_accuracy: 0.4583\n",
      "Epoch 48/100\n",
      "10/10 [==============================] - 0s 7ms/step - loss: -1.0272 - accuracy: 0.6979 - val_loss: -1.9413 - val_accuracy: 0.4583\n",
      "Epoch 49/100\n",
      "10/10 [==============================] - 0s 12ms/step - loss: -1.0730 - accuracy: 0.6979 - val_loss: -2.0159 - val_accuracy: 0.4583\n",
      "Epoch 50/100\n",
      "10/10 [==============================] - 0s 9ms/step - loss: -1.1187 - accuracy: 0.6979 - val_loss: -2.0931 - val_accuracy: 0.4583\n",
      "Epoch 51/100\n",
      "10/10 [==============================] - 0s 11ms/step - loss: -1.1636 - accuracy: 0.7083 - val_loss: -2.1734 - val_accuracy: 0.4583\n",
      "Epoch 52/100\n",
      "10/10 [==============================] - 0s 11ms/step - loss: -1.2140 - accuracy: 0.7083 - val_loss: -2.2502 - val_accuracy: 0.4583\n",
      "Epoch 53/100\n",
      "10/10 [==============================] - 0s 11ms/step - loss: -1.2589 - accuracy: 0.7188 - val_loss: -2.3327 - val_accuracy: 0.4583\n",
      "Epoch 54/100\n",
      "10/10 [==============================] - 0s 9ms/step - loss: -1.3064 - accuracy: 0.7188 - val_loss: -2.4157 - val_accuracy: 0.4583\n",
      "Epoch 55/100\n",
      "10/10 [==============================] - 0s 11ms/step - loss: -1.3592 - accuracy: 0.7188 - val_loss: -2.4923 - val_accuracy: 0.4583\n",
      "Epoch 56/100\n",
      "10/10 [==============================] - 0s 11ms/step - loss: -1.4044 - accuracy: 0.7188 - val_loss: -2.5780 - val_accuracy: 0.4583\n",
      "Epoch 57/100\n",
      "10/10 [==============================] - 0s 10ms/step - loss: -1.4567 - accuracy: 0.7188 - val_loss: -2.6630 - val_accuracy: 0.4583\n",
      "Epoch 58/100\n"
     ]
    },
    {
     "name": "stdout",
     "output_type": "stream",
     "text": [
      "10/10 [==============================] - 0s 9ms/step - loss: -1.5081 - accuracy: 0.7188 - val_loss: -2.7487 - val_accuracy: 0.4583\n",
      "Epoch 59/100\n",
      "10/10 [==============================] - 0s 9ms/step - loss: -1.5579 - accuracy: 0.7188 - val_loss: -2.8376 - val_accuracy: 0.4583\n",
      "Epoch 60/100\n",
      "10/10 [==============================] - 0s 8ms/step - loss: -1.6131 - accuracy: 0.7188 - val_loss: -2.9209 - val_accuracy: 0.5000\n",
      "Epoch 61/100\n",
      "10/10 [==============================] - 0s 7ms/step - loss: -1.6625 - accuracy: 0.7188 - val_loss: -3.0134 - val_accuracy: 0.5000\n",
      "Epoch 62/100\n",
      "10/10 [==============================] - 0s 7ms/step - loss: -1.7166 - accuracy: 0.7188 - val_loss: -3.1061 - val_accuracy: 0.5000\n",
      "Epoch 63/100\n",
      "10/10 [==============================] - 0s 8ms/step - loss: -1.7722 - accuracy: 0.7188 - val_loss: -3.1997 - val_accuracy: 0.5000\n",
      "Epoch 64/100\n",
      "10/10 [==============================] - 0s 8ms/step - loss: -1.8258 - accuracy: 0.7188 - val_loss: -3.2951 - val_accuracy: 0.5000\n",
      "Epoch 65/100\n",
      "10/10 [==============================] - 0s 9ms/step - loss: -1.8810 - accuracy: 0.7188 - val_loss: -3.3889 - val_accuracy: 0.5000\n",
      "Epoch 66/100\n",
      "10/10 [==============================] - 0s 8ms/step - loss: -1.9384 - accuracy: 0.7188 - val_loss: -3.4786 - val_accuracy: 0.5000\n",
      "Epoch 67/100\n",
      "10/10 [==============================] - 0s 9ms/step - loss: -1.9927 - accuracy: 0.7188 - val_loss: -3.5748 - val_accuracy: 0.5000\n",
      "Epoch 68/100\n",
      "10/10 [==============================] - 0s 9ms/step - loss: -2.0485 - accuracy: 0.7188 - val_loss: -3.6779 - val_accuracy: 0.5000\n",
      "Epoch 69/100\n",
      "10/10 [==============================] - 0s 9ms/step - loss: -2.1115 - accuracy: 0.7188 - val_loss: -3.7719 - val_accuracy: 0.5000\n",
      "Epoch 70/100\n",
      "10/10 [==============================] - 0s 9ms/step - loss: -2.1672 - accuracy: 0.7188 - val_loss: -3.8722 - val_accuracy: 0.5000\n",
      "Epoch 71/100\n",
      "10/10 [==============================] - 0s 8ms/step - loss: -2.2250 - accuracy: 0.7188 - val_loss: -3.9749 - val_accuracy: 0.5000\n",
      "Epoch 72/100\n",
      "10/10 [==============================] - 0s 6ms/step - loss: -2.2831 - accuracy: 0.7188 - val_loss: -4.0827 - val_accuracy: 0.5000\n",
      "Epoch 73/100\n",
      "10/10 [==============================] - 0s 8ms/step - loss: -2.3463 - accuracy: 0.7188 - val_loss: -4.1844 - val_accuracy: 0.5000\n",
      "Epoch 74/100\n",
      "10/10 [==============================] - 0s 9ms/step - loss: -2.4085 - accuracy: 0.7188 - val_loss: -4.2851 - val_accuracy: 0.5000\n",
      "Epoch 75/100\n",
      "10/10 [==============================] - 0s 9ms/step - loss: -2.4699 - accuracy: 0.7188 - val_loss: -4.3889 - val_accuracy: 0.5000\n",
      "Epoch 76/100\n",
      "10/10 [==============================] - 0s 8ms/step - loss: -2.5284 - accuracy: 0.7188 - val_loss: -4.5019 - val_accuracy: 0.5000\n",
      "Epoch 77/100\n",
      "10/10 [==============================] - 0s 9ms/step - loss: -2.5970 - accuracy: 0.7188 - val_loss: -4.6094 - val_accuracy: 0.5000\n",
      "Epoch 78/100\n",
      "10/10 [==============================] - 0s 10ms/step - loss: -2.6594 - accuracy: 0.7188 - val_loss: -4.7222 - val_accuracy: 0.5000\n",
      "Epoch 79/100\n",
      "10/10 [==============================] - 0s 9ms/step - loss: -2.7249 - accuracy: 0.7188 - val_loss: -4.8338 - val_accuracy: 0.5000\n",
      "Epoch 80/100\n",
      "10/10 [==============================] - 0s 9ms/step - loss: -2.7921 - accuracy: 0.7188 - val_loss: -4.9488 - val_accuracy: 0.5000\n",
      "Epoch 81/100\n",
      "10/10 [==============================] - 0s 10ms/step - loss: -2.8525 - accuracy: 0.7188 - val_loss: -5.0742 - val_accuracy: 0.5000\n",
      "Epoch 82/100\n",
      "10/10 [==============================] - 0s 8ms/step - loss: -2.9303 - accuracy: 0.7188 - val_loss: -5.1877 - val_accuracy: 0.5000\n",
      "Epoch 83/100\n",
      "10/10 [==============================] - 0s 9ms/step - loss: -2.9973 - accuracy: 0.7188 - val_loss: -5.3067 - val_accuracy: 0.5000\n",
      "Epoch 84/100\n",
      "10/10 [==============================] - 0s 8ms/step - loss: -3.0666 - accuracy: 0.7188 - val_loss: -5.4292 - val_accuracy: 0.5000\n",
      "Epoch 85/100\n",
      "10/10 [==============================] - 0s 11ms/step - loss: -3.1381 - accuracy: 0.7188 - val_loss: -5.5537 - val_accuracy: 0.5000\n",
      "Epoch 86/100\n",
      "10/10 [==============================] - 0s 10ms/step - loss: -3.2107 - accuracy: 0.7188 - val_loss: -5.6789 - val_accuracy: 0.5000\n",
      "Epoch 87/100\n",
      "10/10 [==============================] - 0s 10ms/step - loss: -3.2809 - accuracy: 0.7188 - val_loss: -5.8092 - val_accuracy: 0.5000\n",
      "Epoch 88/100\n",
      "10/10 [==============================] - 0s 10ms/step - loss: -3.3590 - accuracy: 0.7188 - val_loss: -5.9315 - val_accuracy: 0.5000\n",
      "Epoch 89/100\n",
      "10/10 [==============================] - 0s 11ms/step - loss: -3.4298 - accuracy: 0.7188 - val_loss: -6.0574 - val_accuracy: 0.5000\n",
      "Epoch 90/100\n",
      "10/10 [==============================] - 0s 10ms/step - loss: -3.5042 - accuracy: 0.7188 - val_loss: -6.1883 - val_accuracy: 0.5000\n",
      "Epoch 91/100\n",
      "10/10 [==============================] - 0s 9ms/step - loss: -3.5779 - accuracy: 0.7188 - val_loss: -6.3219 - val_accuracy: 0.5000\n",
      "Epoch 92/100\n",
      "10/10 [==============================] - 0s 9ms/step - loss: -3.6552 - accuracy: 0.7188 - val_loss: -6.4519 - val_accuracy: 0.5000\n",
      "Epoch 93/100\n",
      "10/10 [==============================] - 0s 9ms/step - loss: -3.7272 - accuracy: 0.7188 - val_loss: -6.5917 - val_accuracy: 0.5000\n",
      "Epoch 94/100\n",
      "10/10 [==============================] - 0s 9ms/step - loss: -3.8074 - accuracy: 0.7188 - val_loss: -6.7303 - val_accuracy: 0.5000\n",
      "Epoch 95/100\n",
      "10/10 [==============================] - 0s 7ms/step - loss: -3.8900 - accuracy: 0.7188 - val_loss: -6.8602 - val_accuracy: 0.5000\n",
      "Epoch 96/100\n",
      "10/10 [==============================] - 0s 10ms/step - loss: -3.9650 - accuracy: 0.7188 - val_loss: -6.9980 - val_accuracy: 0.5000\n",
      "Epoch 97/100\n",
      "10/10 [==============================] - 0s 9ms/step - loss: -4.0448 - accuracy: 0.7188 - val_loss: -7.1348 - val_accuracy: 0.5000\n",
      "Epoch 98/100\n",
      "10/10 [==============================] - 0s 9ms/step - loss: -4.1292 - accuracy: 0.7188 - val_loss: -7.2714 - val_accuracy: 0.5000\n",
      "Epoch 99/100\n",
      "10/10 [==============================] - 0s 7ms/step - loss: -4.2072 - accuracy: 0.7188 - val_loss: -7.4186 - val_accuracy: 0.5000\n",
      "Epoch 100/100\n",
      "10/10 [==============================] - 0s 9ms/step - loss: -4.2880 - accuracy: 0.7188 - val_loss: -7.5703 - val_accuracy: 0.5000\n"
     ]
    }
   ],
   "source": [
    "# Train the Model\n",
    "train_model = model.fit(X_train, y_train, epochs=100, batch_size=10, validation_split=0.2)"
   ]
  },
  {
   "cell_type": "code",
   "execution_count": 70,
   "id": "0d31321b",
   "metadata": {},
   "outputs": [
    {
     "name": "stdout",
     "output_type": "stream",
     "text": [
      "1/1 [==============================] - 0s 53ms/step - loss: -5.6046 - accuracy: 0.6333\n"
     ]
    },
    {
     "data": {
      "text/plain": [
       "[-5.604593276977539, 0.6333333253860474]"
      ]
     },
     "execution_count": 70,
     "metadata": {},
     "output_type": "execute_result"
    }
   ],
   "source": [
    "# Evaluate the model\n",
    "model.evaluate(X_test, y_test)"
   ]
  },
  {
   "cell_type": "markdown",
   "id": "a0f2d8bb",
   "metadata": {},
   "source": [
    "## Part 5: Experiment and Improve\n",
    "    ### Tune the Model\n",
    "    **Hint**: Try adding more hidden layers or neurons, or use different activation functions and see if the accuracy improves.\n",
    "\n",
    "    ### Regularization and Dropout\n",
    "    **Hint**: Implement dropout or regularization techniques to improve the model's generalization.\n",
    "    "
   ]
  },
  {
   "cell_type": "code",
   "execution_count": 71,
   "id": "5a4b5c91",
   "metadata": {},
   "outputs": [],
   "source": [
    "# Implement dropout\n",
    "model_dropOut = Sequential()\n",
    "model_dropOut.add(Dense(10, activation='relu', input_dim=X_train.shape[1]))\n",
    "model_dropOut.add(Dropout(0.5))\n",
    "model_dropOut.add(Dense(10, activation='relu'))\n",
    "model_dropOut.add(Dropout(0.5))\n",
    "model_dropOut.add(Dense(10, activation='relu'))\n",
    "model_dropOut.add(Dropout(0.5))\n",
    "model_dropOut.add(Dense(10, activation='relu'))\n",
    "model_dropOut.add(Dropout(0.5))\n",
    "model_dropOut.add(Dense(1, activation='sigmoid'))\n",
    "\n",
    "# Compile the model\n",
    "model_dropOut.compile(loss='binary_crossentropy', optimizer='adam', metrics=['accuracy'])"
   ]
  },
  {
   "cell_type": "code",
   "execution_count": 72,
   "id": "8bdc028f",
   "metadata": {},
   "outputs": [],
   "source": [
    "model_dropOut = Sequential()\n",
    "\n",
    "#add hidden layer\n",
    "model_dropOut.add(Dense(units=6, input_dim=X_train.shape[1], activation='relu'))\n",
    "\n",
    "model_dropOut.add(Dropout(0.5))\n",
    "model_dropOut.add(Dense(6, activation='relu'))\n",
    "model_dropOut.add(Dropout(0.5))\n",
    "model_dropOut.add(Dense(6, activation='relu'))\n",
    "model_dropOut.add(Dropout(0.5))\n",
    "model_dropOut.add(Dense(1, activation='sigmoid'))\n",
    "# compile the model\n",
    "model_dropOut.compile(optimizer='adam', loss='binary_crossentropy', metrics=['accuracy'])"
   ]
  },
  {
   "cell_type": "code",
   "execution_count": 73,
   "id": "0a238f72",
   "metadata": {},
   "outputs": [
    {
     "name": "stdout",
     "output_type": "stream",
     "text": [
      "Model: \"sequential_9\"\n",
      "_________________________________________________________________\n",
      " Layer (type)                Output Shape              Param #   \n",
      "=================================================================\n",
      " dense_32 (Dense)            (None, 6)                 30        \n",
      "                                                                 \n",
      " dropout_20 (Dropout)        (None, 6)                 0         \n",
      "                                                                 \n",
      " dense_33 (Dense)            (None, 6)                 42        \n",
      "                                                                 \n",
      " dropout_21 (Dropout)        (None, 6)                 0         \n",
      "                                                                 \n",
      " dense_34 (Dense)            (None, 6)                 42        \n",
      "                                                                 \n",
      " dropout_22 (Dropout)        (None, 6)                 0         \n",
      "                                                                 \n",
      " dense_35 (Dense)            (None, 1)                 7         \n",
      "                                                                 \n",
      "=================================================================\n",
      "Total params: 121 (484.00 Byte)\n",
      "Trainable params: 121 (484.00 Byte)\n",
      "Non-trainable params: 0 (0.00 Byte)\n",
      "_________________________________________________________________\n"
     ]
    }
   ],
   "source": [
    "model_dropOut.summary()"
   ]
  },
  {
   "cell_type": "code",
   "execution_count": 74,
   "id": "e94062b8",
   "metadata": {},
   "outputs": [
    {
     "name": "stdout",
     "output_type": "stream",
     "text": [
      "Epoch 1/100\n",
      "10/10 [==============================] - 3s 49ms/step - loss: 0.4871 - accuracy: 0.3438 - val_loss: 0.3340 - val_accuracy: 0.2917\n",
      "Epoch 2/100\n",
      "10/10 [==============================] - 0s 9ms/step - loss: 0.3979 - accuracy: 0.2917 - val_loss: 0.2817 - val_accuracy: 0.2917\n",
      "Epoch 3/100\n",
      "10/10 [==============================] - 0s 8ms/step - loss: 0.4968 - accuracy: 0.3125 - val_loss: 0.2382 - val_accuracy: 0.2917\n",
      "Epoch 4/100\n",
      "10/10 [==============================] - 0s 10ms/step - loss: 0.1390 - accuracy: 0.3646 - val_loss: 0.1867 - val_accuracy: 0.2917\n",
      "Epoch 5/100\n",
      "10/10 [==============================] - 0s 9ms/step - loss: 0.1964 - accuracy: 0.2917 - val_loss: 0.1302 - val_accuracy: 0.2917\n",
      "Epoch 6/100\n",
      "10/10 [==============================] - 0s 10ms/step - loss: 0.3307 - accuracy: 0.3438 - val_loss: 0.0813 - val_accuracy: 0.2917\n",
      "Epoch 7/100\n",
      "10/10 [==============================] - 0s 11ms/step - loss: 0.2354 - accuracy: 0.3750 - val_loss: 0.0380 - val_accuracy: 0.2917\n",
      "Epoch 8/100\n",
      "10/10 [==============================] - 0s 8ms/step - loss: 0.3026 - accuracy: 0.3646 - val_loss: -0.0071 - val_accuracy: 0.2917\n",
      "Epoch 9/100\n",
      "10/10 [==============================] - 0s 9ms/step - loss: 0.3826 - accuracy: 0.3333 - val_loss: -0.0517 - val_accuracy: 0.2917\n",
      "Epoch 10/100\n",
      "10/10 [==============================] - 0s 6ms/step - loss: 0.4029 - accuracy: 0.3646 - val_loss: -0.0838 - val_accuracy: 0.2917\n",
      "Epoch 11/100\n",
      "10/10 [==============================] - 0s 10ms/step - loss: 0.3054 - accuracy: 0.3646 - val_loss: -0.1163 - val_accuracy: 0.2917\n",
      "Epoch 12/100\n",
      "10/10 [==============================] - 0s 9ms/step - loss: -0.0075 - accuracy: 0.3438 - val_loss: -0.1645 - val_accuracy: 0.2917\n",
      "Epoch 13/100\n",
      "10/10 [==============================] - 0s 7ms/step - loss: 0.2947 - accuracy: 0.3438 - val_loss: -0.2169 - val_accuracy: 0.2917\n",
      "Epoch 14/100\n",
      "10/10 [==============================] - 0s 6ms/step - loss: 0.0471 - accuracy: 0.3646 - val_loss: -0.2670 - val_accuracy: 0.2917\n",
      "Epoch 15/100\n",
      "10/10 [==============================] - 0s 7ms/step - loss: 0.0091 - accuracy: 0.3229 - val_loss: -0.3242 - val_accuracy: 0.2917\n",
      "Epoch 16/100\n",
      "10/10 [==============================] - 0s 11ms/step - loss: -0.0905 - accuracy: 0.3438 - val_loss: -0.3988 - val_accuracy: 0.2917\n",
      "Epoch 17/100\n",
      "10/10 [==============================] - 0s 10ms/step - loss: -0.2468 - accuracy: 0.3646 - val_loss: -0.4814 - val_accuracy: 0.2917\n",
      "Epoch 18/100\n",
      "10/10 [==============================] - 0s 8ms/step - loss: -0.3445 - accuracy: 0.3646 - val_loss: -0.5774 - val_accuracy: 0.2917\n",
      "Epoch 19/100\n",
      "10/10 [==============================] - 0s 11ms/step - loss: 0.1090 - accuracy: 0.3333 - val_loss: -0.6655 - val_accuracy: 0.2917\n",
      "Epoch 20/100\n",
      "10/10 [==============================] - 0s 11ms/step - loss: 0.0988 - accuracy: 0.3854 - val_loss: -0.7518 - val_accuracy: 0.2917\n",
      "Epoch 21/100\n",
      "10/10 [==============================] - 0s 10ms/step - loss: -0.2130 - accuracy: 0.3854 - val_loss: -0.8519 - val_accuracy: 0.2917\n",
      "Epoch 22/100\n",
      "10/10 [==============================] - 0s 6ms/step - loss: -0.5403 - accuracy: 0.3542 - val_loss: -0.9615 - val_accuracy: 0.2917\n",
      "Epoch 23/100\n",
      "10/10 [==============================] - 0s 8ms/step - loss: -0.6381 - accuracy: 0.4062 - val_loss: -1.0867 - val_accuracy: 0.2917\n",
      "Epoch 24/100\n",
      "10/10 [==============================] - 0s 8ms/step - loss: -0.2191 - accuracy: 0.3542 - val_loss: -1.2247 - val_accuracy: 0.2917\n",
      "Epoch 25/100\n",
      "10/10 [==============================] - 0s 8ms/step - loss: -0.6895 - accuracy: 0.3750 - val_loss: -1.3478 - val_accuracy: 0.2917\n",
      "Epoch 26/100\n",
      "10/10 [==============================] - 0s 10ms/step - loss: -0.9301 - accuracy: 0.3542 - val_loss: -1.5029 - val_accuracy: 0.2917\n",
      "Epoch 27/100\n",
      "10/10 [==============================] - 0s 11ms/step - loss: -0.8980 - accuracy: 0.3958 - val_loss: -1.6664 - val_accuracy: 0.2917\n",
      "Epoch 28/100\n",
      "10/10 [==============================] - 0s 8ms/step - loss: -1.5112 - accuracy: 0.3958 - val_loss: -1.8814 - val_accuracy: 0.2917\n",
      "Epoch 29/100\n",
      "10/10 [==============================] - 0s 6ms/step - loss: -1.9051 - accuracy: 0.3646 - val_loss: -2.1601 - val_accuracy: 0.2917\n",
      "Epoch 30/100\n",
      "10/10 [==============================] - 0s 7ms/step - loss: -1.2913 - accuracy: 0.4062 - val_loss: -2.4385 - val_accuracy: 0.2917\n",
      "Epoch 31/100\n",
      "10/10 [==============================] - 0s 10ms/step - loss: -1.1283 - accuracy: 0.4271 - val_loss: -2.7565 - val_accuracy: 0.2917\n",
      "Epoch 32/100\n",
      "10/10 [==============================] - 0s 10ms/step - loss: -1.8880 - accuracy: 0.3958 - val_loss: -3.1140 - val_accuracy: 0.2917\n",
      "Epoch 33/100\n",
      "10/10 [==============================] - 0s 10ms/step - loss: -1.5664 - accuracy: 0.3438 - val_loss: -3.4773 - val_accuracy: 0.2917\n",
      "Epoch 34/100\n",
      "10/10 [==============================] - 0s 7ms/step - loss: -3.5888 - accuracy: 0.3958 - val_loss: -3.9334 - val_accuracy: 0.2917\n",
      "Epoch 35/100\n",
      "10/10 [==============================] - 0s 8ms/step - loss: -2.0828 - accuracy: 0.3854 - val_loss: -4.4623 - val_accuracy: 0.2917\n",
      "Epoch 36/100\n",
      "10/10 [==============================] - 0s 7ms/step - loss: -2.9055 - accuracy: 0.3750 - val_loss: -5.0523 - val_accuracy: 0.2917\n",
      "Epoch 37/100\n",
      "10/10 [==============================] - 0s 9ms/step - loss: -2.9857 - accuracy: 0.3854 - val_loss: -5.6103 - val_accuracy: 0.2917\n",
      "Epoch 38/100\n",
      "10/10 [==============================] - 0s 9ms/step - loss: -2.3980 - accuracy: 0.4062 - val_loss: -6.1687 - val_accuracy: 0.2917\n",
      "Epoch 39/100\n",
      "10/10 [==============================] - 0s 9ms/step - loss: -4.9560 - accuracy: 0.3854 - val_loss: -6.7945 - val_accuracy: 0.2917\n",
      "Epoch 40/100\n",
      "10/10 [==============================] - 0s 9ms/step - loss: -4.5762 - accuracy: 0.3854 - val_loss: -7.4934 - val_accuracy: 0.2917\n",
      "Epoch 41/100\n",
      "10/10 [==============================] - 0s 8ms/step - loss: -3.4871 - accuracy: 0.3958 - val_loss: -8.2126 - val_accuracy: 0.2917\n",
      "Epoch 42/100\n",
      "10/10 [==============================] - 0s 8ms/step - loss: -4.3387 - accuracy: 0.3958 - val_loss: -8.8980 - val_accuracy: 0.2917\n",
      "Epoch 43/100\n",
      "10/10 [==============================] - 0s 7ms/step - loss: -5.7162 - accuracy: 0.3854 - val_loss: -9.7699 - val_accuracy: 0.2917\n",
      "Epoch 44/100\n",
      "10/10 [==============================] - 0s 7ms/step - loss: -6.5983 - accuracy: 0.4167 - val_loss: -10.7400 - val_accuracy: 0.2917\n",
      "Epoch 45/100\n",
      "10/10 [==============================] - 0s 7ms/step - loss: -8.0692 - accuracy: 0.3542 - val_loss: -11.9843 - val_accuracy: 0.2917\n",
      "Epoch 46/100\n",
      "10/10 [==============================] - 0s 7ms/step - loss: -7.4843 - accuracy: 0.3958 - val_loss: -13.0835 - val_accuracy: 0.2917\n",
      "Epoch 47/100\n",
      "10/10 [==============================] - 0s 8ms/step - loss: -6.4346 - accuracy: 0.4167 - val_loss: -14.2207 - val_accuracy: 0.2917\n",
      "Epoch 48/100\n",
      "10/10 [==============================] - 0s 9ms/step - loss: -7.3034 - accuracy: 0.3646 - val_loss: -15.3590 - val_accuracy: 0.2917\n",
      "Epoch 49/100\n",
      "10/10 [==============================] - 0s 6ms/step - loss: -12.1065 - accuracy: 0.3854 - val_loss: -16.9190 - val_accuracy: 0.2917\n",
      "Epoch 50/100\n",
      "10/10 [==============================] - 0s 7ms/step - loss: -13.2844 - accuracy: 0.3750 - val_loss: -18.9902 - val_accuracy: 0.2917\n",
      "Epoch 51/100\n",
      "10/10 [==============================] - 0s 8ms/step - loss: -9.1843 - accuracy: 0.3750 - val_loss: -20.9212 - val_accuracy: 0.2917\n",
      "Epoch 52/100\n",
      "10/10 [==============================] - 0s 7ms/step - loss: -16.9426 - accuracy: 0.4062 - val_loss: -23.1418 - val_accuracy: 0.2917\n",
      "Epoch 53/100\n",
      "10/10 [==============================] - 0s 9ms/step - loss: -11.2509 - accuracy: 0.3750 - val_loss: -25.2599 - val_accuracy: 0.2917\n",
      "Epoch 54/100\n",
      "10/10 [==============================] - 0s 9ms/step - loss: -16.4508 - accuracy: 0.3854 - val_loss: -27.5680 - val_accuracy: 0.2917\n",
      "Epoch 55/100\n",
      "10/10 [==============================] - 0s 7ms/step - loss: -14.1232 - accuracy: 0.3854 - val_loss: -30.1440 - val_accuracy: 0.2917\n",
      "Epoch 56/100\n",
      "10/10 [==============================] - 0s 7ms/step - loss: -19.6589 - accuracy: 0.3646 - val_loss: -33.0676 - val_accuracy: 0.2917\n",
      "Epoch 57/100\n",
      "10/10 [==============================] - 0s 9ms/step - loss: -18.3049 - accuracy: 0.3750 - val_loss: -35.9059 - val_accuracy: 0.2917\n"
     ]
    },
    {
     "name": "stdout",
     "output_type": "stream",
     "text": [
      "Epoch 58/100\n",
      "10/10 [==============================] - 0s 12ms/step - loss: -18.3296 - accuracy: 0.3854 - val_loss: -38.8790 - val_accuracy: 0.2917\n",
      "Epoch 59/100\n",
      "10/10 [==============================] - 0s 11ms/step - loss: -20.8425 - accuracy: 0.3854 - val_loss: -41.8467 - val_accuracy: 0.2917\n",
      "Epoch 60/100\n",
      "10/10 [==============================] - 0s 10ms/step - loss: -37.6446 - accuracy: 0.3958 - val_loss: -45.7879 - val_accuracy: 0.2917\n",
      "Epoch 61/100\n",
      "10/10 [==============================] - 0s 11ms/step - loss: -16.3723 - accuracy: 0.3854 - val_loss: -49.6848 - val_accuracy: 0.2917\n",
      "Epoch 62/100\n",
      "10/10 [==============================] - 0s 11ms/step - loss: -31.3691 - accuracy: 0.4271 - val_loss: -53.7656 - val_accuracy: 0.2917\n",
      "Epoch 63/100\n",
      "10/10 [==============================] - 0s 10ms/step - loss: -31.8799 - accuracy: 0.3854 - val_loss: -58.2452 - val_accuracy: 0.2917\n",
      "Epoch 64/100\n",
      "10/10 [==============================] - 0s 9ms/step - loss: -26.6575 - accuracy: 0.3958 - val_loss: -62.8880 - val_accuracy: 0.2917\n",
      "Epoch 65/100\n",
      "10/10 [==============================] - 0s 9ms/step - loss: -29.3036 - accuracy: 0.3958 - val_loss: -67.4636 - val_accuracy: 0.2917\n",
      "Epoch 66/100\n",
      "10/10 [==============================] - 0s 10ms/step - loss: -35.7219 - accuracy: 0.3958 - val_loss: -72.9106 - val_accuracy: 0.2917\n",
      "Epoch 67/100\n",
      "10/10 [==============================] - 0s 9ms/step - loss: -51.7523 - accuracy: 0.3542 - val_loss: -79.2105 - val_accuracy: 0.2917\n",
      "Epoch 68/100\n",
      "10/10 [==============================] - 0s 7ms/step - loss: -56.5505 - accuracy: 0.3958 - val_loss: -85.5361 - val_accuracy: 0.2917\n",
      "Epoch 69/100\n",
      "10/10 [==============================] - 0s 7ms/step - loss: -62.1628 - accuracy: 0.3854 - val_loss: -93.3074 - val_accuracy: 0.2917\n",
      "Epoch 70/100\n",
      "10/10 [==============================] - 0s 6ms/step - loss: -70.4346 - accuracy: 0.3958 - val_loss: -102.7068 - val_accuracy: 0.2917\n",
      "Epoch 71/100\n",
      "10/10 [==============================] - 0s 9ms/step - loss: -58.7351 - accuracy: 0.3958 - val_loss: -111.1574 - val_accuracy: 0.2917\n",
      "Epoch 72/100\n",
      "10/10 [==============================] - 0s 10ms/step - loss: -75.5397 - accuracy: 0.3854 - val_loss: -119.8224 - val_accuracy: 0.2917\n",
      "Epoch 73/100\n",
      "10/10 [==============================] - 0s 9ms/step - loss: -61.4734 - accuracy: 0.3854 - val_loss: -127.8010 - val_accuracy: 0.2917\n",
      "Epoch 74/100\n",
      "10/10 [==============================] - 0s 9ms/step - loss: -74.7202 - accuracy: 0.3854 - val_loss: -136.6605 - val_accuracy: 0.2917\n",
      "Epoch 75/100\n",
      "10/10 [==============================] - 0s 8ms/step - loss: -82.8623 - accuracy: 0.3958 - val_loss: -145.3710 - val_accuracy: 0.2917\n",
      "Epoch 76/100\n",
      "10/10 [==============================] - 0s 10ms/step - loss: -87.7847 - accuracy: 0.3854 - val_loss: -156.3199 - val_accuracy: 0.2917\n",
      "Epoch 77/100\n",
      "10/10 [==============================] - 0s 13ms/step - loss: -79.9467 - accuracy: 0.3854 - val_loss: -165.2601 - val_accuracy: 0.2917\n",
      "Epoch 78/100\n",
      "10/10 [==============================] - 0s 11ms/step - loss: -100.9887 - accuracy: 0.3542 - val_loss: -175.3069 - val_accuracy: 0.2917\n",
      "Epoch 79/100\n",
      "10/10 [==============================] - 0s 10ms/step - loss: -129.9866 - accuracy: 0.3750 - val_loss: -188.5765 - val_accuracy: 0.2917\n",
      "Epoch 80/100\n",
      "10/10 [==============================] - 0s 10ms/step - loss: -93.5991 - accuracy: 0.3542 - val_loss: -200.7840 - val_accuracy: 0.2917\n",
      "Epoch 81/100\n",
      "10/10 [==============================] - 0s 7ms/step - loss: -112.8585 - accuracy: 0.3854 - val_loss: -212.5272 - val_accuracy: 0.2917\n",
      "Epoch 82/100\n",
      "10/10 [==============================] - 0s 10ms/step - loss: -124.7723 - accuracy: 0.3646 - val_loss: -225.3225 - val_accuracy: 0.2917\n",
      "Epoch 83/100\n",
      "10/10 [==============================] - 0s 9ms/step - loss: -109.6285 - accuracy: 0.3542 - val_loss: -238.4896 - val_accuracy: 0.2917\n",
      "Epoch 84/100\n",
      "10/10 [==============================] - 0s 9ms/step - loss: -166.3035 - accuracy: 0.3542 - val_loss: -252.1721 - val_accuracy: 0.2917\n",
      "Epoch 85/100\n",
      "10/10 [==============================] - 0s 9ms/step - loss: -125.0908 - accuracy: 0.3542 - val_loss: -266.8113 - val_accuracy: 0.2917\n",
      "Epoch 86/100\n",
      "10/10 [==============================] - 0s 9ms/step - loss: -158.9651 - accuracy: 0.3542 - val_loss: -280.7937 - val_accuracy: 0.2917\n",
      "Epoch 87/100\n",
      "10/10 [==============================] - 0s 8ms/step - loss: -204.8048 - accuracy: 0.3542 - val_loss: -299.9856 - val_accuracy: 0.2917\n",
      "Epoch 88/100\n",
      "10/10 [==============================] - 0s 9ms/step - loss: -174.2155 - accuracy: 0.3542 - val_loss: -319.1501 - val_accuracy: 0.2917\n",
      "Epoch 89/100\n",
      "10/10 [==============================] - 0s 7ms/step - loss: -153.0204 - accuracy: 0.3542 - val_loss: -334.7075 - val_accuracy: 0.2917\n",
      "Epoch 90/100\n",
      "10/10 [==============================] - 0s 8ms/step - loss: -238.7052 - accuracy: 0.3438 - val_loss: -353.0093 - val_accuracy: 0.2917\n",
      "Epoch 91/100\n",
      "10/10 [==============================] - 0s 9ms/step - loss: -252.3290 - accuracy: 0.3542 - val_loss: -374.3341 - val_accuracy: 0.2917\n",
      "Epoch 92/100\n",
      "10/10 [==============================] - 0s 10ms/step - loss: -207.4827 - accuracy: 0.3542 - val_loss: -395.0823 - val_accuracy: 0.2917\n",
      "Epoch 93/100\n",
      "10/10 [==============================] - 0s 9ms/step - loss: -184.6322 - accuracy: 0.3542 - val_loss: -413.3241 - val_accuracy: 0.2917\n",
      "Epoch 94/100\n",
      "10/10 [==============================] - 0s 10ms/step - loss: -173.6044 - accuracy: 0.3542 - val_loss: -430.5953 - val_accuracy: 0.2917\n",
      "Epoch 95/100\n",
      "10/10 [==============================] - 0s 9ms/step - loss: -233.6726 - accuracy: 0.3542 - val_loss: -448.3018 - val_accuracy: 0.2917\n",
      "Epoch 96/100\n",
      "10/10 [==============================] - 0s 7ms/step - loss: -236.0255 - accuracy: 0.3542 - val_loss: -470.1571 - val_accuracy: 0.2917\n",
      "Epoch 97/100\n",
      "10/10 [==============================] - 0s 9ms/step - loss: -204.1896 - accuracy: 0.3542 - val_loss: -489.5149 - val_accuracy: 0.2917\n",
      "Epoch 98/100\n",
      "10/10 [==============================] - 0s 8ms/step - loss: -240.5850 - accuracy: 0.3542 - val_loss: -508.5649 - val_accuracy: 0.2917\n",
      "Epoch 99/100\n",
      "10/10 [==============================] - 0s 9ms/step - loss: -328.6020 - accuracy: 0.3542 - val_loss: -533.0263 - val_accuracy: 0.2917\n",
      "Epoch 100/100\n",
      "10/10 [==============================] - 0s 10ms/step - loss: -264.6402 - accuracy: 0.3542 - val_loss: -557.4766 - val_accuracy: 0.2917\n"
     ]
    }
   ],
   "source": [
    "train_model2= model_dropOut.fit(X_train, y_train, epochs=100, batch_size=10, validation_split=0.2)"
   ]
  },
  {
   "cell_type": "code",
   "execution_count": 75,
   "id": "053c192a",
   "metadata": {},
   "outputs": [
    {
     "name": "stdout",
     "output_type": "stream",
     "text": [
      "1/1 [==============================] - 0s 49ms/step - loss: -406.8148 - accuracy: 0.3000\n"
     ]
    },
    {
     "data": {
      "text/plain": [
       "[-406.8148498535156, 0.30000001192092896]"
      ]
     },
     "execution_count": 75,
     "metadata": {},
     "output_type": "execute_result"
    }
   ],
   "source": [
    "# Evaluate the model\n",
    "model_dropOut.evaluate(X_test, y_test)"
   ]
  },
  {
   "cell_type": "markdown",
   "id": "5ab398a2",
   "metadata": {},
   "source": [
    "\n",
    "## Part 4: Model Evaluation\n",
    "### Evaluate the Model\n",
    "To effectively evaluate your artificial neural network, consider the following metrics:\n",
    "- **Accuracy**: This is the fraction of predictions our model got right.\n",
    "- **Confusion Matrix**: A table used to describe the performance of a classification model on a set of test data for which the true values are known.\n",
    "- **Precision, Recall, and F1-Score**: These metrics provide more insight into the types of errors made by the classifier.\n",
    "**Hint**: Use `classification_report` and `confusion_matrix` from `sklearn.metrics` to calculate these metrics.\n",
    "\n",
    "### Visualize Model Performance\n",
    "Visualizing the learning curves (loss and accuracy over epochs) can provide insights into the training process, such as whether the model is fitting or overfitting.\n",
    "**Hint**: Use `matplotlib.pyplot` to plot training and validation loss and accuracy.\n"
   ]
  },
  {
   "cell_type": "code",
   "execution_count": 76,
   "id": "cfc10b8e",
   "metadata": {},
   "outputs": [
    {
     "name": "stdout",
     "output_type": "stream",
     "text": [
      "1/1 [==============================] - 0s 148ms/step\n",
      "Accuracy: 33.33%\n"
     ]
    }
   ],
   "source": [
    "# Predict\n",
    "y_pred_prob = model_dropOut.predict(X_test)\n",
    "\n",
    "# Convert probabilities to class labels\n",
    "y_pred = np.argmax(y_pred_prob, axis=1)\n",
    "\n",
    "# accuracy\n",
    "accuracy = accuracy_score(y_test, y_pred)\n",
    "print(f\"Accuracy: {accuracy * 100:.2f}%\")"
   ]
  },
  {
   "cell_type": "code",
   "execution_count": 77,
   "id": "cbe7fb81",
   "metadata": {},
   "outputs": [
    {
     "name": "stdout",
     "output_type": "stream",
     "text": [
      "              precision    recall  f1-score   support\n",
      "\n",
      "           0       0.33      1.00      0.50        10\n",
      "           1       0.00      0.00      0.00         9\n",
      "           2       0.00      0.00      0.00        11\n",
      "\n",
      "    accuracy                           0.33        30\n",
      "   macro avg       0.11      0.33      0.17        30\n",
      "weighted avg       0.11      0.33      0.17        30\n",
      "\n"
     ]
    },
    {
     "name": "stderr",
     "output_type": "stream",
     "text": [
      "C:\\Users\\hayoo\\anaconda3\\Lib\\site-packages\\sklearn\\metrics\\_classification.py:1344: UndefinedMetricWarning: Precision and F-score are ill-defined and being set to 0.0 in labels with no predicted samples. Use `zero_division` parameter to control this behavior.\n",
      "  _warn_prf(average, modifier, msg_start, len(result))\n",
      "C:\\Users\\hayoo\\anaconda3\\Lib\\site-packages\\sklearn\\metrics\\_classification.py:1344: UndefinedMetricWarning: Precision and F-score are ill-defined and being set to 0.0 in labels with no predicted samples. Use `zero_division` parameter to control this behavior.\n",
      "  _warn_prf(average, modifier, msg_start, len(result))\n",
      "C:\\Users\\hayoo\\anaconda3\\Lib\\site-packages\\sklearn\\metrics\\_classification.py:1344: UndefinedMetricWarning: Precision and F-score are ill-defined and being set to 0.0 in labels with no predicted samples. Use `zero_division` parameter to control this behavior.\n",
      "  _warn_prf(average, modifier, msg_start, len(result))\n"
     ]
    }
   ],
   "source": [
    "# classification report\n",
    "cr = classification_report(y_test, y_pred)\n",
    "print(cr)"
   ]
  },
  {
   "cell_type": "code",
   "execution_count": 78,
   "id": "af4a4e50",
   "metadata": {},
   "outputs": [
    {
     "data": {
      "text/plain": [
       "array([[10,  0,  0],\n",
       "       [ 9,  0,  0],\n",
       "       [11,  0,  0]], dtype=int64)"
      ]
     },
     "execution_count": 78,
     "metadata": {},
     "output_type": "execute_result"
    }
   ],
   "source": [
    "conf_matrix = confusion_matrix(y_test, y_pred)\n",
    "conf_matrix"
   ]
  },
  {
   "cell_type": "code",
   "execution_count": 79,
   "id": "03812c58",
   "metadata": {},
   "outputs": [
    {
     "data": {
      "text/plain": [
       "<function matplotlib.pyplot.show(close=None, block=None)>"
      ]
     },
     "execution_count": 79,
     "metadata": {},
     "output_type": "execute_result"
    },
    {
     "data": {
      "image/png": "[encoded data removed]",
      "text/plain": [
       "<Figure size 600x300 with 1 Axes>"
      ]
     },
     "metadata": {},
     "output_type": "display_data"
    }
   ],
   "source": [
    "plt.figure(figsize=(6, 3))\n",
    "\n",
    "# Loss plot\n",
    "plt.plot(train_model.history['loss'], label='Training Loss')\n",
    "plt.plot(train_model.history['val_loss'], label='Validation Loss')\n",
    "plt.xlabel('Epochs')\n",
    "plt.ylabel('Loss')\n",
    "plt.legend()\n",
    "plt.show"
   ]
  },
  {
   "cell_type": "code",
   "execution_count": 80,
   "id": "01a67df7",
   "metadata": {},
   "outputs": [
    {
     "data": {
      "text/plain": [
       "<matplotlib.legend.Legend at 0x27519b68890>"
      ]
     },
     "execution_count": 80,
     "metadata": {},
     "output_type": "execute_result"
    },
    {
     "data": {
      "image/png": "[encoded data removed]",
      "text/plain": [
       "<Figure size 600x300 with 1 Axes>"
      ]
     },
     "metadata": {},
     "output_type": "display_data"
    }
   ],
   "source": [
    "plt.figure(figsize=(6, 3))\n",
    "plt.plot(train_model.history['accuracy'], label='Training Accuracy')\n",
    "plt.plot(train_model.history['val_accuracy'], label='Validation Accuracy')\n",
    "plt.title('Training and Validation Accuracy')\n",
    "plt.xlabel('Epochs')\n",
    "plt.ylabel('Accuracy')\n",
    "plt.legend()"
   ]
  },
  {
   "cell_type": "markdown",
   "id": "ac12bf89",
   "metadata": {},
   "source": [
    "## Conclusion\n",
    "    Summarize what the learner should have gained from this lab, including a better understanding of how ANNs work and how they can be applied to real-world classification problems.\n",
    "    "
   ]
  }
 ],
 "metadata": {
  "kernelspec": {
   "display_name": "Python 3 (ipykernel)",
   "language": "python",
   "name": "python3"
  },
  "language_info": {
   "codemirror_mode": {
    "name": "ipython",
    "version": 3
   },
   "file_extension": ".py",
   "mimetype": "text/x-python",
   "name": "python",
   "nbconvert_exporter": "python",
   "pygments_lexer": "ipython3",
   "version": "3.11.5"
  }
 },
 "nbformat": 4,
 "nbformat_minor": 5
}
