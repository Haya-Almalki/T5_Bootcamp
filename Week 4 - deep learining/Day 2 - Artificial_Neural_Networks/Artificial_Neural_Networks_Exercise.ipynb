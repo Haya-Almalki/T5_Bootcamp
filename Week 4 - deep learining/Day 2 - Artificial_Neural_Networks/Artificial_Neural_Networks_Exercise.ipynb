{
 "cells": [
  {
   "cell_type": "markdown",
   "metadata": {},
   "source": [
    "# Artificial Neural Networks for Binary Classification Exercise\n",
    "\n",
    "In this notebook we will build an ANN to predict whether customers will churn (indicated by the column `Churn`).\n",
    "\n",
    "\n",
    "## Dataset\n",
    "- **Source**: [Kaggle](https://www.kaggle.com/datasets/ahmedgaitani/customer-churn-prediction-dataset/data).\n",
    "- **Variables of Interest**:\n",
    "  - `Churn`\n",
    "- As for the data card you should be able by now to figure the data out by your self :)\n",
    "\n",
    "## Preprocessing Steps\n",
    "\n",
    "1. **Dropping irrelevant columns**\n",
    "2. **Encoding categorical variables**\n",
    "3. **Data Splitting**\n",
    "\n",
    "## Model Architecture\n",
    "\n",
    "- **Input Layer**: Please specify here (the trainee should this this)\n",
    "- **Hidden Layers**: Please specify here (the trainee should fill this)\n",
    "- **Output Layer**: Please specify here (the trainee should fill this)\n",
    "\n",
    "## Training\n",
    "\n",
    "- **Optimizer**: Please specify here (the trainee should fill this)\n",
    "- **Loss Function**: Please specify here (the trainee should fill this)\n",
    "- **Metrics**: Please specify here (the trainee should fill this)\n",
    "- **Epochs**: Please specify here (the trainee should fill this)\n",
    "- **Batch Size**: Please specify here (the trainee should fill this)\n",
    "- **Validation Split**: Please specify here (the trainee should fill this)\n",
    "\n",
    "## Evaluation\n",
    "- Please specify here (the trainee should fill this)\n",
    "\n",
    "If you need to change the steps or add more please do so and explain why!"
   ]
  },
  {
   "cell_type": "markdown",
   "metadata": {},
   "source": [
    "# Import libraries"
   ]
  },
  {
   "cell_type": "code",
   "execution_count": 1,
   "metadata": {},
   "outputs": [],
   "source": [
    "import pandas as pd\n",
    "import numpy as np\n",
    "from sklearn.model_selection import train_test_split\n",
    "from tensorflow.keras.models import Sequential\n",
    "from tensorflow.keras.layers import Dense\n",
    "from tensorflow.keras.optimizers import Adam\n",
    "from sklearn.preprocessing import OneHotEncoder, LabelEncoder\n",
    "import matplotlib.pyplot as plt\n",
    "import seaborn as sns\n",
    "from sklearn.metrics import accuracy_score, precision_score, recall_score, f1_score, confusion_matrix"
   ]
  },
  {
   "cell_type": "markdown",
   "metadata": {},
   "source": [
    "# Load Data and EDA"
   ]
  },
  {
   "cell_type": "code",
   "execution_count": 11,
   "metadata": {},
   "outputs": [
    {
     "data": {
      "text/html": [
       "<div>\n",
       "<style scoped>\n",
       "    .dataframe tbody tr th:only-of-type {\n",
       "        vertical-align: middle;\n",
       "    }\n",
       "\n",
       "    .dataframe tbody tr th {\n",
       "        vertical-align: top;\n",
       "    }\n",
       "\n",
       "    .dataframe thead th {\n",
       "        text-align: right;\n",
       "    }\n",
       "</style>\n",
       "<table border=\"1\" class=\"dataframe\">\n",
       "  <thead>\n",
       "    <tr style=\"text-align: right;\">\n",
       "      <th></th>\n",
       "      <th>customerID</th>\n",
       "      <th>gender</th>\n",
       "      <th>SeniorCitizen</th>\n",
       "      <th>Partner</th>\n",
       "      <th>Dependents</th>\n",
       "      <th>tenure</th>\n",
       "      <th>PhoneService</th>\n",
       "      <th>MultipleLines</th>\n",
       "      <th>InternetService</th>\n",
       "      <th>OnlineSecurity</th>\n",
       "      <th>...</th>\n",
       "      <th>DeviceProtection</th>\n",
       "      <th>TechSupport</th>\n",
       "      <th>StreamingTV</th>\n",
       "      <th>StreamingMovies</th>\n",
       "      <th>Contract</th>\n",
       "      <th>PaperlessBilling</th>\n",
       "      <th>PaymentMethod</th>\n",
       "      <th>MonthlyCharges</th>\n",
       "      <th>TotalCharges</th>\n",
       "      <th>Churn</th>\n",
       "    </tr>\n",
       "  </thead>\n",
       "  <tbody>\n",
       "    <tr>\n",
       "      <th>0</th>\n",
       "      <td>0001-XXXX</td>\n",
       "      <td>Male</td>\n",
       "      <td>0</td>\n",
       "      <td>Yes</td>\n",
       "      <td>Yes</td>\n",
       "      <td>5</td>\n",
       "      <td>No</td>\n",
       "      <td>Yes</td>\n",
       "      <td>No</td>\n",
       "      <td>No</td>\n",
       "      <td>...</td>\n",
       "      <td>No</td>\n",
       "      <td>No</td>\n",
       "      <td>No</td>\n",
       "      <td>No internet service</td>\n",
       "      <td>Month-to-month</td>\n",
       "      <td>Yes</td>\n",
       "      <td>Credit card</td>\n",
       "      <td>27.43</td>\n",
       "      <td>137.15</td>\n",
       "      <td>Yes</td>\n",
       "    </tr>\n",
       "    <tr>\n",
       "      <th>1</th>\n",
       "      <td>0002-XXXX</td>\n",
       "      <td>Female</td>\n",
       "      <td>0</td>\n",
       "      <td>No</td>\n",
       "      <td>No</td>\n",
       "      <td>42</td>\n",
       "      <td>Yes</td>\n",
       "      <td>No phone service</td>\n",
       "      <td>DSL</td>\n",
       "      <td>Yes</td>\n",
       "      <td>...</td>\n",
       "      <td>No</td>\n",
       "      <td>No</td>\n",
       "      <td>No internet service</td>\n",
       "      <td>No internet service</td>\n",
       "      <td>Two year</td>\n",
       "      <td>No</td>\n",
       "      <td>Electronic check</td>\n",
       "      <td>38.28</td>\n",
       "      <td>1607.76</td>\n",
       "      <td>Yes</td>\n",
       "    </tr>\n",
       "    <tr>\n",
       "      <th>2</th>\n",
       "      <td>0003-XXXX</td>\n",
       "      <td>Male</td>\n",
       "      <td>0</td>\n",
       "      <td>No</td>\n",
       "      <td>No</td>\n",
       "      <td>61</td>\n",
       "      <td>Yes</td>\n",
       "      <td>No phone service</td>\n",
       "      <td>No</td>\n",
       "      <td>No</td>\n",
       "      <td>...</td>\n",
       "      <td>No</td>\n",
       "      <td>Yes</td>\n",
       "      <td>Yes</td>\n",
       "      <td>No</td>\n",
       "      <td>One year</td>\n",
       "      <td>No</td>\n",
       "      <td>Bank transfer</td>\n",
       "      <td>106.44</td>\n",
       "      <td>6492.84</td>\n",
       "      <td>Yes</td>\n",
       "    </tr>\n",
       "    <tr>\n",
       "      <th>3</th>\n",
       "      <td>0004-XXXX</td>\n",
       "      <td>Male</td>\n",
       "      <td>1</td>\n",
       "      <td>No</td>\n",
       "      <td>Yes</td>\n",
       "      <td>22</td>\n",
       "      <td>Yes</td>\n",
       "      <td>No</td>\n",
       "      <td>No</td>\n",
       "      <td>No internet service</td>\n",
       "      <td>...</td>\n",
       "      <td>Yes</td>\n",
       "      <td>No</td>\n",
       "      <td>No internet service</td>\n",
       "      <td>Yes</td>\n",
       "      <td>Month-to-month</td>\n",
       "      <td>No</td>\n",
       "      <td>Electronic check</td>\n",
       "      <td>92.49</td>\n",
       "      <td>2034.78</td>\n",
       "      <td>No</td>\n",
       "    </tr>\n",
       "    <tr>\n",
       "      <th>4</th>\n",
       "      <td>0005-XXXX</td>\n",
       "      <td>Male</td>\n",
       "      <td>1</td>\n",
       "      <td>Yes</td>\n",
       "      <td>Yes</td>\n",
       "      <td>21</td>\n",
       "      <td>No</td>\n",
       "      <td>No</td>\n",
       "      <td>DSL</td>\n",
       "      <td>No</td>\n",
       "      <td>...</td>\n",
       "      <td>No internet service</td>\n",
       "      <td>No</td>\n",
       "      <td>No</td>\n",
       "      <td>No internet service</td>\n",
       "      <td>One year</td>\n",
       "      <td>No</td>\n",
       "      <td>Bank transfer</td>\n",
       "      <td>19.63</td>\n",
       "      <td>412.23</td>\n",
       "      <td>Yes</td>\n",
       "    </tr>\n",
       "  </tbody>\n",
       "</table>\n",
       "<p>5 rows × 21 columns</p>\n",
       "</div>"
      ],
      "text/plain": [
       "  customerID  gender  SeniorCitizen Partner Dependents  tenure PhoneService  \\\n",
       "0  0001-XXXX    Male              0     Yes        Yes       5           No   \n",
       "1  0002-XXXX  Female              0      No         No      42          Yes   \n",
       "2  0003-XXXX    Male              0      No         No      61          Yes   \n",
       "3  0004-XXXX    Male              1      No        Yes      22          Yes   \n",
       "4  0005-XXXX    Male              1     Yes        Yes      21           No   \n",
       "\n",
       "      MultipleLines InternetService       OnlineSecurity  ...  \\\n",
       "0               Yes              No                   No  ...   \n",
       "1  No phone service             DSL                  Yes  ...   \n",
       "2  No phone service              No                   No  ...   \n",
       "3                No              No  No internet service  ...   \n",
       "4                No             DSL                   No  ...   \n",
       "\n",
       "      DeviceProtection TechSupport          StreamingTV      StreamingMovies  \\\n",
       "0                   No          No                   No  No internet service   \n",
       "1                   No          No  No internet service  No internet service   \n",
       "2                   No         Yes                  Yes                   No   \n",
       "3                  Yes          No  No internet service                  Yes   \n",
       "4  No internet service          No                   No  No internet service   \n",
       "\n",
       "         Contract PaperlessBilling     PaymentMethod MonthlyCharges  \\\n",
       "0  Month-to-month              Yes       Credit card          27.43   \n",
       "1        Two year               No  Electronic check          38.28   \n",
       "2        One year               No     Bank transfer         106.44   \n",
       "3  Month-to-month               No  Electronic check          92.49   \n",
       "4        One year               No     Bank transfer          19.63   \n",
       "\n",
       "   TotalCharges  Churn  \n",
       "0        137.15    Yes  \n",
       "1       1607.76    Yes  \n",
       "2       6492.84    Yes  \n",
       "3       2034.78     No  \n",
       "4        412.23    Yes  \n",
       "\n",
       "[5 rows x 21 columns]"
      ]
     },
     "execution_count": 11,
     "metadata": {},
     "output_type": "execute_result"
    }
   ],
   "source": [
    "df=pd.read_csv(\"Churn_Modelling_Exercise.csv\")\n",
    "df.head()"
   ]
  },
  {
   "cell_type": "code",
   "execution_count": 3,
   "metadata": {},
   "outputs": [
    {
     "name": "stdout",
     "output_type": "stream",
     "text": [
      "<class 'pandas.core.frame.DataFrame'>\n",
      "RangeIndex: 300 entries, 0 to 299\n",
      "Data columns (total 21 columns):\n",
      " #   Column            Non-Null Count  Dtype  \n",
      "---  ------            --------------  -----  \n",
      " 0   customerID        300 non-null    object \n",
      " 1   gender            300 non-null    object \n",
      " 2   SeniorCitizen     300 non-null    int64  \n",
      " 3   Partner           300 non-null    object \n",
      " 4   Dependents        300 non-null    object \n",
      " 5   tenure            300 non-null    int64  \n",
      " 6   PhoneService      300 non-null    object \n",
      " 7   MultipleLines     300 non-null    object \n",
      " 8   InternetService   300 non-null    object \n",
      " 9   OnlineSecurity    300 non-null    object \n",
      " 10  OnlineBackup      300 non-null    object \n",
      " 11  DeviceProtection  300 non-null    object \n",
      " 12  TechSupport       300 non-null    object \n",
      " 13  StreamingTV       300 non-null    object \n",
      " 14  StreamingMovies   300 non-null    object \n",
      " 15  Contract          300 non-null    object \n",
      " 16  PaperlessBilling  300 non-null    object \n",
      " 17  PaymentMethod     300 non-null    object \n",
      " 18  MonthlyCharges    300 non-null    float64\n",
      " 19  TotalCharges      300 non-null    float64\n",
      " 20  Churn             300 non-null    object \n",
      "dtypes: float64(2), int64(2), object(17)\n",
      "memory usage: 49.3+ KB\n"
     ]
    }
   ],
   "source": [
    "df.info()"
   ]
  },
  {
   "cell_type": "code",
   "execution_count": 4,
   "metadata": {},
   "outputs": [
    {
     "data": {
      "text/html": [
       "<div>\n",
       "<style scoped>\n",
       "    .dataframe tbody tr th:only-of-type {\n",
       "        vertical-align: middle;\n",
       "    }\n",
       "\n",
       "    .dataframe tbody tr th {\n",
       "        vertical-align: top;\n",
       "    }\n",
       "\n",
       "    .dataframe thead th {\n",
       "        text-align: right;\n",
       "    }\n",
       "</style>\n",
       "<table border=\"1\" class=\"dataframe\">\n",
       "  <thead>\n",
       "    <tr style=\"text-align: right;\">\n",
       "      <th></th>\n",
       "      <th>SeniorCitizen</th>\n",
       "      <th>tenure</th>\n",
       "      <th>MonthlyCharges</th>\n",
       "      <th>TotalCharges</th>\n",
       "    </tr>\n",
       "  </thead>\n",
       "  <tbody>\n",
       "    <tr>\n",
       "      <th>count</th>\n",
       "      <td>300.000000</td>\n",
       "      <td>300.000000</td>\n",
       "      <td>300.000000</td>\n",
       "      <td>300.000000</td>\n",
       "    </tr>\n",
       "    <tr>\n",
       "      <th>mean</th>\n",
       "      <td>0.543333</td>\n",
       "      <td>35.783333</td>\n",
       "      <td>67.226800</td>\n",
       "      <td>2477.975767</td>\n",
       "    </tr>\n",
       "    <tr>\n",
       "      <th>std</th>\n",
       "      <td>0.498951</td>\n",
       "      <td>21.113400</td>\n",
       "      <td>28.638073</td>\n",
       "      <td>1918.540111</td>\n",
       "    </tr>\n",
       "    <tr>\n",
       "      <th>min</th>\n",
       "      <td>0.000000</td>\n",
       "      <td>1.000000</td>\n",
       "      <td>18.450000</td>\n",
       "      <td>30.030000</td>\n",
       "    </tr>\n",
       "    <tr>\n",
       "      <th>25%</th>\n",
       "      <td>0.000000</td>\n",
       "      <td>17.000000</td>\n",
       "      <td>42.337500</td>\n",
       "      <td>910.302500</td>\n",
       "    </tr>\n",
       "    <tr>\n",
       "      <th>50%</th>\n",
       "      <td>1.000000</td>\n",
       "      <td>36.000000</td>\n",
       "      <td>68.635000</td>\n",
       "      <td>2072.400000</td>\n",
       "    </tr>\n",
       "    <tr>\n",
       "      <th>75%</th>\n",
       "      <td>1.000000</td>\n",
       "      <td>53.250000</td>\n",
       "      <td>92.430000</td>\n",
       "      <td>3618.405000</td>\n",
       "    </tr>\n",
       "    <tr>\n",
       "      <th>max</th>\n",
       "      <td>1.000000</td>\n",
       "      <td>72.000000</td>\n",
       "      <td>118.640000</td>\n",
       "      <td>8318.880000</td>\n",
       "    </tr>\n",
       "  </tbody>\n",
       "</table>\n",
       "</div>"
      ],
      "text/plain": [
       "       SeniorCitizen      tenure  MonthlyCharges  TotalCharges\n",
       "count     300.000000  300.000000      300.000000    300.000000\n",
       "mean        0.543333   35.783333       67.226800   2477.975767\n",
       "std         0.498951   21.113400       28.638073   1918.540111\n",
       "min         0.000000    1.000000       18.450000     30.030000\n",
       "25%         0.000000   17.000000       42.337500    910.302500\n",
       "50%         1.000000   36.000000       68.635000   2072.400000\n",
       "75%         1.000000   53.250000       92.430000   3618.405000\n",
       "max         1.000000   72.000000      118.640000   8318.880000"
      ]
     },
     "execution_count": 4,
     "metadata": {},
     "output_type": "execute_result"
    }
   ],
   "source": [
    "df.describe()"
   ]
  },
  {
   "cell_type": "code",
   "execution_count": 5,
   "metadata": {},
   "outputs": [
    {
     "data": {
      "text/plain": [
       "customerID          0\n",
       "gender              0\n",
       "SeniorCitizen       0\n",
       "Partner             0\n",
       "Dependents          0\n",
       "tenure              0\n",
       "PhoneService        0\n",
       "MultipleLines       0\n",
       "InternetService     0\n",
       "OnlineSecurity      0\n",
       "OnlineBackup        0\n",
       "DeviceProtection    0\n",
       "TechSupport         0\n",
       "StreamingTV         0\n",
       "StreamingMovies     0\n",
       "Contract            0\n",
       "PaperlessBilling    0\n",
       "PaymentMethod       0\n",
       "MonthlyCharges      0\n",
       "TotalCharges        0\n",
       "Churn               0\n",
       "dtype: int64"
      ]
     },
     "execution_count": 5,
     "metadata": {},
     "output_type": "execute_result"
    }
   ],
   "source": [
    "df.isna().sum()"
   ]
  },
  {
   "cell_type": "code",
   "execution_count": 7,
   "metadata": {},
   "outputs": [
    {
     "data": {
      "text/plain": [
       "0"
      ]
     },
     "execution_count": 7,
     "metadata": {},
     "output_type": "execute_result"
    }
   ],
   "source": [
    "df.duplicated().sum()"
   ]
  },
  {
   "cell_type": "markdown",
   "metadata": {},
   "source": [
    "## Preprocessing"
   ]
  },
  {
   "cell_type": "markdown",
   "metadata": {},
   "source": [
    "### Drop unnecessary columns"
   ]
  },
  {
   "cell_type": "code",
   "execution_count": 12,
   "metadata": {},
   "outputs": [],
   "source": [
    "df.drop(['customerID','Partner','Dependents', 'MultipleLines','TechSupport','StreamingTV','StreamingMovies'], axis=1, inplace=True)"
   ]
  },
  {
   "cell_type": "code",
   "execution_count": 13,
   "metadata": {},
   "outputs": [
    {
     "name": "stdout",
     "output_type": "stream",
     "text": [
      "<class 'pandas.core.frame.DataFrame'>\n",
      "RangeIndex: 300 entries, 0 to 299\n",
      "Data columns (total 14 columns):\n",
      " #   Column            Non-Null Count  Dtype  \n",
      "---  ------            --------------  -----  \n",
      " 0   gender            300 non-null    object \n",
      " 1   SeniorCitizen     300 non-null    int64  \n",
      " 2   tenure            300 non-null    int64  \n",
      " 3   PhoneService      300 non-null    object \n",
      " 4   InternetService   300 non-null    object \n",
      " 5   OnlineSecurity    300 non-null    object \n",
      " 6   OnlineBackup      300 non-null    object \n",
      " 7   DeviceProtection  300 non-null    object \n",
      " 8   Contract          300 non-null    object \n",
      " 9   PaperlessBilling  300 non-null    object \n",
      " 10  PaymentMethod     300 non-null    object \n",
      " 11  MonthlyCharges    300 non-null    float64\n",
      " 12  TotalCharges      300 non-null    float64\n",
      " 13  Churn             300 non-null    object \n",
      "dtypes: float64(2), int64(2), object(10)\n",
      "memory usage: 32.9+ KB\n"
     ]
    }
   ],
   "source": [
    "df.info()"
   ]
  },
  {
   "cell_type": "code",
   "execution_count": 15,
   "metadata": {},
   "outputs": [
    {
     "data": {
      "text/html": [
       "<div>\n",
       "<style scoped>\n",
       "    .dataframe tbody tr th:only-of-type {\n",
       "        vertical-align: middle;\n",
       "    }\n",
       "\n",
       "    .dataframe tbody tr th {\n",
       "        vertical-align: top;\n",
       "    }\n",
       "\n",
       "    .dataframe thead th {\n",
       "        text-align: right;\n",
       "    }\n",
       "</style>\n",
       "<table border=\"1\" class=\"dataframe\">\n",
       "  <thead>\n",
       "    <tr style=\"text-align: right;\">\n",
       "      <th></th>\n",
       "      <th>count</th>\n",
       "      <th>unique</th>\n",
       "      <th>top</th>\n",
       "      <th>freq</th>\n",
       "    </tr>\n",
       "  </thead>\n",
       "  <tbody>\n",
       "    <tr>\n",
       "      <th>gender</th>\n",
       "      <td>300</td>\n",
       "      <td>2</td>\n",
       "      <td>Male</td>\n",
       "      <td>151</td>\n",
       "    </tr>\n",
       "    <tr>\n",
       "      <th>PhoneService</th>\n",
       "      <td>300</td>\n",
       "      <td>2</td>\n",
       "      <td>Yes</td>\n",
       "      <td>156</td>\n",
       "    </tr>\n",
       "    <tr>\n",
       "      <th>InternetService</th>\n",
       "      <td>300</td>\n",
       "      <td>3</td>\n",
       "      <td>Fiber optic</td>\n",
       "      <td>105</td>\n",
       "    </tr>\n",
       "    <tr>\n",
       "      <th>OnlineSecurity</th>\n",
       "      <td>300</td>\n",
       "      <td>3</td>\n",
       "      <td>No</td>\n",
       "      <td>107</td>\n",
       "    </tr>\n",
       "    <tr>\n",
       "      <th>OnlineBackup</th>\n",
       "      <td>300</td>\n",
       "      <td>3</td>\n",
       "      <td>No</td>\n",
       "      <td>109</td>\n",
       "    </tr>\n",
       "    <tr>\n",
       "      <th>DeviceProtection</th>\n",
       "      <td>300</td>\n",
       "      <td>3</td>\n",
       "      <td>Yes</td>\n",
       "      <td>110</td>\n",
       "    </tr>\n",
       "    <tr>\n",
       "      <th>Contract</th>\n",
       "      <td>300</td>\n",
       "      <td>3</td>\n",
       "      <td>Month-to-month</td>\n",
       "      <td>111</td>\n",
       "    </tr>\n",
       "    <tr>\n",
       "      <th>PaperlessBilling</th>\n",
       "      <td>300</td>\n",
       "      <td>2</td>\n",
       "      <td>Yes</td>\n",
       "      <td>164</td>\n",
       "    </tr>\n",
       "    <tr>\n",
       "      <th>PaymentMethod</th>\n",
       "      <td>300</td>\n",
       "      <td>4</td>\n",
       "      <td>Electronic check</td>\n",
       "      <td>77</td>\n",
       "    </tr>\n",
       "    <tr>\n",
       "      <th>Churn</th>\n",
       "      <td>300</td>\n",
       "      <td>2</td>\n",
       "      <td>No</td>\n",
       "      <td>161</td>\n",
       "    </tr>\n",
       "  </tbody>\n",
       "</table>\n",
       "</div>"
      ],
      "text/plain": [
       "                 count unique               top freq\n",
       "gender             300      2              Male  151\n",
       "PhoneService       300      2               Yes  156\n",
       "InternetService    300      3       Fiber optic  105\n",
       "OnlineSecurity     300      3                No  107\n",
       "OnlineBackup       300      3                No  109\n",
       "DeviceProtection   300      3               Yes  110\n",
       "Contract           300      3    Month-to-month  111\n",
       "PaperlessBilling   300      2               Yes  164\n",
       "PaymentMethod      300      4  Electronic check   77\n",
       "Churn              300      2                No  161"
      ]
     },
     "execution_count": 15,
     "metadata": {},
     "output_type": "execute_result"
    }
   ],
   "source": [
    "cat_col = df.select_dtypes(exclude='number')\n",
    "cat_col.describe().T"
   ]
  },
  {
   "cell_type": "markdown",
   "metadata": {},
   "source": [
    "### One-hot-encoder and Label-encoder"
   ]
  },
  {
   "cell_type": "code",
   "execution_count": 16,
   "metadata": {},
   "outputs": [],
   "source": [
    "encoding_columns = ['PhoneService','InternetService','PaperlessBilling','Contract']\n",
    "\n",
    "# Initialize OneHotEncoder\n",
    "oneHot_encoder = OneHotEncoder(sparse_output=False)\n",
    "\n",
    "# Apply one-hot encoding to the categorical columns\n",
    "one_hot_encoded = oneHot_encoder.fit_transform(df[encoding_columns])\n",
    "\n",
    "# Create a DataFrame with the one-hot encoded columns\n",
    "# We use get_feature_names_out() to get the column names for the encoded data\n",
    "one_hot_df = pd.DataFrame(one_hot_encoded, columns=oneHot_encoder.get_feature_names_out(encoding_columns))\n",
    "\n",
    "# Concatenate the one-hot encoded dataframe with the original dataframe\n",
    "df_encoded = pd.concat([df, one_hot_df], axis=1)\n",
    "\n",
    "# Drop the original categorical columns\n",
    "df_encoded = df_encoded.drop(encoding_columns, axis=1)\n",
    "\n",
    "df = df_encoded"
   ]
  },
  {
   "cell_type": "code",
   "execution_count": 17,
   "metadata": {},
   "outputs": [],
   "source": [
    "# Initialize the LabelEncoder\n",
    "label_encoder = LabelEncoder()\n",
    "\n",
    "# Encode labels in column 'Gender'. \n",
    "df['gender']= label_encoder.fit_transform(df['gender']) \n",
    "df['OnlineSecurity']= label_encoder.fit_transform(df['OnlineSecurity']) \n",
    "df['OnlineBackup']= label_encoder.fit_transform(df['OnlineBackup']) \n",
    "df['DeviceProtection']= label_encoder.fit_transform(df['DeviceProtection']) \n",
    "df['PaymentMethod']= label_encoder.fit_transform(df['PaymentMethod']) \n",
    "df['Churn']= label_encoder.fit_transform(df['Churn']) "
   ]
  },
  {
   "cell_type": "markdown",
   "metadata": {},
   "source": [
    "## Selecting Features && Train Test Split"
   ]
  },
  {
   "cell_type": "markdown",
   "metadata": {},
   "source": [
    "### Selecting Features"
   ]
  },
  {
   "cell_type": "code",
   "execution_count": 19,
   "metadata": {},
   "outputs": [],
   "source": [
    "# Selecting the features and the target\n",
    "X = df.drop('Churn', axis=1)\n",
    "y = df['Churn']"
   ]
  },
  {
   "cell_type": "markdown",
   "metadata": {},
   "source": [
    "### Train Test Split"
   ]
  },
  {
   "cell_type": "code",
   "execution_count": 20,
   "metadata": {},
   "outputs": [],
   "source": [
    "# Splitting the dataset into the Training set and Test set, random_state=42 for reproducibility, test_size=0.2 means 20% of the dataset will be used for testing\n",
    "X_train, X_test, y_train, y_test = train_test_split(X, y, test_size=0.2, random_state=42)"
   ]
  },
  {
   "cell_type": "markdown",
   "metadata": {},
   "source": [
    "## Modeling"
   ]
  },
  {
   "cell_type": "markdown",
   "metadata": {},
   "source": [
    "### Creating the sequential model"
   ]
  },
  {
   "cell_type": "code",
   "execution_count": 21,
   "metadata": {},
   "outputs": [],
   "source": [
    "# Define the model\n",
    "model = Sequential()"
   ]
  },
  {
   "cell_type": "markdown",
   "metadata": {},
   "source": [
    "### Adding the input layer"
   ]
  },
  {
   "cell_type": "code",
   "execution_count": 22,
   "metadata": {},
   "outputs": [],
   "source": [
    "# Adding the input layer, with 6 neurons, and the ReLU activation function\n",
    "# The input_dim parameter should be equal to the number of features in the dataset\n",
    "model.add(Dense(units=6, input_dim=X_train.shape[1], kernel_initializer='uniform',activation='relu'))"
   ]
  },
  {
   "cell_type": "markdown",
   "metadata": {},
   "source": [
    "### Adding the hidden layers"
   ]
  },
  {
   "cell_type": "code",
   "execution_count": 23,
   "metadata": {},
   "outputs": [],
   "source": [
    "# Adding the hidden layer, with 6 neurons, and the ReLU activation function\n",
    "# Dense: This is the layer type. Dense is a standard layer type that works for most cases.\n",
    "# Uits: number of neurons in the layer\n",
    "# Activation: Activation function to use\n",
    "model.add(Dense(units=6, activation='relu'))\n",
    "model.add(Dense(units=6, activation='relu'))"
   ]
  },
  {
   "cell_type": "markdown",
   "metadata": {},
   "source": [
    "### Adding the output layer"
   ]
  },
  {
   "cell_type": "code",
   "execution_count": 24,
   "metadata": {},
   "outputs": [],
   "source": [
    "# Adding the output layer\n",
    "# Units: number of neurons in the layer, in this case 1 as we are predicting a single output (true or false)\n",
    "# Activation: Activation function to use\n",
    "# Sigmoid is used for binary classification problems. It squashes the output between 0 and 1, which makes it easy to interpret.\n",
    "model.add(Dense(units=1, activation='sigmoid'))"
   ]
  },
  {
   "cell_type": "markdown",
   "metadata": {},
   "source": [
    "### Compiling the model"
   ]
  },
  {
   "cell_type": "code",
   "execution_count": 25,
   "metadata": {},
   "outputs": [],
   "source": [
    "# Compiling the ANN\n",
    "# Optimier: Adam, because it's a good default choice\n",
    "# Loss function: binary_crossentropy, because it's a binary classification problem\n",
    "# Metrics: accuracy, because it's a classification problem\n",
    "model.compile(optimizer='adam', loss='binary_crossentropy', metrics=['accuracy'])"
   ]
  },
  {
   "cell_type": "markdown",
   "metadata": {},
   "source": [
    "### Display model summary"
   ]
  },
  {
   "cell_type": "code",
   "execution_count": 26,
   "metadata": {},
   "outputs": [
    {
     "name": "stdout",
     "output_type": "stream",
     "text": [
      "Model: \"sequential\"\n",
      "_________________________________________________________________\n",
      " Layer (type)                Output Shape              Param #   \n",
      "=================================================================\n",
      " dense (Dense)               (None, 6)                 120       \n",
      "                                                                 \n",
      " dense_1 (Dense)             (None, 6)                 42        \n",
      "                                                                 \n",
      " dense_2 (Dense)             (None, 6)                 42        \n",
      "                                                                 \n",
      " dense_3 (Dense)             (None, 1)                 7         \n",
      "                                                                 \n",
      "=================================================================\n",
      "Total params: 211 (844.00 Byte)\n",
      "Trainable params: 211 (844.00 Byte)\n",
      "Non-trainable params: 0 (0.00 Byte)\n",
      "_________________________________________________________________\n"
     ]
    }
   ],
   "source": [
    "model.summary()"
   ]
  },
  {
   "cell_type": "markdown",
   "metadata": {},
   "source": [
    "### Fitting the model"
   ]
  },
  {
   "cell_type": "code",
   "execution_count": 27,
   "metadata": {},
   "outputs": [
    {
     "name": "stdout",
     "output_type": "stream",
     "text": [
      "Epoch 1/100\n",
      "20/20 [==============================] - 2s 20ms/step - loss: 6.3713 - accuracy: 0.5573 - val_loss: 2.1643 - val_accuracy: 0.4167\n",
      "Epoch 2/100\n",
      "20/20 [==============================] - 0s 6ms/step - loss: 1.5261 - accuracy: 0.5573 - val_loss: 1.3772 - val_accuracy: 0.4167\n",
      "Epoch 3/100\n",
      "20/20 [==============================] - 0s 5ms/step - loss: 0.8585 - accuracy: 0.5573 - val_loss: 0.7200 - val_accuracy: 0.3958\n",
      "Epoch 4/100\n",
      "20/20 [==============================] - 0s 3ms/step - loss: 0.6838 - accuracy: 0.5990 - val_loss: 0.6999 - val_accuracy: 0.5000\n",
      "Epoch 5/100\n",
      "20/20 [==============================] - 0s 3ms/step - loss: 0.6836 - accuracy: 0.5990 - val_loss: 0.7056 - val_accuracy: 0.4583\n",
      "Epoch 6/100\n",
      "20/20 [==============================] - 0s 3ms/step - loss: 0.6844 - accuracy: 0.5990 - val_loss: 0.7056 - val_accuracy: 0.4583\n",
      "Epoch 7/100\n",
      "20/20 [==============================] - 0s 3ms/step - loss: 0.6861 - accuracy: 0.5781 - val_loss: 0.6978 - val_accuracy: 0.5000\n",
      "Epoch 8/100\n",
      "20/20 [==============================] - 0s 3ms/step - loss: 0.6824 - accuracy: 0.6094 - val_loss: 0.7073 - val_accuracy: 0.4375\n",
      "Epoch 9/100\n",
      "20/20 [==============================] - 0s 3ms/step - loss: 0.6849 - accuracy: 0.6042 - val_loss: 0.7089 - val_accuracy: 0.4167\n",
      "Epoch 10/100\n",
      "20/20 [==============================] - 0s 3ms/step - loss: 0.6827 - accuracy: 0.5885 - val_loss: 0.7058 - val_accuracy: 0.4583\n",
      "Epoch 11/100\n",
      "20/20 [==============================] - 0s 3ms/step - loss: 0.6835 - accuracy: 0.6042 - val_loss: 0.7078 - val_accuracy: 0.4167\n",
      "Epoch 12/100\n",
      "20/20 [==============================] - 0s 3ms/step - loss: 0.6827 - accuracy: 0.6146 - val_loss: 0.7080 - val_accuracy: 0.4167\n",
      "Epoch 13/100\n",
      "20/20 [==============================] - 0s 4ms/step - loss: 0.6838 - accuracy: 0.6146 - val_loss: 0.7033 - val_accuracy: 0.4583\n",
      "Epoch 14/100\n",
      "20/20 [==============================] - 0s 4ms/step - loss: 0.6829 - accuracy: 0.5990 - val_loss: 0.7032 - val_accuracy: 0.4375\n",
      "Epoch 15/100\n",
      "20/20 [==============================] - 0s 3ms/step - loss: 0.6819 - accuracy: 0.6094 - val_loss: 0.7016 - val_accuracy: 0.4583\n",
      "Epoch 16/100\n",
      "20/20 [==============================] - 0s 3ms/step - loss: 0.6830 - accuracy: 0.5885 - val_loss: 0.7140 - val_accuracy: 0.4375\n",
      "Epoch 17/100\n",
      "20/20 [==============================] - 0s 3ms/step - loss: 0.6829 - accuracy: 0.5938 - val_loss: 0.7150 - val_accuracy: 0.4375\n",
      "Epoch 18/100\n",
      "20/20 [==============================] - 0s 3ms/step - loss: 0.6832 - accuracy: 0.5938 - val_loss: 0.7124 - val_accuracy: 0.4375\n",
      "Epoch 19/100\n",
      "20/20 [==============================] - 0s 3ms/step - loss: 0.6814 - accuracy: 0.5938 - val_loss: 0.7156 - val_accuracy: 0.4375\n",
      "Epoch 20/100\n",
      "20/20 [==============================] - 0s 3ms/step - loss: 0.6837 - accuracy: 0.5990 - val_loss: 0.7066 - val_accuracy: 0.4375\n",
      "Epoch 21/100\n",
      "20/20 [==============================] - 0s 3ms/step - loss: 0.6787 - accuracy: 0.6042 - val_loss: 0.7076 - val_accuracy: 0.4375\n",
      "Epoch 22/100\n",
      "20/20 [==============================] - 0s 4ms/step - loss: 0.6882 - accuracy: 0.5990 - val_loss: 0.7110 - val_accuracy: 0.4375\n",
      "Epoch 23/100\n",
      "20/20 [==============================] - 0s 4ms/step - loss: 0.6879 - accuracy: 0.5312 - val_loss: 1.0692 - val_accuracy: 0.4792\n",
      "Epoch 24/100\n",
      "20/20 [==============================] - 0s 3ms/step - loss: 0.8036 - accuracy: 0.5521 - val_loss: 0.8227 - val_accuracy: 0.4375\n",
      "Epoch 25/100\n",
      "20/20 [==============================] - 0s 4ms/step - loss: 0.7054 - accuracy: 0.5938 - val_loss: 0.7018 - val_accuracy: 0.4375\n",
      "Epoch 26/100\n",
      "20/20 [==============================] - 0s 3ms/step - loss: 0.6875 - accuracy: 0.5833 - val_loss: 0.6976 - val_accuracy: 0.4375\n",
      "Epoch 27/100\n",
      "20/20 [==============================] - 0s 4ms/step - loss: 0.6814 - accuracy: 0.5885 - val_loss: 0.7153 - val_accuracy: 0.4167\n",
      "Epoch 28/100\n",
      "20/20 [==============================] - 0s 3ms/step - loss: 0.6913 - accuracy: 0.5990 - val_loss: 0.6944 - val_accuracy: 0.4375\n",
      "Epoch 29/100\n",
      "20/20 [==============================] - 0s 3ms/step - loss: 0.6882 - accuracy: 0.5990 - val_loss: 0.7034 - val_accuracy: 0.4375\n",
      "Epoch 30/100\n",
      "20/20 [==============================] - 0s 4ms/step - loss: 0.7003 - accuracy: 0.4635 - val_loss: 0.6890 - val_accuracy: 0.5833\n",
      "Epoch 31/100\n",
      "20/20 [==============================] - 0s 3ms/step - loss: 0.6965 - accuracy: 0.4531 - val_loss: 0.6897 - val_accuracy: 0.5625\n",
      "Epoch 32/100\n",
      "20/20 [==============================] - 0s 4ms/step - loss: 0.6962 - accuracy: 0.4427 - val_loss: 0.6921 - val_accuracy: 0.5417\n",
      "Epoch 33/100\n",
      "20/20 [==============================] - 0s 3ms/step - loss: 0.6779 - accuracy: 0.5938 - val_loss: 0.7525 - val_accuracy: 0.4583\n",
      "Epoch 34/100\n",
      "20/20 [==============================] - 0s 3ms/step - loss: 0.7132 - accuracy: 0.5938 - val_loss: 0.7136 - val_accuracy: 0.4375\n",
      "Epoch 35/100\n",
      "20/20 [==============================] - 0s 3ms/step - loss: 0.6801 - accuracy: 0.5781 - val_loss: 0.6911 - val_accuracy: 0.5625\n",
      "Epoch 36/100\n",
      "20/20 [==============================] - 0s 3ms/step - loss: 0.6847 - accuracy: 0.5781 - val_loss: 0.7040 - val_accuracy: 0.4375\n",
      "Epoch 37/100\n",
      "20/20 [==============================] - 0s 3ms/step - loss: 0.6829 - accuracy: 0.5781 - val_loss: 0.7019 - val_accuracy: 0.4792\n",
      "Epoch 38/100\n",
      "20/20 [==============================] - 0s 3ms/step - loss: 0.6830 - accuracy: 0.5833 - val_loss: 0.7063 - val_accuracy: 0.4375\n",
      "Epoch 39/100\n",
      "20/20 [==============================] - 0s 3ms/step - loss: 0.6821 - accuracy: 0.5885 - val_loss: 0.7041 - val_accuracy: 0.4375\n",
      "Epoch 40/100\n",
      "20/20 [==============================] - 0s 3ms/step - loss: 0.6836 - accuracy: 0.5729 - val_loss: 0.7060 - val_accuracy: 0.4375\n",
      "Epoch 41/100\n",
      "20/20 [==============================] - 0s 3ms/step - loss: 0.6958 - accuracy: 0.5208 - val_loss: 0.6900 - val_accuracy: 0.5625\n",
      "Epoch 42/100\n",
      "20/20 [==============================] - 0s 3ms/step - loss: 0.6878 - accuracy: 0.5729 - val_loss: 0.7020 - val_accuracy: 0.4375\n",
      "Epoch 43/100\n",
      "20/20 [==============================] - 0s 3ms/step - loss: 0.6808 - accuracy: 0.5938 - val_loss: 0.7101 - val_accuracy: 0.4167\n",
      "Epoch 44/100\n",
      "20/20 [==============================] - 0s 3ms/step - loss: 0.6826 - accuracy: 0.5781 - val_loss: 0.7014 - val_accuracy: 0.4375\n",
      "Epoch 45/100\n",
      "20/20 [==============================] - 0s 3ms/step - loss: 0.6818 - accuracy: 0.5833 - val_loss: 0.6990 - val_accuracy: 0.4375\n",
      "Epoch 46/100\n",
      "20/20 [==============================] - 0s 3ms/step - loss: 0.6858 - accuracy: 0.6042 - val_loss: 0.7047 - val_accuracy: 0.4583\n",
      "Epoch 47/100\n",
      "20/20 [==============================] - 0s 3ms/step - loss: 0.6840 - accuracy: 0.5833 - val_loss: 0.6963 - val_accuracy: 0.4792\n",
      "Epoch 48/100\n",
      "20/20 [==============================] - 0s 3ms/step - loss: 0.6864 - accuracy: 0.5885 - val_loss: 0.6969 - val_accuracy: 0.4375\n",
      "Epoch 49/100\n",
      "20/20 [==============================] - 0s 3ms/step - loss: 0.6862 - accuracy: 0.6094 - val_loss: 0.7050 - val_accuracy: 0.4167\n",
      "Epoch 50/100\n",
      "20/20 [==============================] - 0s 3ms/step - loss: 0.6852 - accuracy: 0.5938 - val_loss: 0.6943 - val_accuracy: 0.5208\n",
      "Epoch 51/100\n",
      "20/20 [==============================] - 0s 3ms/step - loss: 0.6841 - accuracy: 0.6094 - val_loss: 0.7146 - val_accuracy: 0.4375\n",
      "Epoch 52/100\n",
      "20/20 [==============================] - 0s 3ms/step - loss: 0.6820 - accuracy: 0.5885 - val_loss: 0.7119 - val_accuracy: 0.4583\n",
      "Epoch 53/100\n",
      "20/20 [==============================] - 0s 3ms/step - loss: 0.6811 - accuracy: 0.5885 - val_loss: 0.7082 - val_accuracy: 0.4583\n",
      "Epoch 54/100\n",
      "20/20 [==============================] - 0s 3ms/step - loss: 0.6827 - accuracy: 0.6042 - val_loss: 0.7002 - val_accuracy: 0.4167\n",
      "Epoch 55/100\n",
      "20/20 [==============================] - 0s 3ms/step - loss: 0.6841 - accuracy: 0.5885 - val_loss: 0.7116 - val_accuracy: 0.4375\n",
      "Epoch 56/100\n",
      "20/20 [==============================] - 0s 3ms/step - loss: 0.6808 - accuracy: 0.6042 - val_loss: 0.7065 - val_accuracy: 0.4583\n",
      "Epoch 57/100\n",
      "20/20 [==============================] - 0s 3ms/step - loss: 0.6812 - accuracy: 0.6146 - val_loss: 0.7093 - val_accuracy: 0.4583\n",
      "Epoch 58/100\n",
      "20/20 [==============================] - 0s 3ms/step - loss: 0.6815 - accuracy: 0.5938 - val_loss: 0.7062 - val_accuracy: 0.4583\n"
     ]
    },
    {
     "name": "stdout",
     "output_type": "stream",
     "text": [
      "Epoch 59/100\n",
      "20/20 [==============================] - 0s 3ms/step - loss: 0.6822 - accuracy: 0.6042 - val_loss: 0.7019 - val_accuracy: 0.4167\n",
      "Epoch 60/100\n",
      "20/20 [==============================] - 0s 3ms/step - loss: 0.6824 - accuracy: 0.6094 - val_loss: 0.7006 - val_accuracy: 0.4375\n",
      "Epoch 61/100\n",
      "20/20 [==============================] - 0s 3ms/step - loss: 0.6808 - accuracy: 0.6042 - val_loss: 0.7062 - val_accuracy: 0.4583\n",
      "Epoch 62/100\n",
      "20/20 [==============================] - 0s 3ms/step - loss: 0.6866 - accuracy: 0.6094 - val_loss: 0.7123 - val_accuracy: 0.4375\n",
      "Epoch 63/100\n",
      "20/20 [==============================] - 0s 3ms/step - loss: 0.6819 - accuracy: 0.6094 - val_loss: 0.7040 - val_accuracy: 0.4375\n",
      "Epoch 64/100\n",
      "20/20 [==============================] - 0s 3ms/step - loss: 0.6817 - accuracy: 0.6042 - val_loss: 0.7159 - val_accuracy: 0.4375\n",
      "Epoch 65/100\n",
      "20/20 [==============================] - 0s 3ms/step - loss: 0.6805 - accuracy: 0.6042 - val_loss: 0.7038 - val_accuracy: 0.4167\n",
      "Epoch 66/100\n",
      "20/20 [==============================] - 0s 3ms/step - loss: 0.6829 - accuracy: 0.5990 - val_loss: 0.7045 - val_accuracy: 0.4375\n",
      "Epoch 67/100\n",
      "20/20 [==============================] - 0s 3ms/step - loss: 0.6837 - accuracy: 0.5990 - val_loss: 0.7142 - val_accuracy: 0.4375\n",
      "Epoch 68/100\n",
      "20/20 [==============================] - 0s 3ms/step - loss: 0.6818 - accuracy: 0.5938 - val_loss: 0.6969 - val_accuracy: 0.4375\n",
      "Epoch 69/100\n",
      "20/20 [==============================] - 0s 3ms/step - loss: 0.6821 - accuracy: 0.6042 - val_loss: 0.7100 - val_accuracy: 0.4375\n",
      "Epoch 70/100\n",
      "20/20 [==============================] - 0s 4ms/step - loss: 0.6816 - accuracy: 0.6146 - val_loss: 0.7070 - val_accuracy: 0.4583\n",
      "Epoch 71/100\n",
      "20/20 [==============================] - 0s 3ms/step - loss: 0.6815 - accuracy: 0.5938 - val_loss: 0.7094 - val_accuracy: 0.4375\n",
      "Epoch 72/100\n",
      "20/20 [==============================] - 0s 3ms/step - loss: 0.6827 - accuracy: 0.6042 - val_loss: 0.7164 - val_accuracy: 0.4375\n",
      "Epoch 73/100\n",
      "20/20 [==============================] - 0s 3ms/step - loss: 0.6811 - accuracy: 0.5938 - val_loss: 0.7118 - val_accuracy: 0.4375\n",
      "Epoch 74/100\n",
      "20/20 [==============================] - 0s 3ms/step - loss: 0.6830 - accuracy: 0.5990 - val_loss: 0.7120 - val_accuracy: 0.4375\n",
      "Epoch 75/100\n",
      "20/20 [==============================] - 0s 3ms/step - loss: 0.6808 - accuracy: 0.6042 - val_loss: 0.7106 - val_accuracy: 0.4375\n",
      "Epoch 76/100\n",
      "20/20 [==============================] - 0s 3ms/step - loss: 0.6816 - accuracy: 0.6042 - val_loss: 0.7035 - val_accuracy: 0.4583\n",
      "Epoch 77/100\n",
      "20/20 [==============================] - 0s 4ms/step - loss: 0.6848 - accuracy: 0.5938 - val_loss: 0.7135 - val_accuracy: 0.4375\n",
      "Epoch 78/100\n",
      "20/20 [==============================] - 0s 3ms/step - loss: 0.6802 - accuracy: 0.5990 - val_loss: 0.7105 - val_accuracy: 0.4375\n",
      "Epoch 79/100\n",
      "20/20 [==============================] - 0s 4ms/step - loss: 0.6818 - accuracy: 0.5885 - val_loss: 0.7073 - val_accuracy: 0.4375\n",
      "Epoch 80/100\n",
      "20/20 [==============================] - 0s 6ms/step - loss: 0.6816 - accuracy: 0.6042 - val_loss: 0.7086 - val_accuracy: 0.4375\n",
      "Epoch 81/100\n",
      "20/20 [==============================] - 0s 5ms/step - loss: 0.6812 - accuracy: 0.5990 - val_loss: 0.7019 - val_accuracy: 0.4583\n",
      "Epoch 82/100\n",
      "20/20 [==============================] - 0s 4ms/step - loss: 0.6810 - accuracy: 0.6094 - val_loss: 0.7043 - val_accuracy: 0.4375\n",
      "Epoch 83/100\n",
      "20/20 [==============================] - 0s 4ms/step - loss: 0.6800 - accuracy: 0.5938 - val_loss: 0.7064 - val_accuracy: 0.4375\n",
      "Epoch 84/100\n",
      "20/20 [==============================] - 0s 4ms/step - loss: 0.6810 - accuracy: 0.5990 - val_loss: 0.7051 - val_accuracy: 0.4375\n",
      "Epoch 85/100\n",
      "20/20 [==============================] - 0s 3ms/step - loss: 0.6829 - accuracy: 0.6042 - val_loss: 0.7019 - val_accuracy: 0.4583\n",
      "Epoch 86/100\n",
      "20/20 [==============================] - 0s 4ms/step - loss: 0.6805 - accuracy: 0.6042 - val_loss: 0.7058 - val_accuracy: 0.4375\n",
      "Epoch 87/100\n",
      "20/20 [==============================] - 0s 4ms/step - loss: 0.6829 - accuracy: 0.5938 - val_loss: 0.7142 - val_accuracy: 0.4375\n",
      "Epoch 88/100\n",
      "20/20 [==============================] - 0s 4ms/step - loss: 0.6808 - accuracy: 0.5990 - val_loss: 0.7121 - val_accuracy: 0.4375\n",
      "Epoch 89/100\n",
      "20/20 [==============================] - 0s 3ms/step - loss: 0.6814 - accuracy: 0.5990 - val_loss: 0.7083 - val_accuracy: 0.4375\n",
      "Epoch 90/100\n",
      "20/20 [==============================] - 0s 3ms/step - loss: 0.6808 - accuracy: 0.5990 - val_loss: 0.6990 - val_accuracy: 0.4167\n",
      "Epoch 91/100\n",
      "20/20 [==============================] - 0s 3ms/step - loss: 0.6825 - accuracy: 0.6042 - val_loss: 0.7005 - val_accuracy: 0.4167\n",
      "Epoch 92/100\n",
      "20/20 [==============================] - 0s 3ms/step - loss: 0.6811 - accuracy: 0.5885 - val_loss: 0.7163 - val_accuracy: 0.3750\n",
      "Epoch 93/100\n",
      "20/20 [==============================] - 0s 3ms/step - loss: 0.6831 - accuracy: 0.6042 - val_loss: 0.7108 - val_accuracy: 0.4375\n",
      "Epoch 94/100\n",
      "20/20 [==============================] - 0s 3ms/step - loss: 0.6827 - accuracy: 0.5938 - val_loss: 0.7084 - val_accuracy: 0.4375\n",
      "Epoch 95/100\n",
      "20/20 [==============================] - 0s 3ms/step - loss: 0.6815 - accuracy: 0.5938 - val_loss: 0.7062 - val_accuracy: 0.4375\n",
      "Epoch 96/100\n",
      "20/20 [==============================] - 0s 3ms/step - loss: 0.6796 - accuracy: 0.5990 - val_loss: 0.7114 - val_accuracy: 0.4375\n",
      "Epoch 97/100\n",
      "20/20 [==============================] - 0s 3ms/step - loss: 0.6807 - accuracy: 0.5938 - val_loss: 0.7194 - val_accuracy: 0.3750\n",
      "Epoch 98/100\n",
      "20/20 [==============================] - 0s 3ms/step - loss: 0.6831 - accuracy: 0.5885 - val_loss: 0.7061 - val_accuracy: 0.4375\n",
      "Epoch 99/100\n",
      "20/20 [==============================] - 0s 3ms/step - loss: 0.6806 - accuracy: 0.5990 - val_loss: 0.7064 - val_accuracy: 0.4375\n",
      "Epoch 100/100\n",
      "20/20 [==============================] - 0s 3ms/step - loss: 0.6805 - accuracy: 0.6042 - val_loss: 0.7059 - val_accuracy: 0.4375\n"
     ]
    },
    {
     "data": {
      "text/plain": [
       "<keras.src.callbacks.History at 0x1980623bcd0>"
      ]
     },
     "execution_count": 27,
     "metadata": {},
     "output_type": "execute_result"
    }
   ],
   "source": [
    "# batch_size: Number of samples per gradient update\n",
    "# epochs: Number of epochs to train the model. An epoch is an iteration over the entire x and y data provided\n",
    "# validation_split: Fraction of the training data to be used as validation data\n",
    "model.fit(X_train, y_train, batch_size=10, epochs=100, validation_split=0.2)"
   ]
  },
  {
   "cell_type": "markdown",
   "metadata": {},
   "source": [
    "## Evaluating the model"
   ]
  },
  {
   "cell_type": "code",
   "execution_count": 28,
   "metadata": {},
   "outputs": [
    {
     "name": "stdout",
     "output_type": "stream",
     "text": [
      "2/2 [==============================] - 0s 4ms/step - loss: 0.7059 - accuracy: 0.5667\n"
     ]
    },
    {
     "data": {
      "text/plain": [
       "[0.7059335112571716, 0.5666666626930237]"
      ]
     },
     "execution_count": 28,
     "metadata": {},
     "output_type": "execute_result"
    }
   ],
   "source": [
    "# Evaluate the model\n",
    "model.evaluate(X_test, y_test)"
   ]
  },
  {
   "cell_type": "code",
   "execution_count": null,
   "metadata": {},
   "outputs": [],
   "source": []
  }
 ],
 "metadata": {
  "kernelspec": {
   "display_name": "Python 3 (ipykernel)",
   "language": "python",
   "name": "python3"
  },
  "language_info": {
   "codemirror_mode": {
    "name": "ipython",
    "version": 3
   },
   "file_extension": ".py",
   "mimetype": "text/x-python",
   "name": "python",
   "nbconvert_exporter": "python",
   "pygments_lexer": "ipython3",
   "version": "3.11.5"
  }
 },
 "nbformat": 4,
 "nbformat_minor": 2
}
