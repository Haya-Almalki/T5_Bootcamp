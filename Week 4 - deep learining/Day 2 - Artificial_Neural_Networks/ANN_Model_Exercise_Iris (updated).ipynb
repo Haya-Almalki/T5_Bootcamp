{
 "cells": [
  {
   "cell_type": "markdown",
   "id": "cb8aaa37",
   "metadata": {},
   "source": [
    "# Building an ANN with the Iris Dataset\n",
    "    \n",
    "    ## Introduction\n",
    "    Artificial Neural Networks (ANNs) are a cornerstone of modern machine learning. In this lab, you will construct a simple ANN to classify iris plants into one of three species based on the length and width of their sepals and petals. This exercise will help you understand the basics of neural networks, including their architecture, activation functions, and the backpropagation algorithm for training.\n",
    "\n",
    "    ## Dataset Reference\n",
    "    The Iris dataset was introduced by the British statistician and biologist Ronald Fisher in 1936. It is widely used as a beginner's dataset for machine learning classification problems. You can access this dataset via the `sklearn.datasets` module.\n",
    "    "
   ]
  },
  {
   "cell_type": "code",
   "execution_count": 24,
   "id": "2580d34b",
   "metadata": {},
   "outputs": [],
   "source": [
    "import pandas as pd\n",
    "import numpy as np\n",
    "from sklearn.datasets import load_iris\n",
    "from sklearn.model_selection import train_test_split\n",
    "from sklearn.preprocessing import StandardScaler\n",
    "from tensorflow.keras.models import Sequential\n",
    "from tensorflow.keras.layers import Dense, Dropout\n",
    "from tensorflow.keras.optimizers import Adam\n",
    "from sklearn.preprocessing import OneHotEncoder, LabelEncoder\n",
    "from tensorflow.keras.utils import to_categorical\n",
    "import matplotlib.pyplot as plt\n",
    "import seaborn as sns\n",
    "from sklearn.metrics import accuracy_score, precision_score, recall_score, f1_score, confusion_matrix, classification_report"
   ]
  },
  {
   "cell_type": "markdown",
   "id": "9fca486d",
   "metadata": {},
   "source": [
    "## Part 1: Load and Explore the Data\n",
    "    ### Load the Dataset\n",
    "    **Hint**: Use `sklearn.datasets.load_iris()` to load the Iris dataset into your environment.\n",
    "\n",
    "    ### Explore the Data\n",
    "    **Hint**: Use `pandas` to examine the first few rows of the dataset and `matplotlib` or `seaborn` to visualize the feature distributions.\n",
    "    "
   ]
  },
  {
   "cell_type": "code",
   "execution_count": 25,
   "id": "7f8f3413",
   "metadata": {},
   "outputs": [
    {
     "data": {
      "text/html": [
       "<div>\n",
       "<style scoped>\n",
       "    .dataframe tbody tr th:only-of-type {\n",
       "        vertical-align: middle;\n",
       "    }\n",
       "\n",
       "    .dataframe tbody tr th {\n",
       "        vertical-align: top;\n",
       "    }\n",
       "\n",
       "    .dataframe thead th {\n",
       "        text-align: right;\n",
       "    }\n",
       "</style>\n",
       "<table border=\"1\" class=\"dataframe\">\n",
       "  <thead>\n",
       "    <tr style=\"text-align: right;\">\n",
       "      <th></th>\n",
       "      <th>sepal length (cm)</th>\n",
       "      <th>sepal width (cm)</th>\n",
       "      <th>petal length (cm)</th>\n",
       "      <th>petal width (cm)</th>\n",
       "      <th>target</th>\n",
       "    </tr>\n",
       "  </thead>\n",
       "  <tbody>\n",
       "    <tr>\n",
       "      <th>0</th>\n",
       "      <td>5.1</td>\n",
       "      <td>3.5</td>\n",
       "      <td>1.4</td>\n",
       "      <td>0.2</td>\n",
       "      <td>0</td>\n",
       "    </tr>\n",
       "    <tr>\n",
       "      <th>1</th>\n",
       "      <td>4.9</td>\n",
       "      <td>3.0</td>\n",
       "      <td>1.4</td>\n",
       "      <td>0.2</td>\n",
       "      <td>0</td>\n",
       "    </tr>\n",
       "    <tr>\n",
       "      <th>2</th>\n",
       "      <td>4.7</td>\n",
       "      <td>3.2</td>\n",
       "      <td>1.3</td>\n",
       "      <td>0.2</td>\n",
       "      <td>0</td>\n",
       "    </tr>\n",
       "    <tr>\n",
       "      <th>3</th>\n",
       "      <td>4.6</td>\n",
       "      <td>3.1</td>\n",
       "      <td>1.5</td>\n",
       "      <td>0.2</td>\n",
       "      <td>0</td>\n",
       "    </tr>\n",
       "    <tr>\n",
       "      <th>4</th>\n",
       "      <td>5.0</td>\n",
       "      <td>3.6</td>\n",
       "      <td>1.4</td>\n",
       "      <td>0.2</td>\n",
       "      <td>0</td>\n",
       "    </tr>\n",
       "  </tbody>\n",
       "</table>\n",
       "</div>"
      ],
      "text/plain": [
       "   sepal length (cm)  sepal width (cm)  petal length (cm)  petal width (cm)  \\\n",
       "0                5.1               3.5                1.4               0.2   \n",
       "1                4.9               3.0                1.4               0.2   \n",
       "2                4.7               3.2                1.3               0.2   \n",
       "3                4.6               3.1                1.5               0.2   \n",
       "4                5.0               3.6                1.4               0.2   \n",
       "\n",
       "   target  \n",
       "0       0  \n",
       "1       0  \n",
       "2       0  \n",
       "3       0  \n",
       "4       0  "
      ]
     },
     "execution_count": 25,
     "metadata": {},
     "output_type": "execute_result"
    }
   ],
   "source": [
    "iris= load_iris()\n",
    "# Convert the iris dataset to dataframe\n",
    "df = pd.DataFrame(iris.data, columns=iris.feature_names)\n",
    "\n",
    "# adding target variable to the dataframe\n",
    "df['target'] = iris.target\n",
    "\n",
    "#few fist 5 rows\n",
    "df.head()"
   ]
  },
  {
   "cell_type": "code",
   "execution_count": 26,
   "id": "5eb42f28",
   "metadata": {},
   "outputs": [
    {
     "data": {
      "image/png": "[encoded data removed]",
      "text/plain": [
       "<Figure size 1000x600 with 4 Axes>"
      ]
     },
     "metadata": {},
     "output_type": "display_data"
    }
   ],
   "source": [
    "#visualize the feature distributions.\n",
    "feature=df.drop('target', axis=1)\n",
    "feature.hist(bins=30, figsize=(10, 6), layout=(2, 2))\n",
    "plt.subplots_adjust(hspace=0.3, wspace=0.3)\n",
    "plt.show()"
   ]
  },
  {
   "cell_type": "markdown",
   "id": "19dc3fd6",
   "metadata": {},
   "source": [
    "## Part 2: Prepare the Data\n",
    "    ### Split the Data into Training and Test Sets\n",
    "    **Hint**: Use `train_test_split` from `sklearn.model_selection` to divide the data into training and test sets.\n",
    "\n",
    "    ### Scale the Features\n",
    "    **Hint**: Standardize the features using `StandardScaler` from `sklearn.preprocessing`.\n",
    "    "
   ]
  },
  {
   "cell_type": "code",
   "execution_count": 27,
   "id": "cef983c5",
   "metadata": {},
   "outputs": [],
   "source": [
    "X = df.drop('target', axis=1)\n",
    "y = df['target']"
   ]
  },
  {
   "cell_type": "code",
   "execution_count": 28,
   "id": "c1c7e7e2",
   "metadata": {},
   "outputs": [
    {
     "data": {
      "text/html": [
       "<div>\n",
       "<style scoped>\n",
       "    .dataframe tbody tr th:only-of-type {\n",
       "        vertical-align: middle;\n",
       "    }\n",
       "\n",
       "    .dataframe tbody tr th {\n",
       "        vertical-align: top;\n",
       "    }\n",
       "\n",
       "    .dataframe thead th {\n",
       "        text-align: right;\n",
       "    }\n",
       "</style>\n",
       "<table border=\"1\" class=\"dataframe\">\n",
       "  <thead>\n",
       "    <tr style=\"text-align: right;\">\n",
       "      <th></th>\n",
       "      <th>sepal length (cm)</th>\n",
       "      <th>sepal width (cm)</th>\n",
       "      <th>petal length (cm)</th>\n",
       "      <th>petal width (cm)</th>\n",
       "    </tr>\n",
       "  </thead>\n",
       "  <tbody>\n",
       "    <tr>\n",
       "      <th>0</th>\n",
       "      <td>5.1</td>\n",
       "      <td>3.5</td>\n",
       "      <td>1.4</td>\n",
       "      <td>0.2</td>\n",
       "    </tr>\n",
       "    <tr>\n",
       "      <th>1</th>\n",
       "      <td>4.9</td>\n",
       "      <td>3.0</td>\n",
       "      <td>1.4</td>\n",
       "      <td>0.2</td>\n",
       "    </tr>\n",
       "    <tr>\n",
       "      <th>2</th>\n",
       "      <td>4.7</td>\n",
       "      <td>3.2</td>\n",
       "      <td>1.3</td>\n",
       "      <td>0.2</td>\n",
       "    </tr>\n",
       "    <tr>\n",
       "      <th>3</th>\n",
       "      <td>4.6</td>\n",
       "      <td>3.1</td>\n",
       "      <td>1.5</td>\n",
       "      <td>0.2</td>\n",
       "    </tr>\n",
       "    <tr>\n",
       "      <th>4</th>\n",
       "      <td>5.0</td>\n",
       "      <td>3.6</td>\n",
       "      <td>1.4</td>\n",
       "      <td>0.2</td>\n",
       "    </tr>\n",
       "  </tbody>\n",
       "</table>\n",
       "</div>"
      ],
      "text/plain": [
       "   sepal length (cm)  sepal width (cm)  petal length (cm)  petal width (cm)\n",
       "0                5.1               3.5                1.4               0.2\n",
       "1                4.9               3.0                1.4               0.2\n",
       "2                4.7               3.2                1.3               0.2\n",
       "3                4.6               3.1                1.5               0.2\n",
       "4                5.0               3.6                1.4               0.2"
      ]
     },
     "execution_count": 28,
     "metadata": {},
     "output_type": "execute_result"
    }
   ],
   "source": [
    "X.head()"
   ]
  },
  {
   "cell_type": "code",
   "execution_count": 29,
   "id": "0deef713",
   "metadata": {},
   "outputs": [
    {
     "data": {
      "text/plain": [
       "0    0\n",
       "1    0\n",
       "2    0\n",
       "3    0\n",
       "4    0\n",
       "Name: target, dtype: int32"
      ]
     },
     "execution_count": 29,
     "metadata": {},
     "output_type": "execute_result"
    }
   ],
   "source": [
    "y.head()"
   ]
  },
  {
   "cell_type": "code",
   "execution_count": 30,
   "id": "dca749a8",
   "metadata": {},
   "outputs": [],
   "source": [
    "# Split the Data into Training and Test Sets\n",
    "X_train, X_test, y_train, y_test=train_test_split(X,y, test_size=0.2, random_state=42)"
   ]
  },
  {
   "cell_type": "code",
   "execution_count": 31,
   "id": "5672840f",
   "metadata": {},
   "outputs": [
    {
     "data": {
      "text/plain": [
       "(120, 4)"
      ]
     },
     "execution_count": 31,
     "metadata": {},
     "output_type": "execute_result"
    }
   ],
   "source": [
    "X_train.shape"
   ]
  },
  {
   "cell_type": "code",
   "execution_count": 32,
   "id": "f3bfa8cc",
   "metadata": {},
   "outputs": [],
   "source": [
    "# Scale the Features\n",
    "scaler=StandardScaler()\n",
    "X_train= scaler.fit_transform(X_train)\n",
    "X_test= scaler.transform(X_test)"
   ]
  },
  {
   "cell_type": "code",
   "execution_count": 33,
   "id": "fdac14de",
   "metadata": {},
   "outputs": [],
   "source": [
    "y_train_arr = np.array(y_train) # Convert from a Series to array\n",
    "y_train_reshaped = y_train_arr.reshape(-1, 1) # reshape to 2D\n",
    "encoder = OneHotEncoder(sparse_output=False)\n",
    "y_train = encoder.fit_transform(y_train_reshaped)"
   ]
  },
  {
   "cell_type": "code",
   "execution_count": 34,
   "id": "54b4f89a",
   "metadata": {},
   "outputs": [
    {
     "data": {
      "text/plain": [
       "(120, 3)"
      ]
     },
     "execution_count": 34,
     "metadata": {},
     "output_type": "execute_result"
    }
   ],
   "source": [
    "y_train.shape"
   ]
  },
  {
   "cell_type": "markdown",
   "id": "166c4101",
   "metadata": {},
   "source": [
    "## Part 3: Build the ANN Model\n",
    "    ### Define the Model\n",
    "    **Hint**: Use `keras` to define a sequential model. Start with a single hidden layer with a ReLU activation function.\n",
    "\n",
    "    ### Compile the Model\n",
    "    **Hint**: Compile your model specifying an optimizer and loss function appropriate for classification.\n",
    "    "
   ]
  },
  {
   "cell_type": "code",
   "execution_count": 46,
   "id": "ddbede52",
   "metadata": {},
   "outputs": [],
   "source": [
    "# Define the Model\n",
    "model = Sequential()"
   ]
  },
  {
   "cell_type": "code",
   "execution_count": 47,
   "id": "26b4f524",
   "metadata": {},
   "outputs": [],
   "source": [
    "#add hidden layer\n",
    "model.add(Dense(units=6, input_dim=X_train.shape[1], activation='relu'))"
   ]
  },
  {
   "cell_type": "code",
   "execution_count": 48,
   "id": "97925f19",
   "metadata": {},
   "outputs": [],
   "source": [
    "#add output layer\n",
    "model.add(Dense(units=3, activation='softmax')) # using sofrmax because there are more than two classes. "
   ]
  },
  {
   "cell_type": "code",
   "execution_count": 52,
   "id": "0754d979",
   "metadata": {},
   "outputs": [],
   "source": [
    "# compile the model\n",
    "model.compile(optimizer='adam', loss='categorical_crossentropy', metrics=['accuracy'])"
   ]
  },
  {
   "cell_type": "code",
   "execution_count": 53,
   "id": "066898b1",
   "metadata": {},
   "outputs": [
    {
     "name": "stdout",
     "output_type": "stream",
     "text": [
      "Model: \"sequential_1\"\n",
      "_________________________________________________________________\n",
      " Layer (type)                Output Shape              Param #   \n",
      "=================================================================\n",
      " dense_2 (Dense)             (None, 6)                 30        \n",
      "                                                                 \n",
      " dense_3 (Dense)             (None, 3)                 21        \n",
      "                                                                 \n",
      "=================================================================\n",
      "Total params: 51 (204.00 Byte)\n",
      "Trainable params: 51 (204.00 Byte)\n",
      "Non-trainable params: 0 (0.00 Byte)\n",
      "_________________________________________________________________\n"
     ]
    }
   ],
   "source": [
    "model.summary()"
   ]
  },
  {
   "cell_type": "markdown",
   "id": "8dd17d04",
   "metadata": {},
   "source": [
    "## Part 4: Train the Model\n",
    "    ### Train the Model\n",
    "    **Hint**: Fit the model on your training data with a reasonable number of epochs.\n",
    "\n",
    "    ### Evaluate the Model\n",
    "    **Hint**: Use the test data to evaluate your model and report the accuracy.\n",
    "    "
   ]
  },
  {
   "cell_type": "code",
   "execution_count": 54,
   "id": "b7fbd8e1",
   "metadata": {},
   "outputs": [
    {
     "name": "stdout",
     "output_type": "stream",
     "text": [
      "Epoch 1/100\n",
      "10/10 [==============================] - 1s 21ms/step - loss: 1.0853 - accuracy: 0.4688 - val_loss: 1.0878 - val_accuracy: 0.3750\n",
      "Epoch 2/100\n",
      "10/10 [==============================] - 0s 4ms/step - loss: 1.0585 - accuracy: 0.5000 - val_loss: 1.0528 - val_accuracy: 0.3750\n",
      "Epoch 3/100\n",
      "10/10 [==============================] - 0s 4ms/step - loss: 1.0339 - accuracy: 0.5104 - val_loss: 1.0213 - val_accuracy: 0.3750\n",
      "Epoch 4/100\n",
      "10/10 [==============================] - 0s 4ms/step - loss: 1.0139 - accuracy: 0.5417 - val_loss: 0.9898 - val_accuracy: 0.4167\n",
      "Epoch 5/100\n",
      "10/10 [==============================] - 0s 4ms/step - loss: 0.9901 - accuracy: 0.5625 - val_loss: 0.9633 - val_accuracy: 0.4583\n",
      "Epoch 6/100\n",
      "10/10 [==============================] - 0s 4ms/step - loss: 0.9699 - accuracy: 0.6146 - val_loss: 0.9402 - val_accuracy: 0.5417\n",
      "Epoch 7/100\n",
      "10/10 [==============================] - 0s 4ms/step - loss: 0.9495 - accuracy: 0.6354 - val_loss: 0.9177 - val_accuracy: 0.6250\n",
      "Epoch 8/100\n",
      "10/10 [==============================] - 0s 4ms/step - loss: 0.9296 - accuracy: 0.6667 - val_loss: 0.8942 - val_accuracy: 0.7083\n",
      "Epoch 9/100\n",
      "10/10 [==============================] - 0s 4ms/step - loss: 0.9091 - accuracy: 0.6771 - val_loss: 0.8726 - val_accuracy: 0.7917\n",
      "Epoch 10/100\n",
      "10/10 [==============================] - 0s 4ms/step - loss: 0.8903 - accuracy: 0.6979 - val_loss: 0.8512 - val_accuracy: 0.7917\n",
      "Epoch 11/100\n",
      "10/10 [==============================] - 0s 4ms/step - loss: 0.8711 - accuracy: 0.7188 - val_loss: 0.8308 - val_accuracy: 0.7917\n",
      "Epoch 12/100\n",
      "10/10 [==============================] - 0s 4ms/step - loss: 0.8506 - accuracy: 0.7604 - val_loss: 0.8144 - val_accuracy: 0.7917\n",
      "Epoch 13/100\n",
      "10/10 [==============================] - 0s 4ms/step - loss: 0.8321 - accuracy: 0.7604 - val_loss: 0.7979 - val_accuracy: 0.7917\n",
      "Epoch 14/100\n",
      "10/10 [==============================] - 0s 4ms/step - loss: 0.8138 - accuracy: 0.7604 - val_loss: 0.7824 - val_accuracy: 0.7917\n",
      "Epoch 15/100\n",
      "10/10 [==============================] - 0s 4ms/step - loss: 0.7951 - accuracy: 0.7500 - val_loss: 0.7657 - val_accuracy: 0.7917\n",
      "Epoch 16/100\n",
      "10/10 [==============================] - 0s 4ms/step - loss: 0.7771 - accuracy: 0.7604 - val_loss: 0.7487 - val_accuracy: 0.7917\n",
      "Epoch 17/100\n",
      "10/10 [==============================] - 0s 4ms/step - loss: 0.7590 - accuracy: 0.7604 - val_loss: 0.7321 - val_accuracy: 0.7917\n",
      "Epoch 18/100\n",
      "10/10 [==============================] - 0s 4ms/step - loss: 0.7410 - accuracy: 0.7604 - val_loss: 0.7170 - val_accuracy: 0.7917\n",
      "Epoch 19/100\n",
      "10/10 [==============================] - 0s 4ms/step - loss: 0.7242 - accuracy: 0.7604 - val_loss: 0.7022 - val_accuracy: 0.7917\n",
      "Epoch 20/100\n",
      "10/10 [==============================] - 0s 4ms/step - loss: 0.7071 - accuracy: 0.7708 - val_loss: 0.6876 - val_accuracy: 0.7917\n",
      "Epoch 21/100\n",
      "10/10 [==============================] - 0s 4ms/step - loss: 0.6914 - accuracy: 0.7708 - val_loss: 0.6746 - val_accuracy: 0.7917\n",
      "Epoch 22/100\n",
      "10/10 [==============================] - 0s 5ms/step - loss: 0.6753 - accuracy: 0.7708 - val_loss: 0.6622 - val_accuracy: 0.7917\n",
      "Epoch 23/100\n",
      "10/10 [==============================] - 0s 4ms/step - loss: 0.6611 - accuracy: 0.7708 - val_loss: 0.6492 - val_accuracy: 0.7917\n",
      "Epoch 24/100\n",
      "10/10 [==============================] - 0s 4ms/step - loss: 0.6458 - accuracy: 0.7708 - val_loss: 0.6368 - val_accuracy: 0.7917\n",
      "Epoch 25/100\n",
      "10/10 [==============================] - 0s 4ms/step - loss: 0.6325 - accuracy: 0.7708 - val_loss: 0.6253 - val_accuracy: 0.7917\n",
      "Epoch 26/100\n",
      "10/10 [==============================] - 0s 4ms/step - loss: 0.6195 - accuracy: 0.7708 - val_loss: 0.6155 - val_accuracy: 0.7917\n",
      "Epoch 27/100\n",
      "10/10 [==============================] - 0s 4ms/step - loss: 0.6067 - accuracy: 0.7708 - val_loss: 0.6054 - val_accuracy: 0.7917\n",
      "Epoch 28/100\n",
      "10/10 [==============================] - 0s 4ms/step - loss: 0.5954 - accuracy: 0.7708 - val_loss: 0.5963 - val_accuracy: 0.7917\n",
      "Epoch 29/100\n",
      "10/10 [==============================] - 0s 4ms/step - loss: 0.5846 - accuracy: 0.7708 - val_loss: 0.5867 - val_accuracy: 0.7917\n",
      "Epoch 30/100\n",
      "10/10 [==============================] - 0s 4ms/step - loss: 0.5745 - accuracy: 0.7708 - val_loss: 0.5778 - val_accuracy: 0.7917\n",
      "Epoch 31/100\n",
      "10/10 [==============================] - 0s 4ms/step - loss: 0.5648 - accuracy: 0.7708 - val_loss: 0.5693 - val_accuracy: 0.7917\n",
      "Epoch 32/100\n",
      "10/10 [==============================] - 0s 4ms/step - loss: 0.5552 - accuracy: 0.7708 - val_loss: 0.5609 - val_accuracy: 0.7917\n",
      "Epoch 33/100\n",
      "10/10 [==============================] - 0s 5ms/step - loss: 0.5460 - accuracy: 0.7708 - val_loss: 0.5520 - val_accuracy: 0.8333\n",
      "Epoch 34/100\n",
      "10/10 [==============================] - 0s 4ms/step - loss: 0.5379 - accuracy: 0.7708 - val_loss: 0.5428 - val_accuracy: 0.8333\n",
      "Epoch 35/100\n",
      "10/10 [==============================] - 0s 4ms/step - loss: 0.5294 - accuracy: 0.7708 - val_loss: 0.5359 - val_accuracy: 0.8333\n",
      "Epoch 36/100\n",
      "10/10 [==============================] - 0s 4ms/step - loss: 0.5218 - accuracy: 0.7708 - val_loss: 0.5284 - val_accuracy: 0.8333\n",
      "Epoch 37/100\n",
      "10/10 [==============================] - 0s 4ms/step - loss: 0.5147 - accuracy: 0.7708 - val_loss: 0.5207 - val_accuracy: 0.8333\n",
      "Epoch 38/100\n",
      "10/10 [==============================] - 0s 4ms/step - loss: 0.5077 - accuracy: 0.7708 - val_loss: 0.5146 - val_accuracy: 0.8333\n",
      "Epoch 39/100\n",
      "10/10 [==============================] - 0s 4ms/step - loss: 0.5012 - accuracy: 0.7708 - val_loss: 0.5073 - val_accuracy: 0.8333\n",
      "Epoch 40/100\n",
      "10/10 [==============================] - 0s 4ms/step - loss: 0.4949 - accuracy: 0.7708 - val_loss: 0.5009 - val_accuracy: 0.8333\n",
      "Epoch 41/100\n",
      "10/10 [==============================] - 0s 4ms/step - loss: 0.4891 - accuracy: 0.7708 - val_loss: 0.4940 - val_accuracy: 0.8750\n",
      "Epoch 42/100\n",
      "10/10 [==============================] - 0s 3ms/step - loss: 0.4829 - accuracy: 0.7708 - val_loss: 0.4890 - val_accuracy: 0.8750\n",
      "Epoch 43/100\n",
      "10/10 [==============================] - 0s 4ms/step - loss: 0.4773 - accuracy: 0.7708 - val_loss: 0.4824 - val_accuracy: 0.8750\n",
      "Epoch 44/100\n",
      "10/10 [==============================] - 0s 3ms/step - loss: 0.4715 - accuracy: 0.7708 - val_loss: 0.4772 - val_accuracy: 0.8750\n",
      "Epoch 45/100\n",
      "10/10 [==============================] - 0s 4ms/step - loss: 0.4660 - accuracy: 0.7708 - val_loss: 0.4710 - val_accuracy: 0.8750\n",
      "Epoch 46/100\n",
      "10/10 [==============================] - 0s 4ms/step - loss: 0.4610 - accuracy: 0.7708 - val_loss: 0.4660 - val_accuracy: 0.8750\n",
      "Epoch 47/100\n",
      "10/10 [==============================] - 0s 4ms/step - loss: 0.4550 - accuracy: 0.7708 - val_loss: 0.4591 - val_accuracy: 0.8750\n",
      "Epoch 48/100\n",
      "10/10 [==============================] - 0s 4ms/step - loss: 0.4497 - accuracy: 0.7708 - val_loss: 0.4533 - val_accuracy: 0.8750\n",
      "Epoch 49/100\n",
      "10/10 [==============================] - 0s 4ms/step - loss: 0.4444 - accuracy: 0.7708 - val_loss: 0.4475 - val_accuracy: 0.8750\n",
      "Epoch 50/100\n",
      "10/10 [==============================] - 0s 4ms/step - loss: 0.4392 - accuracy: 0.7812 - val_loss: 0.4429 - val_accuracy: 0.8750\n",
      "Epoch 51/100\n",
      "10/10 [==============================] - 0s 4ms/step - loss: 0.4342 - accuracy: 0.7917 - val_loss: 0.4372 - val_accuracy: 0.8750\n",
      "Epoch 52/100\n",
      "10/10 [==============================] - 0s 4ms/step - loss: 0.4290 - accuracy: 0.8021 - val_loss: 0.4326 - val_accuracy: 0.8750\n",
      "Epoch 53/100\n",
      "10/10 [==============================] - 0s 5ms/step - loss: 0.4241 - accuracy: 0.8229 - val_loss: 0.4276 - val_accuracy: 0.8750\n",
      "Epoch 54/100\n",
      "10/10 [==============================] - 0s 4ms/step - loss: 0.4189 - accuracy: 0.8333 - val_loss: 0.4226 - val_accuracy: 0.8750\n",
      "Epoch 55/100\n",
      "10/10 [==============================] - 0s 4ms/step - loss: 0.4142 - accuracy: 0.8333 - val_loss: 0.4176 - val_accuracy: 0.8750\n",
      "Epoch 56/100\n",
      "10/10 [==============================] - 0s 4ms/step - loss: 0.4093 - accuracy: 0.8333 - val_loss: 0.4115 - val_accuracy: 0.8750\n",
      "Epoch 57/100\n",
      "10/10 [==============================] - 0s 4ms/step - loss: 0.4046 - accuracy: 0.8333 - val_loss: 0.4074 - val_accuracy: 0.8750\n",
      "Epoch 58/100\n",
      "10/10 [==============================] - 0s 4ms/step - loss: 0.3997 - accuracy: 0.8333 - val_loss: 0.4034 - val_accuracy: 0.8750\n",
      "Epoch 59/100\n",
      "10/10 [==============================] - 0s 4ms/step - loss: 0.3953 - accuracy: 0.8333 - val_loss: 0.3977 - val_accuracy: 0.8750\n",
      "Epoch 60/100\n",
      "10/10 [==============================] - 0s 4ms/step - loss: 0.3905 - accuracy: 0.8438 - val_loss: 0.3926 - val_accuracy: 0.8750\n",
      "Epoch 61/100\n",
      "10/10 [==============================] - 0s 4ms/step - loss: 0.3852 - accuracy: 0.8438 - val_loss: 0.3888 - val_accuracy: 0.8750\n",
      "Epoch 62/100\n",
      "10/10 [==============================] - 0s 4ms/step - loss: 0.3808 - accuracy: 0.8438 - val_loss: 0.3843 - val_accuracy: 0.8750\n",
      "Epoch 63/100\n",
      "10/10 [==============================] - 0s 4ms/step - loss: 0.3761 - accuracy: 0.8438 - val_loss: 0.3805 - val_accuracy: 0.8750\n",
      "Epoch 64/100\n",
      "10/10 [==============================] - 0s 4ms/step - loss: 0.3715 - accuracy: 0.8438 - val_loss: 0.3757 - val_accuracy: 0.8750\n",
      "Epoch 65/100\n",
      "10/10 [==============================] - 0s 4ms/step - loss: 0.3670 - accuracy: 0.8438 - val_loss: 0.3715 - val_accuracy: 0.8750\n",
      "Epoch 66/100\n",
      "10/10 [==============================] - 0s 4ms/step - loss: 0.3628 - accuracy: 0.8438 - val_loss: 0.3668 - val_accuracy: 0.8750\n",
      "Epoch 67/100\n",
      "10/10 [==============================] - 0s 3ms/step - loss: 0.3580 - accuracy: 0.8438 - val_loss: 0.3632 - val_accuracy: 0.8750\n",
      "Epoch 68/100\n",
      "10/10 [==============================] - 0s 4ms/step - loss: 0.3543 - accuracy: 0.8438 - val_loss: 0.3600 - val_accuracy: 0.8750\n",
      "Epoch 69/100\n",
      "10/10 [==============================] - 0s 4ms/step - loss: 0.3495 - accuracy: 0.8438 - val_loss: 0.3560 - val_accuracy: 0.8750\n",
      "Epoch 70/100\n",
      "10/10 [==============================] - 0s 4ms/step - loss: 0.3455 - accuracy: 0.8542 - val_loss: 0.3513 - val_accuracy: 0.8750\n",
      "Epoch 71/100\n",
      "10/10 [==============================] - 0s 4ms/step - loss: 0.3411 - accuracy: 0.8542 - val_loss: 0.3477 - val_accuracy: 0.8750\n",
      "Epoch 72/100\n",
      "10/10 [==============================] - 0s 3ms/step - loss: 0.3369 - accuracy: 0.8542 - val_loss: 0.3432 - val_accuracy: 0.8750\n",
      "Epoch 73/100\n",
      "10/10 [==============================] - 0s 4ms/step - loss: 0.3328 - accuracy: 0.8542 - val_loss: 0.3389 - val_accuracy: 0.8750\n",
      "Epoch 74/100\n",
      "10/10 [==============================] - 0s 4ms/step - loss: 0.3288 - accuracy: 0.8542 - val_loss: 0.3349 - val_accuracy: 0.8750\n",
      "Epoch 75/100\n",
      "10/10 [==============================] - 0s 4ms/step - loss: 0.3251 - accuracy: 0.8542 - val_loss: 0.3297 - val_accuracy: 0.9167\n",
      "Epoch 76/100\n",
      "10/10 [==============================] - 0s 4ms/step - loss: 0.3205 - accuracy: 0.8646 - val_loss: 0.3261 - val_accuracy: 0.9167\n",
      "Epoch 77/100\n",
      "10/10 [==============================] - 0s 4ms/step - loss: 0.3168 - accuracy: 0.8646 - val_loss: 0.3235 - val_accuracy: 0.9167\n",
      "Epoch 78/100\n",
      "10/10 [==============================] - 0s 4ms/step - loss: 0.3127 - accuracy: 0.8646 - val_loss: 0.3203 - val_accuracy: 0.9167\n",
      "Epoch 79/100\n",
      "10/10 [==============================] - 0s 4ms/step - loss: 0.3086 - accuracy: 0.8750 - val_loss: 0.3156 - val_accuracy: 0.9167\n",
      "Epoch 80/100\n",
      "10/10 [==============================] - 0s 4ms/step - loss: 0.3049 - accuracy: 0.8958 - val_loss: 0.3109 - val_accuracy: 0.9167\n",
      "Epoch 81/100\n",
      "10/10 [==============================] - 0s 4ms/step - loss: 0.3007 - accuracy: 0.8958 - val_loss: 0.3077 - val_accuracy: 0.9167\n",
      "Epoch 82/100\n",
      "10/10 [==============================] - 0s 4ms/step - loss: 0.2968 - accuracy: 0.9062 - val_loss: 0.3043 - val_accuracy: 0.9167\n",
      "Epoch 83/100\n",
      "10/10 [==============================] - 0s 4ms/step - loss: 0.2927 - accuracy: 0.9167 - val_loss: 0.3011 - val_accuracy: 0.9167\n",
      "Epoch 84/100\n",
      "10/10 [==============================] - 0s 4ms/step - loss: 0.2893 - accuracy: 0.9167 - val_loss: 0.2967 - val_accuracy: 0.9167\n",
      "Epoch 85/100\n",
      "10/10 [==============================] - 0s 4ms/step - loss: 0.2850 - accuracy: 0.9167 - val_loss: 0.2935 - val_accuracy: 0.9167\n",
      "Epoch 86/100\n",
      "10/10 [==============================] - 0s 4ms/step - loss: 0.2818 - accuracy: 0.9167 - val_loss: 0.2910 - val_accuracy: 0.9167\n",
      "Epoch 87/100\n",
      "10/10 [==============================] - 0s 4ms/step - loss: 0.2778 - accuracy: 0.9271 - val_loss: 0.2871 - val_accuracy: 0.9167\n",
      "Epoch 88/100\n",
      "10/10 [==============================] - 0s 4ms/step - loss: 0.2741 - accuracy: 0.9375 - val_loss: 0.2830 - val_accuracy: 0.9167\n",
      "Epoch 89/100\n",
      "10/10 [==============================] - 0s 4ms/step - loss: 0.2709 - accuracy: 0.9375 - val_loss: 0.2791 - val_accuracy: 0.9167\n",
      "Epoch 90/100\n",
      "10/10 [==============================] - 0s 4ms/step - loss: 0.2674 - accuracy: 0.9375 - val_loss: 0.2763 - val_accuracy: 0.9167\n",
      "Epoch 91/100\n",
      "10/10 [==============================] - 0s 4ms/step - loss: 0.2640 - accuracy: 0.9375 - val_loss: 0.2733 - val_accuracy: 0.9167\n",
      "Epoch 92/100\n",
      "10/10 [==============================] - 0s 4ms/step - loss: 0.2607 - accuracy: 0.9479 - val_loss: 0.2701 - val_accuracy: 0.9167\n",
      "Epoch 93/100\n",
      "10/10 [==============================] - 0s 4ms/step - loss: 0.2576 - accuracy: 0.9479 - val_loss: 0.2665 - val_accuracy: 0.9167\n",
      "Epoch 94/100\n",
      "10/10 [==============================] - 0s 4ms/step - loss: 0.2543 - accuracy: 0.9479 - val_loss: 0.2640 - val_accuracy: 0.9167\n",
      "Epoch 95/100\n",
      "10/10 [==============================] - 0s 4ms/step - loss: 0.2512 - accuracy: 0.9479 - val_loss: 0.2610 - val_accuracy: 0.9167\n",
      "Epoch 96/100\n",
      "10/10 [==============================] - 0s 4ms/step - loss: 0.2483 - accuracy: 0.9479 - val_loss: 0.2578 - val_accuracy: 0.9167\n",
      "Epoch 97/100\n",
      "10/10 [==============================] - 0s 4ms/step - loss: 0.2452 - accuracy: 0.9479 - val_loss: 0.2555 - val_accuracy: 0.9167\n",
      "Epoch 98/100\n",
      "10/10 [==============================] - 0s 4ms/step - loss: 0.2419 - accuracy: 0.9375 - val_loss: 0.2520 - val_accuracy: 0.9167\n",
      "Epoch 99/100\n",
      "10/10 [==============================] - 0s 4ms/step - loss: 0.2388 - accuracy: 0.9375 - val_loss: 0.2497 - val_accuracy: 0.9167\n",
      "Epoch 100/100\n",
      "10/10 [==============================] - 0s 4ms/step - loss: 0.2357 - accuracy: 0.9375 - val_loss: 0.2461 - val_accuracy: 0.9167\n"
     ]
    }
   ],
   "source": [
    "# Train the Model\n",
    "train_model = model.fit(X_train, y_train, epochs=100, batch_size=10, validation_split=0.2)"
   ]
  },
  {
   "cell_type": "code",
   "execution_count": 55,
   "id": "a3788113",
   "metadata": {},
   "outputs": [
    {
     "name": "stdout",
     "output_type": "stream",
     "text": [
      "1/1 [==============================] - 0s 50ms/step\n"
     ]
    }
   ],
   "source": [
    "model_prediction = model.predict(X_test)"
   ]
  },
  {
   "cell_type": "code",
   "execution_count": 56,
   "id": "ab933de0",
   "metadata": {},
   "outputs": [],
   "source": [
    "model_prediction = np.argmax(model_prediction, axis=-1)"
   ]
  },
  {
   "cell_type": "code",
   "execution_count": 57,
   "id": "0d31321b",
   "metadata": {},
   "outputs": [
    {
     "name": "stdout",
     "output_type": "stream",
     "text": [
      "1.0\n"
     ]
    }
   ],
   "source": [
    "# Evaluate the model\n",
    "print(accuracy_score(y_test, model_prediction))"
   ]
  },
  {
   "cell_type": "code",
   "execution_count": 61,
   "id": "9d636a95",
   "metadata": {},
   "outputs": [
    {
     "name": "stdout",
     "output_type": "stream",
     "text": [
      "1/1 [==============================] - 0s 27ms/step - loss: 0.1703 - accuracy: 1.0000\n"
     ]
    },
    {
     "data": {
      "text/plain": [
       "[0.17032486200332642, 1.0]"
      ]
     },
     "execution_count": 61,
     "metadata": {},
     "output_type": "execute_result"
    }
   ],
   "source": [
    "# One-hot encode y_test\n",
    "y_test_one_hot = to_categorical(y_test, num_classes=3)\n",
    "\n",
    "#evaluate the model\n",
    "model.evaluate(X_test, y_test_one_hot)"
   ]
  },
  {
   "cell_type": "code",
   "execution_count": 71,
   "id": "01a67df7",
   "metadata": {},
   "outputs": [
    {
     "data": {
      "text/plain": [
       "<matplotlib.legend.Legend at 0x262b93ed990>"
      ]
     },
     "execution_count": 71,
     "metadata": {},
     "output_type": "execute_result"
    },
    {
     "data": {
      "image/png": "[encoded data removed]",
      "text/plain": [
       "<Figure size 600x300 with 1 Axes>"
      ]
     },
     "metadata": {},
     "output_type": "display_data"
    }
   ],
   "source": [
    "plt.figure(figsize=(6, 3))\n",
    "plt.plot(train_model.history['accuracy'], label='Training Accuracy')\n",
    "plt.plot(train_model.history['val_accuracy'], label='Validation Accuracy')\n",
    "plt.title('Training and Validation Accuracy')\n",
    "plt.xlabel('Epochs')\n",
    "plt.ylabel('Accuracy')\n",
    "plt.legend()"
   ]
  },
  {
   "cell_type": "code",
   "execution_count": 70,
   "id": "03812c58",
   "metadata": {},
   "outputs": [
    {
     "data": {
      "text/plain": [
       "<function matplotlib.pyplot.show(close=None, block=None)>"
      ]
     },
     "execution_count": 70,
     "metadata": {},
     "output_type": "execute_result"
    },
    {
     "data": {
      "image/png": "[encoded data removed]",
      "text/plain": [
       "<Figure size 600x300 with 1 Axes>"
      ]
     },
     "metadata": {},
     "output_type": "display_data"
    }
   ],
   "source": [
    "plt.figure(figsize=(6, 3))\n",
    "\n",
    "# Loss plot\n",
    "plt.plot(train_model.history['loss'], label='Training Loss')\n",
    "plt.plot(train_model.history['val_loss'], label='Validation Loss')\n",
    "plt.xlabel('Epochs')\n",
    "plt.ylabel('Loss')\n",
    "plt.legend()\n",
    "plt.show"
   ]
  },
  {
   "cell_type": "markdown",
   "id": "a0f2d8bb",
   "metadata": {},
   "source": [
    "## Part 5: Experiment and Improve\n",
    "    ### Tune the Model\n",
    "    **Hint**: Try adding more hidden layers or neurons, or use different activation functions and see if the accuracy improves.\n",
    "\n",
    "    ### Regularization and Dropout\n",
    "    **Hint**: Implement dropout or regularization techniques to improve the model's generalization.\n",
    "    "
   ]
  },
  {
   "cell_type": "code",
   "execution_count": 128,
   "id": "5a4b5c91",
   "metadata": {},
   "outputs": [],
   "source": [
    "# Implement dropout\n",
    "model_dropOut = Sequential()\n",
    "model_dropOut.add(Dense(units=30, activation='relu', input_shape=(X_train.shape[-1], )))\n",
    "model_dropOut.add(Dense(units=30, activation='relu'))\n",
    "model_dropOut.add(Dropout(0.3))\n",
    "model_dropOut.add(Dense(units=30, activation='relu'))\n",
    "model_dropOut.add(Dropout(0.3))\n",
    "model_dropOut.add(Dense(units=3, activation='softmax')) #output layer\n",
    "\n",
    "# Compile the model\n",
    "model_dropOut.compile(optimizer='adam', loss='categorical_crossentropy', metrics=['accuracy'])"
   ]
  },
  {
   "cell_type": "code",
   "execution_count": 129,
   "id": "0a238f72",
   "metadata": {},
   "outputs": [
    {
     "name": "stdout",
     "output_type": "stream",
     "text": [
      "Model: \"sequential_10\"\n",
      "_________________________________________________________________\n",
      " Layer (type)                Output Shape              Param #   \n",
      "=================================================================\n",
      " dense_30 (Dense)            (None, 30)                150       \n",
      "                                                                 \n",
      " dense_31 (Dense)            (None, 30)                930       \n",
      "                                                                 \n",
      " dropout_12 (Dropout)        (None, 30)                0         \n",
      "                                                                 \n",
      " dense_32 (Dense)            (None, 30)                930       \n",
      "                                                                 \n",
      " dropout_13 (Dropout)        (None, 30)                0         \n",
      "                                                                 \n",
      " dense_33 (Dense)            (None, 3)                 93        \n",
      "                                                                 \n",
      "=================================================================\n",
      "Total params: 2103 (8.21 KB)\n",
      "Trainable params: 2103 (8.21 KB)\n",
      "Non-trainable params: 0 (0.00 Byte)\n",
      "_________________________________________________________________\n"
     ]
    }
   ],
   "source": [
    "model_dropOut.summary()"
   ]
  },
  {
   "cell_type": "code",
   "execution_count": 130,
   "id": "e94062b8",
   "metadata": {},
   "outputs": [
    {
     "name": "stdout",
     "output_type": "stream",
     "text": [
      "Epoch 1/100\n",
      "10/10 [==============================] - 1s 22ms/step - loss: 1.0667 - accuracy: 0.3958 - val_loss: 0.9643 - val_accuracy: 0.6667\n",
      "Epoch 2/100\n",
      "10/10 [==============================] - 0s 4ms/step - loss: 0.9694 - accuracy: 0.5312 - val_loss: 0.8983 - val_accuracy: 0.7917\n",
      "Epoch 3/100\n",
      "10/10 [==============================] - 0s 5ms/step - loss: 0.8641 - accuracy: 0.6979 - val_loss: 0.8278 - val_accuracy: 0.7083\n",
      "Epoch 4/100\n",
      "10/10 [==============================] - 0s 4ms/step - loss: 0.7683 - accuracy: 0.7604 - val_loss: 0.7439 - val_accuracy: 0.7083\n",
      "Epoch 5/100\n",
      "10/10 [==============================] - 0s 5ms/step - loss: 0.7376 - accuracy: 0.7292 - val_loss: 0.6749 - val_accuracy: 0.7500\n",
      "Epoch 6/100\n",
      "10/10 [==============================] - 0s 5ms/step - loss: 0.7187 - accuracy: 0.6667 - val_loss: 0.6133 - val_accuracy: 0.7500\n",
      "Epoch 7/100\n",
      "10/10 [==============================] - 0s 5ms/step - loss: 0.6010 - accuracy: 0.7604 - val_loss: 0.5587 - val_accuracy: 0.7917\n",
      "Epoch 8/100\n",
      "10/10 [==============================] - 0s 5ms/step - loss: 0.5356 - accuracy: 0.7812 - val_loss: 0.5156 - val_accuracy: 0.7917\n",
      "Epoch 9/100\n",
      "10/10 [==============================] - 0s 4ms/step - loss: 0.5437 - accuracy: 0.7396 - val_loss: 0.4838 - val_accuracy: 0.7917\n",
      "Epoch 10/100\n",
      "10/10 [==============================] - 0s 5ms/step - loss: 0.4809 - accuracy: 0.7917 - val_loss: 0.4622 - val_accuracy: 0.8333\n",
      "Epoch 11/100\n",
      "10/10 [==============================] - 0s 4ms/step - loss: 0.4767 - accuracy: 0.8021 - val_loss: 0.4405 - val_accuracy: 0.8750\n",
      "Epoch 12/100\n",
      "10/10 [==============================] - 0s 4ms/step - loss: 0.4344 - accuracy: 0.7812 - val_loss: 0.4133 - val_accuracy: 0.8750\n",
      "Epoch 13/100\n",
      "10/10 [==============================] - 0s 4ms/step - loss: 0.4415 - accuracy: 0.7708 - val_loss: 0.3956 - val_accuracy: 0.8750\n",
      "Epoch 14/100\n",
      "10/10 [==============================] - 0s 4ms/step - loss: 0.4142 - accuracy: 0.8333 - val_loss: 0.3819 - val_accuracy: 0.8750\n",
      "Epoch 15/100\n",
      "10/10 [==============================] - 0s 4ms/step - loss: 0.3946 - accuracy: 0.8333 - val_loss: 0.3714 - val_accuracy: 0.9167\n",
      "Epoch 16/100\n",
      "10/10 [==============================] - 0s 4ms/step - loss: 0.4404 - accuracy: 0.8125 - val_loss: 0.3625 - val_accuracy: 0.9167\n",
      "Epoch 17/100\n",
      "10/10 [==============================] - 0s 4ms/step - loss: 0.3857 - accuracy: 0.7917 - val_loss: 0.3513 - val_accuracy: 0.9167\n",
      "Epoch 18/100\n",
      "10/10 [==============================] - 0s 4ms/step - loss: 0.3437 - accuracy: 0.8438 - val_loss: 0.3383 - val_accuracy: 0.9167\n",
      "Epoch 19/100\n",
      "10/10 [==============================] - 0s 4ms/step - loss: 0.3380 - accuracy: 0.8542 - val_loss: 0.3441 - val_accuracy: 0.9167\n",
      "Epoch 20/100\n",
      "10/10 [==============================] - 0s 4ms/step - loss: 0.3431 - accuracy: 0.8854 - val_loss: 0.3368 - val_accuracy: 0.9167\n",
      "Epoch 21/100\n",
      "10/10 [==============================] - 0s 4ms/step - loss: 0.3298 - accuracy: 0.8958 - val_loss: 0.3084 - val_accuracy: 0.9167\n",
      "Epoch 22/100\n",
      "10/10 [==============================] - 0s 4ms/step - loss: 0.3092 - accuracy: 0.8854 - val_loss: 0.2975 - val_accuracy: 0.9167\n",
      "Epoch 23/100\n",
      "10/10 [==============================] - 0s 4ms/step - loss: 0.2636 - accuracy: 0.9271 - val_loss: 0.3188 - val_accuracy: 0.8750\n",
      "Epoch 24/100\n",
      "10/10 [==============================] - 0s 4ms/step - loss: 0.3300 - accuracy: 0.8542 - val_loss: 0.2966 - val_accuracy: 0.9167\n",
      "Epoch 25/100\n",
      "10/10 [==============================] - 0s 4ms/step - loss: 0.2184 - accuracy: 0.9167 - val_loss: 0.2931 - val_accuracy: 0.9583\n",
      "Epoch 26/100\n",
      "10/10 [==============================] - 0s 6ms/step - loss: 0.2633 - accuracy: 0.9062 - val_loss: 0.2674 - val_accuracy: 0.9583\n",
      "Epoch 27/100\n",
      "10/10 [==============================] - 0s 5ms/step - loss: 0.2226 - accuracy: 0.9375 - val_loss: 0.2367 - val_accuracy: 0.9583\n",
      "Epoch 28/100\n",
      "10/10 [==============================] - 0s 5ms/step - loss: 0.1976 - accuracy: 0.9271 - val_loss: 0.2209 - val_accuracy: 0.9583\n",
      "Epoch 29/100\n",
      "10/10 [==============================] - 0s 4ms/step - loss: 0.2346 - accuracy: 0.9167 - val_loss: 0.2096 - val_accuracy: 0.9583\n",
      "Epoch 30/100\n",
      "10/10 [==============================] - 0s 4ms/step - loss: 0.2056 - accuracy: 0.9375 - val_loss: 0.2313 - val_accuracy: 0.9583\n",
      "Epoch 31/100\n",
      "10/10 [==============================] - 0s 4ms/step - loss: 0.2278 - accuracy: 0.9167 - val_loss: 0.2228 - val_accuracy: 0.9583\n",
      "Epoch 32/100\n",
      "10/10 [==============================] - 0s 4ms/step - loss: 0.2155 - accuracy: 0.9479 - val_loss: 0.2206 - val_accuracy: 0.9583\n",
      "Epoch 33/100\n",
      "10/10 [==============================] - 0s 4ms/step - loss: 0.1986 - accuracy: 0.9375 - val_loss: 0.2218 - val_accuracy: 0.9583\n",
      "Epoch 34/100\n",
      "10/10 [==============================] - 0s 4ms/step - loss: 0.2034 - accuracy: 0.9271 - val_loss: 0.1879 - val_accuracy: 0.9583\n",
      "Epoch 35/100\n",
      "10/10 [==============================] - 0s 5ms/step - loss: 0.1689 - accuracy: 0.9479 - val_loss: 0.1840 - val_accuracy: 0.9583\n",
      "Epoch 36/100\n",
      "10/10 [==============================] - 0s 5ms/step - loss: 0.1698 - accuracy: 0.9167 - val_loss: 0.1926 - val_accuracy: 0.9583\n",
      "Epoch 37/100\n",
      "10/10 [==============================] - 0s 4ms/step - loss: 0.1780 - accuracy: 0.9375 - val_loss: 0.1639 - val_accuracy: 0.9583\n",
      "Epoch 38/100\n",
      "10/10 [==============================] - 0s 3ms/step - loss: 0.1565 - accuracy: 0.9583 - val_loss: 0.1594 - val_accuracy: 0.9583\n",
      "Epoch 39/100\n",
      "10/10 [==============================] - 0s 4ms/step - loss: 0.1667 - accuracy: 0.9479 - val_loss: 0.1644 - val_accuracy: 0.9583\n",
      "Epoch 40/100\n",
      "10/10 [==============================] - 0s 4ms/step - loss: 0.1102 - accuracy: 0.9583 - val_loss: 0.1749 - val_accuracy: 0.9583\n",
      "Epoch 41/100\n",
      "10/10 [==============================] - 0s 4ms/step - loss: 0.1342 - accuracy: 0.9792 - val_loss: 0.1581 - val_accuracy: 0.9583\n",
      "Epoch 42/100\n",
      "10/10 [==============================] - 0s 4ms/step - loss: 0.1701 - accuracy: 0.9271 - val_loss: 0.1550 - val_accuracy: 0.9583\n",
      "Epoch 43/100\n",
      "10/10 [==============================] - 0s 4ms/step - loss: 0.1084 - accuracy: 0.9792 - val_loss: 0.1587 - val_accuracy: 0.9583\n",
      "Epoch 44/100\n",
      "10/10 [==============================] - 0s 4ms/step - loss: 0.1209 - accuracy: 0.9583 - val_loss: 0.1861 - val_accuracy: 0.9583\n",
      "Epoch 45/100\n",
      "10/10 [==============================] - 0s 4ms/step - loss: 0.0994 - accuracy: 0.9583 - val_loss: 0.1705 - val_accuracy: 0.9583\n",
      "Epoch 46/100\n",
      "10/10 [==============================] - 0s 4ms/step - loss: 0.1323 - accuracy: 0.9583 - val_loss: 0.1531 - val_accuracy: 0.9583\n",
      "Epoch 47/100\n",
      "10/10 [==============================] - 0s 4ms/step - loss: 0.1428 - accuracy: 0.9375 - val_loss: 0.1715 - val_accuracy: 0.9583\n",
      "Epoch 48/100\n",
      "10/10 [==============================] - 0s 4ms/step - loss: 0.1017 - accuracy: 0.9688 - val_loss: 0.1480 - val_accuracy: 0.9583\n",
      "Epoch 49/100\n",
      "10/10 [==============================] - 0s 4ms/step - loss: 0.1256 - accuracy: 0.9479 - val_loss: 0.1492 - val_accuracy: 0.9583\n",
      "Epoch 50/100\n",
      "10/10 [==============================] - 0s 4ms/step - loss: 0.1044 - accuracy: 0.9583 - val_loss: 0.1632 - val_accuracy: 0.9583\n",
      "Epoch 51/100\n",
      "10/10 [==============================] - 0s 4ms/step - loss: 0.1395 - accuracy: 0.9375 - val_loss: 0.1777 - val_accuracy: 0.9583\n",
      "Epoch 52/100\n",
      "10/10 [==============================] - 0s 4ms/step - loss: 0.1084 - accuracy: 0.9688 - val_loss: 0.1699 - val_accuracy: 0.9583\n",
      "Epoch 53/100\n",
      "10/10 [==============================] - 0s 5ms/step - loss: 0.1548 - accuracy: 0.9688 - val_loss: 0.1949 - val_accuracy: 0.9583\n",
      "Epoch 54/100\n",
      "10/10 [==============================] - 0s 4ms/step - loss: 0.0974 - accuracy: 0.9583 - val_loss: 0.1726 - val_accuracy: 0.9583\n",
      "Epoch 55/100\n",
      "10/10 [==============================] - 0s 4ms/step - loss: 0.0699 - accuracy: 0.9792 - val_loss: 0.1779 - val_accuracy: 0.9583\n",
      "Epoch 56/100\n",
      "10/10 [==============================] - 0s 4ms/step - loss: 0.1547 - accuracy: 0.9375 - val_loss: 0.2449 - val_accuracy: 0.9167\n",
      "Epoch 57/100\n",
      "10/10 [==============================] - 0s 4ms/step - loss: 0.0961 - accuracy: 0.9688 - val_loss: 0.2001 - val_accuracy: 0.9167\n",
      "Epoch 58/100\n",
      "10/10 [==============================] - 0s 4ms/step - loss: 0.1247 - accuracy: 0.9479 - val_loss: 0.1840 - val_accuracy: 0.9583\n",
      "Epoch 59/100\n",
      "10/10 [==============================] - 0s 4ms/step - loss: 0.0731 - accuracy: 0.9896 - val_loss: 0.2130 - val_accuracy: 0.9167\n",
      "Epoch 60/100\n",
      "10/10 [==============================] - 0s 4ms/step - loss: 0.0761 - accuracy: 0.9792 - val_loss: 0.2053 - val_accuracy: 0.9583\n",
      "Epoch 61/100\n",
      "10/10 [==============================] - 0s 4ms/step - loss: 0.0791 - accuracy: 0.9688 - val_loss: 0.1963 - val_accuracy: 0.9583\n",
      "Epoch 62/100\n",
      "10/10 [==============================] - 0s 4ms/step - loss: 0.0829 - accuracy: 0.9583 - val_loss: 0.1800 - val_accuracy: 0.9583\n",
      "Epoch 63/100\n",
      "10/10 [==============================] - 0s 4ms/step - loss: 0.1438 - accuracy: 0.9375 - val_loss: 0.1900 - val_accuracy: 0.9583\n",
      "Epoch 64/100\n",
      "10/10 [==============================] - 0s 4ms/step - loss: 0.1011 - accuracy: 0.9688 - val_loss: 0.2227 - val_accuracy: 0.9583\n",
      "Epoch 65/100\n",
      "10/10 [==============================] - 0s 4ms/step - loss: 0.0891 - accuracy: 0.9583 - val_loss: 0.2298 - val_accuracy: 0.9583\n",
      "Epoch 66/100\n",
      "10/10 [==============================] - 0s 4ms/step - loss: 0.0808 - accuracy: 0.9688 - val_loss: 0.2198 - val_accuracy: 0.9583\n",
      "Epoch 67/100\n",
      "10/10 [==============================] - 0s 4ms/step - loss: 0.0514 - accuracy: 1.0000 - val_loss: 0.2465 - val_accuracy: 0.9167\n",
      "Epoch 68/100\n",
      "10/10 [==============================] - 0s 4ms/step - loss: 0.0812 - accuracy: 0.9583 - val_loss: 0.2493 - val_accuracy: 0.9167\n",
      "Epoch 69/100\n",
      "10/10 [==============================] - 0s 4ms/step - loss: 0.0729 - accuracy: 0.9792 - val_loss: 0.2423 - val_accuracy: 0.9167\n",
      "Epoch 70/100\n",
      "10/10 [==============================] - 0s 4ms/step - loss: 0.0986 - accuracy: 0.9688 - val_loss: 0.2219 - val_accuracy: 0.9583\n",
      "Epoch 71/100\n",
      "10/10 [==============================] - 0s 4ms/step - loss: 0.0594 - accuracy: 1.0000 - val_loss: 0.2149 - val_accuracy: 0.9583\n",
      "Epoch 72/100\n",
      "10/10 [==============================] - 0s 4ms/step - loss: 0.0820 - accuracy: 0.9688 - val_loss: 0.2102 - val_accuracy: 0.9583\n",
      "Epoch 73/100\n",
      "10/10 [==============================] - 0s 4ms/step - loss: 0.0852 - accuracy: 0.9688 - val_loss: 0.2307 - val_accuracy: 0.9167\n",
      "Epoch 74/100\n",
      "10/10 [==============================] - 0s 4ms/step - loss: 0.0390 - accuracy: 0.9896 - val_loss: 0.2055 - val_accuracy: 0.9583\n",
      "Epoch 75/100\n",
      "10/10 [==============================] - 0s 4ms/step - loss: 0.0781 - accuracy: 0.9688 - val_loss: 0.2259 - val_accuracy: 0.9583\n",
      "Epoch 76/100\n",
      "10/10 [==============================] - 0s 4ms/step - loss: 0.0517 - accuracy: 0.9896 - val_loss: 0.2502 - val_accuracy: 0.9167\n",
      "Epoch 77/100\n",
      "10/10 [==============================] - 0s 4ms/step - loss: 0.1010 - accuracy: 0.9688 - val_loss: 0.2602 - val_accuracy: 0.9167\n",
      "Epoch 78/100\n",
      "10/10 [==============================] - 0s 4ms/step - loss: 0.0785 - accuracy: 0.9583 - val_loss: 0.2501 - val_accuracy: 0.9583\n",
      "Epoch 79/100\n",
      "10/10 [==============================] - 0s 4ms/step - loss: 0.0881 - accuracy: 0.9479 - val_loss: 0.2453 - val_accuracy: 0.9583\n",
      "Epoch 80/100\n",
      "10/10 [==============================] - 0s 4ms/step - loss: 0.0807 - accuracy: 0.9688 - val_loss: 0.2176 - val_accuracy: 0.9583\n",
      "Epoch 81/100\n",
      "10/10 [==============================] - 0s 3ms/step - loss: 0.0759 - accuracy: 0.9792 - val_loss: 0.2573 - val_accuracy: 0.9167\n",
      "Epoch 82/100\n",
      "10/10 [==============================] - 0s 4ms/step - loss: 0.0668 - accuracy: 0.9583 - val_loss: 0.2566 - val_accuracy: 0.9167\n",
      "Epoch 83/100\n",
      "10/10 [==============================] - 0s 4ms/step - loss: 0.0729 - accuracy: 0.9688 - val_loss: 0.2640 - val_accuracy: 0.9167\n",
      "Epoch 84/100\n",
      "10/10 [==============================] - 0s 4ms/step - loss: 0.0894 - accuracy: 0.9688 - val_loss: 0.2762 - val_accuracy: 0.9167\n",
      "Epoch 85/100\n",
      "10/10 [==============================] - 0s 4ms/step - loss: 0.0363 - accuracy: 0.9896 - val_loss: 0.2720 - val_accuracy: 0.9167\n",
      "Epoch 86/100\n",
      "10/10 [==============================] - 0s 4ms/step - loss: 0.0516 - accuracy: 0.9896 - val_loss: 0.2866 - val_accuracy: 0.9167\n",
      "Epoch 87/100\n",
      "10/10 [==============================] - 0s 4ms/step - loss: 0.0964 - accuracy: 0.9688 - val_loss: 0.2820 - val_accuracy: 0.9167\n",
      "Epoch 88/100\n",
      "10/10 [==============================] - 0s 4ms/step - loss: 0.0576 - accuracy: 0.9896 - val_loss: 0.2882 - val_accuracy: 0.9167\n",
      "Epoch 89/100\n",
      "10/10 [==============================] - 0s 4ms/step - loss: 0.1045 - accuracy: 0.9479 - val_loss: 0.2775 - val_accuracy: 0.9167\n",
      "Epoch 90/100\n",
      "10/10 [==============================] - 0s 4ms/step - loss: 0.0666 - accuracy: 0.9688 - val_loss: 0.2647 - val_accuracy: 0.9583\n",
      "Epoch 91/100\n",
      "10/10 [==============================] - 0s 4ms/step - loss: 0.0711 - accuracy: 0.9688 - val_loss: 0.2800 - val_accuracy: 0.9583\n",
      "Epoch 92/100\n",
      "10/10 [==============================] - 0s 4ms/step - loss: 0.0950 - accuracy: 0.9375 - val_loss: 0.2753 - val_accuracy: 0.9167\n",
      "Epoch 93/100\n",
      "10/10 [==============================] - 0s 4ms/step - loss: 0.0660 - accuracy: 0.9792 - val_loss: 0.2794 - val_accuracy: 0.9167\n",
      "Epoch 94/100\n",
      "10/10 [==============================] - 0s 4ms/step - loss: 0.0759 - accuracy: 0.9792 - val_loss: 0.3081 - val_accuracy: 0.9167\n",
      "Epoch 95/100\n",
      "10/10 [==============================] - 0s 4ms/step - loss: 0.0517 - accuracy: 0.9792 - val_loss: 0.3412 - val_accuracy: 0.9167\n",
      "Epoch 96/100\n",
      "10/10 [==============================] - 0s 4ms/step - loss: 0.0810 - accuracy: 0.9792 - val_loss: 0.3128 - val_accuracy: 0.9167\n",
      "Epoch 97/100\n",
      "10/10 [==============================] - 0s 5ms/step - loss: 0.0780 - accuracy: 0.9688 - val_loss: 0.2812 - val_accuracy: 0.9167\n",
      "Epoch 98/100\n",
      "10/10 [==============================] - 0s 4ms/step - loss: 0.0605 - accuracy: 0.9792 - val_loss: 0.3035 - val_accuracy: 0.9167\n",
      "Epoch 99/100\n",
      "10/10 [==============================] - 0s 4ms/step - loss: 0.0751 - accuracy: 0.9688 - val_loss: 0.3017 - val_accuracy: 0.9167\n",
      "Epoch 100/100\n",
      "10/10 [==============================] - 0s 4ms/step - loss: 0.0662 - accuracy: 0.9792 - val_loss: 0.2954 - val_accuracy: 0.9167\n"
     ]
    }
   ],
   "source": [
    "train_model2= model_dropOut.fit(X_train, y_train, epochs=100, batch_size=10, validation_split=0.2)"
   ]
  },
  {
   "cell_type": "code",
   "execution_count": 131,
   "id": "053c192a",
   "metadata": {},
   "outputs": [
    {
     "name": "stdout",
     "output_type": "stream",
     "text": [
      "1/1 [==============================] - 0s 22ms/step - loss: 0.0093 - accuracy: 1.0000\n"
     ]
    },
    {
     "data": {
      "text/plain": [
       "[0.009322055615484715, 1.0]"
      ]
     },
     "execution_count": 131,
     "metadata": {},
     "output_type": "execute_result"
    }
   ],
   "source": [
    "# Evaluate the model\n",
    "model_dropOut.evaluate(X_test, y_test_one_hot)"
   ]
  },
  {
   "cell_type": "markdown",
   "id": "5ab398a2",
   "metadata": {},
   "source": [
    "\n",
    "## Part 4: Model Evaluation\n",
    "### Evaluate the Model\n",
    "To effectively evaluate your artificial neural network, consider the following metrics:\n",
    "- **Accuracy**: This is the fraction of predictions our model got right.\n",
    "- **Confusion Matrix**: A table used to describe the performance of a classification model on a set of test data for which the true values are known.\n",
    "- **Precision, Recall, and F1-Score**: These metrics provide more insight into the types of errors made by the classifier.\n",
    "**Hint**: Use `classification_report` and `confusion_matrix` from `sklearn.metrics` to calculate these metrics.\n",
    "\n",
    "### Visualize Model Performance\n",
    "Visualizing the learning curves (loss and accuracy over epochs) can provide insights into the training process, such as whether the model is fitting or overfitting.\n",
    "**Hint**: Use `matplotlib.pyplot` to plot training and validation loss and accuracy.\n"
   ]
  },
  {
   "cell_type": "code",
   "execution_count": 132,
   "id": "cfc10b8e",
   "metadata": {},
   "outputs": [
    {
     "name": "stdout",
     "output_type": "stream",
     "text": [
      "1/1 [==============================] - 0s 58ms/step\n",
      "Accuracy: 100.00%\n"
     ]
    }
   ],
   "source": [
    "# Predict\n",
    "y_pred_prob = model_dropOut.predict(X_test)\n",
    "\n",
    "# Convert probabilities to class labels\n",
    "y_pred = np.argmax(y_pred_prob, axis=1)\n",
    "\n",
    "# accuracy\n",
    "accuracy = accuracy_score(y_test, y_pred)\n",
    "print(f\"Accuracy: {accuracy * 100:.2f}%\")"
   ]
  },
  {
   "cell_type": "code",
   "execution_count": 133,
   "id": "cbe7fb81",
   "metadata": {},
   "outputs": [
    {
     "name": "stdout",
     "output_type": "stream",
     "text": [
      "              precision    recall  f1-score   support\n",
      "\n",
      "           0       1.00      1.00      1.00        10\n",
      "           1       1.00      1.00      1.00         9\n",
      "           2       1.00      1.00      1.00        11\n",
      "\n",
      "    accuracy                           1.00        30\n",
      "   macro avg       1.00      1.00      1.00        30\n",
      "weighted avg       1.00      1.00      1.00        30\n",
      "\n"
     ]
    }
   ],
   "source": [
    "# classification report\n",
    "cr = classification_report(y_test, y_pred)\n",
    "print(cr)"
   ]
  },
  {
   "cell_type": "code",
   "execution_count": 134,
   "id": "af4a4e50",
   "metadata": {},
   "outputs": [
    {
     "data": {
      "text/plain": [
       "array([[10,  0,  0],\n",
       "       [ 0,  9,  0],\n",
       "       [ 0,  0, 11]], dtype=int64)"
      ]
     },
     "execution_count": 134,
     "metadata": {},
     "output_type": "execute_result"
    }
   ],
   "source": [
    "conf_matrix = confusion_matrix(y_test, y_pred)\n",
    "conf_matrix"
   ]
  },
  {
   "cell_type": "code",
   "execution_count": 135,
   "id": "797bb754",
   "metadata": {},
   "outputs": [
    {
     "data": {
      "text/plain": [
       "<matplotlib.legend.Legend at 0x262bfa1f8d0>"
      ]
     },
     "execution_count": 135,
     "metadata": {},
     "output_type": "execute_result"
    },
    {
     "data": {
      "image/png": "[encoded data removed]",
      "text/plain": [
       "<Figure size 600x300 with 1 Axes>"
      ]
     },
     "metadata": {},
     "output_type": "display_data"
    }
   ],
   "source": [
    "plt.figure(figsize=(6, 3))\n",
    "plt.plot(train_model2.history['accuracy'], label='Training Accuracy')\n",
    "plt.plot(train_model2.history['val_accuracy'], label='Validation Accuracy')\n",
    "plt.title('Training and Validation Accuracy')\n",
    "plt.xlabel('Epochs')\n",
    "plt.ylabel('Accuracy')\n",
    "plt.legend()"
   ]
  },
  {
   "cell_type": "code",
   "execution_count": 136,
   "id": "16b0144c",
   "metadata": {},
   "outputs": [
    {
     "data": {
      "text/plain": [
       "<function matplotlib.pyplot.show(close=None, block=None)>"
      ]
     },
     "execution_count": 136,
     "metadata": {},
     "output_type": "execute_result"
    },
    {
     "data": {
      "image/png": "[encoded data removed]",
      "text/plain": [
       "<Figure size 600x300 with 1 Axes>"
      ]
     },
     "metadata": {},
     "output_type": "display_data"
    }
   ],
   "source": [
    "plt.figure(figsize=(6, 3))\n",
    "\n",
    "# Loss plot\n",
    "plt.plot(train_model2.history['loss'], label='Training Loss')\n",
    "plt.plot(train_model2.history['val_loss'], label='Validation Loss')\n",
    "plt.xlabel('Epochs')\n",
    "plt.ylabel('Loss')\n",
    "plt.legend()\n",
    "plt.show"
   ]
  },
  {
   "cell_type": "markdown",
   "id": "ac12bf89",
   "metadata": {},
   "source": [
    "## Conclusion\n",
    "    Summarize what the learner should have gained from this lab, including a better understanding of how ANNs work and how they can be applied to real-world classification problems.\n",
    "    "
   ]
  }
 ],
 "metadata": {
  "kernelspec": {
   "display_name": "Python 3 (ipykernel)",
   "language": "python",
   "name": "python3"
  },
  "language_info": {
   "codemirror_mode": {
    "name": "ipython",
    "version": 3
   },
   "file_extension": ".py",
   "mimetype": "text/x-python",
   "name": "python",
   "nbconvert_exporter": "python",
   "pygments_lexer": "ipython3",
   "version": "3.11.5"
  }
 },
 "nbformat": 4,
 "nbformat_minor": 5
}
