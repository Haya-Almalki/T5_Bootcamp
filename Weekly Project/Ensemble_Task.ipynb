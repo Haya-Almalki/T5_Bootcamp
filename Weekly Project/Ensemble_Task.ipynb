{
 "cells": [
  {
   "cell_type": "markdown",
   "id": "9ae4cc02",
   "metadata": {
    "id": "9ae4cc02"
   },
   "source": [
    "# Ensemble Methods Notebook\n",
    "Welcome to the weekly project on Ensemble Methods. You will be working with a dataset of traffic jams.\n",
    "\n",
    "## Dataset\n",
    "The dataset that will be used in this task is `Traffic_Jam.csv`\n",
    "\n",
    "## Instructions\n",
    "- Follow the steps outlined below.\n",
    "- Write your code in the empty code cells.\n",
    "- Comment on your code to explain your reasoning.\n",
    "\n",
    "## Dataset Overview\n",
    "This dataset contains traffic data including various counts of vehicle types across different times and days. Below are samples of these columns:\n",
    "\n",
    "* `Time`: The timestamp of the traffic count (in intervals).\n",
    "* `Date`: The day of the month the data was recorded.\n",
    "* `Day of the Week`: The day of the week for the recorded data.\n",
    "* `CarCount`: The number of cars counted during the time interval.\n",
    "* `BikeCount`: The number of bikes counted during the time interval.\n",
    "* `BusCount`: The number of buses counted during the time interval.\n",
    "* `TruckCount`: The number of trucks counted during the time interval.\n",
    "* `Total`: Total vehicles counted during the time interval.\n",
    "* `Traffic Situation`: Qualitative assessment of the traffic (e.g., normal, congested).\n",
    "\n",
    "## Goal\n",
    "The primary goal of this exam is to develop a predictive model capable of determining the `Traffic Situation` based on your choice of features provided in the dataset. Students are expected to apply ensemble methods to build and evaluate their models."
   ]
  },
  {
   "cell_type": "markdown",
   "id": "0243f5f9",
   "metadata": {
    "id": "0243f5f9"
   },
   "source": [
    "# Import Libraries"
   ]
  },
  {
   "cell_type": "code",
   "execution_count": 150,
   "id": "cd906704",
   "metadata": {
    "id": "cd906704"
   },
   "outputs": [],
   "source": [
    "import pandas as pd\n",
    "import seaborn as sns\n",
    "from sklearn.preprocessing import LabelEncoder\n",
    "from sklearn.preprocessing import StandardScaler\n",
    "import matplotlib.pyplot as plt\n",
    "from sklearn.model_selection import train_test_split\n",
    "from sklearn.ensemble import StackingClassifier\n",
    "from sklearn.linear_model import LogisticRegression\n",
    "from sklearn.ensemble import BaggingClassifier\n",
    "from sklearn.metrics import accuracy_score\n",
    "from sklearn.ensemble import GradientBoostingClassifier"
   ]
  },
  {
   "cell_type": "markdown",
   "id": "3bc0f20e",
   "metadata": {
    "id": "3bc0f20e"
   },
   "source": [
    "# Load the dataset\n"
   ]
  },
  {
   "cell_type": "code",
   "execution_count": 174,
   "id": "47ecb305",
   "metadata": {
    "id": "47ecb305"
   },
   "outputs": [],
   "source": [
    "df=pd.read_csv(\"Traffic_Jams.csv\")"
   ]
  },
  {
   "cell_type": "code",
   "execution_count": 175,
   "id": "b4f1d6ef",
   "metadata": {},
   "outputs": [
    {
     "data": {
      "text/html": [
       "<div>\n",
       "<style scoped>\n",
       "    .dataframe tbody tr th:only-of-type {\n",
       "        vertical-align: middle;\n",
       "    }\n",
       "\n",
       "    .dataframe tbody tr th {\n",
       "        vertical-align: top;\n",
       "    }\n",
       "\n",
       "    .dataframe thead th {\n",
       "        text-align: right;\n",
       "    }\n",
       "</style>\n",
       "<table border=\"1\" class=\"dataframe\">\n",
       "  <thead>\n",
       "    <tr style=\"text-align: right;\">\n",
       "      <th></th>\n",
       "      <th>Time</th>\n",
       "      <th>Date</th>\n",
       "      <th>Day of the week</th>\n",
       "      <th>CarCount</th>\n",
       "      <th>BikeCount</th>\n",
       "      <th>BusCount</th>\n",
       "      <th>TruckCount</th>\n",
       "      <th>Total</th>\n",
       "      <th>Traffic Situation</th>\n",
       "    </tr>\n",
       "  </thead>\n",
       "  <tbody>\n",
       "    <tr>\n",
       "      <th>0</th>\n",
       "      <td>12:00:00 AM</td>\n",
       "      <td>10</td>\n",
       "      <td>Tuesday</td>\n",
       "      <td>13</td>\n",
       "      <td>2</td>\n",
       "      <td>2</td>\n",
       "      <td>24</td>\n",
       "      <td>41</td>\n",
       "      <td>normal</td>\n",
       "    </tr>\n",
       "    <tr>\n",
       "      <th>1</th>\n",
       "      <td>12:15:00 AM</td>\n",
       "      <td>10</td>\n",
       "      <td>Tuesday</td>\n",
       "      <td>14</td>\n",
       "      <td>1</td>\n",
       "      <td>1</td>\n",
       "      <td>36</td>\n",
       "      <td>52</td>\n",
       "      <td>normal</td>\n",
       "    </tr>\n",
       "    <tr>\n",
       "      <th>2</th>\n",
       "      <td>12:30:00 AM</td>\n",
       "      <td>10</td>\n",
       "      <td>Tuesday</td>\n",
       "      <td>10</td>\n",
       "      <td>2</td>\n",
       "      <td>2</td>\n",
       "      <td>32</td>\n",
       "      <td>46</td>\n",
       "      <td>normal</td>\n",
       "    </tr>\n",
       "    <tr>\n",
       "      <th>3</th>\n",
       "      <td>12:45:00 AM</td>\n",
       "      <td>10</td>\n",
       "      <td>Tuesday</td>\n",
       "      <td>10</td>\n",
       "      <td>2</td>\n",
       "      <td>2</td>\n",
       "      <td>36</td>\n",
       "      <td>50</td>\n",
       "      <td>normal</td>\n",
       "    </tr>\n",
       "    <tr>\n",
       "      <th>4</th>\n",
       "      <td>1:00:00 AM</td>\n",
       "      <td>10</td>\n",
       "      <td>Tuesday</td>\n",
       "      <td>11</td>\n",
       "      <td>2</td>\n",
       "      <td>1</td>\n",
       "      <td>34</td>\n",
       "      <td>48</td>\n",
       "      <td>normal</td>\n",
       "    </tr>\n",
       "  </tbody>\n",
       "</table>\n",
       "</div>"
      ],
      "text/plain": [
       "          Time  Date Day of the week  CarCount  BikeCount  BusCount  \\\n",
       "0  12:00:00 AM    10         Tuesday        13          2         2   \n",
       "1  12:15:00 AM    10         Tuesday        14          1         1   \n",
       "2  12:30:00 AM    10         Tuesday        10          2         2   \n",
       "3  12:45:00 AM    10         Tuesday        10          2         2   \n",
       "4   1:00:00 AM    10         Tuesday        11          2         1   \n",
       "\n",
       "   TruckCount  Total Traffic Situation  \n",
       "0          24     41            normal  \n",
       "1          36     52            normal  \n",
       "2          32     46            normal  \n",
       "3          36     50            normal  \n",
       "4          34     48            normal  "
      ]
     },
     "execution_count": 175,
     "metadata": {},
     "output_type": "execute_result"
    }
   ],
   "source": [
    "df.head()"
   ]
  },
  {
   "cell_type": "code",
   "execution_count": 176,
   "id": "9c457e7f",
   "metadata": {},
   "outputs": [
    {
     "data": {
      "text/html": [
       "<div>\n",
       "<style scoped>\n",
       "    .dataframe tbody tr th:only-of-type {\n",
       "        vertical-align: middle;\n",
       "    }\n",
       "\n",
       "    .dataframe tbody tr th {\n",
       "        vertical-align: top;\n",
       "    }\n",
       "\n",
       "    .dataframe thead th {\n",
       "        text-align: right;\n",
       "    }\n",
       "</style>\n",
       "<table border=\"1\" class=\"dataframe\">\n",
       "  <thead>\n",
       "    <tr style=\"text-align: right;\">\n",
       "      <th></th>\n",
       "      <th>Time</th>\n",
       "      <th>Date</th>\n",
       "      <th>Day of the week</th>\n",
       "      <th>CarCount</th>\n",
       "      <th>BikeCount</th>\n",
       "      <th>BusCount</th>\n",
       "      <th>TruckCount</th>\n",
       "      <th>Total</th>\n",
       "      <th>Traffic Situation</th>\n",
       "    </tr>\n",
       "  </thead>\n",
       "  <tbody>\n",
       "    <tr>\n",
       "      <th>6274</th>\n",
       "      <td>6:45:00 PM</td>\n",
       "      <td>5</td>\n",
       "      <td>Sunday</td>\n",
       "      <td>78</td>\n",
       "      <td>15</td>\n",
       "      <td>14</td>\n",
       "      <td>28</td>\n",
       "      <td>135</td>\n",
       "      <td>high</td>\n",
       "    </tr>\n",
       "    <tr>\n",
       "      <th>3923</th>\n",
       "      <td>8:45:00 PM</td>\n",
       "      <td>19</td>\n",
       "      <td>Thursday</td>\n",
       "      <td>60</td>\n",
       "      <td>18</td>\n",
       "      <td>11</td>\n",
       "      <td>16</td>\n",
       "      <td>105</td>\n",
       "      <td>low</td>\n",
       "    </tr>\n",
       "    <tr>\n",
       "      <th>5498</th>\n",
       "      <td>6:30:00 AM</td>\n",
       "      <td>5</td>\n",
       "      <td>Sunday</td>\n",
       "      <td>119</td>\n",
       "      <td>31</td>\n",
       "      <td>36</td>\n",
       "      <td>5</td>\n",
       "      <td>191</td>\n",
       "      <td>heavy</td>\n",
       "    </tr>\n",
       "    <tr>\n",
       "      <th>6259</th>\n",
       "      <td>4:15:00 AM</td>\n",
       "      <td>4</td>\n",
       "      <td>Saturday</td>\n",
       "      <td>74</td>\n",
       "      <td>4</td>\n",
       "      <td>4</td>\n",
       "      <td>13</td>\n",
       "      <td>95</td>\n",
       "      <td>normal</td>\n",
       "    </tr>\n",
       "    <tr>\n",
       "      <th>1424</th>\n",
       "      <td>8:00:00 PM</td>\n",
       "      <td>24</td>\n",
       "      <td>Tuesday</td>\n",
       "      <td>59</td>\n",
       "      <td>14</td>\n",
       "      <td>9</td>\n",
       "      <td>10</td>\n",
       "      <td>92</td>\n",
       "      <td>low</td>\n",
       "    </tr>\n",
       "    <tr>\n",
       "      <th>480</th>\n",
       "      <td>12:00:00 AM</td>\n",
       "      <td>15</td>\n",
       "      <td>Sunday</td>\n",
       "      <td>11</td>\n",
       "      <td>2</td>\n",
       "      <td>0</td>\n",
       "      <td>35</td>\n",
       "      <td>48</td>\n",
       "      <td>normal</td>\n",
       "    </tr>\n",
       "    <tr>\n",
       "      <th>3228</th>\n",
       "      <td>3:00:00 PM</td>\n",
       "      <td>12</td>\n",
       "      <td>Thursday</td>\n",
       "      <td>86</td>\n",
       "      <td>28</td>\n",
       "      <td>13</td>\n",
       "      <td>5</td>\n",
       "      <td>132</td>\n",
       "      <td>normal</td>\n",
       "    </tr>\n",
       "    <tr>\n",
       "      <th>4547</th>\n",
       "      <td>8:45:00 AM</td>\n",
       "      <td>26</td>\n",
       "      <td>Thursday</td>\n",
       "      <td>132</td>\n",
       "      <td>10</td>\n",
       "      <td>49</td>\n",
       "      <td>0</td>\n",
       "      <td>191</td>\n",
       "      <td>heavy</td>\n",
       "    </tr>\n",
       "    <tr>\n",
       "      <th>5728</th>\n",
       "      <td>4:00:00 PM</td>\n",
       "      <td>7</td>\n",
       "      <td>Tuesday</td>\n",
       "      <td>120</td>\n",
       "      <td>32</td>\n",
       "      <td>39</td>\n",
       "      <td>9</td>\n",
       "      <td>200</td>\n",
       "      <td>heavy</td>\n",
       "    </tr>\n",
       "    <tr>\n",
       "      <th>1550</th>\n",
       "      <td>3:30:00 AM</td>\n",
       "      <td>26</td>\n",
       "      <td>Thursday</td>\n",
       "      <td>13</td>\n",
       "      <td>1</td>\n",
       "      <td>1</td>\n",
       "      <td>22</td>\n",
       "      <td>37</td>\n",
       "      <td>normal</td>\n",
       "    </tr>\n",
       "  </tbody>\n",
       "</table>\n",
       "</div>"
      ],
      "text/plain": [
       "             Time  Date Day of the week  CarCount  BikeCount  BusCount  \\\n",
       "6274   6:45:00 PM     5          Sunday        78         15        14   \n",
       "3923   8:45:00 PM    19        Thursday        60         18        11   \n",
       "5498   6:30:00 AM     5          Sunday       119         31        36   \n",
       "6259   4:15:00 AM     4        Saturday        74          4         4   \n",
       "1424   8:00:00 PM    24         Tuesday        59         14         9   \n",
       "480   12:00:00 AM    15          Sunday        11          2         0   \n",
       "3228   3:00:00 PM    12        Thursday        86         28        13   \n",
       "4547   8:45:00 AM    26        Thursday       132         10        49   \n",
       "5728   4:00:00 PM     7         Tuesday       120         32        39   \n",
       "1550   3:30:00 AM    26        Thursday        13          1         1   \n",
       "\n",
       "      TruckCount  Total Traffic Situation  \n",
       "6274          28    135              high  \n",
       "3923          16    105               low  \n",
       "5498           5    191             heavy  \n",
       "6259          13     95            normal  \n",
       "1424          10     92               low  \n",
       "480           35     48            normal  \n",
       "3228           5    132            normal  \n",
       "4547           0    191             heavy  \n",
       "5728           9    200             heavy  \n",
       "1550          22     37            normal  "
      ]
     },
     "execution_count": 176,
     "metadata": {},
     "output_type": "execute_result"
    }
   ],
   "source": [
    "df.sample(10)"
   ]
  },
  {
   "cell_type": "markdown",
   "id": "41f23906",
   "metadata": {
    "id": "41f23906"
   },
   "source": [
    "# Exploratory Data Analysis (EDA)\n",
    "\n",
    "Below are some steps and visualizations to perform EDA on the dataset:\n",
    "\n",
    "1. **Summary Statistics**: Obtain summary statistics for the dataset to understand the central tendencies and dispersion of numerical features.describe()\n",
    "\n",
    "2. **Distribution of the Target Variable**: Analyze the distribution of the target variable `Traffic Situation` to understand the class balance.\n",
    "\n",
    "3. **Correlation Analysis**: Analyze correlations between features."
   ]
  },
  {
   "cell_type": "code",
   "execution_count": 177,
   "id": "140e99fb",
   "metadata": {
    "id": "140e99fb"
   },
   "outputs": [
    {
     "data": {
      "text/html": [
       "<div>\n",
       "<style scoped>\n",
       "    .dataframe tbody tr th:only-of-type {\n",
       "        vertical-align: middle;\n",
       "    }\n",
       "\n",
       "    .dataframe tbody tr th {\n",
       "        vertical-align: top;\n",
       "    }\n",
       "\n",
       "    .dataframe thead th {\n",
       "        text-align: right;\n",
       "    }\n",
       "</style>\n",
       "<table border=\"1\" class=\"dataframe\">\n",
       "  <thead>\n",
       "    <tr style=\"text-align: right;\">\n",
       "      <th></th>\n",
       "      <th>Date</th>\n",
       "      <th>CarCount</th>\n",
       "      <th>BikeCount</th>\n",
       "      <th>BusCount</th>\n",
       "      <th>TruckCount</th>\n",
       "      <th>Total</th>\n",
       "    </tr>\n",
       "  </thead>\n",
       "  <tbody>\n",
       "    <tr>\n",
       "      <th>count</th>\n",
       "      <td>6324.000000</td>\n",
       "      <td>6324.000000</td>\n",
       "      <td>6324.000000</td>\n",
       "      <td>6324.000000</td>\n",
       "      <td>6324.000000</td>\n",
       "      <td>6324.000000</td>\n",
       "    </tr>\n",
       "    <tr>\n",
       "      <th>mean</th>\n",
       "      <td>16.043327</td>\n",
       "      <td>64.355629</td>\n",
       "      <td>12.013283</td>\n",
       "      <td>12.557875</td>\n",
       "      <td>18.658128</td>\n",
       "      <td>107.584915</td>\n",
       "    </tr>\n",
       "    <tr>\n",
       "      <th>std</th>\n",
       "      <td>8.956907</td>\n",
       "      <td>44.307088</td>\n",
       "      <td>11.363955</td>\n",
       "      <td>12.319831</td>\n",
       "      <td>10.724822</td>\n",
       "      <td>55.850784</td>\n",
       "    </tr>\n",
       "    <tr>\n",
       "      <th>min</th>\n",
       "      <td>1.000000</td>\n",
       "      <td>5.000000</td>\n",
       "      <td>0.000000</td>\n",
       "      <td>0.000000</td>\n",
       "      <td>0.000000</td>\n",
       "      <td>21.000000</td>\n",
       "    </tr>\n",
       "    <tr>\n",
       "      <th>25%</th>\n",
       "      <td>8.000000</td>\n",
       "      <td>18.000000</td>\n",
       "      <td>3.000000</td>\n",
       "      <td>1.000000</td>\n",
       "      <td>10.000000</td>\n",
       "      <td>53.000000</td>\n",
       "    </tr>\n",
       "    <tr>\n",
       "      <th>50%</th>\n",
       "      <td>16.000000</td>\n",
       "      <td>61.000000</td>\n",
       "      <td>9.000000</td>\n",
       "      <td>10.000000</td>\n",
       "      <td>18.000000</td>\n",
       "      <td>103.000000</td>\n",
       "    </tr>\n",
       "    <tr>\n",
       "      <th>75%</th>\n",
       "      <td>24.000000</td>\n",
       "      <td>101.250000</td>\n",
       "      <td>19.000000</td>\n",
       "      <td>20.000000</td>\n",
       "      <td>27.000000</td>\n",
       "      <td>151.000000</td>\n",
       "    </tr>\n",
       "    <tr>\n",
       "      <th>max</th>\n",
       "      <td>31.000000</td>\n",
       "      <td>180.000000</td>\n",
       "      <td>70.000000</td>\n",
       "      <td>50.000000</td>\n",
       "      <td>60.000000</td>\n",
       "      <td>279.000000</td>\n",
       "    </tr>\n",
       "  </tbody>\n",
       "</table>\n",
       "</div>"
      ],
      "text/plain": [
       "              Date     CarCount    BikeCount     BusCount   TruckCount  \\\n",
       "count  6324.000000  6324.000000  6324.000000  6324.000000  6324.000000   \n",
       "mean     16.043327    64.355629    12.013283    12.557875    18.658128   \n",
       "std       8.956907    44.307088    11.363955    12.319831    10.724822   \n",
       "min       1.000000     5.000000     0.000000     0.000000     0.000000   \n",
       "25%       8.000000    18.000000     3.000000     1.000000    10.000000   \n",
       "50%      16.000000    61.000000     9.000000    10.000000    18.000000   \n",
       "75%      24.000000   101.250000    19.000000    20.000000    27.000000   \n",
       "max      31.000000   180.000000    70.000000    50.000000    60.000000   \n",
       "\n",
       "             Total  \n",
       "count  6324.000000  \n",
       "mean    107.584915  \n",
       "std      55.850784  \n",
       "min      21.000000  \n",
       "25%      53.000000  \n",
       "50%     103.000000  \n",
       "75%     151.000000  \n",
       "max     279.000000  "
      ]
     },
     "execution_count": 177,
     "metadata": {},
     "output_type": "execute_result"
    }
   ],
   "source": [
    "#Summary Statistics\n",
    "df.describe()"
   ]
  },
  {
   "cell_type": "code",
   "execution_count": 178,
   "id": "226e772f",
   "metadata": {},
   "outputs": [
    {
     "data": {
      "text/plain": [
       "<Axes: xlabel='Traffic Situation'>"
      ]
     },
     "execution_count": 178,
     "metadata": {},
     "output_type": "execute_result"
    },
    {
     "data": {
      "image/png": "[encoded data removed]",
      "text/plain": [
       "<Figure size 640x480 with 1 Axes>"
      ]
     },
     "metadata": {},
     "output_type": "display_data"
    }
   ],
   "source": [
    "#Distribution of the Target Variable (Traffic Situation)\n",
    "(df['Traffic Situation'].value_counts()/len(df)).plot.bar()"
   ]
  },
  {
   "cell_type": "code",
   "execution_count": 203,
   "id": "16c7f292",
   "metadata": {},
   "outputs": [
    {
     "data": {
      "text/html": [
       "<div>\n",
       "<style scoped>\n",
       "    .dataframe tbody tr th:only-of-type {\n",
       "        vertical-align: middle;\n",
       "    }\n",
       "\n",
       "    .dataframe tbody tr th {\n",
       "        vertical-align: top;\n",
       "    }\n",
       "\n",
       "    .dataframe thead th {\n",
       "        text-align: right;\n",
       "    }\n",
       "</style>\n",
       "<table border=\"1\" class=\"dataframe\">\n",
       "  <thead>\n",
       "    <tr style=\"text-align: right;\">\n",
       "      <th></th>\n",
       "      <th>Date</th>\n",
       "      <th>CarCount</th>\n",
       "      <th>BikeCount</th>\n",
       "      <th>BusCount</th>\n",
       "      <th>TruckCount</th>\n",
       "      <th>Total</th>\n",
       "      <th>Hour</th>\n",
       "      <th>Day of the week encode</th>\n",
       "      <th>Traffic Situation encode</th>\n",
       "    </tr>\n",
       "  </thead>\n",
       "  <tbody>\n",
       "    <tr>\n",
       "      <th>Date</th>\n",
       "      <td>1.000000</td>\n",
       "      <td>-0.010507</td>\n",
       "      <td>-0.001985</td>\n",
       "      <td>-0.006166</td>\n",
       "      <td>0.021137</td>\n",
       "      <td>-0.006041</td>\n",
       "      <td>0.000700</td>\n",
       "      <td>-0.118882</td>\n",
       "      <td>0.009278</td>\n",
       "    </tr>\n",
       "    <tr>\n",
       "      <th>CarCount</th>\n",
       "      <td>-0.010507</td>\n",
       "      <td>1.000000</td>\n",
       "      <td>0.705941</td>\n",
       "      <td>0.664491</td>\n",
       "      <td>-0.583984</td>\n",
       "      <td>0.971386</td>\n",
       "      <td>0.166163</td>\n",
       "      <td>0.013478</td>\n",
       "      <td>-0.686521</td>\n",
       "    </tr>\n",
       "    <tr>\n",
       "      <th>BikeCount</th>\n",
       "      <td>-0.001985</td>\n",
       "      <td>0.705941</td>\n",
       "      <td>1.000000</td>\n",
       "      <td>0.581289</td>\n",
       "      <td>-0.585670</td>\n",
       "      <td>0.779261</td>\n",
       "      <td>0.129568</td>\n",
       "      <td>-0.087412</td>\n",
       "      <td>-0.575332</td>\n",
       "    </tr>\n",
       "    <tr>\n",
       "      <th>BusCount</th>\n",
       "      <td>-0.006166</td>\n",
       "      <td>0.664491</td>\n",
       "      <td>0.581289</td>\n",
       "      <td>1.000000</td>\n",
       "      <td>-0.533847</td>\n",
       "      <td>0.763496</td>\n",
       "      <td>0.191248</td>\n",
       "      <td>0.115630</td>\n",
       "      <td>-0.614372</td>\n",
       "    </tr>\n",
       "    <tr>\n",
       "      <th>TruckCount</th>\n",
       "      <td>0.021137</td>\n",
       "      <td>-0.583984</td>\n",
       "      <td>-0.585670</td>\n",
       "      <td>-0.533847</td>\n",
       "      <td>1.000000</td>\n",
       "      <td>-0.508179</td>\n",
       "      <td>-0.008216</td>\n",
       "      <td>0.022574</td>\n",
       "      <td>0.454704</td>\n",
       "    </tr>\n",
       "    <tr>\n",
       "      <th>Total</th>\n",
       "      <td>-0.006041</td>\n",
       "      <td>0.971386</td>\n",
       "      <td>0.779261</td>\n",
       "      <td>0.763496</td>\n",
       "      <td>-0.508179</td>\n",
       "      <td>1.000000</td>\n",
       "      <td>0.198791</td>\n",
       "      <td>0.022747</td>\n",
       "      <td>-0.709894</td>\n",
       "    </tr>\n",
       "    <tr>\n",
       "      <th>Hour</th>\n",
       "      <td>0.000700</td>\n",
       "      <td>0.166163</td>\n",
       "      <td>0.129568</td>\n",
       "      <td>0.191248</td>\n",
       "      <td>-0.008216</td>\n",
       "      <td>0.198791</td>\n",
       "      <td>1.000000</td>\n",
       "      <td>0.010527</td>\n",
       "      <td>-0.099126</td>\n",
       "    </tr>\n",
       "    <tr>\n",
       "      <th>Day of the week encode</th>\n",
       "      <td>-0.118882</td>\n",
       "      <td>0.013478</td>\n",
       "      <td>-0.087412</td>\n",
       "      <td>0.115630</td>\n",
       "      <td>0.022574</td>\n",
       "      <td>0.022747</td>\n",
       "      <td>0.010527</td>\n",
       "      <td>1.000000</td>\n",
       "      <td>0.024173</td>\n",
       "    </tr>\n",
       "    <tr>\n",
       "      <th>Traffic Situation encode</th>\n",
       "      <td>0.009278</td>\n",
       "      <td>-0.686521</td>\n",
       "      <td>-0.575332</td>\n",
       "      <td>-0.614372</td>\n",
       "      <td>0.454704</td>\n",
       "      <td>-0.709894</td>\n",
       "      <td>-0.099126</td>\n",
       "      <td>0.024173</td>\n",
       "      <td>1.000000</td>\n",
       "    </tr>\n",
       "  </tbody>\n",
       "</table>\n",
       "</div>"
      ],
      "text/plain": [
       "                              Date  CarCount  BikeCount  BusCount  TruckCount  \\\n",
       "Date                      1.000000 -0.010507  -0.001985 -0.006166    0.021137   \n",
       "CarCount                 -0.010507  1.000000   0.705941  0.664491   -0.583984   \n",
       "BikeCount                -0.001985  0.705941   1.000000  0.581289   -0.585670   \n",
       "BusCount                 -0.006166  0.664491   0.581289  1.000000   -0.533847   \n",
       "TruckCount                0.021137 -0.583984  -0.585670 -0.533847    1.000000   \n",
       "Total                    -0.006041  0.971386   0.779261  0.763496   -0.508179   \n",
       "Hour                      0.000700  0.166163   0.129568  0.191248   -0.008216   \n",
       "Day of the week encode   -0.118882  0.013478  -0.087412  0.115630    0.022574   \n",
       "Traffic Situation encode  0.009278 -0.686521  -0.575332 -0.614372    0.454704   \n",
       "\n",
       "                             Total      Hour  Day of the week encode  \\\n",
       "Date                     -0.006041  0.000700               -0.118882   \n",
       "CarCount                  0.971386  0.166163                0.013478   \n",
       "BikeCount                 0.779261  0.129568               -0.087412   \n",
       "BusCount                  0.763496  0.191248                0.115630   \n",
       "TruckCount               -0.508179 -0.008216                0.022574   \n",
       "Total                     1.000000  0.198791                0.022747   \n",
       "Hour                      0.198791  1.000000                0.010527   \n",
       "Day of the week encode    0.022747  0.010527                1.000000   \n",
       "Traffic Situation encode -0.709894 -0.099126                0.024173   \n",
       "\n",
       "                          Traffic Situation encode  \n",
       "Date                                      0.009278  \n",
       "CarCount                                 -0.686521  \n",
       "BikeCount                                -0.575332  \n",
       "BusCount                                 -0.614372  \n",
       "TruckCount                                0.454704  \n",
       "Total                                    -0.709894  \n",
       "Hour                                     -0.099126  \n",
       "Day of the week encode                    0.024173  \n",
       "Traffic Situation encode                  1.000000  "
      ]
     },
     "execution_count": 203,
     "metadata": {},
     "output_type": "execute_result"
    }
   ],
   "source": [
    "#Correlation Analysis\n",
    "num_col=df.select_dtypes(include=\"number\")\n",
    "correlation=num_col.corr()\n",
    "correlation"
   ]
  },
  {
   "cell_type": "markdown",
   "id": "c0e69164",
   "metadata": {
    "id": "c0e69164"
   },
   "source": [
    "# Preprocess the data (if necessary)\n",
    "\n",
    "Before building models, it's crucial to preprocess the data to ensure it's clean and suitable for training. Follow these steps to prepare the dataset:\n",
    "\n",
    "1. **Check for Missing Values**: Determine if there are any missing values in the dataset and handle them appropriately. You can choose to fill them with a mean, median, or mode value, or drop rows with missing values if necessary.\n",
    "\n",
    "2. **Encode Categorical Variables**: Convert categorical variables into numerical representations. This can be done using techniques such as one-hot encoding and lable-encoder.\n",
    "\n",
    "3. **Feature Scaling**: Standardize or Normalize numerical features if needed to have a consistent scale.\n",
    "\n",
    "4. **Remove Unnecessary Columns**: Drop any columns that are not relevant for modeling."
   ]
  },
  {
   "cell_type": "code",
   "execution_count": 180,
   "id": "1c56d9ea",
   "metadata": {
    "id": "1c56d9ea"
   },
   "outputs": [
    {
     "data": {
      "text/plain": [
       "Time                 0\n",
       "Date                 0\n",
       "Day of the week      0\n",
       "CarCount             0\n",
       "BikeCount            0\n",
       "BusCount             0\n",
       "TruckCount           0\n",
       "Total                0\n",
       "Traffic Situation    0\n",
       "dtype: int64"
      ]
     },
     "execution_count": 180,
     "metadata": {},
     "output_type": "execute_result"
    }
   ],
   "source": [
    "df.isna().sum()"
   ]
  },
  {
   "cell_type": "code",
   "execution_count": 181,
   "id": "1f37aa7f",
   "metadata": {},
   "outputs": [
    {
     "data": {
      "text/plain": [
       "0"
      ]
     },
     "execution_count": 181,
     "metadata": {},
     "output_type": "execute_result"
    }
   ],
   "source": [
    "df.duplicated().sum()"
   ]
  },
  {
   "cell_type": "code",
   "execution_count": 182,
   "id": "e9572ecb",
   "metadata": {},
   "outputs": [
    {
     "name": "stdout",
     "output_type": "stream",
     "text": [
      "<class 'pandas.core.frame.DataFrame'>\n",
      "RangeIndex: 6324 entries, 0 to 6323\n",
      "Data columns (total 9 columns):\n",
      " #   Column             Non-Null Count  Dtype \n",
      "---  ------             --------------  ----- \n",
      " 0   Time               6324 non-null   object\n",
      " 1   Date               6324 non-null   int64 \n",
      " 2   Day of the week    6324 non-null   object\n",
      " 3   CarCount           6324 non-null   int64 \n",
      " 4   BikeCount          6324 non-null   int64 \n",
      " 5   BusCount           6324 non-null   int64 \n",
      " 6   TruckCount         6324 non-null   int64 \n",
      " 7   Total              6324 non-null   int64 \n",
      " 8   Traffic Situation  6324 non-null   object\n",
      "dtypes: int64(6), object(3)\n",
      "memory usage: 444.8+ KB\n"
     ]
    }
   ],
   "source": [
    "df.info()"
   ]
  },
  {
   "cell_type": "code",
   "execution_count": 183,
   "id": "89b12027",
   "metadata": {},
   "outputs": [
    {
     "name": "stderr",
     "output_type": "stream",
     "text": [
      "C:\\Users\\hayoo\\AppData\\Local\\Temp\\ipykernel_39200\\3907310423.py:1: UserWarning: Could not infer format, so each element will be parsed individually, falling back to `dateutil`. To ensure parsing is consistent and as-expected, please specify a format.\n",
      "  df['Time']=pd.to_datetime(df['Time'])\n"
     ]
    }
   ],
   "source": [
    "df['Time']=pd.to_datetime(df['Time'])"
   ]
  },
  {
   "cell_type": "code",
   "execution_count": 184,
   "id": "01583cff",
   "metadata": {},
   "outputs": [],
   "source": [
    "df['Hour']=df['Time'].dt.hour"
   ]
  },
  {
   "cell_type": "code",
   "execution_count": 185,
   "id": "1e480c97",
   "metadata": {},
   "outputs": [],
   "source": [
    "df=df.drop(columns='Time', axis=1)"
   ]
  },
  {
   "cell_type": "code",
   "execution_count": 186,
   "id": "c1712441",
   "metadata": {},
   "outputs": [],
   "source": [
    "#Encode Categorical Variables\n",
    "encoder=LabelEncoder()\n",
    "df['Day of the week encode']=encoder.fit_transform(df['Day of the week'])\n",
    "df['Traffic Situation encode']=encoder.fit_transform(df['Traffic Situation'])"
   ]
  },
  {
   "cell_type": "markdown",
   "id": "15d85221",
   "metadata": {
    "id": "15d85221"
   },
   "source": [
    "# Visualize the Data\n",
    "\n",
    "Visualizing the data helps in understanding the relationships between features and the target variable. Below are some common visualizations that can be used to gain insights into the dataset:\n",
    "\n",
    "1. **Count Plots for Categorical Features**: Use count plots to visualize the frequency of categorical features such as the `Traffic Situation`.\n",
    "\n",
    "2. **Correlation Heatmap**: Create a heatmap to visualize the correlation between numerical features and identify any strong relationships."
   ]
  },
  {
   "cell_type": "code",
   "execution_count": 187,
   "id": "13139d77",
   "metadata": {},
   "outputs": [
    {
     "data": {
      "text/plain": [
       "<Axes: xlabel='Traffic Situation', ylabel='count'>"
      ]
     },
     "execution_count": 187,
     "metadata": {},
     "output_type": "execute_result"
    },
    {
     "data": {
      "image/png": "[encoded data removed]",
      "text/plain": [
       "<Figure size 640x480 with 1 Axes>"
      ]
     },
     "metadata": {},
     "output_type": "display_data"
    }
   ],
   "source": [
    "sns.countplot(x=\"Traffic Situation\", data=df)"
   ]
  },
  {
   "cell_type": "code",
   "execution_count": 188,
   "id": "8576f651",
   "metadata": {},
   "outputs": [
    {
     "data": {
      "text/plain": [
       "<Axes: xlabel='Day of the week', ylabel='count'>"
      ]
     },
     "execution_count": 188,
     "metadata": {},
     "output_type": "execute_result"
    },
    {
     "data": {
      "image/png": "[encoded data removed]",
      "text/plain": [
       "<Figure size 640x480 with 1 Axes>"
      ]
     },
     "metadata": {},
     "output_type": "display_data"
    }
   ],
   "source": [
    "sns.countplot(x=\"Day of the week\", data=df)"
   ]
  },
  {
   "cell_type": "code",
   "execution_count": 204,
   "id": "ba0f3131",
   "metadata": {},
   "outputs": [
    {
     "data": {
      "text/plain": [
       "<Axes: >"
      ]
     },
     "execution_count": 204,
     "metadata": {},
     "output_type": "execute_result"
    },
    {
     "data": {
      "image/png": "[encoded data removed]",
      "text/plain": [
       "<Figure size 640x480 with 2 Axes>"
      ]
     },
     "metadata": {},
     "output_type": "display_data"
    }
   ],
   "source": [
    "sns.heatmap(correlation, annot=True)"
   ]
  },
  {
   "cell_type": "markdown",
   "id": "2104eb8e",
   "metadata": {
    "id": "2104eb8e"
   },
   "source": [
    "# Split the Dataset\n",
    "\n",
    "1. **Define Features and Target**: Separate the dataset into features (`X`) and the target variable (`y`).\n",
    "\n",
    "2. **Train-Test Split**: Use the `train_test_split` function from `sklearn.model_selection` to split the data."
   ]
  },
  {
   "cell_type": "code",
   "execution_count": 205,
   "id": "f3a3d4e9",
   "metadata": {
    "id": "f3a3d4e9"
   },
   "outputs": [],
   "source": [
    "drop_col=['Day of the week','Traffic Situation','Traffic Situation encode']\n",
    "X= df.drop(columns=drop_col, axis=1)\n",
    "y=df['Traffic Situation encode']"
   ]
  },
  {
   "cell_type": "code",
   "execution_count": 206,
   "id": "a9630b06",
   "metadata": {},
   "outputs": [],
   "source": [
    "#Feature Scaling\n",
    "scaler=StandardScaler()\n",
    "X=scaler.fit_transform(X)"
   ]
  },
  {
   "cell_type": "code",
   "execution_count": 207,
   "id": "103869bf",
   "metadata": {},
   "outputs": [],
   "source": [
    "X_train, X_test, y_train, y_test = train_test_split(X, y, test_size=0.2, random_state=42)"
   ]
  },
  {
   "cell_type": "markdown",
   "id": "bdcb9a0a",
   "metadata": {
    "id": "bdcb9a0a"
   },
   "source": [
    "# Initialize and Train the Classifiers"
   ]
  },
  {
   "cell_type": "markdown",
   "id": "ea773220",
   "metadata": {
    "id": "ea773220"
   },
   "source": [
    "## Bagging\n",
    "Chose the bagging model to go with and initialize and train a the model."
   ]
  },
  {
   "cell_type": "code",
   "execution_count": 208,
   "id": "3e29fd42",
   "metadata": {
    "id": "3e29fd42"
   },
   "outputs": [],
   "source": [
    "bc_model = BaggingClassifier()\n",
    "bc_model.fit(X_train, y_train)\n",
    "bc_y_pred=bc_model.predict(X_test)"
   ]
  },
  {
   "cell_type": "markdown",
   "id": "fb3a2438",
   "metadata": {
    "id": "fb3a2438"
   },
   "source": [
    "### Evaluate the model performance"
   ]
  },
  {
   "cell_type": "code",
   "execution_count": 209,
   "id": "38d965b4",
   "metadata": {
    "id": "38d965b4"
   },
   "outputs": [
    {
     "data": {
      "text/plain": [
       "0.9003952569169961"
      ]
     },
     "execution_count": 209,
     "metadata": {},
     "output_type": "execute_result"
    }
   ],
   "source": [
    "accuracy_score(y_test, bc_y_pred)"
   ]
  },
  {
   "cell_type": "markdown",
   "id": "1790e79e",
   "metadata": {
    "id": "1790e79e"
   },
   "source": [
    "## Boosting\n",
    "Chose the Boosting model to go with and initialize and train a the model."
   ]
  },
  {
   "cell_type": "code",
   "execution_count": 210,
   "id": "bd8ef061",
   "metadata": {
    "id": "bd8ef061"
   },
   "outputs": [
    {
     "data": {
      "text/html": [
       "<style>#sk-container-id-7 {color: black;background-color: white;}#sk-container-id-7 pre{padding: 0;}#sk-container-id-7 div.sk-toggleable {background-color: white;}#sk-container-id-7 label.sk-toggleable__label {cursor: pointer;display: block;width: 100%;margin-bottom: 0;padding: 0.3em;box-sizing: border-box;text-align: center;}#sk-container-id-7 label.sk-toggleable__label-arrow:before {content: \"▸\";float: left;margin-right: 0.25em;color: #696969;}#sk-container-id-7 label.sk-toggleable__label-arrow:hover:before {color: black;}#sk-container-id-7 div.sk-estimator:hover label.sk-toggleable__label-arrow:before {color: black;}#sk-container-id-7 div.sk-toggleable__content {max-height: 0;max-width: 0;overflow: hidden;text-align: left;background-color: #f0f8ff;}#sk-container-id-7 div.sk-toggleable__content pre {margin: 0.2em;color: black;border-radius: 0.25em;background-color: #f0f8ff;}#sk-container-id-7 input.sk-toggleable__control:checked~div.sk-toggleable__content {max-height: 200px;max-width: 100%;overflow: auto;}#sk-container-id-7 input.sk-toggleable__control:checked~label.sk-toggleable__label-arrow:before {content: \"▾\";}#sk-container-id-7 div.sk-estimator input.sk-toggleable__control:checked~label.sk-toggleable__label {background-color: #d4ebff;}#sk-container-id-7 div.sk-label input.sk-toggleable__control:checked~label.sk-toggleable__label {background-color: #d4ebff;}#sk-container-id-7 input.sk-hidden--visually {border: 0;clip: rect(1px 1px 1px 1px);clip: rect(1px, 1px, 1px, 1px);height: 1px;margin: -1px;overflow: hidden;padding: 0;position: absolute;width: 1px;}#sk-container-id-7 div.sk-estimator {font-family: monospace;background-color: #f0f8ff;border: 1px dotted black;border-radius: 0.25em;box-sizing: border-box;margin-bottom: 0.5em;}#sk-container-id-7 div.sk-estimator:hover {background-color: #d4ebff;}#sk-container-id-7 div.sk-parallel-item::after {content: \"\";width: 100%;border-bottom: 1px solid gray;flex-grow: 1;}#sk-container-id-7 div.sk-label:hover label.sk-toggleable__label {background-color: #d4ebff;}#sk-container-id-7 div.sk-serial::before {content: \"\";position: absolute;border-left: 1px solid gray;box-sizing: border-box;top: 0;bottom: 0;left: 50%;z-index: 0;}#sk-container-id-7 div.sk-serial {display: flex;flex-direction: column;align-items: center;background-color: white;padding-right: 0.2em;padding-left: 0.2em;position: relative;}#sk-container-id-7 div.sk-item {position: relative;z-index: 1;}#sk-container-id-7 div.sk-parallel {display: flex;align-items: stretch;justify-content: center;background-color: white;position: relative;}#sk-container-id-7 div.sk-item::before, #sk-container-id-7 div.sk-parallel-item::before {content: \"\";position: absolute;border-left: 1px solid gray;box-sizing: border-box;top: 0;bottom: 0;left: 50%;z-index: -1;}#sk-container-id-7 div.sk-parallel-item {display: flex;flex-direction: column;z-index: 1;position: relative;background-color: white;}#sk-container-id-7 div.sk-parallel-item:first-child::after {align-self: flex-end;width: 50%;}#sk-container-id-7 div.sk-parallel-item:last-child::after {align-self: flex-start;width: 50%;}#sk-container-id-7 div.sk-parallel-item:only-child::after {width: 0;}#sk-container-id-7 div.sk-dashed-wrapped {border: 1px dashed gray;margin: 0 0.4em 0.5em 0.4em;box-sizing: border-box;padding-bottom: 0.4em;background-color: white;}#sk-container-id-7 div.sk-label label {font-family: monospace;font-weight: bold;display: inline-block;line-height: 1.2em;}#sk-container-id-7 div.sk-label-container {text-align: center;}#sk-container-id-7 div.sk-container {/* jupyter's `normalize.less` sets `[hidden] { display: none; }` but bootstrap.min.css set `[hidden] { display: none !important; }` so we also need the `!important` here to be able to override the default hidden behavior on the sphinx rendered scikit-learn.org. See: https://github.com/scikit-learn/scikit-learn/issues/21755 */display: inline-block !important;position: relative;}#sk-container-id-7 div.sk-text-repr-fallback {display: none;}</style><div id=\"sk-container-id-7\" class=\"sk-top-container\"><div class=\"sk-text-repr-fallback\"><pre>GradientBoostingClassifier()</pre><b>In a Jupyter environment, please rerun this cell to show the HTML representation or trust the notebook. <br />On GitHub, the HTML representation is unable to render, please try loading this page with nbviewer.org.</b></div><div class=\"sk-container\" hidden><div class=\"sk-item\"><div class=\"sk-estimator sk-toggleable\"><input class=\"sk-toggleable__control sk-hidden--visually\" id=\"sk-estimator-id-7\" type=\"checkbox\" checked><label for=\"sk-estimator-id-7\" class=\"sk-toggleable__label sk-toggleable__label-arrow\">GradientBoostingClassifier</label><div class=\"sk-toggleable__content\"><pre>GradientBoostingClassifier()</pre></div></div></div></div></div>"
      ],
      "text/plain": [
       "GradientBoostingClassifier()"
      ]
     },
     "execution_count": 210,
     "metadata": {},
     "output_type": "execute_result"
    }
   ],
   "source": [
    "gb_model = GradientBoostingClassifier()\n",
    "gb_model.fit(X_train, y_train)"
   ]
  },
  {
   "cell_type": "code",
   "execution_count": 211,
   "id": "cc107699",
   "metadata": {},
   "outputs": [],
   "source": [
    "gb_predict=gb_model.predict(X_test)"
   ]
  },
  {
   "cell_type": "markdown",
   "id": "6646ab65",
   "metadata": {
    "id": "6646ab65"
   },
   "source": [
    "### Evaluate the model performance"
   ]
  },
  {
   "cell_type": "code",
   "execution_count": 212,
   "id": "d9915c9c",
   "metadata": {
    "id": "d9915c9c"
   },
   "outputs": [
    {
     "data": {
      "text/plain": [
       "0.9146245059288538"
      ]
     },
     "execution_count": 212,
     "metadata": {},
     "output_type": "execute_result"
    }
   ],
   "source": [
    "accuracy_score(y_test, gb_predict)"
   ]
  },
  {
   "cell_type": "markdown",
   "id": "fc2255c5",
   "metadata": {
    "id": "fc2255c5"
   },
   "source": [
    "## Stacking Classifier\n",
    "Combine the previous classifiers as the base models using a Stacking Classifier."
   ]
  },
  {
   "cell_type": "code",
   "execution_count": 213,
   "id": "23b6f377",
   "metadata": {
    "id": "23b6f377"
   },
   "outputs": [],
   "source": [
    "estimators = [\n",
    "    ('bc', BaggingClassifier()),\n",
    "    ('gb', GradientBoostingClassifier())\n",
    "]"
   ]
  },
  {
   "cell_type": "markdown",
   "id": "cb295dff",
   "metadata": {
    "id": "cb295dff"
   },
   "source": [
    "### Define meta-learner (LogisticRegression)"
   ]
  },
  {
   "cell_type": "code",
   "execution_count": 214,
   "id": "7b4eb2a7",
   "metadata": {
    "id": "7b4eb2a7"
   },
   "outputs": [],
   "source": [
    "stacking_model = StackingClassifier(\n",
    "    estimators=estimators, final_estimator=LogisticRegression()\n",
    ")"
   ]
  },
  {
   "cell_type": "markdown",
   "id": "0f74e88d",
   "metadata": {
    "id": "0f74e88d"
   },
   "source": [
    "### Initialize and Train the Stacking Classifier\n",
    "\n",
    "Stacking combines multiple models (base learners) using a meta-learner. The meta-learner is trained on the predictions of the base learners to make the final prediction."
   ]
  },
  {
   "cell_type": "code",
   "execution_count": 217,
   "id": "c53f148a",
   "metadata": {
    "id": "c53f148a"
   },
   "outputs": [],
   "source": [
    "stacking_model.fit(X_train, y_train)\n",
    "\n",
    "stack_pred = stacking_model.predict(X_test)"
   ]
  },
  {
   "cell_type": "markdown",
   "id": "d24a1137",
   "metadata": {
    "id": "d24a1137"
   },
   "source": [
    "### Evaluate the model performance"
   ]
  },
  {
   "cell_type": "code",
   "execution_count": 218,
   "id": "4cd40cf6",
   "metadata": {
    "id": "4cd40cf6"
   },
   "outputs": [
    {
     "data": {
      "text/plain": [
       "0.9494071146245059"
      ]
     },
     "execution_count": 218,
     "metadata": {},
     "output_type": "execute_result"
    }
   ],
   "source": [
    "accuracy_score(y_test, stack_pred)"
   ]
  },
  {
   "cell_type": "markdown",
   "id": "4129f6a0",
   "metadata": {
    "id": "4129f6a0"
   },
   "source": [
    "# Notebook Questions:\n",
    "\n",
    "After completing the tasks in this notebook, take some time to reflect on the work you have done and answer the following questions. These questions are designed to help you think critically about the steps you took and the decisions you made.\n",
    "\n",
    "* **Feature Selection and Engineering**\n",
    "   - Which features did you find most important for predicting churn, and why do you think they are significant?\n",
    "   - Did you perform any feature engineering? If so, what new features did you create, and how did they improve the model performance?\n",
    "\n",
    "* **Model Selection**\n",
    "   - Why did you choose the specific ensemble methods you implemented? What are the advantages of using ensemble methods over single models?\n",
    "   - Compare the performance of different models you used. Which model performed the best, and what do you think contributed to its success?\n",
    "\n",
    "* **Model Evaluation**\n",
    "   - Which evaluation metrics did you use to assess the model performance, and why? What insights did these metrics provide about the models' strengths and weaknesses?\n"
   ]
  },
  {
   "cell_type": "markdown",
   "id": "5a4dd465",
   "metadata": {
    "id": "5a4dd465"
   },
   "source": [
    "# Answer here:"
   ]
  },
  {
   "cell_type": "markdown",
   "id": "e3f6bf58",
   "metadata": {
    "id": "e3f6bf58"
   },
   "source": []
  }
 ],
 "metadata": {
  "colab": {
   "provenance": []
  },
  "kernelspec": {
   "display_name": "Python 3 (ipykernel)",
   "language": "python",
   "name": "python3"
  },
  "language_info": {
   "codemirror_mode": {
    "name": "ipython",
    "version": 3
   },
   "file_extension": ".py",
   "mimetype": "text/x-python",
   "name": "python",
   "nbconvert_exporter": "python",
   "pygments_lexer": "ipython3",
   "version": "3.11.5"
  }
 },
 "nbformat": 4,
 "nbformat_minor": 5
}
