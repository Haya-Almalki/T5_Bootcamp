{
  "cells": [
    {
      "cell_type": "markdown",
      "id": "45fbb33b",
      "metadata": {
        "id": "45fbb33b"
      },
      "source": [
        "# LangChain Tutorial Exercises"
      ]
    },
    {
      "cell_type": "markdown",
      "id": "34a0df42",
      "metadata": {
        "id": "34a0df42"
      },
      "source": [
        "\n",
        "In this notebook, you will practice using LangChain to interact with large language models (LLMs),\n",
        "build chains, agents, and utilize memory. Fill in the code blocks with your implementations.\n"
      ]
    },
    {
      "cell_type": "markdown",
      "id": "169dd23c",
      "metadata": {
        "id": "169dd23c"
      },
      "source": [
        "## Exercise 1: Basic LLM Query"
      ]
    },
    {
      "cell_type": "markdown",
      "id": "bf03f4a7",
      "metadata": {
        "id": "bf03f4a7"
      },
      "source": [
        "In this exercise, you will set up a basic interaction with the GROQ LLaMA model using LangChain.\n",
        "\n",
        "1. Initialize the LLM (Use GROQ and chose LLM).\n",
        "2. Create a prompt that asks the LLM to generate a story about a topic.\n",
        "3. Run the LLM chain to retrieve the response.\n",
        "\n",
        "**Steps**:\n",
        "- Import required modules from `langchain`.\n",
        "- Initialize the LLM with your GROQ API key.\n",
        "- Create a prompt template that takes a topic as input.\n",
        "- Create an LLM Chain and run it to get a response.\n",
        "\n",
        "Fill in the code below:\n"
      ]
    },
    {
      "cell_type": "code",
      "source": [
        "%%capture\n",
        "!pip install langchain langchain-community langchain-groq duckduckgo-search geopy requests"
      ],
      "metadata": {
        "id": "IP0TryaOedN1"
      },
      "id": "IP0TryaOedN1",
      "execution_count": 2,
      "outputs": []
    },
    {
      "cell_type": "code",
      "execution_count": 3,
      "id": "5686ae2f",
      "metadata": {
        "id": "5686ae2f"
      },
      "outputs": [],
      "source": [
        "#Import required modules from langchain\n",
        "from langchain_groq import ChatGroq\n",
        "from langchain.prompts import PromptTemplate\n",
        "from langchain import LLMChain"
      ]
    },
    {
      "cell_type": "code",
      "source": [
        "groq_api_key = \"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\""
      ],
      "metadata": {
        "id": "rdcCtdeccwgj"
      },
      "id": "rdcCtdeccwgj",
      "execution_count": 4,
      "outputs": []
    },
    {
      "cell_type": "code",
      "source": [
        "#Initialize the LLM\n",
        "llm = ChatGroq(\n",
        "    model=\"llama-3.1-8b-instant\",\n",
        "    temperature=0.8,\n",
        "    max_tokens=None,\n",
        "    timeout=None,\n",
        "    max_retries=2,\n",
        "    api_key=groq_api_key\n",
        ")"
      ],
      "metadata": {
        "id": "TpZKhzCHe9-h"
      },
      "id": "TpZKhzCHe9-h",
      "execution_count": 5,
      "outputs": []
    },
    {
      "cell_type": "code",
      "source": [
        "#Create a prompt template that takes a topic as input.\n",
        "prompt = PromptTemplate(\n",
        "    input_variables=[\"topic\"],\n",
        "    template=\"Write a short story about {topic}.\"\n",
        ")"
      ],
      "metadata": {
        "id": "i4j8uxihc8yl"
      },
      "id": "i4j8uxihc8yl",
      "execution_count": 6,
      "outputs": []
    },
    {
      "cell_type": "code",
      "source": [
        "#Create an LLM Chain and run it to get a response.\n",
        "chain = LLMChain(llm=llm, prompt=prompt)\n",
        "\n",
        "# Run the chain with a specific topic\n",
        "response = chain.run(\"a brave knight\")\n",
        "print(response)"
      ],
      "metadata": {
        "id": "48A1Az5ac-oU",
        "colab": {
          "base_uri": "https://localhost:8080/"
        },
        "outputId": "f6c9c3f8-a7fd-40b6-e082-259306fdba26"
      },
      "id": "48A1Az5ac-oU",
      "execution_count": 7,
      "outputs": [
        {
          "output_type": "stream",
          "name": "stderr",
          "text": [
            "<ipython-input-7-fec9fbb1e2eb>:2: LangChainDeprecationWarning: The class `LLMChain` was deprecated in LangChain 0.1.17 and will be removed in 1.0. Use RunnableSequence, e.g., `prompt | llm` instead.\n",
            "  chain = LLMChain(llm=llm, prompt=prompt)\n",
            "<ipython-input-7-fec9fbb1e2eb>:5: LangChainDeprecationWarning: The method `Chain.run` was deprecated in langchain 0.1.0 and will be removed in 1.0. Use invoke instead.\n",
            "  response = chain.run(\"a brave knight\")\n"
          ]
        },
        {
          "output_type": "stream",
          "name": "stdout",
          "text": [
            "In the land of Everia, where the sun dipped into the horizon and painted the sky with hues of crimson and gold, Sir Edward, a brave knight, stood tall. His armor, polished to a shine, gleamed in the fading light, and his sword, named Dragon's Tooth, hung at his side, ready for battle.\n",
            "\n",
            "For years, the kingdom had been plagued by a dark sorcerer, Malakai, who had stolen the magical crystal that kept the land fertile and abundant. Without it, the once-thriving crops began to wither, and the people suffered. Sir Edward, determined to save his home, had dedicated himself to finding the crystal and defeating the sorcerer.\n",
            "\n",
            "As he rode his horse, Galahad, through the dense forest, the trees seemed to whisper secrets to each other, their leaves rustling in the gentle breeze. Sir Edward's heart pounded in his chest, his grip on Dragon's Tooth tightening with every step. He knew that Malakai's stronghold was hidden deep within the forest, guarded by fearsome beasts and treacherous paths.\n",
            "\n",
            "Suddenly, a faint cry for help echoed through the trees. Sir Edward spurred Galahad forward, following the sound until he came upon a young girl, no more than ten years old, trapped in a snare set by a pack of wolves. Without hesitation, Sir Edward leapt from his horse and freed the girl, lifting her gently to safety.\n",
            "\n",
            "The girl's eyes sparkled with gratitude, and she smiled up at Sir Edward, her small hand reaching out to touch his armor. \"Thank you, brave knight,\" she whispered.\n",
            "\n",
            "Sir Edward smiled, his face creasing with kindness. \"You are safe now, little one. I will protect you.\"\n",
            "\n",
            "Together, they continued on their quest, navigating the treacherous paths and facing the fearsome beasts that guarded Malakai's stronghold. Finally, they reached the dark sorcerer's lair, a foreboding fortress built from twisted stone and shadowy mist.\n",
            "\n",
            "Sir Edward drew Dragon's Tooth, its blade shining with a fierce light. \"We will defeat Malakai and reclaim the crystal,\" he declared, his voice echoing off the stone walls.\n",
            "\n",
            "The sorcerer, a tall figure with eyes that burned like embers, sneered at Sir Edward from the shadows. \"You are no match for me, knight,\" he taunted. \"My magic will consume you.\"\n",
            "\n",
            "Sir Edward charged forward, his sword flashing in the dim light. The battle was fierce, the two enemies clashing in a whirlwind of steel and sorcery. But in the end, it was Sir Edward's bravery and the girl's courage that proved to be the turning point.\n",
            "\n",
            "With a mighty swing of Dragon's Tooth, Sir Edward struck down Malakai, shattering the sorcerer's staff and banishing the dark magic from the land. The crystal, freed from its prison, shone brightly once more, restoring the land to its former beauty.\n",
            "\n",
            "As the people of Everia rejoiced, Sir Edward knelt beside the young girl, who now stood tall and proud beside him. \"You are a true hero, Sir Edward,\" she said, her eyes shining with admiration.\n",
            "\n",
            "Sir Edward smiled, his heart full of pride and his spirit renewed. \"We make a good team, don't we, little one?\" he said, ruffling her hair.\n",
            "\n",
            "Together, they rode back to the kingdom, the wind in their hair and the sun on their faces, their bond forged in the heat of battle and their hearts filled with the knowledge that they had saved their home.\n"
          ]
        }
      ]
    },
    {
      "cell_type": "markdown",
      "id": "1ff1b3fa",
      "metadata": {
        "id": "1ff1b3fa"
      },
      "source": [
        "## Exercise 2: Building a Conversational Agent"
      ]
    },
    {
      "cell_type": "markdown",
      "id": "4a6a1f26",
      "metadata": {
        "id": "4a6a1f26"
      },
      "source": [
        "\n",
        "In this exercise, you will create a conversational agent that can interact with a user, make decisions,\n",
        "and use external tools like a search tool.\n",
        "\n",
        "1. Define a tool.\n",
        "2. Create an agent that can decide whether to use the tool or interact with the LLM.\n",
        "3. Run the agent with various inputs.\n",
        "\n",
        "**Steps**:\n",
        "- Define the search tool using a function.\n",
        "- Initialize an agent using the tool and the LLM.\n",
        "- Run the agent with sample inputs.\n",
        "\n",
        "Fill in the code below:\n"
      ]
    },
    {
      "cell_type": "code",
      "source": [
        "# Define the tool:\n",
        "from langchain_community.tools import DuckDuckGoSearchRun\n",
        "\n",
        "search = DuckDuckGoSearchRun()"
      ],
      "metadata": {
        "id": "3TUN0O-hkBQm"
      },
      "id": "3TUN0O-hkBQm",
      "execution_count": 8,
      "outputs": []
    },
    {
      "cell_type": "code",
      "source": [
        "search.name"
      ],
      "metadata": {
        "colab": {
          "base_uri": "https://localhost:8080/",
          "height": 36
        },
        "id": "MhaKzlh4km8Q",
        "outputId": "c4f209fd-d633-4491-f8f0-87fd9d26dcfa"
      },
      "id": "MhaKzlh4km8Q",
      "execution_count": 9,
      "outputs": [
        {
          "output_type": "execute_result",
          "data": {
            "text/plain": [
              "'duckduckgo_search'"
            ],
            "application/vnd.google.colaboratory.intrinsic+json": {
              "type": "string"
            }
          },
          "metadata": {},
          "execution_count": 9
        }
      ]
    },
    {
      "cell_type": "code",
      "source": [
        "search.description"
      ],
      "metadata": {
        "colab": {
          "base_uri": "https://localhost:8080/",
          "height": 36
        },
        "id": "Cd_5-8ICkqzm",
        "outputId": "ae799bcb-7d46-42b3-c717-fc6dbf7a2e2a"
      },
      "id": "Cd_5-8ICkqzm",
      "execution_count": 10,
      "outputs": [
        {
          "output_type": "execute_result",
          "data": {
            "text/plain": [
              "'A wrapper around DuckDuckGo Search. Useful for when you need to answer questions about current events. Input should be a search query.'"
            ],
            "application/vnd.google.colaboratory.intrinsic+json": {
              "type": "string"
            }
          },
          "metadata": {},
          "execution_count": 10
        }
      ]
    },
    {
      "cell_type": "code",
      "source": [
        "search.args"
      ],
      "metadata": {
        "colab": {
          "base_uri": "https://localhost:8080/"
        },
        "id": "A_O_Gckskr_S",
        "outputId": "feee1e19-1c07-45ce-8ee0-ffa14d174eb8"
      },
      "id": "A_O_Gckskr_S",
      "execution_count": 11,
      "outputs": [
        {
          "output_type": "execute_result",
          "data": {
            "text/plain": [
              "{'query': {'description': 'search query to look up',\n",
              "  'title': 'Query',\n",
              "  'type': 'string'}}"
            ]
          },
          "metadata": {},
          "execution_count": 11
        }
      ]
    },
    {
      "cell_type": "code",
      "source": [
        "search.invoke({\"query\": \"What is the best restaurent Riyadh?\"})"
      ],
      "metadata": {
        "colab": {
          "base_uri": "https://localhost:8080/",
          "height": 126
        },
        "id": "CABR9AdlkvM6",
        "outputId": "d5c8547f-56de-4cff-9660-279fa176bb12"
      },
      "id": "CABR9AdlkvM6",
      "execution_count": 13,
      "outputs": [
        {
          "output_type": "execute_result",
          "data": {
            "text/plain": [
              "\"The best Riyadh restaurants of 2024 have officially been crowned at the Time Out Riyadh Restaurant Awards. Based on 12 months of anonymous reviews conducted all over the Saudi capital, this list serves as a tried-and-tasted indicator of which eateries are really worth your hard-earned riyals. Consider this your definitive guide to the hottest ... Bring on the kabsa, masoub and jareesh.We're talking about the best places for Saudi food in Riyadh, at the best Saudi restaurants in Riyadh, from the Time Out Riyadh Restaurant Awards 2024 in association with American Express.. The shortlist reflects the full spectrum of different Saudi food experiences available to diners in Riyadh right now, and one that we're particularly proud to ... Fine-dining restaurants in Riyadh: Enjoy some of the best Italian eats in the city. (Credit: Cipriani) Wood-panelled, decked out with glass chandeliers and with a touch of high gloss, Cipriani draws on the elegance of traditional Italian dining rooms and stays true to its roots from 1931, when the original branch opened as Harry's Bar in ... Myazu. While global restaurant brands are fanning out all over the city, perhaps the best restaurant in Riyadh is actually homegrown. Myazu, which also has a location in Jeddah, is next-level Japanese food in a dramatically lit, contemporary Zen space designed by Noriyoshi Muramatsu. Dishes from the sushi counter and robata grill range from the ... Pasta and pizzas aside, there's also a mouth-watering veal brisket on the menu that's oven-roasted to achieve a delicate texture and served with mashed potatoes. Cipriani, Exit 2, 6927 Prince Turki Ibn Abdulaziz Al Awwal Rd, Hittin, Riyadh 13512, daily 1pm to 12.30am. Tel: 011 277 6700. @ciprianiriyadh.\""
            ],
            "application/vnd.google.colaboratory.intrinsic+json": {
              "type": "string"
            }
          },
          "metadata": {},
          "execution_count": 13
        }
      ]
    },
    {
      "cell_type": "code",
      "source": [
        "search.invoke(\"What is the best restaurent Riyadh?\")"
      ],
      "metadata": {
        "colab": {
          "base_uri": "https://localhost:8080/",
          "height": 126
        },
        "id": "1guYyEiWkyAK",
        "outputId": "9f135e56-60aa-4f95-b6e6-73e1c5209d77"
      },
      "id": "1guYyEiWkyAK",
      "execution_count": 14,
      "outputs": [
        {
          "output_type": "execute_result",
          "data": {
            "text/plain": [
              "\"The best Riyadh restaurants of 2024 have officially been crowned at the Time Out Riyadh Restaurant Awards. Based on 12 months of anonymous reviews conducted all over the Saudi capital, this list serves as a tried-and-tasted indicator of which eateries are really worth your hard-earned riyals. Consider this your definitive guide to the hottest ... Bring on the kabsa, masoub and jareesh.We're talking about the best places for Saudi food in Riyadh, at the best Saudi restaurants in Riyadh, from the Time Out Riyadh Restaurant Awards 2024 in association with American Express.. The shortlist reflects the full spectrum of different Saudi food experiences available to diners in Riyadh right now, and one that we're particularly proud to ... Myazu. While global restaurant brands are fanning out all over the city, perhaps the best restaurant in Riyadh is actually homegrown. Myazu, which also has a location in Jeddah, is next-level Japanese food in a dramatically lit, contemporary Zen space designed by Noriyoshi Muramatsu. Dishes from the sushi counter and robata grill range from the ... Santini. Founded in 1984 by Gino Santin, Santini stands as one of London's oldest family-run restaurants and is now open in Leysan Valley. The thoughtfully curated menu of Italian signature dishes includes Crab Salad, Homemade Fettuccine Lobster, Milanese Santini and Truffle Mushroom Lasagne. Pasta and pizzas aside, there's also a mouth-watering veal brisket on the menu that's oven-roasted to achieve a delicate texture and served with mashed potatoes. Cipriani, Exit 2, 6927 Prince Turki Ibn Abdulaziz Al Awwal Rd, Hittin, Riyadh 13512, daily 1pm to 12.30am. Tel: 011 277 6700. @ciprianiriyadh.\""
            ],
            "application/vnd.google.colaboratory.intrinsic+json": {
              "type": "string"
            }
          },
          "metadata": {},
          "execution_count": 14
        }
      ]
    },
    {
      "cell_type": "code",
      "source": [
        "from langchain.agents import initialize_agent, AgentType\n",
        "tools = [search]\n",
        "\n",
        "# Initialize the agent\n",
        "agent = initialize_agent(\n",
        "    tools=tools,\n",
        "    llm=llm,\n",
        "    agent_type=AgentType.ZERO_SHOT_REACT_DESCRIPTION\n",
        ")"
      ],
      "metadata": {
        "colab": {
          "base_uri": "https://localhost:8080/"
        },
        "id": "yoqnNWG6kJTd",
        "outputId": "a15df734-f3aa-4988-dfad-32fa4eda5761"
      },
      "id": "yoqnNWG6kJTd",
      "execution_count": 15,
      "outputs": [
        {
          "output_type": "stream",
          "name": "stderr",
          "text": [
            "<ipython-input-15-0e06bb67d42e>:5: LangChainDeprecationWarning: The function `initialize_agent` was deprecated in LangChain 0.1.0 and will be removed in 1.0. Use Use new agent constructor methods like create_react_agent, create_json_agent, create_structured_chat_agent, etc. instead.\n",
            "  agent = initialize_agent(\n"
          ]
        }
      ]
    },
    {
      "cell_type": "code",
      "source": [
        "# Run the agent\n",
        "response1 = agent.run(\"Find information about Roshen Front.\")\n",
        "response2 = agent.run(\"Find information about Riyadh season.\")\n",
        "\n",
        "# Print the responses\n",
        "print(\"Response 1:\", response1)\n",
        "print(\"Response 2:\", response2)"
      ],
      "metadata": {
        "colab": {
          "base_uri": "https://localhost:8080/"
        },
        "id": "0xbHRDd4kMKF",
        "outputId": "a13ad4f6-1928-49f2-bc84-d8b19b0d78ee"
      },
      "id": "0xbHRDd4kMKF",
      "execution_count": 17,
      "outputs": [
        {
          "output_type": "stream",
          "name": "stdout",
          "text": [
            "Response 1: ROSHN Front, also known as ROSHN, is a mixed-use lifestyle retail and F&B destination in Riyadh, Saudi Arabia, owned by the Public Investment Fund (PIF) and developed by ROSHN Group. It features a range of shops, restaurants, and hospitality venues, and is also home to the Kingdom's first fast-charging public site for electric vehicles, launched in partnership with EVIQ.\n",
            "Response 2: Riyadh Season 2024 is a mega entertainment festival in Saudi Arabia, featuring sports, music, culture, and more. It will take place from October to December, with various events and activities happening across different zones. The official start date is Saturday, October 12, 2024, and it will feature a star-studded lineup of celebrities, including Martin Lawrence and Hans Zimmer.\n"
          ]
        }
      ]
    },
    {
      "cell_type": "markdown",
      "id": "3cf94d2f",
      "metadata": {
        "id": "3cf94d2f"
      },
      "source": [
        "## Exercise 3: Using LLM as Memory"
      ]
    },
    {
      "cell_type": "markdown",
      "id": "53ff48d9",
      "metadata": {
        "id": "53ff48d9"
      },
      "source": [
        "\n",
        "In this exercise, you will use an LLM to summarize and retain information from conversations.\n",
        "\n",
        "1. Set up LLM-based memory.\n",
        "2. Create a conversation with the LLM and memory.\n",
        "3. Ask follow-up questions using memory to retrieve past context.\n",
        "\n",
        "**Steps**:\n",
        "- Initialize summarization-based memory.\n",
        "- Run a few queries and retrieve responses.\n",
        "- Ask follow-up questions that reference previous interactions.\n",
        "\n",
        "Fill in the code below:\n"
      ]
    },
    {
      "cell_type": "code",
      "source": [
        "from langchain.memory import ConversationSummaryMemory\n",
        "from langchain import ConversationChain\n",
        "from langchain_groq import ChatGroq"
      ],
      "metadata": {
        "id": "1dMYax0OnhUG"
      },
      "id": "1dMYax0OnhUG",
      "execution_count": 18,
      "outputs": []
    },
    {
      "cell_type": "code",
      "source": [
        "# Initialize summarization-based memory\n",
        "memory = ConversationSummaryMemory(llm=llm)\n",
        "conversation_chain = ConversationChain(\n",
        "    llm=llm,\n",
        "    memory=memory\n",
        ")"
      ],
      "metadata": {
        "id": "cecsgj_8oFyI"
      },
      "id": "cecsgj_8oFyI",
      "execution_count": 19,
      "outputs": []
    },
    {
      "cell_type": "code",
      "source": [
        "response_1 = conversation_chain.run(\"Answer with short answer, What is the capital of Saudi Arabia?\")\n",
        "response_2= conversation_chain.run(\"From the previous conversations. What is the best place in Riyadh\")\n",
        "\n",
        "print(\"Response 1:\", response_1)\n",
        "print(\"Response 2:\", response_2)"
      ],
      "metadata": {
        "colab": {
          "base_uri": "https://localhost:8080/"
        },
        "id": "vBYkoYB6oZxq",
        "outputId": "dddf6314-7979-44dd-bc88-f8acb0badf25"
      },
      "id": "vBYkoYB6oZxq",
      "execution_count": 24,
      "outputs": [
        {
          "output_type": "stream",
          "name": "stdout",
          "text": [
            "Response 1: Riyadh\n",
            "Response 2: I'm glad you're interested in exploring Riyadh. While it's subjective to determine the \"best\" place, I can suggest some popular attractions and neighborhoods that many tourists and locals enjoy.\n",
            "\n",
            "One of the most iconic landmarks in Riyadh is the Kingdom Centre Tower, a 310-meter tall skyscraper that serves as a shopping mall, office space, and observation deck. It offers stunning views of the city and is a fantastic spot to take in the sights.\n",
            "\n",
            "Another popular destination is the Diriyah district, a UNESCO World Heritage Site that showcases the history and architecture of Saudi Arabia's founding city. Visitors can explore the Al-Turaif district, a collection of traditional Najdi mud-brick houses, and learn about the region's rich cultural heritage.\n",
            "\n",
            "If you're interested in shopping, the Granada Mall is a popular destination, offering a wide range of international brands, restaurants, and entertainment options. Alternatively, the Al Faisaliyah Centre is another upscale shopping mall that offers a luxurious shopping experience.\n",
            "\n",
            "If you're looking for a more local experience, the Souk Al-Alia is a traditional marketplace where visitors can find unique souvenirs, try local cuisine, and interact with the friendly locals.\n",
            "\n",
            "Lastly, the Riyadh Season is a popular event that takes place every winter, featuring a wide range of cultural, entertainment, and recreational activities. It's a fantastic time to visit Riyadh and experience the city's vibrant atmosphere.\n",
            "\n",
            "These are just a few of the many exciting places to explore in Riyadh. I hope this helps you plan your trip and discover the best of what the city has to offer!\n"
          ]
        }
      ]
    },
    {
      "cell_type": "markdown",
      "id": "630fe2fb",
      "metadata": {
        "id": "630fe2fb"
      },
      "source": [
        "## Exercise 4: Combining Tools and Memory"
      ]
    },
    {
      "cell_type": "markdown",
      "id": "17dba76c",
      "metadata": {
        "id": "17dba76c"
      },
      "source": [
        "\n",
        "In this final exercise, you will build an intelligent agent that can use both tools (like an API) and memory.\n",
        "\n",
        "1. Define an external tool (like a weather API).\n",
        "2. Set up an agent that uses both the tool and LLM memory.\n",
        "3. Interact with the agent, combining memory and external data.\n",
        "\n",
        "**Steps**:\n",
        "- Define a weather API tool (mock or real API).\n",
        "- Initialize the agent with memory and the tool.\n",
        "- Run the agent with inputs, and check how it uses both memory and tools.\n",
        "\n",
        "Fill in the code below:\n"
      ]
    },
    {
      "cell_type": "code",
      "execution_count": null,
      "id": "5e11ad68",
      "metadata": {
        "id": "5e11ad68"
      },
      "outputs": [],
      "source": []
    }
  ],
  "metadata": {
    "language_info": {
      "name": "python"
    },
    "colab": {
      "provenance": []
    },
    "kernelspec": {
      "name": "python3",
      "display_name": "Python 3"
    }
  },
  "nbformat": 4,
  "nbformat_minor": 5
}