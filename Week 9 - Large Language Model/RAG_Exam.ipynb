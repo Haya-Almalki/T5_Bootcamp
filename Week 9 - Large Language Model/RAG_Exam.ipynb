{
  "cells": [
    {
      "cell_type": "markdown",
      "metadata": {
        "id": "m83H0SRDK01q"
      },
      "source": [
        "# Traffic Violation RAG System\n",
        "In this exam, you will implement a Retrieval-Augmented Generation (RAG) system that uses a language model and a vector database to answer questions about traffic violations. The goal is to generate answers with relevant data based on a dataset of traffic violations and fines.\n",
        "\n",
        "Here are helpful resources:\n",
        "* [LangChain](https://www.langchain.com/)\n",
        "* [groq cloud documentation](https://console.groq.com/docs/models)\n",
        "* [LangChain HuggingFace](https://python.langchain.com/docs/integrations/text_embedding/sentence_transformers/)\n",
        "* [Chroma Vector Store](https://python.langchain.com/docs/integrations/vectorstores/chroma/)\n",
        "* [Chroma Website](https://docs.trychroma.com/getting-started)\n",
        "* [ChatGroq LangChain](https://python.langchain.com/docs/integrations/chat/groq/)\n",
        "* [LLM Chain](https://api.python.langchain.com/en/latest/chains/langchain.chains.llm.LLMChain.html#langchain.chains.llm.LLMChain)\n",
        "\n",
        "Dataset [source](https://www.moi.gov.sa/wps/portal/Home/sectors/publicsecurity/traffic/contents/!ut/p/z0/04_Sj9CPykssy0xPLMnMz0vMAfIjo8ziDTxNTDwMTYy83V0CTQ0cA71d_T1djI0MXA30gxOL9L30o_ArApqSmVVYGOWoH5Wcn1eSWlGiH1FSlJiWlpmsagBlKCQWqRrkJmbmqRqUZebngB2gUJAKdERJZmqxfkG2ezgAhzhSyw!!/)\n",
        "\n",
        "Some installs if needed:\n",
        "```python\n",
        "!pip install langchain_huggingface langchain langchain-community langchain_chroma Chroma langchain_groq LLMChain\n",
        "```"
      ]
    },
    {
      "cell_type": "code",
      "execution_count": 1,
      "metadata": {
        "id": "Ezy1JIYZt5C2",
        "colab": {
          "base_uri": "https://localhost:8080/"
        },
        "outputId": "4cab0a55-68ab-4e00-9e18-8468bb1730a0"
      },
      "outputs": [
        {
          "output_type": "stream",
          "name": "stdout",
          "text": [
            "Dataset URL: https://www.kaggle.com/datasets/khaledzsa/dataset\n",
            "License(s): unknown\n",
            "Downloading dataset.zip to /content\n",
            "  0% 0.00/3.73k [00:00<?, ?B/s]\n",
            "100% 3.73k/3.73k [00:00<00:00, 5.65MB/s]\n",
            "Archive:  dataset.zip\n",
            "  inflating: Dataset.csv             \n"
          ]
        }
      ],
      "source": [
        "!kaggle datasets download -d khaledzsa/dataset\n",
        "!unzip dataset.zip"
      ]
    },
    {
      "cell_type": "markdown",
      "metadata": {
        "id": "IKe3G7bqK-W6"
      },
      "source": [
        "## Step 1: Install Required Libraries"
      ]
    },
    {
      "cell_type": "markdown",
      "metadata": {
        "id": "ewOnaf7BLBQ8"
      },
      "source": [
        "To begin, install the necessary libraries for this project. The libraries include `LangChain` for building language model chains, and `Chroma` for managing a vector database."
      ]
    },
    {
      "cell_type": "code",
      "execution_count": 2,
      "metadata": {
        "id": "5oHl_P67_V6m",
        "colab": {
          "base_uri": "https://localhost:8080/"
        },
        "outputId": "6ccde4a5-7102-493c-b8ae-c787b9f6a23f"
      },
      "outputs": [
        {
          "output_type": "stream",
          "name": "stdout",
          "text": [
            "Collecting langchain_huggingface\n",
            "  Downloading langchain_huggingface-0.1.0-py3-none-any.whl.metadata (1.3 kB)\n",
            "Collecting langchain\n",
            "  Downloading langchain-0.3.0-py3-none-any.whl.metadata (7.1 kB)\n",
            "Collecting langchain-community\n",
            "  Downloading langchain_community-0.3.0-py3-none-any.whl.metadata (2.8 kB)\n",
            "Collecting langchain_chroma\n",
            "  Downloading langchain_chroma-0.1.4-py3-none-any.whl.metadata (1.6 kB)\n",
            "Collecting Chroma\n",
            "  Downloading Chroma-0.2.0.tar.gz (5.8 kB)\n",
            "  Preparing metadata (setup.py) ... \u001b[?25l\u001b[?25hdone\n",
            "Collecting langchain_groq\n",
            "  Downloading langchain_groq-0.2.0-py3-none-any.whl.metadata (2.9 kB)\n",
            "\u001b[31mERROR: Could not find a version that satisfies the requirement LLMChain (from versions: none)\u001b[0m\u001b[31m\n",
            "\u001b[0m\u001b[31mERROR: No matching distribution found for LLMChain\u001b[0m\u001b[31m\n",
            "\u001b[0m"
          ]
        }
      ],
      "source": [
        "#!pip install langchain_huggingface langchain langchain-community langchain_chroma Chroma langchain_groq LLMChain"
      ]
    },
    {
      "cell_type": "code",
      "source": [
        "%%capture\n",
        "!pip install langchain_huggingface\n",
        "!pip install langchain\n",
        "!pip install langchain-community\n",
        "!pip install langchain_chroma\n",
        "!pip install Chroma\n",
        "!pip install langchain_groq\n",
        "!pip install LLMChain\n",
        "!pip install -qU langchain-huggingface"
      ],
      "metadata": {
        "id": "1E8G8TQtuSnY"
      },
      "execution_count": 4,
      "outputs": []
    },
    {
      "cell_type": "code",
      "source": [
        "import pandas as pd\n",
        "from langchain.text_splitter import RecursiveCharacterTextSplitter\n",
        "from langchain_huggingface import HuggingFaceEmbeddings\n",
        "from langchain_chroma import Chroma\n",
        "from langchain.chains import LLMChain\n",
        "from langchain_groq import ChatGroq"
      ],
      "metadata": {
        "id": "B01bgtiJuw97"
      },
      "execution_count": 61,
      "outputs": []
    },
    {
      "cell_type": "markdown",
      "metadata": {
        "id": "QI7_KEjILJZ8"
      },
      "source": [
        "# Step 2: Load the Traffic Violations Dataset"
      ]
    },
    {
      "cell_type": "markdown",
      "metadata": {
        "id": "FY6U8FxlLLON"
      },
      "source": [
        "You are provided with a dataset of traffic violations. Load the CSV file into a pandas DataFrame and preview the first few rows of the dataset using `.head()`. You can also try and see the dataset's characteristics."
      ]
    },
    {
      "cell_type": "code",
      "execution_count": 7,
      "metadata": {
        "id": "PzTMfTyJ_tZG",
        "colab": {
          "base_uri": "https://localhost:8080/",
          "height": 206
        },
        "outputId": "dbef8039-1dc9-4324-9c6b-b8c2582de538"
      },
      "outputs": [
        {
          "output_type": "execute_result",
          "data": {
            "text/plain": [
              "                                            المخالفة  \\\n",
              "0  قيادة المركبة في الأسواق التي لا يسمح بالقيادة...   \n",
              "1   ترك المركبة مفتوحة وفي وضع التشغيل بعد مغادرتها.   \n",
              "2                       عدم وجود تأمين ساري للمركبة.   \n",
              "3      عبور المشاة للطرق من غير الأماكن المخصصة لهم.   \n",
              "4              عدم تقيد المشاة بالإشارات الخاصة بهم.   \n",
              "\n",
              "                          الغرامة  \n",
              "0  الغرامة المالية 100 - 150 ريال  \n",
              "1  الغرامة المالية 100 - 150 ريال  \n",
              "2  الغرامة المالية 100 - 150 ريال  \n",
              "3  الغرامة المالية 100 - 150 ريال  \n",
              "4  الغرامة المالية 100 - 150 ريال  "
            ],
            "text/html": [
              "\n",
              "  <div id=\"df-2e83fa3c-8b39-4fb7-ad9b-cb3c9fb0bcd8\" class=\"colab-df-container\">\n",
              "    <div>\n",
              "<style scoped>\n",
              "    .dataframe tbody tr th:only-of-type {\n",
              "        vertical-align: middle;\n",
              "    }\n",
              "\n",
              "    .dataframe tbody tr th {\n",
              "        vertical-align: top;\n",
              "    }\n",
              "\n",
              "    .dataframe thead th {\n",
              "        text-align: right;\n",
              "    }\n",
              "</style>\n",
              "<table border=\"1\" class=\"dataframe\">\n",
              "  <thead>\n",
              "    <tr style=\"text-align: right;\">\n",
              "      <th></th>\n",
              "      <th>المخالفة</th>\n",
              "      <th>الغرامة</th>\n",
              "    </tr>\n",
              "  </thead>\n",
              "  <tbody>\n",
              "    <tr>\n",
              "      <th>0</th>\n",
              "      <td>قيادة المركبة في الأسواق التي لا يسمح بالقيادة...</td>\n",
              "      <td>الغرامة المالية 100 - 150 ريال</td>\n",
              "    </tr>\n",
              "    <tr>\n",
              "      <th>1</th>\n",
              "      <td>ترك المركبة مفتوحة وفي وضع التشغيل بعد مغادرتها.</td>\n",
              "      <td>الغرامة المالية 100 - 150 ريال</td>\n",
              "    </tr>\n",
              "    <tr>\n",
              "      <th>2</th>\n",
              "      <td>عدم وجود تأمين ساري للمركبة.</td>\n",
              "      <td>الغرامة المالية 100 - 150 ريال</td>\n",
              "    </tr>\n",
              "    <tr>\n",
              "      <th>3</th>\n",
              "      <td>عبور المشاة للطرق من غير الأماكن المخصصة لهم.</td>\n",
              "      <td>الغرامة المالية 100 - 150 ريال</td>\n",
              "    </tr>\n",
              "    <tr>\n",
              "      <th>4</th>\n",
              "      <td>عدم تقيد المشاة بالإشارات الخاصة بهم.</td>\n",
              "      <td>الغرامة المالية 100 - 150 ريال</td>\n",
              "    </tr>\n",
              "  </tbody>\n",
              "</table>\n",
              "</div>\n",
              "    <div class=\"colab-df-buttons\">\n",
              "\n",
              "  <div class=\"colab-df-container\">\n",
              "    <button class=\"colab-df-convert\" onclick=\"convertToInteractive('df-2e83fa3c-8b39-4fb7-ad9b-cb3c9fb0bcd8')\"\n",
              "            title=\"Convert this dataframe to an interactive table.\"\n",
              "            style=\"display:none;\">\n",
              "\n",
              "  <svg xmlns=\"http://www.w3.org/2000/svg\" height=\"24px\" viewBox=\"0 -960 960 960\">\n",
              "    <path d=\"M120-120v-720h720v720H120Zm60-500h600v-160H180v160Zm220 220h160v-160H400v160Zm0 220h160v-160H400v160ZM180-400h160v-160H180v160Zm440 0h160v-160H620v160ZM180-180h160v-160H180v160Zm440 0h160v-160H620v160Z\"/>\n",
              "  </svg>\n",
              "    </button>\n",
              "\n",
              "  <style>\n",
              "    .colab-df-container {\n",
              "      display:flex;\n",
              "      gap: 12px;\n",
              "    }\n",
              "\n",
              "    .colab-df-convert {\n",
              "      background-color: #E8F0FE;\n",
              "      border: none;\n",
              "      border-radius: 50%;\n",
              "      cursor: pointer;\n",
              "      display: none;\n",
              "      fill: #1967D2;\n",
              "      height: 32px;\n",
              "      padding: 0 0 0 0;\n",
              "      width: 32px;\n",
              "    }\n",
              "\n",
              "    .colab-df-convert:hover {\n",
              "      background-color: #E2EBFA;\n",
              "      box-shadow: 0px 1px 2px rgba(60, 64, 67, 0.3), 0px 1px 3px 1px rgba(60, 64, 67, 0.15);\n",
              "      fill: #174EA6;\n",
              "    }\n",
              "\n",
              "    .colab-df-buttons div {\n",
              "      margin-bottom: 4px;\n",
              "    }\n",
              "\n",
              "    [theme=dark] .colab-df-convert {\n",
              "      background-color: #3B4455;\n",
              "      fill: #D2E3FC;\n",
              "    }\n",
              "\n",
              "    [theme=dark] .colab-df-convert:hover {\n",
              "      background-color: #434B5C;\n",
              "      box-shadow: 0px 1px 3px 1px rgba(0, 0, 0, 0.15);\n",
              "      filter: drop-shadow(0px 1px 2px rgba(0, 0, 0, 0.3));\n",
              "      fill: #FFFFFF;\n",
              "    }\n",
              "  </style>\n",
              "\n",
              "    <script>\n",
              "      const buttonEl =\n",
              "        document.querySelector('#df-2e83fa3c-8b39-4fb7-ad9b-cb3c9fb0bcd8 button.colab-df-convert');\n",
              "      buttonEl.style.display =\n",
              "        google.colab.kernel.accessAllowed ? 'block' : 'none';\n",
              "\n",
              "      async function convertToInteractive(key) {\n",
              "        const element = document.querySelector('#df-2e83fa3c-8b39-4fb7-ad9b-cb3c9fb0bcd8');\n",
              "        const dataTable =\n",
              "          await google.colab.kernel.invokeFunction('convertToInteractive',\n",
              "                                                    [key], {});\n",
              "        if (!dataTable) return;\n",
              "\n",
              "        const docLinkHtml = 'Like what you see? Visit the ' +\n",
              "          '<a target=\"_blank\" href=https://colab.research.google.com/notebooks/data_table.ipynb>data table notebook</a>'\n",
              "          + ' to learn more about interactive tables.';\n",
              "        element.innerHTML = '';\n",
              "        dataTable['output_type'] = 'display_data';\n",
              "        await google.colab.output.renderOutput(dataTable, element);\n",
              "        const docLink = document.createElement('div');\n",
              "        docLink.innerHTML = docLinkHtml;\n",
              "        element.appendChild(docLink);\n",
              "      }\n",
              "    </script>\n",
              "  </div>\n",
              "\n",
              "\n",
              "<div id=\"df-b11b6514-7053-4ec6-ab22-844c9ae794e2\">\n",
              "  <button class=\"colab-df-quickchart\" onclick=\"quickchart('df-b11b6514-7053-4ec6-ab22-844c9ae794e2')\"\n",
              "            title=\"Suggest charts\"\n",
              "            style=\"display:none;\">\n",
              "\n",
              "<svg xmlns=\"http://www.w3.org/2000/svg\" height=\"24px\"viewBox=\"0 0 24 24\"\n",
              "     width=\"24px\">\n",
              "    <g>\n",
              "        <path d=\"M19 3H5c-1.1 0-2 .9-2 2v14c0 1.1.9 2 2 2h14c1.1 0 2-.9 2-2V5c0-1.1-.9-2-2-2zM9 17H7v-7h2v7zm4 0h-2V7h2v10zm4 0h-2v-4h2v4z\"/>\n",
              "    </g>\n",
              "</svg>\n",
              "  </button>\n",
              "\n",
              "<style>\n",
              "  .colab-df-quickchart {\n",
              "      --bg-color: #E8F0FE;\n",
              "      --fill-color: #1967D2;\n",
              "      --hover-bg-color: #E2EBFA;\n",
              "      --hover-fill-color: #174EA6;\n",
              "      --disabled-fill-color: #AAA;\n",
              "      --disabled-bg-color: #DDD;\n",
              "  }\n",
              "\n",
              "  [theme=dark] .colab-df-quickchart {\n",
              "      --bg-color: #3B4455;\n",
              "      --fill-color: #D2E3FC;\n",
              "      --hover-bg-color: #434B5C;\n",
              "      --hover-fill-color: #FFFFFF;\n",
              "      --disabled-bg-color: #3B4455;\n",
              "      --disabled-fill-color: #666;\n",
              "  }\n",
              "\n",
              "  .colab-df-quickchart {\n",
              "    background-color: var(--bg-color);\n",
              "    border: none;\n",
              "    border-radius: 50%;\n",
              "    cursor: pointer;\n",
              "    display: none;\n",
              "    fill: var(--fill-color);\n",
              "    height: 32px;\n",
              "    padding: 0;\n",
              "    width: 32px;\n",
              "  }\n",
              "\n",
              "  .colab-df-quickchart:hover {\n",
              "    background-color: var(--hover-bg-color);\n",
              "    box-shadow: 0 1px 2px rgba(60, 64, 67, 0.3), 0 1px 3px 1px rgba(60, 64, 67, 0.15);\n",
              "    fill: var(--button-hover-fill-color);\n",
              "  }\n",
              "\n",
              "  .colab-df-quickchart-complete:disabled,\n",
              "  .colab-df-quickchart-complete:disabled:hover {\n",
              "    background-color: var(--disabled-bg-color);\n",
              "    fill: var(--disabled-fill-color);\n",
              "    box-shadow: none;\n",
              "  }\n",
              "\n",
              "  .colab-df-spinner {\n",
              "    border: 2px solid var(--fill-color);\n",
              "    border-color: transparent;\n",
              "    border-bottom-color: var(--fill-color);\n",
              "    animation:\n",
              "      spin 1s steps(1) infinite;\n",
              "  }\n",
              "\n",
              "  @keyframes spin {\n",
              "    0% {\n",
              "      border-color: transparent;\n",
              "      border-bottom-color: var(--fill-color);\n",
              "      border-left-color: var(--fill-color);\n",
              "    }\n",
              "    20% {\n",
              "      border-color: transparent;\n",
              "      border-left-color: var(--fill-color);\n",
              "      border-top-color: var(--fill-color);\n",
              "    }\n",
              "    30% {\n",
              "      border-color: transparent;\n",
              "      border-left-color: var(--fill-color);\n",
              "      border-top-color: var(--fill-color);\n",
              "      border-right-color: var(--fill-color);\n",
              "    }\n",
              "    40% {\n",
              "      border-color: transparent;\n",
              "      border-right-color: var(--fill-color);\n",
              "      border-top-color: var(--fill-color);\n",
              "    }\n",
              "    60% {\n",
              "      border-color: transparent;\n",
              "      border-right-color: var(--fill-color);\n",
              "    }\n",
              "    80% {\n",
              "      border-color: transparent;\n",
              "      border-right-color: var(--fill-color);\n",
              "      border-bottom-color: var(--fill-color);\n",
              "    }\n",
              "    90% {\n",
              "      border-color: transparent;\n",
              "      border-bottom-color: var(--fill-color);\n",
              "    }\n",
              "  }\n",
              "</style>\n",
              "\n",
              "  <script>\n",
              "    async function quickchart(key) {\n",
              "      const quickchartButtonEl =\n",
              "        document.querySelector('#' + key + ' button');\n",
              "      quickchartButtonEl.disabled = true;  // To prevent multiple clicks.\n",
              "      quickchartButtonEl.classList.add('colab-df-spinner');\n",
              "      try {\n",
              "        const charts = await google.colab.kernel.invokeFunction(\n",
              "            'suggestCharts', [key], {});\n",
              "      } catch (error) {\n",
              "        console.error('Error during call to suggestCharts:', error);\n",
              "      }\n",
              "      quickchartButtonEl.classList.remove('colab-df-spinner');\n",
              "      quickchartButtonEl.classList.add('colab-df-quickchart-complete');\n",
              "    }\n",
              "    (() => {\n",
              "      let quickchartButtonEl =\n",
              "        document.querySelector('#df-b11b6514-7053-4ec6-ab22-844c9ae794e2 button');\n",
              "      quickchartButtonEl.style.display =\n",
              "        google.colab.kernel.accessAllowed ? 'block' : 'none';\n",
              "    })();\n",
              "  </script>\n",
              "</div>\n",
              "\n",
              "    </div>\n",
              "  </div>\n"
            ],
            "application/vnd.google.colaboratory.intrinsic+json": {
              "type": "dataframe",
              "variable_name": "df",
              "summary": "{\n  \"name\": \"df\",\n  \"rows\": 104,\n  \"fields\": [\n    {\n      \"column\": \"\\u0627\\u0644\\u0645\\u062e\\u0627\\u0644\\u0641\\u0629\",\n      \"properties\": {\n        \"dtype\": \"string\",\n        \"num_unique_values\": 104,\n        \"samples\": [\n          \"\\u0627\\u0644\\u0642\\u064a\\u0627\\u062f\\u0629 \\u0628\\u0631\\u062e\\u0635\\u0629 \\u0642\\u064a\\u0627\\u062f\\u0629 \\u0635\\u0644\\u0627\\u062d\\u064a\\u062a\\u0647\\u0627 \\u0645\\u0646\\u062a\\u0647\\u064a\\u0629.\",\n          \"\\u0633\\u064a\\u0631 \\u0627\\u0644\\u0645\\u0631\\u0643\\u0628\\u0629 \\u0628\\u0644\\u0627 \\u0644\\u0648\\u062d\\u0629 \\u0623\\u0645\\u0627\\u0645\\u064a\\u0629.\",\n          \"\\u0642\\u064a\\u0627\\u062f\\u0629 \\u0627\\u0644\\u0645\\u0631\\u0643\\u0628\\u0629 \\u0628\\u0644\\u0648\\u062d\\u0627\\u062a \\u063a\\u064a\\u0631 \\u0648\\u0627\\u0636\\u062d\\u0629 \\u0623\\u0648 \\u0628\\u0647\\u0627 \\u062a\\u0644\\u0641.\"\n        ],\n        \"semantic_type\": \"\",\n        \"description\": \"\"\n      }\n    },\n    {\n      \"column\": \"\\u0627\\u0644\\u063a\\u0631\\u0627\\u0645\\u0629\",\n      \"properties\": {\n        \"dtype\": \"category\",\n        \"num_unique_values\": 7,\n        \"samples\": [\n          \"\\u0627\\u0644\\u063a\\u0631\\u0627\\u0645\\u0629 \\u0627\\u0644\\u0645\\u0627\\u0644\\u064a\\u0629 100 - 150 \\u0631\\u064a\\u0627\\u0644\",\n          \"\\u0627\\u0644\\u063a\\u0631\\u0627\\u0645\\u0629 \\u0627\\u0644\\u0645\\u0627\\u0644\\u064a\\u0629 150 - 300 \\u0631\\u064a\\u0627\\u0644\",\n          \"\\u0627\\u0644\\u063a\\u0631\\u0627\\u0645\\u0629 \\u0627\\u0644\\u0645\\u0627\\u0644\\u064a\\u0629 3000 - 6000 \\u0631\\u064a\\u0627\\u0644\"\n        ],\n        \"semantic_type\": \"\",\n        \"description\": \"\"\n      }\n    }\n  ]\n}"
            }
          },
          "metadata": {},
          "execution_count": 7
        }
      ],
      "source": [
        "df =pd.read_csv('/content/Dataset.csv')\n",
        "df.head()"
      ]
    },
    {
      "cell_type": "markdown",
      "metadata": {
        "id": "0Hs28tz2LbFx"
      },
      "source": [
        "## Step 3: Create Markdown Content from the Dataset"
      ]
    },
    {
      "cell_type": "markdown",
      "metadata": {
        "id": "PiNAqLhELd_S"
      },
      "source": [
        "For each traffic violation in the dataset, you will generate markdown text that describes the violation and the associated fine. Create a loop to iterate through the dataset and store the generated markdown in a list. Each fine should look like this:\n",
        "\n",
        "**المخالفة** - الغرامة"
      ]
    },
    {
      "cell_type": "code",
      "source": [
        "df.index"
      ],
      "metadata": {
        "colab": {
          "base_uri": "https://localhost:8080/"
        },
        "id": "EeKSFD-ZyXAf",
        "outputId": "fc6069d8-d557-4ade-fda6-438d274e3a48"
      },
      "execution_count": 18,
      "outputs": [
        {
          "output_type": "execute_result",
          "data": {
            "text/plain": [
              "RangeIndex(start=0, stop=104, step=1)"
            ]
          },
          "metadata": {},
          "execution_count": 18
        }
      ]
    },
    {
      "cell_type": "code",
      "execution_count": 44,
      "metadata": {
        "id": "daP6wjbA_km0",
        "colab": {
          "base_uri": "https://localhost:8080/"
        },
        "outputId": "da413bc9-1e76-4117-a1e2-d25156b3e1d4"
      },
      "outputs": [
        {
          "output_type": "stream",
          "name": "stdout",
          "text": [
            "المخالفة:قيادة المركبة في الأسواق التي لا يسمح بالقيادة فيها. - الغرامة:الغرامة المالية 100 - 150 ريال\n",
            "المخالفة:ترك المركبة مفتوحة وفي وضع التشغيل بعد مغادرتها. - الغرامة:الغرامة المالية 100 - 150 ريال\n",
            "المخالفة:عدم وجود تأمين ساري للمركبة. - الغرامة:الغرامة المالية 100 - 150 ريال\n",
            "المخالفة:عبور المشاة للطرق من غير الأماكن المخصصة لهم. - الغرامة:الغرامة المالية 100 - 150 ريال\n",
            "المخالفة:عدم تقيد المشاة بالإشارات الخاصة بهم. - الغرامة:الغرامة المالية 100 - 150 ريال\n",
            "المخالفة:وقوف المركبة في أماكن غير مخصصة للوقوف. - الغرامة:الغرامة المالية 100 - 150 ريال\n",
            "المخالفة:عدم إعطاء أفضلية المرور للمشاة أثناء عبورهم في المسارات المخصصة لهم. - الغرامة:الغرامة المالية 100 - 150 ريال\n",
            "المخالفة:عدم استخدام إشارة الالتفاف عند التحول لليمين أو اليسار أو التجاوز أو تغيير المسار. - الغرامة:الغرامة المالية 150 - 300 ريال\n",
            "المخالفة:الرجوع إلى الخلف في الطريق العام لمسافة تزيد على عشرين متراً. - الغرامة:الغرامة المالية 150 - 300 ريال\n",
            "المخالفة:قيام سائق الدراجة الآلية أو العادية - أو ما في حكمهما - بالتعلق بأي مركبة أخرى، أو سحب أو حمل أشياء تعرض مستخدمي الطريق للخطر. - الغرامة:الغرامة المالية 150 - 300 ريال\n",
            "المخالفة:مخالفة قواعد استعمال أنوار التلاقي. - الغرامة:الغرامة المالية 150 - 300 ريال\n",
            "المخالفة:عدم حمل رخصة القيادة أو رخصة السير أثناء القيادة. - الغرامة:الغرامة المالية 150 - 300 ريال\n",
            "المخالفة:إساءة استعمال منبه المركبة. - الغرامة:الغرامة المالية 150 - 300 ريال\n",
            "المخالفة:عدم تقديم المركبة للفحص الفني الدوري. - الغرامة:الغرامة المالية 150 - 300 ريال\n",
            "المخالفة:مخالفة تنظيمات السير على الطرق. - الغرامة:الغرامة المالية 150 - 300 ريال\n",
            "المخالفة:عدم ربط حزام الأمان. - الغرامة:الغرامة المالية 150 - 300 ريال\n",
            "المخالفة:وضع حواجز داخل المركبة أو خارجها تعوق رؤية السائق. - الغرامة:الغرامة المالية 150 - 300 ريال\n",
            "المخالفة:عدم ترك السائق مسافة كافية بين مركبته والمركبة التي أمامه، تسمح له بتفادي وقوع حادث. - الغرامة:الغرامة المالية 150 - 300 ريال\n",
            "المخالفة:التحرك بالمركبة بسرعة عالية، بحيث تحدث الإطارات صوتاً عالياً. - الغرامة:الغرامة المالية 150 - 300 ريال\n",
            "المخالفة:التجمهر في موقع الحادث. - الغرامة:الغرامة المالية 150 - 300 ريال\n",
            "المخالفة:قيام السائق بتخطي أرتال المركبات أمام إشارات المرور أو نقاط الضبط الأمني باستخدام كتف الطريق أو المسار المخصص للالتفاف. - الغرامة:الغرامة المالية 150 - 300 ريال\n",
            "المخالفة:عدم توافر المتطلبات النظامية للمقطورة. - الغرامة:الغرامة المالية 150 - 300 ريال\n",
            "المخالفة:عدم اتخاذ الاحتياطات اللازمة عند إيقاف المركبة في حالات الطوارئ على الطرق العامة. - الغرامة:الغرامة المالية 300 - 500 ريال\n",
            "المخالفة:رمي أجسام خارج المركبة. - الغرامة:الغرامة المالية 300 - 500 ريال\n",
            "المخالفة:التباطؤ في السير على نحو يعرقل الحركة. - الغرامة:الغرامة المالية 300 - 500 ريال\n",
            "المخالفة:الانشغال بغير الطريق أثناء قيادة المركبة. - الغرامة:الغرامة المالية 300 - 500 ريال\n",
            "المخالفة:استعمال المكابح (الفرامل) بشكل مفاجئ لغير ضرورة. - الغرامة:الغرامة المالية 300 - 500 ريال\n",
            "المخالفة:عدم التقيد بتنظيمات السير عند تقاطعات الطرق. - الغرامة:الغرامة المالية 300 - 500 ريال\n",
            "المخالفة:عدم الالتزام بحدود المسارات المحددة على الطريق. - الغرامة:الغرامة المالية 300 - 500 ريال\n",
            "المخالفة:إحداث ضوضاء باستعمال أجهزة من داخل المركبة، أو ارتكاب أي سلوك يتنافى مع الآداب العامة أثناء القيادة. - الغرامة:الغرامة المالية 300 - 500 ريال\n",
            "المخالفة:القيادة برخصة قيادة صلاحيتها منتهية. - الغرامة:الغرامة المالية 300 - 500 ريال\n",
            "المخالفة:عدم استخدام مقاعد الأمان المخصصة للأطفال. - الغرامة:الغرامة المالية 300 - 500 ريال\n",
            "المخالفة:ترك المركبة في طريق منحدرة مع عدم اتخاذ الاحتياطات اللازمة. - الغرامة:الغرامة المالية 300 - 500 ريال\n",
            "المخالفة:ترك الأطفال دون سن العاشرة في المركبة دون مرافق راشد. - الغرامة:الغرامة المالية 300 - 500 ريال\n",
            "المخالفة:ملاحقة مركبات الطوارئ أثناء استعمال المنبهات الخاصة بها. - الغرامة:الغرامة المالية 500 - 900 ريال\n",
            "المخالفة:القيادة على الطريق بمركبات مخصصة للاقتناء. - الغرامة:الغرامة المالية 500 - 900 ريال\n",
            "المخالفة:عدم الوقوف تماماً عند إشارة قف. - الغرامة:الغرامة المالية 500 - 900 ريال\n",
            "المخالفة:عدم الوقوف وقوفاً تاماً عند إشارة (أمامك أفضلية) في حالة مرور مركبات على الطريق المعطاة له الأفضلية. - الغرامة:الغرامة المالية 500 - 900 ريال\n",
            "المخالفة:عدم إعطاء الأفضلية للمركبة القادمة من اليمين عند الوصول إلى تقاطع متساوي الأفضلية في آن واحد وعندما لا يكون هناك إشارات أولوية. - الغرامة:الغرامة المالية 500 - 900 ريال\n",
            "المخالفة:عدم إعطاء الأفضلية للمركبات التي على الطريق الرئيسي في حالة عدم وجود إشارة أفضلية. - الغرامة:الغرامة المالية 500 - 900 ريال\n",
            "المخالفة:عدم التقيد بإشارات رجل الأمن اليدوية عند تنظيمه للحركة وعدم إعطاء إشارته الأولوية على الإشارات الضوئية. - الغرامة:الغرامة المالية 500 - 900 ريال\n",
            "المخالفة:عدم إعطاء الأفضلية للمركبات التي بداخل الدوار من قبل المركبات التي خارجه في حالة عدم وجود إشارات ضوئية أو رجل أمن يوجه السير. - الغرامة:الغرامة المالية 500 - 900 ريال\n",
            "المخالفة:قيادة المركبة داخل الأنفاق من غير إضاءة أنوارها. - الغرامة:الغرامة المالية 500 - 900 ريال\n",
            "المخالفة:زيادة أبعاد الحمولة المنقولة لمركبات النقل الخفيف على الحد المسموح به. - الغرامة:الغرامة المالية 500 - 900 ريال\n",
            "المخالفة:قيام سائق مركبة الطوارئ باستعمال المنبهات الخاصة بها من غير ضرورة. - الغرامة:الغرامة المالية 500 - 900 ريال\n",
            "المخالفة:عدم إعطاء أفضلية المرور في ملتقيات الطرق أو تقاطعاتها لسائق المركبة المتقدم على غيره في حال عدم وجود لوحات تنظم ذلك. - الغرامة:الغرامة المالية 500 - 900 ريال\n",
            "المخالفة:عدم قيام السائق في حال تغيير اتجاهه بالدوران للخلف بإعطاء أفضلية المرور للمركبات القادمة من الاتجاهات الأخرى. - الغرامة:الغرامة المالية 500 - 900 ريال\n",
            "المخالفة:عدم قيام السائق في حال إغلاق جزء من الطريق بإعطاء الأفضلية لمن كان طريقه مفتوحاً. - الغرامة:الغرامة المالية 500 - 900 ريال\n",
            "المخالفة:عدم قيام السائق الذي يرغب في تغيير مساره بإعطاء الأفضلية لسائق المركبة التي تسير في اتجاه مستقيم في حال سير المركبتين متحاذيتين بشكل متواز. - الغرامة:الغرامة المالية 500 - 900 ريال\n",
            "المخالفة:عدم إعطاء أفضلية المرور للمركبات القادمة من طريق رئيسي في حالة تقاطعها مع طريق فرعي أو طريق ترابي. - الغرامة:الغرامة المالية 500 - 900 ريال\n",
            "المخالفة:عدم إعطاء أفضلية المرور لوسائل النقل العام كالقطارات أو الحافلات وما في حكمها في حال سيرها على المسارات المخصصة لها. - الغرامة:الغرامة المالية 500 - 900 ريال\n",
            "المخالفة:نقل الركاب في الأماكن غير المخصصة لهم في المركبة. - الغرامة:الغرامة المالية 500 - 900 ريال\n",
            "المخالفة:استخدام السائق بيده أي جهاز محمول أثناء سير المركبة. - الغرامة:الغرامة المالية 500 - 900 ريال\n",
            "المخالفة:الوقوف في أماكن وقوف ذوي الاحتياجات الخاصة من غير هذه الفئة المسموح لها. - الغرامة:الغرامة المالية 500 - 900 ريال\n",
            "المخالفة:وضع كتابة أو رسم أو ملصق أو أي بيان آخر على جسم المركبة دون موافقة الجهات المختصة. - الغرامة:الغرامة المالية 500 - 900 ريال\n",
            "المخالفة:تسيير مركبة تحدث تلويثاً للبيئة على الطرق العامة. - الغرامة:الغرامة المالية 500 - 900 ريال\n",
            "المخالفة:تظليل زجاج المركبة دون التقيد بالضوابط التي تضعها الإدارة المختصة. - الغرامة:الغرامة المالية 500 - 900 ريال\n",
            "المخالفة:استعمال المركبة لغير الغرض الذي رخصت من أجله. - الغرامة:الغرامة المالية 500 - 900 ريال\n",
            "المخالفة:عدم تغطية الحمولة المنقولة وتثبيتها. - الغرامة:الغرامة المالية 500 - 900 ريال\n",
            "المخالفة:دخول الشاحنات والمعدات الثقيلة وما في حكمهما إلى المدن أو الخروج منها في الأوقات غير المسموح بها. - الغرامة:الغرامة المالية 1000 - 2000 ريال\n",
            "المخالفة:قيادة المركبة برخصة قيادة لا تتناسب مع حجم المركبة ونوع استخدامها. - الغرامة:الغرامة المالية 1000 - 2000 ريال\n",
            "المخالفة:الوقوف على خطوط السكة الحديدية. - الغرامة:الغرامة المالية 1000 - 2000 ريال\n",
            "المخالفة:نقل عدد من الركاب يزيد على العدد المحدد في رخصة السير. - الغرامة:الغرامة المالية 1000 - 2000 ريال\n",
            "المخالفة:رفض إبراز الوثائق الخاصة بالسائق أو المركبة للمصرح لهم الاطلاع عليها. - الغرامة:الغرامة المالية 1000 - 2000 ريال\n",
            "المخالفة:قيادة المركبة بلوحات غير واضحة أو بها تلف. - الغرامة:الغرامة المالية 1000 - 2000 ريال\n",
            "المخالفة:سير المركبة بلا لوحة أمامية. - الغرامة:الغرامة المالية 1000 - 2000 ريال\n",
            "المخالفة:عدم إنهاء إجراءات تعديل مجال استعمال المركبة. - الغرامة:الغرامة المالية 1000 - 2000 ريال\n",
            "المخالفة:عدم إخراج المركبة المعدة للتصدير خلال المدة المحددة. - الغرامة:الغرامة المالية 1000 - 2000 ريال\n",
            "المخالفة:عدم ارتداء الخوذة أثناء قيادة الدراجة الآلية. - الغرامة:الغرامة المالية 1000 - 2000 ريال\n",
            "المخالفة:قيادة المركبة قبل الحصول على رخصة قيادة أو في حال سحب الرخصة. - الغرامة:الغرامة المالية 1000 - 2000 ريال\n",
            "المخالفة:ترك أجسام على الطرق العامة تعرض السلامة العامة للخطر. - الغرامة:الغرامة المالية 1000 - 2000 ريال\n",
            "المخالفة:عدم إعطاء أفضلية المرور لمركبات المواكب الرسمية أو الطوارئ. - الغرامة:الغرامة المالية 1000 - 2000 ريال\n",
            "المخالفة:القيادة على أكتاف الطريق وعلى الأرصفة أو المسارات التي يمنع القيادة فيها. - الغرامة:الغرامة المالية 1000 - 2000 ريال\n",
            "المخالفة:النزول أو الركوب أثناء سير المركبات. - الغرامة:الغرامة المالية 1000 - 2000 ريال\n",
            "المخالفة:عبور المشاة للطرق السريعة. - الغرامة:الغرامة المالية 1000 - 2000 ريال\n",
            "المخالفة:التجاوز في المناطق التي يمنع فيها التجاوز، مثل المنعطفات والمرتفعات. - الغرامة:الغرامة المالية 1000 - 2000 ريال\n",
            "المخالفة:عدم وجود إنارة جانبية أو عواكس أو سواتر للشاحنات والمقطورات. - الغرامة:الغرامة المالية 1000 - 2000 ريال\n",
            "المخالفة:عدم استخدام الأنوار اللازمة عند السير ليلاً أو في الأحوال الجوية التي تكون فيها الرؤية غير واضحة. - الغرامة:الغرامة المالية 1000 - 2000 ريال\n",
            "المخالفة:عدم تثبيت اللوحة في مكانها المخصص. - الغرامة:الغرامة المالية 1000 - 2000 ريال\n",
            "المخالفة:التجمهر في مواقع التفحيط. - الغرامة:الغرامة المالية 1000 - 2000 ريال\n",
            "المخالفة:زيادة أبعاد الحمولة المنقولة لمركبات النقل الثقيل على الحد المسموح به. - الغرامة:الغرامة المالية 1000 - 2000 ريال\n",
            "المخالفة:إجراء أي تعديل أو إضافة على جسم المركبة أو هيكلها، يغير معالمها أو تجهيزاتها الأساسية دون اتخاذ الإجراءات النظامية. - الغرامة:الغرامة المالية 1000 - 2000 ريال\n",
            "المخالفة:قيادة مركبة دون توافر التجهيزات اللازمة، مثل المكابح والأنوار وما في حكمهما. - الغرامة:الغرامة المالية 1000 - 2000 ريال\n",
            "المخالفة:استخدام لوحات غير صادرة من الإدارة المختصة. - الغرامة:الغرامة المالية 1000 - 2000 ريال\n",
            "المخالفة:تجاوز إشارة المرور الضوئية أثناء الضوء الأحمر. - الغرامة:الغرامة المالية 3000 - 6000 ريال\n",
            "المخالفة:تجاوز حافلات النقل المدرسي عند توقفها للتحميل أو التنزيل. - الغرامة:الغرامة المالية 3000 - 6000 ريال\n",
            "المخالفة:العبث بعلامات الطريق أو العاكسات أو الشاحنات المنظمة لحركة السير. - الغرامة:الغرامة المالية 3000 - 6000 ريال\n",
            "المخالفة:عدم الوقوف عند مراكز الضبط الأمني أو نقاط التفتيش أو عدم الوقوف للدورية الأمنية عند وجود توجيه أو علامة توجب الوقوف. - الغرامة:الغرامة المالية 3000 - 6000 ريال\n",
            "المخالفة:استخدام أجهزة غير مصرح بها في المركبة أو وضع شعارات أو ملصقات تتنافى مع الآداب العامة. - الغرامة:الغرامة المالية 3000 - 6000 ريال\n",
            "المخالفة:قيادة المركبة بالاتجاه المعاكس لحركة السير. - الغرامة:الغرامة المالية 3000 - 6000 ريال\n",
            "المخالفة:المراوغة بسرعة بين المركبات على الطرق العامة. - الغرامة:الغرامة المالية 3000 - 6000 ريال\n",
            "المخالفة:إجراء سباق للمركبات على الطرق العامة، أو السير في مواكب دون الحصول على تصريح. - الغرامة:الغرامة المالية 3000 - 6000 ريال\n",
            "المخالفة:عدم التزام الشاحنات والمعدات الثقيلة بالسير في المسار الآمن في الطريق المتعدد المسارات. - الغرامة:الغرامة المالية 3000 - 6000 ريال\n",
            "المخالفة:عدم قيام أصحاب الحيوانات بإبعادها عن حرم الطريق المعتمد. - الغرامة:الغرامة المالية 3000 - 6000 ريال\n",
            "المخالفة:تركيب تجهيزات في المركبة كتلك الخاصة بالمركبات الرسمية ومركبات الطوارئ. - الغرامة:الغرامة المالية 3000 - 6000 ريال\n",
            "المخالفة:تسيير مركبات الأشغال العامة على الطرق قبل اتخاذ الإجراءات اللازمة لتلافي أضرارها، بما في ذلك عدم وضع الشرائح العاكسة على جانبي مؤخرة المركبة. - الغرامة:الغرامة المالية 3000 - 6000 ريال\n",
            "المخالفة:سير المركبة بلا لوحة خلفية، أو بلا لوحات. - الغرامة:الغرامة المالية 3000 - 6000 ريال\n",
            "المخالفة:طمس لوحات المركبة. - الغرامة:الغرامة المالية 3000 - 6000 ريال\n",
            "المخالفة:قيادة المركبة تحت تأثير مسكر أو مخدر، أو عقاقير محذر من القيادة تحت تأثيرها. - الغرامة:الغرامة المالية 5000 - 10000 ريال\n",
            "المخالفة:القيام بأعمال الطرق قبل التنسيق مع الإدارة المختصة. - الغرامة:الغرامة المالية 5000 - 10000 ريال\n",
            "المخالفة:سماح أصحاب الحيوانات بعبور حيواناتهم من غير الأماكن المخصصة لها، أو دون التنسيق مع الجهات المختصة. - الغرامة:الغرامة المالية 5000 - 10000 ريال\n",
            "المخالفة:استخدام لوحات غير عائدة للمركبة. - الغرامة:الغرامة المالية 5000 - 10000 ريال\n",
            "المخالفة:طمس رقم هيكل المركبة أو محاولة طمسه. - الغرامة:الغرامة المالية 5000 - 10000 ريال\n",
            "المخالفة:المجازفة بعبور الأودية والشعاب أثناء جريانها. - الغرامة:الغرامة المالية 5000 - 10000 ريال\n"
          ]
        }
      ],
      "source": [
        "markdown_text = []\n",
        "\n",
        "for i in df.index:\n",
        "    violation = \"المخالفة:\"+ df['المخالفة'][i]+\" - \"+ df['الغرامة'][i]\n",
        "    markdown_text.append(violation)\n",
        "\n",
        "for item in violations:\n",
        "    print(item)"
      ]
    },
    {
      "cell_type": "markdown",
      "metadata": {
        "id": "ifkMDS5SLui4"
      },
      "source": [
        "## Step 4: Chunk the Markdown Data"
      ]
    },
    {
      "cell_type": "markdown",
      "metadata": {
        "id": "pJxNEV5yLxMu"
      },
      "source": [
        "Using LangChain's `RecursiveCharacterTextSplitter`, split the markdown texts into smaller chunks that will be stored in the vector database."
      ]
    },
    {
      "cell_type": "code",
      "execution_count": 45,
      "metadata": {
        "id": "Hf3-3j9iALUN"
      },
      "outputs": [],
      "source": [
        "# text_splitter = RecursiveCharacterTextSplitter(chunk_size=50, chunk_overlap=10)\n",
        "\n",
        "# markdown_text=\"\\n\".join(markdown_text) # Join all markDown to be in one string\n",
        "# chunks = text_splitter.split_text(markdown_text)"
      ]
    },
    {
      "cell_type": "code",
      "source": [
        "# for i in chunks:\n",
        "#   print(i)"
      ],
      "metadata": {
        "colab": {
          "base_uri": "https://localhost:8080/"
        },
        "id": "SrmufyMX3agf",
        "outputId": "d77423d0-e78f-45da-cf9b-e17c7c0fecc1"
      },
      "execution_count": 46,
      "outputs": [
        {
          "output_type": "stream",
          "name": "stdout",
          "text": [
            "المخالفة:قيادة المركبة في الأسواق التي لا يسمح\n",
            "لا يسمح بالقيادة فيها. - الغرامة المالية 100 -\n",
            "100 - 150 ريال\n",
            "المخالفة:ترك المركبة مفتوحة وفي وضع التشغيل بعد\n",
            "بعد مغادرتها. - الغرامة المالية 100 - 150 ريال\n",
            "المخالفة:عدم وجود تأمين ساري للمركبة. - الغرامة\n",
            "- الغرامة المالية 100 - 150 ريال\n",
            "المخالفة:عبور المشاة للطرق من غير الأماكن المخصصة\n",
            "المخصصة لهم. - الغرامة المالية 100 - 150 ريال\n",
            "المخالفة:عدم تقيد المشاة بالإشارات الخاصة بهم. -\n",
            "بهم. - الغرامة المالية 100 - 150 ريال\n",
            "المخالفة:وقوف المركبة في أماكن غير مخصصة للوقوف.\n",
            "للوقوف. - الغرامة المالية 100 - 150 ريال\n",
            "المخالفة:عدم إعطاء أفضلية المرور للمشاة أثناء\n",
            "أثناء عبورهم في المسارات المخصصة لهم. - الغرامة\n",
            "- الغرامة المالية 100 - 150 ريال\n",
            "المخالفة:عدم استخدام إشارة الالتفاف عند التحول\n",
            "التحول لليمين أو اليسار أو التجاوز أو تغيير\n",
            "أو تغيير المسار. - الغرامة المالية 150 - 300 ريال\n",
            "المخالفة:الرجوع إلى الخلف في الطريق العام لمسافة\n",
            "لمسافة تزيد على عشرين متراً. - الغرامة المالية\n",
            "المالية 150 - 300 ريال\n",
            "المخالفة:قيام سائق الدراجة الآلية أو العادية - أو\n",
            "- أو ما في حكمهما - بالتعلق بأي مركبة أخرى، أو\n",
            "أخرى، أو سحب أو حمل أشياء تعرض مستخدمي الطريق\n",
            "الطريق للخطر. - الغرامة المالية 150 - 300 ريال\n",
            "المخالفة:مخالفة قواعد استعمال أنوار التلاقي. -\n",
            "- الغرامة المالية 150 - 300 ريال\n",
            "المخالفة:عدم حمل رخصة القيادة أو رخصة السير أثناء\n",
            "أثناء القيادة. - الغرامة المالية 150 - 300 ريال\n",
            "المخالفة:إساءة استعمال منبه المركبة. - الغرامة\n",
            "- الغرامة المالية 150 - 300 ريال\n",
            "المخالفة:عدم تقديم المركبة للفحص الفني الدوري. -\n",
            "الدوري. - الغرامة المالية 150 - 300 ريال\n",
            "المخالفة:مخالفة تنظيمات السير على الطرق. -\n",
            "الطرق. - الغرامة المالية 150 - 300 ريال\n",
            "المخالفة:عدم ربط حزام الأمان. - الغرامة المالية\n",
            "المالية 150 - 300 ريال\n",
            "المخالفة:وضع حواجز داخل المركبة أو خارجها تعوق\n",
            "تعوق رؤية السائق. - الغرامة المالية 150 - 300\n",
            "150 - 300 ريال\n",
            "المخالفة:عدم ترك السائق مسافة كافية بين مركبته\n",
            "مركبته والمركبة التي أمامه، تسمح له بتفادي وقوع\n",
            "وقوع حادث. - الغرامة المالية 150 - 300 ريال\n",
            "المخالفة:التحرك بالمركبة بسرعة عالية، بحيث تحدث\n",
            "بحيث تحدث الإطارات صوتاً عالياً. - الغرامة\n",
            "- الغرامة المالية 150 - 300 ريال\n",
            "المخالفة:التجمهر في موقع الحادث. - الغرامة\n",
            "- الغرامة المالية 150 - 300 ريال\n",
            "المخالفة:قيام السائق بتخطي أرتال المركبات أمام\n",
            "أمام إشارات المرور أو نقاط الضبط الأمني باستخدام\n",
            "باستخدام كتف الطريق أو المسار المخصص للالتفاف. -\n",
            "- الغرامة المالية 150 - 300 ريال\n",
            "المخالفة:عدم توافر المتطلبات النظامية للمقطورة. -\n",
            "- الغرامة المالية 150 - 300 ريال\n",
            "المخالفة:عدم اتخاذ الاحتياطات اللازمة عند إيقاف\n",
            "عند إيقاف المركبة في حالات الطوارئ على الطرق\n",
            "على الطرق العامة. - الغرامة المالية 300 - 500\n",
            "300 - 500 ريال\n",
            "المخالفة:رمي أجسام خارج المركبة. - الغرامة\n",
            "- الغرامة المالية 300 - 500 ريال\n",
            "المخالفة:التباطؤ في السير على نحو يعرقل الحركة. -\n",
            "الحركة. - الغرامة المالية 300 - 500 ريال\n",
            "المخالفة:الانشغال بغير الطريق أثناء قيادة\n",
            "قيادة المركبة. - الغرامة المالية 300 - 500 ريال\n",
            "المخالفة:استعمال المكابح (الفرامل) بشكل مفاجئ\n",
            "مفاجئ لغير ضرورة. - الغرامة المالية 300 - 500\n",
            "300 - 500 ريال\n",
            "المخالفة:عدم التقيد بتنظيمات السير عند تقاطعات\n",
            "تقاطعات الطرق. - الغرامة المالية 300 - 500 ريال\n",
            "المخالفة:عدم الالتزام بحدود المسارات المحددة على\n",
            "على الطريق. - الغرامة المالية 300 - 500 ريال\n",
            "المخالفة:إحداث ضوضاء باستعمال أجهزة من داخل\n",
            "من داخل المركبة، أو ارتكاب أي سلوك يتنافى مع\n",
            "يتنافى مع الآداب العامة أثناء القيادة. - الغرامة\n",
            "- الغرامة المالية 300 - 500 ريال\n",
            "المخالفة:القيادة برخصة قيادة صلاحيتها منتهية. -\n",
            "منتهية. - الغرامة المالية 300 - 500 ريال\n",
            "المخالفة:عدم استخدام مقاعد الأمان المخصصة\n",
            "المخصصة للأطفال. - الغرامة المالية 300 - 500 ريال\n",
            "المخالفة:ترك المركبة في طريق منحدرة مع عدم اتخاذ\n",
            "عدم اتخاذ الاحتياطات اللازمة. - الغرامة المالية\n",
            "المالية 300 - 500 ريال\n",
            "المخالفة:ترك الأطفال دون سن العاشرة في المركبة\n",
            "المركبة دون مرافق راشد. - الغرامة المالية 300 -\n",
            "300 - 500 ريال\n",
            "المخالفة:ملاحقة مركبات الطوارئ أثناء استعمال\n",
            "استعمال المنبهات الخاصة بها. - الغرامة المالية\n",
            "المالية 500 - 900 ريال\n",
            "المخالفة:القيادة على الطريق بمركبات مخصصة\n",
            "مخصصة للاقتناء. - الغرامة المالية 500 - 900 ريال\n",
            "المخالفة:عدم الوقوف تماماً عند إشارة قف. -\n",
            "قف. - الغرامة المالية 500 - 900 ريال\n",
            "المخالفة:عدم الوقوف وقوفاً تاماً عند إشارة (أمامك\n",
            "(أمامك أفضلية) في حالة مرور مركبات على الطريق\n",
            "الطريق المعطاة له الأفضلية. - الغرامة المالية 500\n",
            "500 - 900 ريال\n",
            "المخالفة:عدم إعطاء الأفضلية للمركبة القادمة من\n",
            "من اليمين عند الوصول إلى تقاطع متساوي الأفضلية في\n",
            "في آن واحد وعندما لا يكون هناك إشارات أولوية. -\n",
            "أولوية. - الغرامة المالية 500 - 900 ريال\n",
            "المخالفة:عدم إعطاء الأفضلية للمركبات التي على\n",
            "التي على الطريق الرئيسي في حالة عدم وجود إشارة\n",
            "إشارة أفضلية. - الغرامة المالية 500 - 900 ريال\n",
            "المخالفة:عدم التقيد بإشارات رجل الأمن اليدوية عند\n",
            "عند تنظيمه للحركة وعدم إعطاء إشارته الأولوية على\n",
            "على الإشارات الضوئية. - الغرامة المالية 500 - 900\n",
            "500 - 900 ريال\n",
            "المخالفة:عدم إعطاء الأفضلية للمركبات التي بداخل\n",
            "بداخل الدوار من قبل المركبات التي خارجه في حالة\n",
            "في حالة عدم وجود إشارات ضوئية أو رجل أمن يوجه\n",
            "أمن يوجه السير. - الغرامة المالية 500 - 900 ريال\n",
            "المخالفة:قيادة المركبة داخل الأنفاق من غير إضاءة\n",
            "غير إضاءة أنوارها. - الغرامة المالية 500 - 900\n",
            "500 - 900 ريال\n",
            "المخالفة:زيادة أبعاد الحمولة المنقولة لمركبات\n",
            "لمركبات النقل الخفيف على الحد المسموح به. -\n",
            "به. - الغرامة المالية 500 - 900 ريال\n",
            "المخالفة:قيام سائق مركبة الطوارئ باستعمال\n",
            "باستعمال المنبهات الخاصة بها من غير ضرورة. -\n",
            "ضرورة. - الغرامة المالية 500 - 900 ريال\n",
            "المخالفة:عدم إعطاء أفضلية المرور في ملتقيات الطرق\n",
            "الطرق أو تقاطعاتها لسائق المركبة المتقدم على غيره\n",
            "على غيره في حال عدم وجود لوحات تنظم ذلك. -\n",
            "ذلك. - الغرامة المالية 500 - 900 ريال\n",
            "المخالفة:عدم قيام السائق في حال تغيير اتجاهه\n",
            "اتجاهه بالدوران للخلف بإعطاء أفضلية المرور\n",
            "المرور للمركبات القادمة من الاتجاهات الأخرى. -\n",
            "الأخرى. - الغرامة المالية 500 - 900 ريال\n",
            "المخالفة:عدم قيام السائق في حال إغلاق جزء من\n",
            "جزء من الطريق بإعطاء الأفضلية لمن كان طريقه\n",
            "كان طريقه مفتوحاً. - الغرامة المالية 500 - 900\n",
            "500 - 900 ريال\n",
            "المخالفة:عدم قيام السائق الذي يرغب في تغيير مساره\n",
            "مساره بإعطاء الأفضلية لسائق المركبة التي تسير في\n",
            "تسير في اتجاه مستقيم في حال سير المركبتين\n",
            "المركبتين متحاذيتين بشكل متواز. - الغرامة المالية\n",
            "المالية 500 - 900 ريال\n",
            "المخالفة:عدم إعطاء أفضلية المرور للمركبات القادمة\n",
            "القادمة من طريق رئيسي في حالة تقاطعها مع طريق\n",
            "مع طريق فرعي أو طريق ترابي. - الغرامة المالية 500\n",
            "500 - 900 ريال\n",
            "المخالفة:عدم إعطاء أفضلية المرور لوسائل النقل\n",
            "النقل العام كالقطارات أو الحافلات وما في حكمها في\n",
            "حكمها في حال سيرها على المسارات المخصصة لها. -\n",
            "لها. - الغرامة المالية 500 - 900 ريال\n",
            "المخالفة:نقل الركاب في الأماكن غير المخصصة لهم في\n",
            "لهم في المركبة. - الغرامة المالية 500 - 900 ريال\n",
            "المخالفة:استخدام السائق بيده أي جهاز محمول أثناء\n",
            "أثناء سير المركبة. - الغرامة المالية 500 - 900\n",
            "500 - 900 ريال\n",
            "المخالفة:الوقوف في أماكن وقوف ذوي الاحتياجات\n",
            "الخاصة من غير هذه الفئة المسموح لها. - الغرامة\n",
            "- الغرامة المالية 500 - 900 ريال\n",
            "المخالفة:وضع كتابة أو رسم أو ملصق أو أي بيان آخر\n",
            "بيان آخر على جسم المركبة دون موافقة الجهات\n",
            "الجهات المختصة. - الغرامة المالية 500 - 900 ريال\n",
            "المخالفة:تسيير مركبة تحدث تلويثاً للبيئة على\n",
            "على الطرق العامة. - الغرامة المالية 500 - 900\n",
            "500 - 900 ريال\n",
            "المخالفة:تظليل زجاج المركبة دون التقيد بالضوابط\n",
            "بالضوابط التي تضعها الإدارة المختصة. - الغرامة\n",
            "- الغرامة المالية 500 - 900 ريال\n",
            "المخالفة:استعمال المركبة لغير الغرض الذي رخصت من\n",
            "رخصت من أجله. - الغرامة المالية 500 - 900 ريال\n",
            "المخالفة:عدم تغطية الحمولة المنقولة وتثبيتها. -\n",
            "- الغرامة المالية 500 - 900 ريال\n",
            "المخالفة:دخول الشاحنات والمعدات الثقيلة وما في\n",
            "وما في حكمهما إلى المدن أو الخروج منها في الأوقات\n",
            "الأوقات غير المسموح بها. - الغرامة المالية 1000 -\n",
            "1000 - 2000 ريال\n",
            "المخالفة:قيادة المركبة برخصة قيادة لا تتناسب مع\n",
            "تتناسب مع حجم المركبة ونوع استخدامها. - الغرامة\n",
            "- الغرامة المالية 1000 - 2000 ريال\n",
            "المخالفة:الوقوف على خطوط السكة الحديدية. -\n",
            "- الغرامة المالية 1000 - 2000 ريال\n",
            "المخالفة:نقل عدد من الركاب يزيد على العدد المحدد\n",
            "المحدد في رخصة السير. - الغرامة المالية 1000 -\n",
            "1000 - 2000 ريال\n",
            "المخالفة:رفض إبراز الوثائق الخاصة بالسائق أو\n",
            "أو المركبة للمصرح لهم الاطلاع عليها. - الغرامة\n",
            "- الغرامة المالية 1000 - 2000 ريال\n",
            "المخالفة:قيادة المركبة بلوحات غير واضحة أو بها\n",
            "أو بها تلف. - الغرامة المالية 1000 - 2000 ريال\n",
            "المخالفة:سير المركبة بلا لوحة أمامية. - الغرامة\n",
            "- الغرامة المالية 1000 - 2000 ريال\n",
            "المخالفة:عدم إنهاء إجراءات تعديل مجال استعمال\n",
            "استعمال المركبة. - الغرامة المالية 1000 - 2000\n",
            "- 2000 ريال\n",
            "المخالفة:عدم إخراج المركبة المعدة للتصدير خلال\n",
            "خلال المدة المحددة. - الغرامة المالية 1000 - 2000\n",
            "- 2000 ريال\n",
            "المخالفة:عدم ارتداء الخوذة أثناء قيادة الدراجة\n",
            "الدراجة الآلية. - الغرامة المالية 1000 - 2000\n",
            "- 2000 ريال\n",
            "المخالفة:قيادة المركبة قبل الحصول على رخصة قيادة\n",
            "قيادة أو في حال سحب الرخصة. - الغرامة المالية\n",
            "المالية 1000 - 2000 ريال\n",
            "المخالفة:ترك أجسام على الطرق العامة تعرض السلامة\n",
            "السلامة العامة للخطر. - الغرامة المالية 1000 -\n",
            "1000 - 2000 ريال\n",
            "المخالفة:عدم إعطاء أفضلية المرور لمركبات المواكب\n",
            "المواكب الرسمية أو الطوارئ. - الغرامة المالية\n",
            "المالية 1000 - 2000 ريال\n",
            "المخالفة:القيادة على أكتاف الطريق وعلى الأرصفة أو\n",
            "أو المسارات التي يمنع القيادة فيها. - الغرامة\n",
            "- الغرامة المالية 1000 - 2000 ريال\n",
            "المخالفة:النزول أو الركوب أثناء سير المركبات. -\n",
            "- الغرامة المالية 1000 - 2000 ريال\n",
            "المخالفة:عبور المشاة للطرق السريعة. - الغرامة\n",
            "- الغرامة المالية 1000 - 2000 ريال\n",
            "المخالفة:التجاوز في المناطق التي يمنع فيها\n",
            "يمنع فيها التجاوز، مثل المنعطفات والمرتفعات. -\n",
            "- الغرامة المالية 1000 - 2000 ريال\n",
            "المخالفة:عدم وجود إنارة جانبية أو عواكس أو سواتر\n",
            "أو سواتر للشاحنات والمقطورات. - الغرامة المالية\n",
            "المالية 1000 - 2000 ريال\n",
            "المخالفة:عدم استخدام الأنوار اللازمة عند السير\n",
            "عند السير ليلاً أو في الأحوال الجوية التي تكون\n",
            "التي تكون فيها الرؤية غير واضحة. - الغرامة\n",
            "- الغرامة المالية 1000 - 2000 ريال\n",
            "المخالفة:عدم تثبيت اللوحة في مكانها المخصص. -\n",
            "المخصص. - الغرامة المالية 1000 - 2000 ريال\n",
            "المخالفة:التجمهر في مواقع التفحيط. - الغرامة\n",
            "- الغرامة المالية 1000 - 2000 ريال\n",
            "المخالفة:زيادة أبعاد الحمولة المنقولة لمركبات\n",
            "لمركبات النقل الثقيل على الحد المسموح به. -\n",
            "به. - الغرامة المالية 1000 - 2000 ريال\n",
            "المخالفة:إجراء أي تعديل أو إضافة على جسم المركبة\n",
            "المركبة أو هيكلها، يغير معالمها أو تجهيزاتها\n",
            "تجهيزاتها الأساسية دون اتخاذ الإجراءات النظامية.\n",
            "النظامية. - الغرامة المالية 1000 - 2000 ريال\n",
            "المخالفة:قيادة مركبة دون توافر التجهيزات اللازمة،\n",
            "اللازمة، مثل المكابح والأنوار وما في حكمهما. -\n",
            "حكمهما. - الغرامة المالية 1000 - 2000 ريال\n",
            "المخالفة:استخدام لوحات غير صادرة من الإدارة\n",
            "الإدارة المختصة. - الغرامة المالية 1000 - 2000\n",
            "- 2000 ريال\n",
            "المخالفة:تجاوز إشارة المرور الضوئية أثناء الضوء\n",
            "الضوء الأحمر. - الغرامة المالية 3000 - 6000 ريال\n",
            "المخالفة:تجاوز حافلات النقل المدرسي عند توقفها\n",
            "توقفها للتحميل أو التنزيل. - الغرامة المالية 3000\n",
            "3000 - 6000 ريال\n",
            "المخالفة:العبث بعلامات الطريق أو العاكسات أو\n",
            "أو الشاحنات المنظمة لحركة السير. - الغرامة\n",
            "- الغرامة المالية 3000 - 6000 ريال\n",
            "المخالفة:عدم الوقوف عند مراكز الضبط الأمني أو\n",
            "الأمني أو نقاط التفتيش أو عدم الوقوف للدورية\n",
            "للدورية الأمنية عند وجود توجيه أو علامة توجب\n",
            "توجب الوقوف. - الغرامة المالية 3000 - 6000 ريال\n",
            "المخالفة:استخدام أجهزة غير مصرح بها في المركبة أو\n",
            "أو وضع شعارات أو ملصقات تتنافى مع الآداب العامة.\n",
            "العامة. - الغرامة المالية 3000 - 6000 ريال\n",
            "المخالفة:قيادة المركبة بالاتجاه المعاكس لحركة\n",
            "لحركة السير. - الغرامة المالية 3000 - 6000 ريال\n",
            "المخالفة:المراوغة بسرعة بين المركبات على الطرق\n",
            "على الطرق العامة. - الغرامة المالية 3000 - 6000\n",
            "- 6000 ريال\n",
            "المخالفة:إجراء سباق للمركبات على الطرق العامة، أو\n",
            "أو السير في مواكب دون الحصول على تصريح. - الغرامة\n",
            "- الغرامة المالية 3000 - 6000 ريال\n",
            "المخالفة:عدم التزام الشاحنات والمعدات الثقيلة\n",
            "الثقيلة بالسير في المسار الآمن في الطريق المتعدد\n",
            "المتعدد المسارات. - الغرامة المالية 3000 - 6000\n",
            "- 6000 ريال\n",
            "المخالفة:عدم قيام أصحاب الحيوانات بإبعادها عن حرم\n",
            "عن حرم الطريق المعتمد. - الغرامة المالية 3000 -\n",
            "3000 - 6000 ريال\n",
            "المخالفة:تركيب تجهيزات في المركبة كتلك الخاصة\n",
            "الخاصة بالمركبات الرسمية ومركبات الطوارئ. -\n",
            "- الغرامة المالية 3000 - 6000 ريال\n",
            "المخالفة:تسيير مركبات الأشغال العامة على الطرق\n",
            "على الطرق قبل اتخاذ الإجراءات اللازمة لتلافي\n",
            "لتلافي أضرارها، بما في ذلك عدم وضع الشرائح\n",
            "الشرائح العاكسة على جانبي مؤخرة المركبة. -\n",
            "- الغرامة المالية 3000 - 6000 ريال\n",
            "المخالفة:سير المركبة بلا لوحة خلفية، أو بلا\n",
            "أو بلا لوحات. - الغرامة المالية 3000 - 6000 ريال\n",
            "المخالفة:طمس لوحات المركبة. - الغرامة المالية\n",
            "المالية 3000 - 6000 ريال\n",
            "المخالفة:قيادة المركبة تحت تأثير مسكر أو مخدر، أو\n",
            "مخدر، أو عقاقير محذر من القيادة تحت تأثيرها. -\n",
            "- الغرامة المالية 5000 - 10000 ريال\n",
            "المخالفة:القيام بأعمال الطرق قبل التنسيق مع\n",
            "مع الإدارة المختصة. - الغرامة المالية 5000 -\n",
            "5000 - 10000 ريال\n",
            "المخالفة:سماح أصحاب الحيوانات بعبور حيواناتهم من\n",
            "من غير الأماكن المخصصة لها، أو دون التنسيق مع\n",
            "مع الجهات المختصة. - الغرامة المالية 5000 - 10000\n",
            "- 10000 ريال\n",
            "المخالفة:استخدام لوحات غير عائدة للمركبة. -\n",
            "- الغرامة المالية 5000 - 10000 ريال\n",
            "المخالفة:طمس رقم هيكل المركبة أو محاولة طمسه. -\n",
            "طمسه. - الغرامة المالية 5000 - 10000 ريال\n",
            "المخالفة:المجازفة بعبور الأودية والشعاب أثناء\n",
            "أثناء جريانها. - الغرامة المالية 5000 - 10000\n",
            "- 10000 ريال\n"
          ]
        }
      ]
    },
    {
      "cell_type": "markdown",
      "metadata": {
        "id": "EviXuMjfL2Gj"
      },
      "source": [
        "## Step 5: Generate Embeddings for the Documents"
      ]
    },
    {
      "cell_type": "markdown",
      "metadata": {
        "id": "gAUq12UtL5OJ"
      },
      "source": [
        "Generate embeddings for the chunks of text using HuggingFace's pre-trained Arabic language model. These embeddings will be stored in a `Chroma` vector store."
      ]
    },
    {
      "cell_type": "code",
      "source": [
        "embeddings = HuggingFaceEmbeddings(model_name=\"all-MiniLM-L6-v2\")"
      ],
      "metadata": {
        "colab": {
          "base_uri": "https://localhost:8080/"
        },
        "id": "DNmJBkP74H06",
        "outputId": "32ef393a-245d-45ab-a2ab-c125d3e7c889"
      },
      "execution_count": 54,
      "outputs": [
        {
          "output_type": "stream",
          "name": "stderr",
          "text": [
            "/usr/local/lib/python3.10/dist-packages/transformers/tokenization_utils_base.py:1601: FutureWarning: `clean_up_tokenization_spaces` was not set. It will be set to `True` by default. This behavior will be depracted in transformers v4.45, and will be then set to `False` by default. For more details check this issue: https://github.com/huggingface/transformers/issues/31884\n",
            "  warnings.warn(\n"
          ]
        }
      ]
    },
    {
      "cell_type": "code",
      "source": [
        "database = Chroma.from_texts(texts= markdown_text.split('\\n'), embedding = embeddings)\n",
        "retriever = database.as_retriever()"
      ],
      "metadata": {
        "id": "hC558mRL9Vaj"
      },
      "execution_count": 93,
      "outputs": []
    },
    {
      "cell_type": "markdown",
      "metadata": {
        "id": "l32elHl2L-ob"
      },
      "source": [
        "# Step 6: Define the RAG Prompt Template"
      ]
    },
    {
      "cell_type": "markdown",
      "metadata": {
        "id": "X1zWp3KfMAld"
      },
      "source": [
        "Define a custom prompt template in Arabic to retrieve traffic violation-related answers based on the context. Ensure the template encourages the model to give **advice** in **Arabic**, staying within the context provided."
      ]
    },
    {
      "cell_type": "code",
      "execution_count": 72,
      "metadata": {
        "id": "gdy4qbn_CYTn"
      },
      "outputs": [],
      "source": [
        "template = \"\"\"\n",
        "أنت مساعد شخصي في إعطاء معلومات حول المخالفات المرورية. سيتم إعطاءك مجموعة قوانين ويجب عليك إجابة الأسئلة من خلالها.\n",
        "\n",
        "المخالفة: {violation}\n",
        "السياق:\n",
        "{context}\n",
        "\n",
        " ما هي غرامة المخالفة؟ وكيف يمكن للسائق تجنب هذه المخالفة؟\n",
        "\"\"\"\n",
        "\n",
        "rag_prompt_template = PromptTemplate(\n",
        "    input_variables=[\"violation\", \"context\"],\n",
        "    template=template\n",
        ")"
      ]
    },
    {
      "cell_type": "markdown",
      "metadata": {
        "id": "IvfcCIjgMG34"
      },
      "source": [
        "## Step 7: Initialize the Language Model"
      ]
    },
    {
      "cell_type": "code",
      "source": [
        "groq_api_key = \"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\"\n",
        "llm = ChatGroq(temperature=0, groq_api_key=groq_api_key, model_name=\"llama3-8b-8192\")"
      ],
      "metadata": {
        "id": "EWXw6HbA9I19"
      },
      "execution_count": 73,
      "outputs": []
    },
    {
      "cell_type": "markdown",
      "metadata": {
        "id": "_lvHUsNTMIvX"
      },
      "source": [
        "Initialize the language model using the Groq API. Set up the model with a specific configuration, including the API key, temperature setting, and model name."
      ]
    },
    {
      "cell_type": "markdown",
      "metadata": {
        "id": "c3T-2Fy9MLPa"
      },
      "source": [
        "## Step 8: Create the LLM Chain"
      ]
    },
    {
      "cell_type": "markdown",
      "metadata": {
        "id": "fCcrmiA2MOOi"
      },
      "source": [
        "Now, you will create an LLM Chain that combines the language model and the prompt template you defined. This chain will be used to generate responses based on the retrieved context."
      ]
    },
    {
      "cell_type": "code",
      "execution_count": 74,
      "metadata": {
        "id": "EM_tszFvHN6m"
      },
      "outputs": [],
      "source": [
        "MODEL = LLMChain(llm=llm,\n",
        "                 prompt=rag_prompt_template,\n",
        "                 verbose=True)"
      ]
    },
    {
      "cell_type": "markdown",
      "metadata": {
        "id": "di48NYGQMQtS"
      },
      "source": [
        "## Step 9: Implement the Query Function"
      ]
    },
    {
      "cell_type": "markdown",
      "metadata": {
        "id": "huXN44hwMS07"
      },
      "source": [
        "Create a function `query_rag` that will take a user query as input, retrieve relevant context from the vector store, and use the language model to generate a response based on that context."
      ]
    },
    {
      "cell_type": "code",
      "execution_count": 94,
      "metadata": {
        "id": "j1EEjdquHrTL"
      },
      "outputs": [],
      "source": [
        "def query_rag(user_query):\n",
        "    # vector_store = Chroma(persist_directory=\"/content/chroma_db\")\n",
        "    vector_store = retriever\n",
        "    docs = vector_store.similarity_search(query=user_query, k=2)\n",
        "\n",
        "    context = \"\\n\".join([doc.page_content for doc in docs])\n",
        "\n",
        "    result = MODEL.invoke({\"violation\": user_query, \"context\": context})\n",
        "\n",
        "    return result"
      ]
    },
    {
      "cell_type": "markdown",
      "metadata": {
        "id": "9iRfIjyzPLC_"
      },
      "source": [
        "## Step 10: Inference - Running Queries in the RAG System"
      ]
    },
    {
      "cell_type": "markdown",
      "metadata": {
        "id": "0iTaUjpWPOyt"
      },
      "source": [
        "In this final step, you will implement an inference pipeline to handle real-time queries. You will allow the system to retrieve the most relevant violations and fines based on a user's input and generate a response.\n",
        "\n",
        "1. Inference Workflow:\n",
        "\n",
        "  * The user inputs a query (e.g., \"ماهي الغرامة على القيادة بدون رخصة؟\").\n",
        "  * The system searches for the most relevant context from the traffic violation vector store.\n",
        "  * It generates an answer and advice based on the context.\n",
        "\n",
        "2. Goal:\n",
        "  * Run the inference to answer questions based on the traffic violation dataset."
      ]
    },
    {
      "cell_type": "code",
      "source": [
        "retriever = database.as_retriever(search_kwargs={\"k\": 3})\n",
        "retrieved_docs = retriever.invoke(\"ماهي الغرامة على القيادة بدون رخصة؟\")\n",
        "retrieved_docs"
      ],
      "metadata": {
        "colab": {
          "base_uri": "https://localhost:8080/"
        },
        "id": "iLGREERsNsB1",
        "outputId": "5e35c6f9-05ab-4c08-f55f-9a40da6dbcf4"
      },
      "execution_count": 95,
      "outputs": [
        {
          "output_type": "execute_result",
          "data": {
            "text/plain": [
              "[Document(metadata={}, page_content='المخالفة:الرجوع إلى الخلف في الطريق العام لمسافة تزيد على عشرين متراً. - الغرامة المالية 150 - 300 ريال'),\n",
              " Document(metadata={}, page_content='المخالفة:إجراء سباق للمركبات على الطرق العامة، أو السير في مواكب دون الحصول على تصريح. - الغرامة المالية 3000 - 6000 ريال'),\n",
              " Document(metadata={}, page_content='المخالفة:المراوغة بسرعة بين المركبات على الطرق العامة. - الغرامة المالية 3000 - 6000 ريال')]"
            ]
          },
          "metadata": {},
          "execution_count": 95
        }
      ]
    },
    {
      "cell_type": "code",
      "source": [],
      "metadata": {
        "id": "IHY93p5xSHVx"
      },
      "execution_count": null,
      "outputs": []
    }
  ],
  "metadata": {
    "accelerator": "GPU",
    "colab": {
      "gpuType": "T4",
      "provenance": []
    },
    "kernelspec": {
      "display_name": "Python 3",
      "name": "python3"
    },
    "language_info": {
      "name": "python"
    }
  },
  "nbformat": 4,
  "nbformat_minor": 0
}