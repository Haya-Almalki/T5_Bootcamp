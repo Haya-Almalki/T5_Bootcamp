{
  "nbformat": 4,
  "nbformat_minor": 0,
  "metadata": {
    "colab": {
      "provenance": []
    },
    "kernelspec": {
      "name": "python3",
      "display_name": "Python 3"
    },
    "language_info": {
      "name": "python"
    }
  },
  "cells": [
    {
      "cell_type": "markdown",
      "source": [
        "#**Parameter Analysis for the ARIMA model**"
      ],
      "metadata": {
        "id": "JaxjdikNnjkf"
      }
    },
    {
      "cell_type": "markdown",
      "source": [
        "## Import the library\n"
      ],
      "metadata": {
        "id": "Bcg9HjA6npWd"
      }
    },
    {
      "cell_type": "code",
      "execution_count": 3,
      "metadata": {
        "id": "5c6uJIkGncuk",
        "colab": {
          "base_uri": "https://localhost:8080/"
        },
        "outputId": "5ab66b90-3b33-4398-a8f9-0261a2284e90"
      },
      "outputs": [
        {
          "output_type": "stream",
          "name": "stdout",
          "text": [
            "Requirement already satisfied: pmdarima in /usr/local/lib/python3.10/dist-packages (2.0.4)\n",
            "Requirement already satisfied: joblib>=0.11 in /usr/local/lib/python3.10/dist-packages (from pmdarima) (1.4.2)\n",
            "Requirement already satisfied: Cython!=0.29.18,!=0.29.31,>=0.29 in /usr/local/lib/python3.10/dist-packages (from pmdarima) (3.0.11)\n",
            "Requirement already satisfied: numpy>=1.21.2 in /usr/local/lib/python3.10/dist-packages (from pmdarima) (1.26.4)\n",
            "Requirement already satisfied: pandas>=0.19 in /usr/local/lib/python3.10/dist-packages (from pmdarima) (2.1.4)\n",
            "Requirement already satisfied: scikit-learn>=0.22 in /usr/local/lib/python3.10/dist-packages (from pmdarima) (1.3.2)\n",
            "Requirement already satisfied: scipy>=1.3.2 in /usr/local/lib/python3.10/dist-packages (from pmdarima) (1.13.1)\n",
            "Requirement already satisfied: statsmodels>=0.13.2 in /usr/local/lib/python3.10/dist-packages (from pmdarima) (0.14.2)\n",
            "Requirement already satisfied: urllib3 in /usr/local/lib/python3.10/dist-packages (from pmdarima) (2.0.7)\n",
            "Requirement already satisfied: setuptools!=50.0.0,>=38.6.0 in /usr/local/lib/python3.10/dist-packages (from pmdarima) (71.0.4)\n",
            "Requirement already satisfied: packaging>=17.1 in /usr/local/lib/python3.10/dist-packages (from pmdarima) (24.1)\n",
            "Requirement already satisfied: python-dateutil>=2.8.2 in /usr/local/lib/python3.10/dist-packages (from pandas>=0.19->pmdarima) (2.8.2)\n",
            "Requirement already satisfied: pytz>=2020.1 in /usr/local/lib/python3.10/dist-packages (from pandas>=0.19->pmdarima) (2024.1)\n",
            "Requirement already satisfied: tzdata>=2022.1 in /usr/local/lib/python3.10/dist-packages (from pandas>=0.19->pmdarima) (2024.1)\n",
            "Requirement already satisfied: threadpoolctl>=2.0.0 in /usr/local/lib/python3.10/dist-packages (from scikit-learn>=0.22->pmdarima) (3.5.0)\n",
            "Requirement already satisfied: patsy>=0.5.6 in /usr/local/lib/python3.10/dist-packages (from statsmodels>=0.13.2->pmdarima) (0.5.6)\n",
            "Requirement already satisfied: six in /usr/local/lib/python3.10/dist-packages (from patsy>=0.5.6->statsmodels>=0.13.2->pmdarima) (1.16.0)\n"
          ]
        }
      ],
      "source": [
        "# To install the library\n",
        "!pip install pmdarima\n",
        "# Import the library\n",
        "from pmdarima import auto_arima\n",
        "import pandas as pd\n",
        "# Ignore harmless warnings\n",
        "import warnings\n",
        "warnings.filterwarnings(\"ignore\")\n",
        "from statsmodels.tsa.seasonal import seasonal_decompose\n",
        "import matplotlib.pyplot as plt\n",
        "from statsmodels.tsa.statespace.sarimax import SARIMAX"
      ]
    },
    {
      "cell_type": "markdown",
      "source": [
        "## Read dataset"
      ],
      "metadata": {
        "id": "d4pFa8pkoErL"
      }
    },
    {
      "cell_type": "code",
      "source": [
        "df=pd.read_csv('traffic.csv')\n",
        "df.head()"
      ],
      "metadata": {
        "id": "7nA5jLRHoFCP",
        "colab": {
          "base_uri": "https://localhost:8080/",
          "height": 206
        },
        "outputId": "00ad3116-fee2-447c-ddf3-999a334717ad"
      },
      "execution_count": 29,
      "outputs": [
        {
          "output_type": "execute_result",
          "data": {
            "text/plain": [
              "              DateTime  Junction  Vehicles           ID\n",
              "0  2015-11-01 00:00:00         1        15  20151101001\n",
              "1  2015-11-01 01:00:00         1        13  20151101011\n",
              "2  2015-11-01 02:00:00         1        10  20151101021\n",
              "3  2015-11-01 03:00:00         1         7  20151101031\n",
              "4  2015-11-01 04:00:00         1         9  20151101041"
            ],
            "text/html": [
              "\n",
              "  <div id=\"df-57b28978-33dc-4fad-8fb6-c5f656e7694e\" class=\"colab-df-container\">\n",
              "    <div>\n",
              "<style scoped>\n",
              "    .dataframe tbody tr th:only-of-type {\n",
              "        vertical-align: middle;\n",
              "    }\n",
              "\n",
              "    .dataframe tbody tr th {\n",
              "        vertical-align: top;\n",
              "    }\n",
              "\n",
              "    .dataframe thead th {\n",
              "        text-align: right;\n",
              "    }\n",
              "</style>\n",
              "<table border=\"1\" class=\"dataframe\">\n",
              "  <thead>\n",
              "    <tr style=\"text-align: right;\">\n",
              "      <th></th>\n",
              "      <th>DateTime</th>\n",
              "      <th>Junction</th>\n",
              "      <th>Vehicles</th>\n",
              "      <th>ID</th>\n",
              "    </tr>\n",
              "  </thead>\n",
              "  <tbody>\n",
              "    <tr>\n",
              "      <th>0</th>\n",
              "      <td>2015-11-01 00:00:00</td>\n",
              "      <td>1</td>\n",
              "      <td>15</td>\n",
              "      <td>20151101001</td>\n",
              "    </tr>\n",
              "    <tr>\n",
              "      <th>1</th>\n",
              "      <td>2015-11-01 01:00:00</td>\n",
              "      <td>1</td>\n",
              "      <td>13</td>\n",
              "      <td>20151101011</td>\n",
              "    </tr>\n",
              "    <tr>\n",
              "      <th>2</th>\n",
              "      <td>2015-11-01 02:00:00</td>\n",
              "      <td>1</td>\n",
              "      <td>10</td>\n",
              "      <td>20151101021</td>\n",
              "    </tr>\n",
              "    <tr>\n",
              "      <th>3</th>\n",
              "      <td>2015-11-01 03:00:00</td>\n",
              "      <td>1</td>\n",
              "      <td>7</td>\n",
              "      <td>20151101031</td>\n",
              "    </tr>\n",
              "    <tr>\n",
              "      <th>4</th>\n",
              "      <td>2015-11-01 04:00:00</td>\n",
              "      <td>1</td>\n",
              "      <td>9</td>\n",
              "      <td>20151101041</td>\n",
              "    </tr>\n",
              "  </tbody>\n",
              "</table>\n",
              "</div>\n",
              "    <div class=\"colab-df-buttons\">\n",
              "\n",
              "  <div class=\"colab-df-container\">\n",
              "    <button class=\"colab-df-convert\" onclick=\"convertToInteractive('df-57b28978-33dc-4fad-8fb6-c5f656e7694e')\"\n",
              "            title=\"Convert this dataframe to an interactive table.\"\n",
              "            style=\"display:none;\">\n",
              "\n",
              "  <svg xmlns=\"http://www.w3.org/2000/svg\" height=\"24px\" viewBox=\"0 -960 960 960\">\n",
              "    <path d=\"M120-120v-720h720v720H120Zm60-500h600v-160H180v160Zm220 220h160v-160H400v160Zm0 220h160v-160H400v160ZM180-400h160v-160H180v160Zm440 0h160v-160H620v160ZM180-180h160v-160H180v160Zm440 0h160v-160H620v160Z\"/>\n",
              "  </svg>\n",
              "    </button>\n",
              "\n",
              "  <style>\n",
              "    .colab-df-container {\n",
              "      display:flex;\n",
              "      gap: 12px;\n",
              "    }\n",
              "\n",
              "    .colab-df-convert {\n",
              "      background-color: #E8F0FE;\n",
              "      border: none;\n",
              "      border-radius: 50%;\n",
              "      cursor: pointer;\n",
              "      display: none;\n",
              "      fill: #1967D2;\n",
              "      height: 32px;\n",
              "      padding: 0 0 0 0;\n",
              "      width: 32px;\n",
              "    }\n",
              "\n",
              "    .colab-df-convert:hover {\n",
              "      background-color: #E2EBFA;\n",
              "      box-shadow: 0px 1px 2px rgba(60, 64, 67, 0.3), 0px 1px 3px 1px rgba(60, 64, 67, 0.15);\n",
              "      fill: #174EA6;\n",
              "    }\n",
              "\n",
              "    .colab-df-buttons div {\n",
              "      margin-bottom: 4px;\n",
              "    }\n",
              "\n",
              "    [theme=dark] .colab-df-convert {\n",
              "      background-color: #3B4455;\n",
              "      fill: #D2E3FC;\n",
              "    }\n",
              "\n",
              "    [theme=dark] .colab-df-convert:hover {\n",
              "      background-color: #434B5C;\n",
              "      box-shadow: 0px 1px 3px 1px rgba(0, 0, 0, 0.15);\n",
              "      filter: drop-shadow(0px 1px 2px rgba(0, 0, 0, 0.3));\n",
              "      fill: #FFFFFF;\n",
              "    }\n",
              "  </style>\n",
              "\n",
              "    <script>\n",
              "      const buttonEl =\n",
              "        document.querySelector('#df-57b28978-33dc-4fad-8fb6-c5f656e7694e button.colab-df-convert');\n",
              "      buttonEl.style.display =\n",
              "        google.colab.kernel.accessAllowed ? 'block' : 'none';\n",
              "\n",
              "      async function convertToInteractive(key) {\n",
              "        const element = document.querySelector('#df-57b28978-33dc-4fad-8fb6-c5f656e7694e');\n",
              "        const dataTable =\n",
              "          await google.colab.kernel.invokeFunction('convertToInteractive',\n",
              "                                                    [key], {});\n",
              "        if (!dataTable) return;\n",
              "\n",
              "        const docLinkHtml = 'Like what you see? Visit the ' +\n",
              "          '<a target=\"_blank\" href=https://colab.research.google.com/notebooks/data_table.ipynb>data table notebook</a>'\n",
              "          + ' to learn more about interactive tables.';\n",
              "        element.innerHTML = '';\n",
              "        dataTable['output_type'] = 'display_data';\n",
              "        await google.colab.output.renderOutput(dataTable, element);\n",
              "        const docLink = document.createElement('div');\n",
              "        docLink.innerHTML = docLinkHtml;\n",
              "        element.appendChild(docLink);\n",
              "      }\n",
              "    </script>\n",
              "  </div>\n",
              "\n",
              "\n",
              "<div id=\"df-409a4029-e5a6-4384-9974-ecefd5dcd5eb\">\n",
              "  <button class=\"colab-df-quickchart\" onclick=\"quickchart('df-409a4029-e5a6-4384-9974-ecefd5dcd5eb')\"\n",
              "            title=\"Suggest charts\"\n",
              "            style=\"display:none;\">\n",
              "\n",
              "<svg xmlns=\"http://www.w3.org/2000/svg\" height=\"24px\"viewBox=\"0 0 24 24\"\n",
              "     width=\"24px\">\n",
              "    <g>\n",
              "        <path d=\"M19 3H5c-1.1 0-2 .9-2 2v14c0 1.1.9 2 2 2h14c1.1 0 2-.9 2-2V5c0-1.1-.9-2-2-2zM9 17H7v-7h2v7zm4 0h-2V7h2v10zm4 0h-2v-4h2v4z\"/>\n",
              "    </g>\n",
              "</svg>\n",
              "  </button>\n",
              "\n",
              "<style>\n",
              "  .colab-df-quickchart {\n",
              "      --bg-color: #E8F0FE;\n",
              "      --fill-color: #1967D2;\n",
              "      --hover-bg-color: #E2EBFA;\n",
              "      --hover-fill-color: #174EA6;\n",
              "      --disabled-fill-color: #AAA;\n",
              "      --disabled-bg-color: #DDD;\n",
              "  }\n",
              "\n",
              "  [theme=dark] .colab-df-quickchart {\n",
              "      --bg-color: #3B4455;\n",
              "      --fill-color: #D2E3FC;\n",
              "      --hover-bg-color: #434B5C;\n",
              "      --hover-fill-color: #FFFFFF;\n",
              "      --disabled-bg-color: #3B4455;\n",
              "      --disabled-fill-color: #666;\n",
              "  }\n",
              "\n",
              "  .colab-df-quickchart {\n",
              "    background-color: var(--bg-color);\n",
              "    border: none;\n",
              "    border-radius: 50%;\n",
              "    cursor: pointer;\n",
              "    display: none;\n",
              "    fill: var(--fill-color);\n",
              "    height: 32px;\n",
              "    padding: 0;\n",
              "    width: 32px;\n",
              "  }\n",
              "\n",
              "  .colab-df-quickchart:hover {\n",
              "    background-color: var(--hover-bg-color);\n",
              "    box-shadow: 0 1px 2px rgba(60, 64, 67, 0.3), 0 1px 3px 1px rgba(60, 64, 67, 0.15);\n",
              "    fill: var(--button-hover-fill-color);\n",
              "  }\n",
              "\n",
              "  .colab-df-quickchart-complete:disabled,\n",
              "  .colab-df-quickchart-complete:disabled:hover {\n",
              "    background-color: var(--disabled-bg-color);\n",
              "    fill: var(--disabled-fill-color);\n",
              "    box-shadow: none;\n",
              "  }\n",
              "\n",
              "  .colab-df-spinner {\n",
              "    border: 2px solid var(--fill-color);\n",
              "    border-color: transparent;\n",
              "    border-bottom-color: var(--fill-color);\n",
              "    animation:\n",
              "      spin 1s steps(1) infinite;\n",
              "  }\n",
              "\n",
              "  @keyframes spin {\n",
              "    0% {\n",
              "      border-color: transparent;\n",
              "      border-bottom-color: var(--fill-color);\n",
              "      border-left-color: var(--fill-color);\n",
              "    }\n",
              "    20% {\n",
              "      border-color: transparent;\n",
              "      border-left-color: var(--fill-color);\n",
              "      border-top-color: var(--fill-color);\n",
              "    }\n",
              "    30% {\n",
              "      border-color: transparent;\n",
              "      border-left-color: var(--fill-color);\n",
              "      border-top-color: var(--fill-color);\n",
              "      border-right-color: var(--fill-color);\n",
              "    }\n",
              "    40% {\n",
              "      border-color: transparent;\n",
              "      border-right-color: var(--fill-color);\n",
              "      border-top-color: var(--fill-color);\n",
              "    }\n",
              "    60% {\n",
              "      border-color: transparent;\n",
              "      border-right-color: var(--fill-color);\n",
              "    }\n",
              "    80% {\n",
              "      border-color: transparent;\n",
              "      border-right-color: var(--fill-color);\n",
              "      border-bottom-color: var(--fill-color);\n",
              "    }\n",
              "    90% {\n",
              "      border-color: transparent;\n",
              "      border-bottom-color: var(--fill-color);\n",
              "    }\n",
              "  }\n",
              "</style>\n",
              "\n",
              "  <script>\n",
              "    async function quickchart(key) {\n",
              "      const quickchartButtonEl =\n",
              "        document.querySelector('#' + key + ' button');\n",
              "      quickchartButtonEl.disabled = true;  // To prevent multiple clicks.\n",
              "      quickchartButtonEl.classList.add('colab-df-spinner');\n",
              "      try {\n",
              "        const charts = await google.colab.kernel.invokeFunction(\n",
              "            'suggestCharts', [key], {});\n",
              "      } catch (error) {\n",
              "        console.error('Error during call to suggestCharts:', error);\n",
              "      }\n",
              "      quickchartButtonEl.classList.remove('colab-df-spinner');\n",
              "      quickchartButtonEl.classList.add('colab-df-quickchart-complete');\n",
              "    }\n",
              "    (() => {\n",
              "      let quickchartButtonEl =\n",
              "        document.querySelector('#df-409a4029-e5a6-4384-9974-ecefd5dcd5eb button');\n",
              "      quickchartButtonEl.style.display =\n",
              "        google.colab.kernel.accessAllowed ? 'block' : 'none';\n",
              "    })();\n",
              "  </script>\n",
              "</div>\n",
              "\n",
              "    </div>\n",
              "  </div>\n"
            ],
            "application/vnd.google.colaboratory.intrinsic+json": {
              "type": "dataframe",
              "variable_name": "df",
              "summary": "{\n  \"name\": \"df\",\n  \"rows\": 48120,\n  \"fields\": [\n    {\n      \"column\": \"DateTime\",\n      \"properties\": {\n        \"dtype\": \"object\",\n        \"num_unique_values\": 14592,\n        \"samples\": [\n          \"2016-05-13 20:00:00\",\n          \"2016-11-03 20:00:00\",\n          \"2015-12-08 19:00:00\"\n        ],\n        \"semantic_type\": \"\",\n        \"description\": \"\"\n      }\n    },\n    {\n      \"column\": \"Junction\",\n      \"properties\": {\n        \"dtype\": \"number\",\n        \"std\": 0,\n        \"min\": 1,\n        \"max\": 4,\n        \"num_unique_values\": 4,\n        \"samples\": [\n          2,\n          4,\n          1\n        ],\n        \"semantic_type\": \"\",\n        \"description\": \"\"\n      }\n    },\n    {\n      \"column\": \"Vehicles\",\n      \"properties\": {\n        \"dtype\": \"number\",\n        \"std\": 20,\n        \"min\": 1,\n        \"max\": 180,\n        \"num_unique_values\": 141,\n        \"samples\": [\n          73,\n          99,\n          38\n        ],\n        \"semantic_type\": \"\",\n        \"description\": \"\"\n      }\n    },\n    {\n      \"column\": \"ID\",\n      \"properties\": {\n        \"dtype\": \"number\",\n        \"std\": 5944853,\n        \"min\": 20151101001,\n        \"max\": 20170630234,\n        \"num_unique_values\": 48120,\n        \"samples\": [\n          20161223082,\n          20160828203,\n          20170424063\n        ],\n        \"semantic_type\": \"\",\n        \"description\": \"\"\n      }\n    }\n  ]\n}"
            }
          },
          "metadata": {},
          "execution_count": 29
        }
      ]
    },
    {
      "cell_type": "code",
      "source": [
        "df.info()"
      ],
      "metadata": {
        "colab": {
          "base_uri": "https://localhost:8080/"
        },
        "id": "nEk74HA9xlQv",
        "outputId": "85853aec-f090-4ba6-ebb9-b8f609dea1c2"
      },
      "execution_count": 30,
      "outputs": [
        {
          "output_type": "stream",
          "name": "stdout",
          "text": [
            "<class 'pandas.core.frame.DataFrame'>\n",
            "RangeIndex: 48120 entries, 0 to 48119\n",
            "Data columns (total 4 columns):\n",
            " #   Column    Non-Null Count  Dtype \n",
            "---  ------    --------------  ----- \n",
            " 0   DateTime  48120 non-null  object\n",
            " 1   Junction  48120 non-null  int64 \n",
            " 2   Vehicles  48120 non-null  int64 \n",
            " 3   ID        48120 non-null  int64 \n",
            "dtypes: int64(3), object(1)\n",
            "memory usage: 1.5+ MB\n"
          ]
        }
      ]
    },
    {
      "cell_type": "code",
      "source": [
        "df.shape"
      ],
      "metadata": {
        "colab": {
          "base_uri": "https://localhost:8080/"
        },
        "id": "yzXWCJdz7R4p",
        "outputId": "54cf6fab-fa0e-4e35-b5f3-65fbe63274b6"
      },
      "execution_count": 31,
      "outputs": [
        {
          "output_type": "execute_result",
          "data": {
            "text/plain": [
              "(48120, 4)"
            ]
          },
          "metadata": {},
          "execution_count": 31
        }
      ]
    },
    {
      "cell_type": "code",
      "source": [
        "drop_col=['ID','Junction']\n",
        "df.drop(drop_col,axis=1,inplace=True)"
      ],
      "metadata": {
        "id": "gNk6pJUO29RG"
      },
      "execution_count": 32,
      "outputs": []
    },
    {
      "cell_type": "code",
      "source": [
        "df['DateTime'] = pd.to_datetime(df['DateTime'])"
      ],
      "metadata": {
        "id": "Jk9QM8YfyBrw"
      },
      "execution_count": 33,
      "outputs": []
    },
    {
      "cell_type": "code",
      "source": [
        "df= df.set_index('DateTime')\n",
        "df.head()"
      ],
      "metadata": {
        "colab": {
          "base_uri": "https://localhost:8080/",
          "height": 237
        },
        "id": "EpJwTUre_fDi",
        "outputId": "56f017e2-2e84-41da-90bb-a0013efb81ce"
      },
      "execution_count": 34,
      "outputs": [
        {
          "output_type": "execute_result",
          "data": {
            "text/plain": [
              "                     Vehicles\n",
              "DateTime                     \n",
              "2015-11-01 00:00:00        15\n",
              "2015-11-01 01:00:00        13\n",
              "2015-11-01 02:00:00        10\n",
              "2015-11-01 03:00:00         7\n",
              "2015-11-01 04:00:00         9"
            ],
            "text/html": [
              "\n",
              "  <div id=\"df-66720bb0-081d-4884-9a7e-718b667a77a3\" class=\"colab-df-container\">\n",
              "    <div>\n",
              "<style scoped>\n",
              "    .dataframe tbody tr th:only-of-type {\n",
              "        vertical-align: middle;\n",
              "    }\n",
              "\n",
              "    .dataframe tbody tr th {\n",
              "        vertical-align: top;\n",
              "    }\n",
              "\n",
              "    .dataframe thead th {\n",
              "        text-align: right;\n",
              "    }\n",
              "</style>\n",
              "<table border=\"1\" class=\"dataframe\">\n",
              "  <thead>\n",
              "    <tr style=\"text-align: right;\">\n",
              "      <th></th>\n",
              "      <th>Vehicles</th>\n",
              "    </tr>\n",
              "    <tr>\n",
              "      <th>DateTime</th>\n",
              "      <th></th>\n",
              "    </tr>\n",
              "  </thead>\n",
              "  <tbody>\n",
              "    <tr>\n",
              "      <th>2015-11-01 00:00:00</th>\n",
              "      <td>15</td>\n",
              "    </tr>\n",
              "    <tr>\n",
              "      <th>2015-11-01 01:00:00</th>\n",
              "      <td>13</td>\n",
              "    </tr>\n",
              "    <tr>\n",
              "      <th>2015-11-01 02:00:00</th>\n",
              "      <td>10</td>\n",
              "    </tr>\n",
              "    <tr>\n",
              "      <th>2015-11-01 03:00:00</th>\n",
              "      <td>7</td>\n",
              "    </tr>\n",
              "    <tr>\n",
              "      <th>2015-11-01 04:00:00</th>\n",
              "      <td>9</td>\n",
              "    </tr>\n",
              "  </tbody>\n",
              "</table>\n",
              "</div>\n",
              "    <div class=\"colab-df-buttons\">\n",
              "\n",
              "  <div class=\"colab-df-container\">\n",
              "    <button class=\"colab-df-convert\" onclick=\"convertToInteractive('df-66720bb0-081d-4884-9a7e-718b667a77a3')\"\n",
              "            title=\"Convert this dataframe to an interactive table.\"\n",
              "            style=\"display:none;\">\n",
              "\n",
              "  <svg xmlns=\"http://www.w3.org/2000/svg\" height=\"24px\" viewBox=\"0 -960 960 960\">\n",
              "    <path d=\"M120-120v-720h720v720H120Zm60-500h600v-160H180v160Zm220 220h160v-160H400v160Zm0 220h160v-160H400v160ZM180-400h160v-160H180v160Zm440 0h160v-160H620v160ZM180-180h160v-160H180v160Zm440 0h160v-160H620v160Z\"/>\n",
              "  </svg>\n",
              "    </button>\n",
              "\n",
              "  <style>\n",
              "    .colab-df-container {\n",
              "      display:flex;\n",
              "      gap: 12px;\n",
              "    }\n",
              "\n",
              "    .colab-df-convert {\n",
              "      background-color: #E8F0FE;\n",
              "      border: none;\n",
              "      border-radius: 50%;\n",
              "      cursor: pointer;\n",
              "      display: none;\n",
              "      fill: #1967D2;\n",
              "      height: 32px;\n",
              "      padding: 0 0 0 0;\n",
              "      width: 32px;\n",
              "    }\n",
              "\n",
              "    .colab-df-convert:hover {\n",
              "      background-color: #E2EBFA;\n",
              "      box-shadow: 0px 1px 2px rgba(60, 64, 67, 0.3), 0px 1px 3px 1px rgba(60, 64, 67, 0.15);\n",
              "      fill: #174EA6;\n",
              "    }\n",
              "\n",
              "    .colab-df-buttons div {\n",
              "      margin-bottom: 4px;\n",
              "    }\n",
              "\n",
              "    [theme=dark] .colab-df-convert {\n",
              "      background-color: #3B4455;\n",
              "      fill: #D2E3FC;\n",
              "    }\n",
              "\n",
              "    [theme=dark] .colab-df-convert:hover {\n",
              "      background-color: #434B5C;\n",
              "      box-shadow: 0px 1px 3px 1px rgba(0, 0, 0, 0.15);\n",
              "      filter: drop-shadow(0px 1px 2px rgba(0, 0, 0, 0.3));\n",
              "      fill: #FFFFFF;\n",
              "    }\n",
              "  </style>\n",
              "\n",
              "    <script>\n",
              "      const buttonEl =\n",
              "        document.querySelector('#df-66720bb0-081d-4884-9a7e-718b667a77a3 button.colab-df-convert');\n",
              "      buttonEl.style.display =\n",
              "        google.colab.kernel.accessAllowed ? 'block' : 'none';\n",
              "\n",
              "      async function convertToInteractive(key) {\n",
              "        const element = document.querySelector('#df-66720bb0-081d-4884-9a7e-718b667a77a3');\n",
              "        const dataTable =\n",
              "          await google.colab.kernel.invokeFunction('convertToInteractive',\n",
              "                                                    [key], {});\n",
              "        if (!dataTable) return;\n",
              "\n",
              "        const docLinkHtml = 'Like what you see? Visit the ' +\n",
              "          '<a target=\"_blank\" href=https://colab.research.google.com/notebooks/data_table.ipynb>data table notebook</a>'\n",
              "          + ' to learn more about interactive tables.';\n",
              "        element.innerHTML = '';\n",
              "        dataTable['output_type'] = 'display_data';\n",
              "        await google.colab.output.renderOutput(dataTable, element);\n",
              "        const docLink = document.createElement('div');\n",
              "        docLink.innerHTML = docLinkHtml;\n",
              "        element.appendChild(docLink);\n",
              "      }\n",
              "    </script>\n",
              "  </div>\n",
              "\n",
              "\n",
              "<div id=\"df-018e3e8f-13da-4607-9d93-9f513ca52203\">\n",
              "  <button class=\"colab-df-quickchart\" onclick=\"quickchart('df-018e3e8f-13da-4607-9d93-9f513ca52203')\"\n",
              "            title=\"Suggest charts\"\n",
              "            style=\"display:none;\">\n",
              "\n",
              "<svg xmlns=\"http://www.w3.org/2000/svg\" height=\"24px\"viewBox=\"0 0 24 24\"\n",
              "     width=\"24px\">\n",
              "    <g>\n",
              "        <path d=\"M19 3H5c-1.1 0-2 .9-2 2v14c0 1.1.9 2 2 2h14c1.1 0 2-.9 2-2V5c0-1.1-.9-2-2-2zM9 17H7v-7h2v7zm4 0h-2V7h2v10zm4 0h-2v-4h2v4z\"/>\n",
              "    </g>\n",
              "</svg>\n",
              "  </button>\n",
              "\n",
              "<style>\n",
              "  .colab-df-quickchart {\n",
              "      --bg-color: #E8F0FE;\n",
              "      --fill-color: #1967D2;\n",
              "      --hover-bg-color: #E2EBFA;\n",
              "      --hover-fill-color: #174EA6;\n",
              "      --disabled-fill-color: #AAA;\n",
              "      --disabled-bg-color: #DDD;\n",
              "  }\n",
              "\n",
              "  [theme=dark] .colab-df-quickchart {\n",
              "      --bg-color: #3B4455;\n",
              "      --fill-color: #D2E3FC;\n",
              "      --hover-bg-color: #434B5C;\n",
              "      --hover-fill-color: #FFFFFF;\n",
              "      --disabled-bg-color: #3B4455;\n",
              "      --disabled-fill-color: #666;\n",
              "  }\n",
              "\n",
              "  .colab-df-quickchart {\n",
              "    background-color: var(--bg-color);\n",
              "    border: none;\n",
              "    border-radius: 50%;\n",
              "    cursor: pointer;\n",
              "    display: none;\n",
              "    fill: var(--fill-color);\n",
              "    height: 32px;\n",
              "    padding: 0;\n",
              "    width: 32px;\n",
              "  }\n",
              "\n",
              "  .colab-df-quickchart:hover {\n",
              "    background-color: var(--hover-bg-color);\n",
              "    box-shadow: 0 1px 2px rgba(60, 64, 67, 0.3), 0 1px 3px 1px rgba(60, 64, 67, 0.15);\n",
              "    fill: var(--button-hover-fill-color);\n",
              "  }\n",
              "\n",
              "  .colab-df-quickchart-complete:disabled,\n",
              "  .colab-df-quickchart-complete:disabled:hover {\n",
              "    background-color: var(--disabled-bg-color);\n",
              "    fill: var(--disabled-fill-color);\n",
              "    box-shadow: none;\n",
              "  }\n",
              "\n",
              "  .colab-df-spinner {\n",
              "    border: 2px solid var(--fill-color);\n",
              "    border-color: transparent;\n",
              "    border-bottom-color: var(--fill-color);\n",
              "    animation:\n",
              "      spin 1s steps(1) infinite;\n",
              "  }\n",
              "\n",
              "  @keyframes spin {\n",
              "    0% {\n",
              "      border-color: transparent;\n",
              "      border-bottom-color: var(--fill-color);\n",
              "      border-left-color: var(--fill-color);\n",
              "    }\n",
              "    20% {\n",
              "      border-color: transparent;\n",
              "      border-left-color: var(--fill-color);\n",
              "      border-top-color: var(--fill-color);\n",
              "    }\n",
              "    30% {\n",
              "      border-color: transparent;\n",
              "      border-left-color: var(--fill-color);\n",
              "      border-top-color: var(--fill-color);\n",
              "      border-right-color: var(--fill-color);\n",
              "    }\n",
              "    40% {\n",
              "      border-color: transparent;\n",
              "      border-right-color: var(--fill-color);\n",
              "      border-top-color: var(--fill-color);\n",
              "    }\n",
              "    60% {\n",
              "      border-color: transparent;\n",
              "      border-right-color: var(--fill-color);\n",
              "    }\n",
              "    80% {\n",
              "      border-color: transparent;\n",
              "      border-right-color: var(--fill-color);\n",
              "      border-bottom-color: var(--fill-color);\n",
              "    }\n",
              "    90% {\n",
              "      border-color: transparent;\n",
              "      border-bottom-color: var(--fill-color);\n",
              "    }\n",
              "  }\n",
              "</style>\n",
              "\n",
              "  <script>\n",
              "    async function quickchart(key) {\n",
              "      const quickchartButtonEl =\n",
              "        document.querySelector('#' + key + ' button');\n",
              "      quickchartButtonEl.disabled = true;  // To prevent multiple clicks.\n",
              "      quickchartButtonEl.classList.add('colab-df-spinner');\n",
              "      try {\n",
              "        const charts = await google.colab.kernel.invokeFunction(\n",
              "            'suggestCharts', [key], {});\n",
              "      } catch (error) {\n",
              "        console.error('Error during call to suggestCharts:', error);\n",
              "      }\n",
              "      quickchartButtonEl.classList.remove('colab-df-spinner');\n",
              "      quickchartButtonEl.classList.add('colab-df-quickchart-complete');\n",
              "    }\n",
              "    (() => {\n",
              "      let quickchartButtonEl =\n",
              "        document.querySelector('#df-018e3e8f-13da-4607-9d93-9f513ca52203 button');\n",
              "      quickchartButtonEl.style.display =\n",
              "        google.colab.kernel.accessAllowed ? 'block' : 'none';\n",
              "    })();\n",
              "  </script>\n",
              "</div>\n",
              "\n",
              "    </div>\n",
              "  </div>\n"
            ],
            "application/vnd.google.colaboratory.intrinsic+json": {
              "type": "dataframe",
              "variable_name": "df",
              "summary": "{\n  \"name\": \"df\",\n  \"rows\": 48120,\n  \"fields\": [\n    {\n      \"column\": \"DateTime\",\n      \"properties\": {\n        \"dtype\": \"date\",\n        \"min\": \"2015-11-01 00:00:00\",\n        \"max\": \"2017-06-30 23:00:00\",\n        \"num_unique_values\": 14592,\n        \"samples\": [\n          \"2016-05-13 20:00:00\",\n          \"2016-11-03 20:00:00\",\n          \"2015-12-08 19:00:00\"\n        ],\n        \"semantic_type\": \"\",\n        \"description\": \"\"\n      }\n    },\n    {\n      \"column\": \"Vehicles\",\n      \"properties\": {\n        \"dtype\": \"number\",\n        \"std\": 20,\n        \"min\": 1,\n        \"max\": 180,\n        \"num_unique_values\": 141,\n        \"samples\": [\n          73,\n          99,\n          38\n        ],\n        \"semantic_type\": \"\",\n        \"description\": \"\"\n      }\n    }\n  ]\n}"
            }
          },
          "metadata": {},
          "execution_count": 34
        }
      ]
    },
    {
      "cell_type": "code",
      "source": [],
      "metadata": {
        "id": "osDQCyMj_kTw"
      },
      "execution_count": 34,
      "outputs": []
    },
    {
      "cell_type": "code",
      "source": [
        "#Understanding the pattern\n",
        "df.plot()"
      ],
      "metadata": {
        "colab": {
          "base_uri": "https://localhost:8080/",
          "height": 451
        },
        "id": "cvZFCDiUyQ19",
        "outputId": "d9d19702-941c-4429-b8f2-984a553c3fda"
      },
      "execution_count": 35,
      "outputs": [
        {
          "output_type": "execute_result",
          "data": {
            "text/plain": [
              "<Axes: xlabel='DateTime'>"
            ]
          },
          "metadata": {},
          "execution_count": 35
        },
        {
          "output_type": "display_data",
          "data": {
            "text/plain": [
              "<Figure size 640x480 with 1 Axes>"
            ],
            "image/png": "[encoded data removed]"
          },
          "metadata": {}
        }
      ]
    },
    {
      "cell_type": "code",
      "source": [
        "#Apply ETS\n",
        "result = seasonal_decompose(df['Vehicles'], model='multiplicative', period=1)\n",
        "\n",
        "#plot ETS\n",
        "result.plot()\n",
        "plt.show()"
      ],
      "metadata": {
        "colab": {
          "base_uri": "https://localhost:8080/",
          "height": 487
        },
        "id": "PKHGZyNgrmx7",
        "outputId": "97cdcb5e-41be-4c50-d3cb-d0dde8c95883"
      },
      "execution_count": 36,
      "outputs": [
        {
          "output_type": "display_data",
          "data": {
            "text/plain": [
              "<Figure size 640x480 with 4 Axes>"
            ],
            "image/png": "[encoded data removed]"
          },
          "metadata": {}
        }
      ]
    },
    {
      "cell_type": "markdown",
      "source": [
        "## Fit auto_arima function to AirPassengers dataset\n"
      ],
      "metadata": {
        "id": "-tuW0NLNnway"
      }
    },
    {
      "cell_type": "code",
      "source": [
        "df=df.iloc[0:1000]\n",
        "df.shape"
      ],
      "metadata": {
        "colab": {
          "base_uri": "https://localhost:8080/"
        },
        "id": "q3U5wMb-CePT",
        "outputId": "7eb9bc4e-109e-4dab-8069-4d6d3ffcfd4b"
      },
      "execution_count": 37,
      "outputs": [
        {
          "output_type": "execute_result",
          "data": {
            "text/plain": [
              "(1000, 1)"
            ]
          },
          "metadata": {},
          "execution_count": 37
        }
      ]
    },
    {
      "cell_type": "code",
      "source": [
        "arime_model = auto_arima(df['Vehicles'], start_p = 1, start_q = 1,\n",
        "                          max_p = 3, max_q = 3, m = 12,\n",
        "                          start_P = 0, seasonal = True,\n",
        "                          d = None, D = 1, trace = True,\n",
        "                          error_action ='ignore',   # we don't want to know if an order does not work\n",
        "                          suppress_warnings = True,  # we don't want convergence warnings\n",
        "                          stepwise = True)           # set to stepwise"
      ],
      "metadata": {
        "id": "cz9vW3-InvlO",
        "colab": {
          "base_uri": "https://localhost:8080/"
        },
        "outputId": "141c683d-ed52-48dc-dba8-cc4e0fef3408"
      },
      "execution_count": 38,
      "outputs": [
        {
          "output_type": "stream",
          "name": "stdout",
          "text": [
            "Performing stepwise search to minimize aic\n",
            " ARIMA(1,0,1)(0,1,1)[12] intercept   : AIC=inf, Time=6.85 sec\n",
            " ARIMA(0,0,0)(0,1,0)[12] intercept   : AIC=7559.164, Time=0.09 sec\n",
            " ARIMA(1,0,0)(1,1,0)[12] intercept   : AIC=5466.849, Time=2.45 sec\n",
            " ARIMA(0,0,1)(0,1,1)[12] intercept   : AIC=inf, Time=6.01 sec\n",
            " ARIMA(0,0,0)(0,1,0)[12]             : AIC=7557.175, Time=0.08 sec\n",
            " ARIMA(1,0,0)(0,1,0)[12] intercept   : AIC=6137.337, Time=0.17 sec\n",
            " ARIMA(1,0,0)(2,1,0)[12] intercept   : AIC=5446.815, Time=3.87 sec\n",
            " ARIMA(1,0,0)(2,1,1)[12] intercept   : AIC=inf, Time=23.88 sec\n",
            " ARIMA(1,0,0)(1,1,1)[12] intercept   : AIC=inf, Time=3.75 sec\n",
            " ARIMA(0,0,0)(2,1,0)[12] intercept   : AIC=inf, Time=4.31 sec\n",
            " ARIMA(2,0,0)(2,1,0)[12] intercept   : AIC=5390.467, Time=7.44 sec\n",
            " ARIMA(2,0,0)(1,1,0)[12] intercept   : AIC=5404.484, Time=2.75 sec\n",
            " ARIMA(2,0,0)(2,1,1)[12] intercept   : AIC=inf, Time=24.46 sec\n",
            " ARIMA(2,0,0)(1,1,1)[12] intercept   : AIC=inf, Time=5.47 sec\n",
            " ARIMA(3,0,0)(2,1,0)[12] intercept   : AIC=5392.460, Time=9.72 sec\n",
            " ARIMA(2,0,1)(2,1,0)[12] intercept   : AIC=5392.452, Time=10.40 sec\n",
            " ARIMA(1,0,1)(2,1,0)[12] intercept   : AIC=5393.250, Time=5.53 sec\n",
            " ARIMA(3,0,1)(2,1,0)[12] intercept   : AIC=5393.776, Time=29.85 sec\n",
            " ARIMA(2,0,0)(2,1,0)[12]             : AIC=5388.470, Time=1.48 sec\n",
            " ARIMA(2,0,0)(1,1,0)[12]             : AIC=5402.484, Time=1.03 sec\n",
            " ARIMA(2,0,0)(2,1,1)[12]             : AIC=inf, Time=15.14 sec\n",
            " ARIMA(2,0,0)(1,1,1)[12]             : AIC=inf, Time=4.60 sec\n",
            " ARIMA(1,0,0)(2,1,0)[12]             : AIC=5444.830, Time=1.22 sec\n",
            " ARIMA(3,0,0)(2,1,0)[12]             : AIC=5390.463, Time=2.21 sec\n",
            " ARIMA(2,0,1)(2,1,0)[12]             : AIC=5390.455, Time=2.32 sec\n",
            " ARIMA(1,0,1)(2,1,0)[12]             : AIC=5391.252, Time=1.77 sec\n",
            " ARIMA(3,0,1)(2,1,0)[12]             : AIC=5391.779, Time=9.37 sec\n",
            "\n",
            "Best model:  ARIMA(2,0,0)(2,1,0)[12]          \n",
            "Total fit time: 186.260 seconds\n"
          ]
        }
      ]
    },
    {
      "cell_type": "markdown",
      "source": [
        "## To print the summary\n"
      ],
      "metadata": {
        "id": "-U8yqyxaoSzI"
      }
    },
    {
      "cell_type": "code",
      "source": [
        "arime_model.summary()"
      ],
      "metadata": {
        "id": "VVL7KDMXn9QC",
        "colab": {
          "base_uri": "https://localhost:8080/",
          "height": 462
        },
        "outputId": "97bdb32d-627d-4eb0-e141-c287a6f8a17f"
      },
      "execution_count": 45,
      "outputs": [
        {
          "output_type": "execute_result",
          "data": {
            "text/plain": [
              "<class 'statsmodels.iolib.summary.Summary'>\n",
              "\"\"\"\n",
              "                                     SARIMAX Results                                      \n",
              "==========================================================================================\n",
              "Dep. Variable:                                  y   No. Observations:                 1000\n",
              "Model:             SARIMAX(2, 0, 0)x(2, 1, 0, 12)   Log Likelihood               -2689.235\n",
              "Date:                            Wed, 21 Aug 2024   AIC                           5388.470\n",
              "Time:                                    09:29:21   BIC                           5412.948\n",
              "Sample:                                11-01-2015   HQIC                          5397.779\n",
              "                                     - 12-12-2015                                         \n",
              "Covariance Type:                              opg                                         \n",
              "==============================================================================\n",
              "                 coef    std err          z      P>|z|      [0.025      0.975]\n",
              "------------------------------------------------------------------------------\n",
              "ar.L1          0.5989      0.028     21.505      0.000       0.544       0.654\n",
              "ar.L2          0.2512      0.028      8.947      0.000       0.196       0.306\n",
              "ar.S.L12      -0.8546      0.028    -30.723      0.000      -0.909      -0.800\n",
              "ar.S.L24      -0.1313      0.032     -4.143      0.000      -0.193      -0.069\n",
              "sigma2        13.3890      0.402     33.316      0.000      12.601      14.177\n",
              "===================================================================================\n",
              "Ljung-Box (L1) (Q):                   0.00   Jarque-Bera (JB):               340.45\n",
              "Prob(Q):                              1.00   Prob(JB):                         0.00\n",
              "Heteroskedasticity (H):               0.82   Skew:                             0.48\n",
              "Prob(H) (two-sided):                  0.07   Kurtosis:                         5.71\n",
              "===================================================================================\n",
              "\n",
              "Warnings:\n",
              "[1] Covariance matrix calculated using the outer product of gradients (complex-step).\n",
              "\"\"\""
            ],
            "text/html": [
              "<table class=\"simpletable\">\n",
              "<caption>SARIMAX Results</caption>\n",
              "<tr>\n",
              "  <th>Dep. Variable:</th>                  <td>y</td>               <th>  No. Observations:  </th>   <td>1000</td>   \n",
              "</tr>\n",
              "<tr>\n",
              "  <th>Model:</th>           <td>SARIMAX(2, 0, 0)x(2, 1, 0, 12)</td> <th>  Log Likelihood     </th> <td>-2689.235</td>\n",
              "</tr>\n",
              "<tr>\n",
              "  <th>Date:</th>                   <td>Wed, 21 Aug 2024</td>        <th>  AIC                </th> <td>5388.470</td> \n",
              "</tr>\n",
              "<tr>\n",
              "  <th>Time:</th>                       <td>09:29:21</td>            <th>  BIC                </th> <td>5412.948</td> \n",
              "</tr>\n",
              "<tr>\n",
              "  <th>Sample:</th>                    <td>11-01-2015</td>           <th>  HQIC               </th> <td>5397.779</td> \n",
              "</tr>\n",
              "<tr>\n",
              "  <th></th>                          <td>- 12-12-2015</td>          <th>                     </th>     <td> </td>    \n",
              "</tr>\n",
              "<tr>\n",
              "  <th>Covariance Type:</th>               <td>opg</td>              <th>                     </th>     <td> </td>    \n",
              "</tr>\n",
              "</table>\n",
              "<table class=\"simpletable\">\n",
              "<tr>\n",
              "      <td></td>        <th>coef</th>     <th>std err</th>      <th>z</th>      <th>P>|z|</th>  <th>[0.025</th>    <th>0.975]</th>  \n",
              "</tr>\n",
              "<tr>\n",
              "  <th>ar.L1</th>    <td>    0.5989</td> <td>    0.028</td> <td>   21.505</td> <td> 0.000</td> <td>    0.544</td> <td>    0.654</td>\n",
              "</tr>\n",
              "<tr>\n",
              "  <th>ar.L2</th>    <td>    0.2512</td> <td>    0.028</td> <td>    8.947</td> <td> 0.000</td> <td>    0.196</td> <td>    0.306</td>\n",
              "</tr>\n",
              "<tr>\n",
              "  <th>ar.S.L12</th> <td>   -0.8546</td> <td>    0.028</td> <td>  -30.723</td> <td> 0.000</td> <td>   -0.909</td> <td>   -0.800</td>\n",
              "</tr>\n",
              "<tr>\n",
              "  <th>ar.S.L24</th> <td>   -0.1313</td> <td>    0.032</td> <td>   -4.143</td> <td> 0.000</td> <td>   -0.193</td> <td>   -0.069</td>\n",
              "</tr>\n",
              "<tr>\n",
              "  <th>sigma2</th>   <td>   13.3890</td> <td>    0.402</td> <td>   33.316</td> <td> 0.000</td> <td>   12.601</td> <td>   14.177</td>\n",
              "</tr>\n",
              "</table>\n",
              "<table class=\"simpletable\">\n",
              "<tr>\n",
              "  <th>Ljung-Box (L1) (Q):</th>     <td>0.00</td> <th>  Jarque-Bera (JB):  </th> <td>340.45</td>\n",
              "</tr>\n",
              "<tr>\n",
              "  <th>Prob(Q):</th>                <td>1.00</td> <th>  Prob(JB):          </th>  <td>0.00</td> \n",
              "</tr>\n",
              "<tr>\n",
              "  <th>Heteroskedasticity (H):</th> <td>0.82</td> <th>  Skew:              </th>  <td>0.48</td> \n",
              "</tr>\n",
              "<tr>\n",
              "  <th>Prob(H) (two-sided):</th>    <td>0.07</td> <th>  Kurtosis:          </th>  <td>5.71</td> \n",
              "</tr>\n",
              "</table><br/><br/>Warnings:<br/>[1] Covariance matrix calculated using the outer product of gradients (complex-step)."
            ],
            "text/latex": "\\begin{center}\n\\begin{tabular}{lclc}\n\\toprule\n\\textbf{Dep. Variable:}          &               y                & \\textbf{  No. Observations:  } &    1000     \\\\\n\\textbf{Model:}                  & SARIMAX(2, 0, 0)x(2, 1, 0, 12) & \\textbf{  Log Likelihood     } & -2689.235   \\\\\n\\textbf{Date:}                   &        Wed, 21 Aug 2024        & \\textbf{  AIC                } &  5388.470   \\\\\n\\textbf{Time:}                   &            09:29:21            & \\textbf{  BIC                } &  5412.948   \\\\\n\\textbf{Sample:}                 &           11-01-2015           & \\textbf{  HQIC               } &  5397.779   \\\\\n\\textbf{}                        &          - 12-12-2015          & \\textbf{                     } &             \\\\\n\\textbf{Covariance Type:}        &              opg               & \\textbf{                     } &             \\\\\n\\bottomrule\n\\end{tabular}\n\\begin{tabular}{lcccccc}\n                  & \\textbf{coef} & \\textbf{std err} & \\textbf{z} & \\textbf{P$> |$z$|$} & \\textbf{[0.025} & \\textbf{0.975]}  \\\\\n\\midrule\n\\textbf{ar.L1}    &       0.5989  &        0.028     &    21.505  &         0.000        &        0.544    &        0.654     \\\\\n\\textbf{ar.L2}    &       0.2512  &        0.028     &     8.947  &         0.000        &        0.196    &        0.306     \\\\\n\\textbf{ar.S.L12} &      -0.8546  &        0.028     &   -30.723  &         0.000        &       -0.909    &       -0.800     \\\\\n\\textbf{ar.S.L24} &      -0.1313  &        0.032     &    -4.143  &         0.000        &       -0.193    &       -0.069     \\\\\n\\textbf{sigma2}   &      13.3890  &        0.402     &    33.316  &         0.000        &       12.601    &       14.177     \\\\\n\\bottomrule\n\\end{tabular}\n\\begin{tabular}{lclc}\n\\textbf{Ljung-Box (L1) (Q):}     & 0.00 & \\textbf{  Jarque-Bera (JB):  } & 340.45  \\\\\n\\textbf{Prob(Q):}                & 1.00 & \\textbf{  Prob(JB):          } &  0.00   \\\\\n\\textbf{Heteroskedasticity (H):} & 0.82 & \\textbf{  Skew:              } &  0.48   \\\\\n\\textbf{Prob(H) (two-sided):}    & 0.07 & \\textbf{  Kurtosis:          } &  5.71   \\\\\n\\bottomrule\n\\end{tabular}\n%\\caption{SARIMAX Results}\n\\end{center}\n\nWarnings: \\newline\n [1] Covariance matrix calculated using the outer product of gradients (complex-step)."
          },
          "metadata": {},
          "execution_count": 45
        }
      ]
    },
    {
      "cell_type": "markdown",
      "source": [
        "# Fit ARIMA Model"
      ],
      "metadata": {
        "id": "gmAEP7Ccof7D"
      }
    },
    {
      "cell_type": "markdown",
      "source": [
        "## Split data into train / test sets\n"
      ],
      "metadata": {
        "id": "TKR8rs8nonFv"
      }
    },
    {
      "cell_type": "code",
      "source": [
        "train = df.iloc[:len(df)-12]\n",
        "test = df.iloc[len(df)-12:] # set one year(12 months) for testing"
      ],
      "metadata": {
        "id": "zrfME6QNooRy"
      },
      "execution_count": 46,
      "outputs": []
    },
    {
      "cell_type": "markdown",
      "source": [
        "## Fit a SARIMAX(0, 1, 1)x(2, 1, 1, 12) on the training set\n"
      ],
      "metadata": {
        "id": "4RA4GFRTozIX"
      }
    },
    {
      "cell_type": "code",
      "source": [
        "model = SARIMAX(train['Vehicles'],\n",
        "                order = (2, 0, 0),\n",
        "                seasonal_order =(2, 1, 0, 12))\n",
        "result = model.fit()\n",
        "result.summary()"
      ],
      "metadata": {
        "id": "lCbS2KMPoXQO",
        "colab": {
          "base_uri": "https://localhost:8080/",
          "height": 462
        },
        "outputId": "106e8e5d-d444-44a4-abaf-cd0ca87b18e0"
      },
      "execution_count": 47,
      "outputs": [
        {
          "output_type": "execute_result",
          "data": {
            "text/plain": [
              "<class 'statsmodels.iolib.summary.Summary'>\n",
              "\"\"\"\n",
              "                                     SARIMAX Results                                      \n",
              "==========================================================================================\n",
              "Dep. Variable:                           Vehicles   No. Observations:                  988\n",
              "Model:             SARIMAX(2, 0, 0)x(2, 1, 0, 12)   Log Likelihood               -2654.383\n",
              "Date:                            Wed, 21 Aug 2024   AIC                           5318.766\n",
              "Time:                                    09:29:23   BIC                           5343.183\n",
              "Sample:                                11-01-2015   HQIC                          5328.057\n",
              "                                     - 12-12-2015                                         \n",
              "Covariance Type:                              opg                                         \n",
              "==============================================================================\n",
              "                 coef    std err          z      P>|z|      [0.025      0.975]\n",
              "------------------------------------------------------------------------------\n",
              "ar.L1          0.5920      0.028     21.261      0.000       0.537       0.647\n",
              "ar.L2          0.2554      0.028      9.101      0.000       0.200       0.310\n",
              "ar.S.L12      -0.8559      0.028    -30.759      0.000      -0.910      -0.801\n",
              "ar.S.L24      -0.1246      0.032     -3.906      0.000      -0.187      -0.062\n",
              "sigma2        13.3245      0.401     33.213      0.000      12.538      14.111\n",
              "===================================================================================\n",
              "Ljung-Box (L1) (Q):                   0.00   Jarque-Bera (JB):               344.32\n",
              "Prob(Q):                              0.98   Prob(JB):                         0.00\n",
              "Heteroskedasticity (H):               0.81   Skew:                             0.51\n",
              "Prob(H) (two-sided):                  0.06   Kurtosis:                         5.73\n",
              "===================================================================================\n",
              "\n",
              "Warnings:\n",
              "[1] Covariance matrix calculated using the outer product of gradients (complex-step).\n",
              "\"\"\""
            ],
            "text/html": [
              "<table class=\"simpletable\">\n",
              "<caption>SARIMAX Results</caption>\n",
              "<tr>\n",
              "  <th>Dep. Variable:</th>              <td>Vehicles</td>            <th>  No. Observations:  </th>    <td>988</td>   \n",
              "</tr>\n",
              "<tr>\n",
              "  <th>Model:</th>           <td>SARIMAX(2, 0, 0)x(2, 1, 0, 12)</td> <th>  Log Likelihood     </th> <td>-2654.383</td>\n",
              "</tr>\n",
              "<tr>\n",
              "  <th>Date:</th>                   <td>Wed, 21 Aug 2024</td>        <th>  AIC                </th> <td>5318.766</td> \n",
              "</tr>\n",
              "<tr>\n",
              "  <th>Time:</th>                       <td>09:29:23</td>            <th>  BIC                </th> <td>5343.183</td> \n",
              "</tr>\n",
              "<tr>\n",
              "  <th>Sample:</th>                    <td>11-01-2015</td>           <th>  HQIC               </th> <td>5328.057</td> \n",
              "</tr>\n",
              "<tr>\n",
              "  <th></th>                          <td>- 12-12-2015</td>          <th>                     </th>     <td> </td>    \n",
              "</tr>\n",
              "<tr>\n",
              "  <th>Covariance Type:</th>               <td>opg</td>              <th>                     </th>     <td> </td>    \n",
              "</tr>\n",
              "</table>\n",
              "<table class=\"simpletable\">\n",
              "<tr>\n",
              "      <td></td>        <th>coef</th>     <th>std err</th>      <th>z</th>      <th>P>|z|</th>  <th>[0.025</th>    <th>0.975]</th>  \n",
              "</tr>\n",
              "<tr>\n",
              "  <th>ar.L1</th>    <td>    0.5920</td> <td>    0.028</td> <td>   21.261</td> <td> 0.000</td> <td>    0.537</td> <td>    0.647</td>\n",
              "</tr>\n",
              "<tr>\n",
              "  <th>ar.L2</th>    <td>    0.2554</td> <td>    0.028</td> <td>    9.101</td> <td> 0.000</td> <td>    0.200</td> <td>    0.310</td>\n",
              "</tr>\n",
              "<tr>\n",
              "  <th>ar.S.L12</th> <td>   -0.8559</td> <td>    0.028</td> <td>  -30.759</td> <td> 0.000</td> <td>   -0.910</td> <td>   -0.801</td>\n",
              "</tr>\n",
              "<tr>\n",
              "  <th>ar.S.L24</th> <td>   -0.1246</td> <td>    0.032</td> <td>   -3.906</td> <td> 0.000</td> <td>   -0.187</td> <td>   -0.062</td>\n",
              "</tr>\n",
              "<tr>\n",
              "  <th>sigma2</th>   <td>   13.3245</td> <td>    0.401</td> <td>   33.213</td> <td> 0.000</td> <td>   12.538</td> <td>   14.111</td>\n",
              "</tr>\n",
              "</table>\n",
              "<table class=\"simpletable\">\n",
              "<tr>\n",
              "  <th>Ljung-Box (L1) (Q):</th>     <td>0.00</td> <th>  Jarque-Bera (JB):  </th> <td>344.32</td>\n",
              "</tr>\n",
              "<tr>\n",
              "  <th>Prob(Q):</th>                <td>0.98</td> <th>  Prob(JB):          </th>  <td>0.00</td> \n",
              "</tr>\n",
              "<tr>\n",
              "  <th>Heteroskedasticity (H):</th> <td>0.81</td> <th>  Skew:              </th>  <td>0.51</td> \n",
              "</tr>\n",
              "<tr>\n",
              "  <th>Prob(H) (two-sided):</th>    <td>0.06</td> <th>  Kurtosis:          </th>  <td>5.73</td> \n",
              "</tr>\n",
              "</table><br/><br/>Warnings:<br/>[1] Covariance matrix calculated using the outer product of gradients (complex-step)."
            ],
            "text/latex": "\\begin{center}\n\\begin{tabular}{lclc}\n\\toprule\n\\textbf{Dep. Variable:}          &            Vehicles            & \\textbf{  No. Observations:  } &    988      \\\\\n\\textbf{Model:}                  & SARIMAX(2, 0, 0)x(2, 1, 0, 12) & \\textbf{  Log Likelihood     } & -2654.383   \\\\\n\\textbf{Date:}                   &        Wed, 21 Aug 2024        & \\textbf{  AIC                } &  5318.766   \\\\\n\\textbf{Time:}                   &            09:29:23            & \\textbf{  BIC                } &  5343.183   \\\\\n\\textbf{Sample:}                 &           11-01-2015           & \\textbf{  HQIC               } &  5328.057   \\\\\n\\textbf{}                        &          - 12-12-2015          & \\textbf{                     } &             \\\\\n\\textbf{Covariance Type:}        &              opg               & \\textbf{                     } &             \\\\\n\\bottomrule\n\\end{tabular}\n\\begin{tabular}{lcccccc}\n                  & \\textbf{coef} & \\textbf{std err} & \\textbf{z} & \\textbf{P$> |$z$|$} & \\textbf{[0.025} & \\textbf{0.975]}  \\\\\n\\midrule\n\\textbf{ar.L1}    &       0.5920  &        0.028     &    21.261  &         0.000        &        0.537    &        0.647     \\\\\n\\textbf{ar.L2}    &       0.2554  &        0.028     &     9.101  &         0.000        &        0.200    &        0.310     \\\\\n\\textbf{ar.S.L12} &      -0.8559  &        0.028     &   -30.759  &         0.000        &       -0.910    &       -0.801     \\\\\n\\textbf{ar.S.L24} &      -0.1246  &        0.032     &    -3.906  &         0.000        &       -0.187    &       -0.062     \\\\\n\\textbf{sigma2}   &      13.3245  &        0.401     &    33.213  &         0.000        &       12.538    &       14.111     \\\\\n\\bottomrule\n\\end{tabular}\n\\begin{tabular}{lclc}\n\\textbf{Ljung-Box (L1) (Q):}     & 0.00 & \\textbf{  Jarque-Bera (JB):  } & 344.32  \\\\\n\\textbf{Prob(Q):}                & 0.98 & \\textbf{  Prob(JB):          } &  0.00   \\\\\n\\textbf{Heteroskedasticity (H):} & 0.81 & \\textbf{  Skew:              } &  0.51   \\\\\n\\textbf{Prob(H) (two-sided):}    & 0.06 & \\textbf{  Kurtosis:          } &  5.73   \\\\\n\\bottomrule\n\\end{tabular}\n%\\caption{SARIMAX Results}\n\\end{center}\n\nWarnings: \\newline\n [1] Covariance matrix calculated using the outer product of gradients (complex-step)."
          },
          "metadata": {},
          "execution_count": 47
        }
      ]
    },
    {
      "cell_type": "markdown",
      "source": [
        "## Predictions of ARIMA Model against the test set"
      ],
      "metadata": {
        "id": "_5Lr8auSo_1S"
      }
    },
    {
      "cell_type": "code",
      "source": [
        "start = len(train)\n",
        "end = len(train) + len(test) - 1\n",
        "# Predictions for one-year against the test set\n",
        "predictions = result.predict(start, end,\n",
        "                             typ = 'levels').rename(\"Predictions\")"
      ],
      "metadata": {
        "id": "YwOKVP13o376"
      },
      "execution_count": 48,
      "outputs": []
    },
    {
      "cell_type": "markdown",
      "source": [
        "## plot predictions and actual values\n",
        "\n"
      ],
      "metadata": {
        "id": "p0kqVgrJpEl2"
      }
    },
    {
      "cell_type": "code",
      "source": [
        "predictions.plot(legend=True, color='blue')\n",
        "test['Vehicles'].plot(legend=True, color='purple')"
      ],
      "metadata": {
        "id": "whB0gEkNpLMA",
        "colab": {
          "base_uri": "https://localhost:8080/",
          "height": 467
        },
        "outputId": "bea7973f-8bbb-4629-e87f-99133b7637ae"
      },
      "execution_count": 49,
      "outputs": [
        {
          "output_type": "execute_result",
          "data": {
            "text/plain": [
              "<Axes: xlabel='DateTime'>"
            ]
          },
          "metadata": {},
          "execution_count": 49
        },
        {
          "output_type": "display_data",
          "data": {
            "text/plain": [
              "<Figure size 640x480 with 1 Axes>"
            ],
            "image/png": "[encoded data removed]"
          },
          "metadata": {}
        }
      ]
    },
    {
      "cell_type": "markdown",
      "source": [
        "## Evaluate the model using MSE and RMSE"
      ],
      "metadata": {
        "id": "yQzbOm5NpQr_"
      }
    },
    {
      "cell_type": "code",
      "source": [
        "# Load specific evaluation tools\n",
        "from sklearn.metrics import mean_squared_error\n",
        "from statsmodels.tools.eval_measures import rmse\n",
        "# Calculate root mean squared error\n",
        "rmse(test[\"Vehicles\"], predictions)\n",
        "# Calculate mean squared error\n",
        "mean_squared_error(test[\"Vehicles\"], predictions)"
      ],
      "metadata": {
        "id": "JKFO1OIlpLby",
        "colab": {
          "base_uri": "https://localhost:8080/"
        },
        "outputId": "204c401c-c0f1-412b-9ebc-f245ed59ac65"
      },
      "execution_count": 44,
      "outputs": [
        {
          "output_type": "execute_result",
          "data": {
            "text/plain": [
              "31.861780951201123"
            ]
          },
          "metadata": {},
          "execution_count": 44
        }
      ]
    },
    {
      "cell_type": "markdown",
      "source": [
        "#**Well Done :)**"
      ],
      "metadata": {
        "id": "vNa2uJ9FpYI7"
      }
    }
  ]
}